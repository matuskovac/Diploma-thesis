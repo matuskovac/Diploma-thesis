{
 "cells": [
  {
   "cell_type": "code",
   "execution_count": 1,
   "metadata": {},
   "outputs": [],
   "source": [
    "import warnings\n",
    "warnings.filterwarnings('ignore')\n",
    "import numpy as np\n",
    "import pandas as pd\n",
    "import time\n",
    "import random\n",
    "import itertools\n",
    "import  matplotlib.pyplot as plt\n",
    "from sklearn.model_selection import train_test_split\n",
    "from sklearn.preprocessing import LabelEncoder\n",
    "from sklearn.preprocessing import StandardScaler\n",
    "from sklearn.preprocessing import MinMaxScaler\n",
    "from sklearn.tree import DecisionTreeClassifier\n",
    "from sklearn.naive_bayes import GaussianNB\n",
    "from sklearn.svm import SVC\n",
    "from sklearn.neighbors import NearestNeighbors\n",
    "from sklearn.utils import shuffle\n",
    "from sklearn.metrics import precision_score, \\\n",
    "    recall_score, confusion_matrix, classification_report, \\\n",
    "    accuracy_score, f1_score\n",
    "from sklearn.experimental import enable_iterative_imputer\n",
    "from sklearn.impute import IterativeImputer\n",
    "\n",
    "from behalearn.preprocessing import columns\n",
    "from behalearn.authentication import authentication_metrics\n",
    "from behalearn.authentication import authentication_results\n",
    "from behalearn.estimators import VotingClassifier\n",
    "from behalearn.features import FeatureExtractor\n",
    "from behalearn.features import temporal\n",
    "from behalearn.metrics import fmr_score\n",
    "from behalearn.metrics import fnmr_score\n",
    "from behalearn.metrics import eer_score\n",
    "from behalearn.metrics import hter_score\n",
    "from behalearn.preprocessing import StartEndSegmentSplitter\n",
    "from behalearn.preprocessing import SegmentSplitter\n",
    "from behalearn.preprocessing.segment import criteria\n",
    "from behalearn.visualization import initialize_notebook_output\n",
    "from behalearn.visualization import label_touches\n",
    "from behalearn.visualization import plot_fmr_fnmr\n",
    "from behalearn.visualization import visualize_mobile_data\n",
    "from behalearn.visualization import visualize_mouse_data\n",
    "from behalearn.visualization import visualize_custom_data\n"
   ]
  },
  {
   "cell_type": "code",
   "execution_count": 2,
   "metadata": {},
   "outputs": [],
   "source": [
    "segment_column = 'segment'\n",
    "user_column = 'user'\n",
    "user_name_column = 'username'\n",
    "compute_features_for_segment = True\n",
    "delete_nan_features = True\n",
    "\n",
    "path_to_raw_data = '../login_datasets/2019-01-08_FIIT_-2-poschodie_po_skuske_KPAIS_correct_patterns_only/'\n",
    "path_to_featutes = \"../login_features/\" + (\"segments\" if compute_features_for_segment else \"paterns\") + (\"\" if delete_nan_features else \"_nan\") + \"/\"\n",
    "\n",
    "columns_to_identificate_features = ['id', 'pattern_id','device','scenario', user_name_column, user_column]\n",
    "if compute_features_for_segment:\n",
    "    columns_to_identificate_features.append(segment_column)\n"
   ]
  },
  {
   "cell_type": "code",
   "execution_count": null,
   "metadata": {},
   "outputs": [],
   "source": [
    "touch_data = pd.read_csv(path_to_raw_data + 'touch.csv', sep=',')\n",
    "acc_data = pd.read_csv(path_to_raw_data + 'linear_accelerometer.csv', sep=',')\n",
    "gyro_data = pd.read_csv(path_to_raw_data + 'gyroscope.csv', sep=',')\n",
    "touch_data\n",
    "touch_data[\"id\"] = touch_data[\"pattern_id\"].astype(str) + touch_data[\"device\"]\n",
    "acc_data[\"id\"] = acc_data[\"pattern_id\"].astype(str) + acc_data[\"device\"]\n",
    "gyro_data[\"id\"] = gyro_data[\"pattern_id\"].astype(str) + gyro_data[\"device\"]\n",
    "\n",
    "if compute_features_for_segment:\n",
    "    touch_data[\"id\"] += touch_data['segment'].astype(str)\n",
    "    acc_data[\"id\"] += acc_data['segment'].astype(str)\n",
    "    gyro_data[\"id\"] += gyro_data['segment'].astype(str)\n",
    "else:\n",
    "    touch_data.drop('segment', axis=1, inplace=True)\n",
    "    acc_data.drop('segment', axis=1, inplace=True)\n",
    "    gyro_data.drop('segment', axis=1, inplace=True)"
   ]
  },
  {
   "cell_type": "code",
   "execution_count": null,
   "metadata": {},
   "outputs": [],
   "source": [
    "touch_data.head()"
   ]
  },
  {
   "cell_type": "code",
   "execution_count": null,
   "metadata": {},
   "outputs": [],
   "source": [
    "le = LabelEncoder()\n",
    "le.fit(pd.concat([touch_data['id'], acc_data['id'], gyro_data['id']]))\n",
    "touch_data[user_column] = le.transform(touch_data['id'])\n",
    "acc_data[user_column] = le.transform(acc_data['id'])\n",
    "gyro_data[user_column] = le.transform(gyro_data['id'])"
   ]
  },
  {
   "cell_type": "code",
   "execution_count": null,
   "metadata": {},
   "outputs": [],
   "source": [
    "touch_data.head()"
   ]
  },
  {
   "cell_type": "code",
   "execution_count": null,
   "metadata": {},
   "outputs": [],
   "source": []
  },
  {
   "cell_type": "code",
   "execution_count": null,
   "metadata": {},
   "outputs": [],
   "source": [
    "def get_columns_combinations(col_names,combinations = None):\n",
    "    combs = columns._get_column_combinations(col_names, combinations)\n",
    "    final_combs=[]\n",
    "    for comb in combs:\n",
    "        if len(comb) > 1:\n",
    "            final_combs.append(comb)\n",
    "    return final_combs"
   ]
  },
  {
   "cell_type": "code",
   "execution_count": null,
   "metadata": {},
   "outputs": [],
   "source": [
    "def calculate_maginute_to_df(df, columns_name):\n",
    "    final_combinations = []\n",
    "    for combination in get_columns_combinations(columns_name):\n",
    "        sum = [0]*len(df)\n",
    "        for dimension in combination:\n",
    "            sum += df[dimension] ** 2\n",
    "        magnitude=sum **(1/2)\n",
    "        new_column='_'.join(combination)\n",
    "        df[new_column]=magnitude\n",
    "        final_combinations.append(new_column)\n",
    "        \n",
    "    return final_combinations"
   ]
  },
  {
   "cell_type": "code",
   "execution_count": null,
   "metadata": {},
   "outputs": [],
   "source": [
    "def compute_features(df, features, prefix = None):\n",
    "    extractor = FeatureExtractor(features, [user_column])\n",
    "\n",
    "    features_df = extractor.fit_transform(df)\n",
    "    features_df = features_df.replace([np.inf, -np.inf], np.nan)\n",
    "    \n",
    "    if delete_nan_features:\n",
    "        features_df = features_df.dropna()\n",
    "    \n",
    "    if prefix is not None:\n",
    "        features_df.columns = features_df.columns.str.replace(r\"velocity\", prefix)\n",
    "\n",
    "    return features_df"
   ]
  },
  {
   "cell_type": "code",
   "execution_count": null,
   "metadata": {},
   "outputs": [],
   "source": [
    "def renaming_condition(x, columns_name, prefix):\n",
    "    if x in columns_name:\n",
    "        return prefix + x\n",
    "    return x\n",
    "\n",
    "\n",
    "def add_prefix_to_columns(df, columns_name, prefix):\n",
    "    df.columns = [renaming_condition(col, columns_name, prefix) for col in df.columns]\n",
    "\n",
    "    return [prefix + s for s in columns_name]"
   ]
  },
  {
   "cell_type": "code",
   "execution_count": null,
   "metadata": {},
   "outputs": [],
   "source": [
    "def compute_statistics(df, columns_to_compute_statistic, prefix):\n",
    "    columns_to_compute_statistic += calculate_maginute_to_df(df, columns_to_compute_statistic)\n",
    "    columns_to_compute_statistic = add_prefix_to_columns(df, columns_to_compute_statistic, prefix)\n",
    "\n",
    "    statistics = df.groupby([user_column])[columns_to_compute_statistic].describe()\n",
    "    statistics.columns = statistics.columns.to_flat_index()\n",
    "    statistics.rename(columns='_'.join, inplace=True)\n",
    "    statistics = statistics[statistics.columns.drop(list(statistics.filter(regex='count')))]\n",
    "    \n",
    "    return statistics"
   ]
  },
  {
   "cell_type": "code",
   "execution_count": null,
   "metadata": {},
   "outputs": [],
   "source": [
    "def normalize_columns_names(df):\n",
    "    df.columns = df.columns.str.replace(r\"25%\", \"_lower_q\")\n",
    "    df.columns = df.columns.str.replace(r\"50%\", \"_median\")\n",
    "    df.columns = df.columns.str.replace(r\"75%\", \"_upper_q\")\n",
    "    df.columns = df.columns.str.replace(r\"__\", \"_\")"
   ]
  },
  {
   "cell_type": "code",
   "execution_count": null,
   "metadata": {
    "scrolled": true
   },
   "outputs": [],
   "source": [
    "features = [\n",
    "    'duration',\n",
    "    ('length', {\n",
    "        'columns': ['x', 'y'],\n",
    "    }),\n",
    "    ('start', {\n",
    "        'columns': ['x', 'y'],\n",
    "    }),\n",
    "    ('velocity', {\n",
    "        'columns': ['x', 'y'],\n",
    "    }),\n",
    "    ('acceleration', {\n",
    "        'columns': ['x', 'y'],\n",
    "    }),\n",
    "    ('jerk', {\n",
    "        'columns': ['x', 'y'],\n",
    "    }),\n",
    "    ('angular_velocity', {\n",
    "        'columns': ['x', 'y'],\n",
    "    }),\n",
    "    ('angular_acceleration', {\n",
    "        'columns': ['x', 'y'],\n",
    "    }),\n",
    "]\n",
    "print(time.strftime(\"%Y-%m-%d %H:%M\"))\n",
    "touch_features = compute_features(touch_data, features)\n",
    "touch_features = touch_features.merge(touch_data[columns_to_identificate_features], on=[user_column]).drop_duplicates()\n",
    "features = [\n",
    "    ('velocity', {\n",
    "        'columns': ['x', 'y', 'z'],\n",
    "    }),\n",
    "]\n",
    "print(time.strftime(\"%Y-%m-%d %H:%M\"))\n",
    "\n",
    "acc_features = compute_features(acc_data, features, \"accelerometer_jerk\")\n",
    "acc_statistics_from_raw_data = compute_statistics(acc_data,['x','y','z'],\"accelerometer_\")\n",
    "acc_features = acc_features.merge(acc_statistics_from_raw_data, on='user', how='inner').drop_duplicates()\n",
    "print(time.strftime(\"%Y-%m-%d %H:%M\"))\n",
    "\n",
    "gyro_features = compute_features(gyro_data, features, \"gyro_jerk\")\n",
    "gyro_statistics_from_raw_data = compute_statistics(gyro_data,['x','y','z'],\"gyro_\")\n",
    "gyro_features = gyro_features.merge(gyro_statistics_from_raw_data, on='user', how='inner').drop_duplicates()\n",
    "print(time.strftime(\"%Y-%m-%d %H:%M\"))\n",
    "\n",
    "all_features = touch_features.merge(acc_features, on='user', how='inner').merge(gyro_features, on='user', how='inner')\n",
    "normalize_columns_names(all_features)"
   ]
  },
  {
   "cell_type": "code",
   "execution_count": null,
   "metadata": {},
   "outputs": [],
   "source": [
    "print(touch_features)\n",
    "print(acc_features)\n",
    "print(gyro_features)\n",
    "print(all_features)"
   ]
  },
  {
   "cell_type": "code",
   "execution_count": null,
   "metadata": {},
   "outputs": [],
   "source": [
    "touch_features.to_csv(path_to_featutes + \"touch_feautures.csv\", encoding='utf-8', index=False)\n",
    "acc_features.to_csv(path_to_featutes + \"acc_feautures.csv\", encoding='utf-8', index=False)\n",
    "gyro_features.to_csv(path_to_featutes + \"gyro_feautures.csv\", encoding='utf-8', index=False)\n",
    "all_features.to_csv(path_to_featutes + \"all_feautures.csv\", encoding='utf-8', index=False)"
   ]
  },
  {
   "cell_type": "code",
   "execution_count": null,
   "metadata": {},
   "outputs": [],
   "source": []
  },
  {
   "cell_type": "code",
   "execution_count": null,
   "metadata": {},
   "outputs": [],
   "source": [
    "len(touch_data['user'].unique())"
   ]
  },
  {
   "cell_type": "code",
   "execution_count": null,
   "metadata": {},
   "outputs": [],
   "source": [
    "all_features"
   ]
  },
  {
   "cell_type": "code",
   "execution_count": null,
   "metadata": {},
   "outputs": [],
   "source": []
  },
  {
   "cell_type": "code",
   "execution_count": null,
   "metadata": {},
   "outputs": [],
   "source": []
  },
  {
   "cell_type": "code",
   "execution_count": 21,
   "metadata": {},
   "outputs": [],
   "source": [
    "all_features = pd.read_csv(path_to_featutes + \"all_feautures.csv\")\n",
    "if compute_features_for_segment:\n",
    "    all_features['id'] = all_features['id'].str[:-1]"
   ]
  },
  {
   "cell_type": "code",
   "execution_count": 22,
   "metadata": {},
   "outputs": [],
   "source": [
    "all_features = all_features.dropna(thresh=80)\n",
    "if (user_name_column in columns_to_identificate_features):\n",
    "    columns_to_identificate_features.remove(user_name_column)\n",
    "    columns_to_identificate_features.remove(\"id\")\n",
    "all_features.drop(columns=columns_to_identificate_features, inplace=True)\n",
    "\n",
    "train_x_columns = [x for x in list(all_features.columns) if x != user_name_column and x != 'id']\n",
    "train_y_columns = user_name_column"
   ]
  },
  {
   "cell_type": "code",
   "execution_count": 5,
   "metadata": {},
   "outputs": [],
   "source": [
    "def use_knn(df_x_train,df_x_test):\n",
    "    neigh = NearestNeighbors(n_neighbors=1)\n",
    "    neigh.fit(df_x_train)\n",
    "    start = time.time()\n",
    "    knn=neigh.kneighbors(df_x_test)\n",
    "    end = time.time()\n",
    "    return knn"
   ]
  },
  {
   "cell_type": "code",
   "execution_count": null,
   "metadata": {},
   "outputs": [],
   "source": [
    "users= all_features[user_name_column].unique()\n",
    "print(len(users))\n",
    "print(users)"
   ]
  },
  {
   "cell_type": "code",
   "execution_count": 13,
   "metadata": {},
   "outputs": [
    {
     "name": "stdout",
     "output_type": "stream",
     "text": [
      "33.37730474736314\n"
     ]
    }
   ],
   "source": [
    "def get_threshold_for_knn():\n",
    "    random_users = random.sample(list(all_features[user_name_column].unique()), 10)\n",
    "    vsetky_vzdialenosti = []\n",
    "    for random_user in random_users:\n",
    "        train = all_features.loc[all_features[user_name_column] == random_user]\n",
    "        test = all_features.loc[all_features[user_name_column] != random_user]\n",
    "        knn = use_knn(train[train_x_columns], test[train_x_columns])\n",
    "        vsetky_vzdialenosti.append(knn[0])\n",
    "    medians = []\n",
    "    for hodnota in vsetky_vzdialenosti:\n",
    "        medians.append(np.percentile(hodnota, 25))  \n",
    "    \n",
    "    return np.percentile(medians, 50)\n",
    "treshold_for_knn = get_threshold_for_knn()\n",
    "print(treshold_for_knn)\n",
    "# 33.69773240289701"
   ]
  },
  {
   "cell_type": "code",
   "execution_count": 98,
   "metadata": {},
   "outputs": [],
   "source": [
    "treshold_for_knn=0"
   ]
  },
  {
   "cell_type": "code",
   "execution_count": 165,
   "metadata": {},
   "outputs": [],
   "source": [
    "def split_to_train_test(df, users_to_train):\n",
    "\n",
    "    df_shuffled = df.sample(frac=1, random_state=20).reset_index(drop=True)\n",
    "\n",
    "    mask = [True if x[user_name_column] in users_to_train else False for i, x in df_shuffled.iterrows()]\n",
    "    df_owner = df_shuffled[mask]\n",
    "\n",
    "    mask2 = [True if x[user_name_column] not in users_to_train else False for i, x in df_shuffled.iterrows()]\n",
    "    df_others = df_shuffled[mask2]\n",
    "    \n",
    "    df_train = df_owner[:round(len(df_owner)*0.8)]\n",
    "    df_test = df_owner[round(len(df_owner)*0.8):]\n",
    "    df_test = df_test.append(df_others[:len(df_test)])\n",
    "    \n",
    "    scaler = StandardScaler()\n",
    "    scaler.fit(df_train[train_x_columns])\n",
    "    df_train[train_x_columns] = scaler.transform(df_train[train_x_columns])\n",
    "    df_test[train_x_columns] = scaler.transform(df_test[train_x_columns])\n",
    "    \n",
    "    return df_train, df_test\n",
    "\n",
    "def split_to_train_test_by_pattern(df, users_to_train):\n",
    "\n",
    "    df_shuffled = df.sample(frac=1, random_state=20).reset_index(drop=True)\n",
    "\n",
    "    mask = [True if x[user_name_column] in users_to_train else False for i, x in df_shuffled.iterrows()]\n",
    "    df_owner = df_shuffled[mask]\n",
    "\n",
    "    mask = [True if x[user_name_column] not in users_to_train else False for i, x in df_shuffled.iterrows()]\n",
    "    df_others = df_shuffled[mask]\n",
    "    \n",
    "    \n",
    "    unique_owners_patern_id = df_owner['id'].unique()\n",
    "    paterns_id_to_train_owners = unique_owners_patern_id[:round(len(unique_owners_patern_id)*0.8)]\n",
    "    paterns_id_to_test_owners = unique_owners_patern_id[round(len(unique_owners_patern_id)*0.8):]\n",
    "\n",
    "    mask = [True if x['id'] in paterns_id_to_train_owners else False for i, x in df_owner.iterrows()]\n",
    "    df_train = df_owner[mask]\n",
    "    \n",
    "    mask = [True if x['id'] in paterns_id_to_test_owners else False for i, x in df_owner.iterrows()]\n",
    "    df_test = df_owner[mask]\n",
    "    \n",
    "    paterns_id_to_test_from_others = df_others['id'].unique()[:len(paterns_id_to_test_owners)]\n",
    "    mask = [True if x['id'] in paterns_id_to_test_from_others else False for i, x in df_others.iterrows()]\n",
    "    df_test = df_test.append(df_others[mask])\n",
    "    \n",
    "    return df_train, df_test"
   ]
  },
  {
   "cell_type": "code",
   "execution_count": 85,
   "metadata": {},
   "outputs": [],
   "source": [
    "selected_owners = ['mino']\n",
    "df_train, df_test = split_to_train_test_by_pattern(all_features, selected_owners)"
   ]
  },
  {
   "cell_type": "code",
   "execution_count": 86,
   "metadata": {},
   "outputs": [],
   "source": [
    "def unify_y_column_format(test_y, predicted, selected_owners, treshold):\n",
    "    test_converted = [1 if i in selected_owners else 0 for i in test_y]\n",
    "    \n",
    "    predict_converted = [1 if i <= treshold else 0 for i in predicted]\n",
    "    \n",
    "    return test_converted, predict_converted"
   ]
  },
  {
   "cell_type": "code",
   "execution_count": 87,
   "metadata": {},
   "outputs": [],
   "source": [
    "def use_imputation(df_train, df_test, train_x_columns):\n",
    "    imputer = IterativeImputer(random_state=0, max_iter=20, verbose=2)\n",
    "    imputer.fit(df_train[train_x_columns])\n",
    "    df_train[train_x_columns] = imputer.transform(df_train[train_x_columns])\n",
    "    df_test[train_x_columns] = imputer.transform(df_test[train_x_columns])\n",
    "    return df_train, df_test"
   ]
  },
  {
   "cell_type": "code",
   "execution_count": 88,
   "metadata": {},
   "outputs": [],
   "source": [
    "def show_results(test_y,predicted_y):\n",
    "    print ('Accuracy:', accuracy_score(test_y, predicted_y))\n",
    "    print ('F1 score:', f1_score(test_y, predicted_y, pos_label=1))\n",
    "    print ('Recall:', recall_score(test_y, predicted_y, pos_label=1))\n",
    "    print ('Precision:', precision_score(test_y, predicted_y, pos_label=1))\n",
    "    print ('\\n confussion matrix:\\n',confusion_matrix(test_y, predicted_y))"
   ]
  },
  {
   "cell_type": "code",
   "execution_count": 158,
   "metadata": {},
   "outputs": [],
   "source": [
    "def plot_far_eer(test_y_raw, tresholds):\n",
    "\n",
    "    tresholds, test_y_raw = zip(*sorted(zip(tresholds, test_y_raw)))\n",
    "\n",
    "    fmr_array=[]\n",
    "    fnmr_array=[]\n",
    "    for treshold in tresholds:\n",
    "        test_y, predicted_y = unify_y_column_format(test_y_raw, tresholds, selected_owners, treshold)\n",
    "\n",
    "        fmr_array.append(fmr_score(test_y, predicted_y))\n",
    "        fnmr_array.append(fnmr_score(test_y, predicted_y))\n",
    "\n",
    "    point = eer_score(list(tresholds), fmr_array, fnmr_array)\n",
    "    plt.plot(tresholds, fmr_array, 'r') # plotting t, a separately \n",
    "    plt.plot(tresholds, fnmr_array, 'b') # plotting t, b separately\n",
    "    plt.plot(point[0], point[1], marker='o', markersize=5, color=\"green\")\n",
    "    plt.show()"
   ]
  },
  {
   "cell_type": "code",
   "execution_count": 168,
   "metadata": {},
   "outputs": [
    {
     "data": {
      "image/png": "[encoded data removed]",
      "text/plain": [
       "<Figure size 432x288 with 1 Axes>"
      ]
     },
     "metadata": {
      "needs_background": "light"
     },
     "output_type": "display_data"
    }
   ],
   "source": [
    "selected_owners = ['mino']\n",
    "df_train, df_test = split_to_train_test(all_features, selected_owners)\n",
    "\n",
    "if not delete_nan_features:\n",
    "    df_train, df_test =  use_imputation(df_train, df_test, train_x_columns)\n",
    "    \n",
    "predicted = use_knn(df_train[train_x_columns],df_test[train_x_columns])\n",
    "tresholds=list(itertools.chain.from_iterable(predicted[0]))\n",
    "\n",
    "\n",
    "test_y, predicted_y = unify_y_column_format(df_test[train_y_columns], tresholds, selected_owners,treshold_for_knn)\n",
    "\n",
    "# show_results(test_y,predicted_y)\n",
    "\n",
    "plot_far_eer(df_test[train_y_columns].reset_index(drop=True),tresholds)"
   ]
  },
  {
   "cell_type": "code",
   "execution_count": 172,
   "metadata": {},
   "outputs": [
    {
     "data": {
      "image/png": "[encoded data removed]",
      "text/plain": [
       "<Figure size 432x288 with 1 Axes>"
      ]
     },
     "metadata": {
      "needs_background": "light"
     },
     "output_type": "display_data"
    }
   ],
   "source": [
    "selected_owners = ['mino']\n",
    "df_train, df_test = split_to_train_test_by_pattern(all_features, selected_owners)\n",
    "\n",
    "if not delete_nan_features:\n",
    "    df_train, df_test =  use_imputation(df_train, df_test, train_x_columns)\n",
    "    \n",
    "predicted = use_knn(df_train[train_x_columns],df_test[train_x_columns])\n",
    "tresholds=list(itertools.chain.from_iterable(predicted[0]))\n",
    "\n",
    "df_test =  df_test[[train_y_columns,'id']]\n",
    "df_test['prediction'] = tresholds\n",
    "\n",
    "\n",
    "nieco=df_test.groupby([train_y_columns,'id']).median()\n",
    "nieco=nieco.reset_index().drop('id', axis=1)\n",
    "\n",
    "test_y, predicted_y = unify_y_column_format(nieco[train_y_columns], nieco['prediction'], selected_owners,treshold_for_knn)\n",
    "plot_far_eer(nieco[train_y_columns],nieco['prediction'])\n"
   ]
  },
  {
   "cell_type": "code",
   "execution_count": null,
   "metadata": {},
   "outputs": [],
   "source": []
  }
 ],
 "metadata": {
  "kernelspec": {
   "display_name": "Python 3",
   "language": "python",
   "name": "python3"
  },
  "language_info": {
   "codemirror_mode": {
    "name": "ipython",
    "version": 3
   },
   "file_extension": ".py",
   "mimetype": "text/x-python",
   "name": "python",
   "nbconvert_exporter": "python",
   "pygments_lexer": "ipython3",
   "version": "3.7.9"
  }
 },
 "nbformat": 4,
 "nbformat_minor": 4
}

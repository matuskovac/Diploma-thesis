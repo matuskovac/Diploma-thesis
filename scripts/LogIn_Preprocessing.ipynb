{
 "cells": [
  {
   "cell_type": "code",
   "execution_count": 252,
   "metadata": {},
   "outputs": [],
   "source": [
    "import warnings\n",
    "warnings.filterwarnings('ignore')\n",
    "import numpy as np\n",
    "import pandas as pd\n",
    "import time\n",
    "import random\n",
    "import itertools\n",
    "import  matplotlib.pyplot as plt\n",
    "import shapely\n",
    "from shapely.geometry import LineString, Point\n",
    "from statistics import mean\n",
    "\n",
    "from sklearn.model_selection import train_test_split\n",
    "from sklearn.preprocessing import LabelEncoder\n",
    "from sklearn.preprocessing import StandardScaler\n",
    "from sklearn.preprocessing import MinMaxScaler\n",
    "from sklearn.tree import DecisionTreeClassifier\n",
    "from sklearn.naive_bayes import GaussianNB\n",
    "from sklearn.svm import SVC\n",
    "from sklearn.neighbors import NearestNeighbors\n",
    "from sklearn.utils import shuffle\n",
    "from sklearn.metrics import precision_score, \\\n",
    "    recall_score, confusion_matrix, classification_report, \\\n",
    "    accuracy_score, f1_score\n",
    "from sklearn.experimental import enable_iterative_imputer\n",
    "from sklearn.impute import IterativeImputer\n",
    "from sklearn.ensemble import ExtraTreesClassifier\n",
    "from sklearn.feature_selection import RFE\n",
    "from sklearn.linear_model import LogisticRegression\n",
    "from sklearn.svm import OneClassSVM\n",
    "from sklearn.ensemble import RandomForestClassifier\n",
    "\n",
    "from behalearn.preprocessing import columns\n",
    "from behalearn.authentication import authentication_metrics\n",
    "from behalearn.authentication import authentication_results\n",
    "from behalearn.estimators import VotingClassifier\n",
    "from behalearn.features import FeatureExtractor\n",
    "from behalearn.features import temporal\n",
    "from behalearn.metrics import fmr_score\n",
    "from behalearn.metrics import fnmr_score\n",
    "from behalearn.metrics import eer_score\n",
    "from behalearn.metrics import hter_score\n",
    "from behalearn.preprocessing import StartEndSegmentSplitter\n",
    "from behalearn.preprocessing import SegmentSplitter\n",
    "from behalearn.preprocessing.segment import criteria\n",
    "from behalearn.visualization import initialize_notebook_output\n",
    "from behalearn.visualization import label_touches\n",
    "from behalearn.visualization import plot_fmr_fnmr\n",
    "from behalearn.visualization import visualize_mobile_data\n",
    "from behalearn.visualization import visualize_mouse_data\n",
    "from behalearn.visualization import visualize_custom_data\n"
   ]
  },
  {
   "cell_type": "code",
   "execution_count": 251,
   "metadata": {},
   "outputs": [],
   "source": [
    "segment_column = 'segment'\n",
    "user_column = 'user'\n",
    "user_name_column = 'username'\n",
    "compute_features_for_segment = True\n",
    "delete_nan_features = False\n",
    "use_selected_features = False\n",
    "\n",
    "path_to_raw_data = '../login_datasets/2019-01-08_FIIT_-2-poschodie_po_skuske_KPAIS_correct_patterns_only/'\n",
    "path_to_featutes = \"../login_features/\" + (\"segments\" if compute_features_for_segment else \"paterns\") + (\"\" if delete_nan_features else \"_nan\") + \"/\"\n",
    "\n",
    "columns_to_identificate_features = ['id', 'pattern_id','device','scenario', user_name_column, user_column]\n",
    "if compute_features_for_segment:\n",
    "    columns_to_identificate_features.append(segment_column)\n",
    "    \n",
    "train_y_columns = user_name_column\n",
    "\n",
    "selected_features_dict = {'0': ['duration', 'length', 'start_x', 'start_y', 'velocity_x_mean', 'velocity_x_std', 'velocity_x_min', 'velocity_x_max', 'velocity_x_abs_min', 'velocity_x_abs_max', 'velocity_x_median', 'velocity_x_lower_q', 'velocity_x_upper_q', 'velocity_x_iqr', 'velocity_y_mean', 'velocity_y_std', 'velocity_y_min', 'velocity_y_max', 'velocity_y_abs_min', 'velocity_y_abs_max', 'velocity_y_median', 'velocity_y_lower_q', 'velocity_y_upper_q', 'velocity_y_iqr', 'velocity_x_y_mean', 'velocity_x_y_std', 'velocity_x_y_min', 'velocity_x_y_max', 'velocity_x_y_abs_min', 'velocity_x_y_abs_max', 'velocity_x_y_median', 'velocity_x_y_lower_q', 'velocity_x_y_upper_q', 'velocity_x_y_iqr', 'acceleration_x_mean', 'acceleration_x_std', 'acceleration_x_min', 'acceleration_x_max', 'acceleration_x_abs_min', 'acceleration_x_abs_max', 'acceleration_x_median', 'acceleration_x_lower_q', 'acceleration_x_upper_q', 'acceleration_x_iqr', 'acceleration_y_mean', 'acceleration_y_std', 'acceleration_y_min', 'acceleration_y_max', 'acceleration_y_abs_min', 'acceleration_y_abs_max', 'acceleration_y_median', 'acceleration_y_lower_q', 'acceleration_y_upper_q', 'acceleration_y_iqr', 'acceleration_x_y_mean', 'acceleration_x_y_std', 'acceleration_x_y_min', 'acceleration_x_y_max', 'acceleration_x_y_abs_min', 'acceleration_x_y_abs_max', 'acceleration_x_y_median', 'acceleration_x_y_lower_q', 'acceleration_x_y_upper_q', 'acceleration_x_y_iqr', 'jerk_x_mean', 'jerk_x_std', 'jerk_x_min', 'jerk_x_max', 'jerk_x_abs_min', 'jerk_x_abs_max', 'jerk_x_median', 'jerk_x_lower_q', 'jerk_x_upper_q', 'jerk_x_iqr', 'jerk_y_mean', 'jerk_y_std', 'jerk_y_min', 'jerk_y_max', 'jerk_y_abs_min', 'jerk_y_abs_max', 'jerk_y_median', 'jerk_y_lower_q', 'jerk_y_upper_q', 'jerk_y_iqr', 'jerk_x_y_mean', 'jerk_x_y_std', 'jerk_x_y_min', 'jerk_x_y_max', 'jerk_x_y_abs_min', 'jerk_x_y_abs_max', 'jerk_x_y_median', 'jerk_x_y_lower_q', 'jerk_x_y_upper_q', 'jerk_x_y_iqr', 'angular_velocity_x_y_mean', 'angular_velocity_x_y_std', 'angular_velocity_x_y_min', 'angular_velocity_x_y_max', 'angular_velocity_x_y_abs_min', 'angular_velocity_x_y_abs_max', 'angular_velocity_x_y_median', 'angular_velocity_x_y_lower_q', 'angular_velocity_x_y_upper_q', 'angular_velocity_x_y_iqr', 'angular_acceleration_x_y_mean', 'angular_acceleration_x_y_std', 'angular_acceleration_x_y_min', 'angular_acceleration_x_y_max', 'angular_acceleration_x_y_abs_min', 'angular_acceleration_x_y_abs_max', 'angular_acceleration_x_y_median', 'angular_acceleration_x_y_lower_q', 'angular_acceleration_x_y_upper_q', 'angular_acceleration_x_y_iqr', 'accelerometer_jerk_x_mean', 'accelerometer_jerk_x_std', 'accelerometer_jerk_x_min', 'accelerometer_jerk_x_max', 'accelerometer_jerk_x_abs_min', 'accelerometer_jerk_x_abs_max', 'accelerometer_jerk_x_median', 'accelerometer_jerk_x_lower_q', 'accelerometer_jerk_x_upper_q', 'accelerometer_jerk_x_iqr', 'accelerometer_jerk_y_mean', 'accelerometer_jerk_y_std', 'accelerometer_jerk_y_min', 'accelerometer_jerk_y_max', 'accelerometer_jerk_y_abs_min', 'accelerometer_jerk_y_abs_max', 'accelerometer_jerk_y_median', 'accelerometer_jerk_y_lower_q', 'accelerometer_jerk_y_upper_q', 'accelerometer_jerk_y_iqr', 'accelerometer_jerk_z_mean', 'accelerometer_jerk_z_std', 'accelerometer_jerk_z_min', 'accelerometer_jerk_z_max', 'accelerometer_jerk_z_abs_min', 'accelerometer_jerk_z_abs_max', 'accelerometer_jerk_z_median', 'accelerometer_jerk_z_lower_q', 'accelerometer_jerk_z_upper_q', 'accelerometer_jerk_z_iqr', 'accelerometer_jerk_x_y_mean', 'accelerometer_jerk_x_y_std', 'accelerometer_jerk_x_y_min', 'accelerometer_jerk_x_y_max', 'accelerometer_jerk_x_y_abs_min', 'accelerometer_jerk_x_y_abs_max', 'accelerometer_jerk_x_y_median', 'accelerometer_jerk_x_y_lower_q', 'accelerometer_jerk_x_y_upper_q', 'accelerometer_jerk_x_y_iqr', 'accelerometer_jerk_x_z_mean', 'accelerometer_jerk_x_z_std', 'accelerometer_jerk_x_z_min', 'accelerometer_jerk_x_z_max', 'accelerometer_jerk_x_z_abs_min', 'accelerometer_jerk_x_z_abs_max', 'accelerometer_jerk_x_z_median', 'accelerometer_jerk_x_z_lower_q', 'accelerometer_jerk_x_z_upper_q', 'accelerometer_jerk_x_z_iqr', 'accelerometer_jerk_y_z_mean', 'accelerometer_jerk_y_z_std', 'accelerometer_jerk_y_z_min', 'accelerometer_jerk_y_z_max', 'accelerometer_jerk_y_z_abs_min', 'accelerometer_jerk_y_z_abs_max', 'accelerometer_jerk_y_z_median', 'accelerometer_jerk_y_z_lower_q', 'accelerometer_jerk_y_z_upper_q', 'accelerometer_jerk_y_z_iqr', 'accelerometer_jerk_x_y_z_mean', 'accelerometer_jerk_x_y_z_std', 'accelerometer_jerk_x_y_z_min', 'accelerometer_jerk_x_y_z_max', 'accelerometer_jerk_x_y_z_abs_min', 'accelerometer_jerk_x_y_z_abs_max', 'accelerometer_jerk_x_y_z_median', 'accelerometer_jerk_x_y_z_lower_q', 'accelerometer_jerk_x_y_z_upper_q', 'accelerometer_jerk_x_y_z_iqr', 'accelerometer_x_mean', 'accelerometer_x_std', 'accelerometer_x_min', 'accelerometer_x_lower_q', 'accelerometer_x_median', 'accelerometer_x_upper_q', 'accelerometer_x_max', 'accelerometer_y_mean', 'accelerometer_y_std', 'accelerometer_y_min', 'accelerometer_y_lower_q', 'accelerometer_y_median', 'accelerometer_y_upper_q', 'accelerometer_y_max', 'accelerometer_z_mean', 'accelerometer_z_std', 'accelerometer_z_min', 'accelerometer_z_lower_q', 'accelerometer_z_median', 'accelerometer_z_upper_q', 'accelerometer_z_max', 'accelerometer_x_y_mean', 'accelerometer_x_y_std', 'accelerometer_x_y_min', 'accelerometer_x_y_lower_q', 'accelerometer_x_y_median', 'accelerometer_x_y_upper_q', 'accelerometer_x_y_max', 'accelerometer_x_z_mean', 'accelerometer_x_z_std', 'accelerometer_x_z_min', 'accelerometer_x_z_lower_q', 'accelerometer_x_z_median', 'accelerometer_x_z_upper_q', 'accelerometer_x_z_max', 'accelerometer_y_z_mean', 'accelerometer_y_z_std', 'accelerometer_y_z_min', 'accelerometer_y_z_lower_q', 'accelerometer_y_z_median', 'accelerometer_y_z_upper_q', 'accelerometer_y_z_max', 'accelerometer_x_y_z_mean', 'accelerometer_x_y_z_std', 'accelerometer_x_y_z_min', 'accelerometer_x_y_z_lower_q', 'accelerometer_x_y_z_median', 'accelerometer_x_y_z_upper_q', 'accelerometer_x_y_z_max', 'gyro_jerk_x_mean', 'gyro_jerk_x_std', 'gyro_jerk_x_min', 'gyro_jerk_x_max', 'gyro_jerk_x_abs_min', 'gyro_jerk_x_abs_max', 'gyro_jerk_x_median', 'gyro_jerk_x_lower_q', 'gyro_jerk_x_upper_q', 'gyro_jerk_x_iqr', 'gyro_jerk_y_mean', 'gyro_jerk_y_std', 'gyro_jerk_y_min', 'gyro_jerk_y_max', 'gyro_jerk_y_abs_min', 'gyro_jerk_y_abs_max', 'gyro_jerk_y_median', 'gyro_jerk_y_lower_q', 'gyro_jerk_y_upper_q', 'gyro_jerk_y_iqr', 'gyro_jerk_z_mean', 'gyro_jerk_z_std', 'gyro_jerk_z_min', 'gyro_jerk_z_max', 'gyro_jerk_z_abs_min', 'gyro_jerk_z_abs_max', 'gyro_jerk_z_median', 'gyro_jerk_z_lower_q', 'gyro_jerk_z_upper_q', 'gyro_jerk_z_iqr', 'gyro_jerk_x_y_mean', 'gyro_jerk_x_y_std', 'gyro_jerk_x_y_min', 'gyro_jerk_x_y_max', 'gyro_jerk_x_y_abs_min', 'gyro_jerk_x_y_abs_max', 'gyro_jerk_x_y_median', 'gyro_jerk_x_y_lower_q', 'gyro_jerk_x_y_upper_q', 'gyro_jerk_x_y_iqr', 'gyro_jerk_x_z_mean', 'gyro_jerk_x_z_std', 'gyro_jerk_x_z_min', 'gyro_jerk_x_z_max', 'gyro_jerk_x_z_abs_min', 'gyro_jerk_x_z_abs_max', 'gyro_jerk_x_z_median', 'gyro_jerk_x_z_lower_q', 'gyro_jerk_x_z_upper_q', 'gyro_jerk_x_z_iqr', 'gyro_jerk_y_z_mean', 'gyro_jerk_y_z_std', 'gyro_jerk_y_z_min', 'gyro_jerk_y_z_max', 'gyro_jerk_y_z_abs_min', 'gyro_jerk_y_z_abs_max', 'gyro_jerk_y_z_median', 'gyro_jerk_y_z_lower_q', 'gyro_jerk_y_z_upper_q', 'gyro_jerk_y_z_iqr', 'gyro_jerk_x_y_z_mean', 'gyro_jerk_x_y_z_std', 'gyro_jerk_x_y_z_min', 'gyro_jerk_x_y_z_max', 'gyro_jerk_x_y_z_abs_min', 'gyro_jerk_x_y_z_abs_max', 'gyro_jerk_x_y_z_median', 'gyro_jerk_x_y_z_lower_q', 'gyro_jerk_x_y_z_upper_q', 'gyro_jerk_x_y_z_iqr', 'gyro_x_mean', 'gyro_x_std', 'gyro_x_min', 'gyro_x_lower_q', 'gyro_x_median', 'gyro_x_upper_q', 'gyro_x_max', 'gyro_y_mean', 'gyro_y_std', 'gyro_y_min', 'gyro_y_lower_q', 'gyro_y_median', 'gyro_y_upper_q', 'gyro_y_max', 'gyro_z_mean', 'gyro_z_std', 'gyro_z_min', 'gyro_z_lower_q', 'gyro_z_median', 'gyro_z_upper_q', 'gyro_z_max', 'gyro_x_y_mean', 'gyro_x_y_std', 'gyro_x_y_min', 'gyro_x_y_lower_q', 'gyro_x_y_median', 'gyro_x_y_upper_q', 'gyro_x_y_max', 'gyro_x_z_mean', 'gyro_x_z_std', 'gyro_x_z_min', 'gyro_x_z_lower_q', 'gyro_x_z_median', 'gyro_x_z_upper_q', 'gyro_x_z_max', 'gyro_y_z_mean', 'gyro_y_z_std', 'gyro_y_z_min', 'gyro_y_z_lower_q', 'gyro_y_z_median', 'gyro_y_z_upper_q', 'gyro_y_z_max', 'gyro_x_y_z_mean', 'gyro_x_y_z_std', 'gyro_x_y_z_min', 'gyro_x_y_z_lower_q', 'gyro_x_y_z_median', 'gyro_x_y_z_upper_q', 'gyro_x_y_z_max'], 'RFE(estimator=LogisticRegression(), n_features_to_select=75)': ['duration', 'velocity_x_std', 'velocity_x_min', 'velocity_x_max', 'velocity_x_median', 'velocity_y_std', 'velocity_y_min', 'velocity_y_max', 'velocity_y_abs_max', 'velocity_y_median', 'velocity_x_y_std', 'velocity_x_y_abs_min', 'velocity_x_y_abs_max', 'velocity_x_y_lower_q', 'velocity_x_y_upper_q', 'accelerometer_jerk_x_std', 'accelerometer_jerk_z_std', 'accelerometer_jerk_x_y_mean', 'accelerometer_jerk_x_y_abs_max', 'accelerometer_jerk_x_y_upper_q', 'accelerometer_jerk_x_z_mean', 'accelerometer_jerk_y_z_std', 'accelerometer_jerk_x_y_z_std', 'accelerometer_x_mean', 'accelerometer_x_std', 'accelerometer_x_min', 'accelerometer_y_mean', 'accelerometer_y_std', 'accelerometer_z_mean', 'accelerometer_z_std', 'accelerometer_x_y_mean', 'accelerometer_x_y_max', 'accelerometer_x_z_mean', 'accelerometer_x_z_upper_q', 'accelerometer_y_z_mean', 'accelerometer_x_y_z_max', 'gyro_jerk_x_mean', 'gyro_jerk_y_min', 'gyro_jerk_y_max', 'gyro_jerk_z_std', 'gyro_jerk_z_max', 'gyro_jerk_x_y_abs_max', 'gyro_jerk_x_y_median', 'gyro_jerk_x_y_lower_q', 'gyro_jerk_x_y_iqr', 'gyro_jerk_x_z_std', 'gyro_jerk_x_z_median', 'gyro_jerk_x_z_lower_q', 'gyro_jerk_x_z_iqr', 'gyro_jerk_y_z_std', 'gyro_jerk_y_z_abs_max', 'gyro_jerk_y_z_median', 'gyro_jerk_y_z_upper_q', 'gyro_jerk_x_y_z_mean', 'gyro_jerk_x_y_z_std', 'gyro_jerk_x_y_z_lower_q', 'gyro_x_std', 'gyro_y_std', 'gyro_z_std', 'gyro_x_y_std', 'gyro_x_y_min', 'gyro_x_y_lower_q', 'gyro_x_y_median', 'gyro_x_y_upper_q', 'gyro_x_y_max', 'gyro_x_z_lower_q', 'gyro_x_z_upper_q', 'gyro_x_z_max', 'gyro_y_z_std', 'gyro_y_z_min', 'gyro_y_z_median', 'gyro_y_z_max', 'gyro_x_y_z_std', 'gyro_x_y_z_min', 'gyro_x_y_z_lower_q'], 'RFE(estimator=RandomForestClassifierWithCoef(min_samples_leaf=5, n_estimators=500, n_jobs=-1), n_features_to_select=75)': ['duration', 'velocity_x_std', 'velocity_y_mean', 'velocity_x_y_mean', 'velocity_x_y_std', 'velocity_x_y_max', 'velocity_x_y_abs_max', 'velocity_x_y_upper_q', 'accelerometer_jerk_x_std', 'accelerometer_jerk_x_max', 'accelerometer_jerk_x_y_mean', 'accelerometer_jerk_x_z_mean', 'accelerometer_jerk_x_z_median', 'accelerometer_jerk_x_z_upper_q', 'accelerometer_jerk_y_z_mean', 'accelerometer_jerk_x_y_z_mean', 'accelerometer_x_mean', 'accelerometer_x_std', 'accelerometer_x_min', 'accelerometer_x_lower_q', 'accelerometer_x_median', 'accelerometer_x_upper_q', 'accelerometer_y_mean', 'accelerometer_y_min', 'accelerometer_y_lower_q', 'accelerometer_y_median', 'accelerometer_y_upper_q', 'accelerometer_y_max', 'accelerometer_z_mean', 'accelerometer_z_lower_q', 'accelerometer_z_median', 'accelerometer_z_upper_q', 'accelerometer_x_y_mean', 'accelerometer_x_z_mean', 'accelerometer_x_z_upper_q', 'accelerometer_y_z_mean', 'accelerometer_x_y_z_mean', 'accelerometer_x_y_z_upper_q', 'gyro_jerk_y_std', 'gyro_jerk_z_std', 'gyro_jerk_z_min', 'gyro_jerk_z_max', 'gyro_jerk_z_iqr', 'gyro_jerk_x_y_median', 'gyro_jerk_x_y_lower_q', 'gyro_jerk_x_z_mean', 'gyro_jerk_x_z_median', 'gyro_jerk_x_z_lower_q', 'gyro_jerk_y_z_mean', 'gyro_jerk_y_z_median', 'gyro_jerk_y_z_lower_q', 'gyro_jerk_x_y_z_mean', 'gyro_jerk_x_y_z_median', 'gyro_jerk_x_y_z_lower_q', 'gyro_y_std', 'gyro_y_max', 'gyro_z_mean', 'gyro_z_std', 'gyro_z_min', 'gyro_z_lower_q', 'gyro_z_upper_q', 'gyro_z_max', 'gyro_x_y_mean', 'gyro_x_y_upper_q', 'gyro_x_y_max', 'gyro_x_z_mean', 'gyro_x_z_median', 'gyro_x_z_upper_q', 'gyro_x_z_max', 'gyro_y_z_mean', 'gyro_y_z_median', 'gyro_y_z_upper_q', 'gyro_y_z_max', 'gyro_x_y_z_mean', 'gyro_x_y_z_max'], 'RFE(estimator=LogisticRegression(), n_features_to_select=85)': ['duration', 'length', 'velocity_x_std', 'velocity_x_min', 'velocity_x_max', 'velocity_x_abs_max', 'velocity_x_median', 'velocity_y_std', 'velocity_y_min', 'velocity_y_max', 'velocity_y_abs_max', 'velocity_y_median', 'velocity_x_y_std', 'velocity_x_y_abs_min', 'velocity_x_y_abs_max', 'velocity_x_y_lower_q', 'velocity_x_y_upper_q', 'acceleration_x_std', 'accelerometer_jerk_x_std', 'accelerometer_jerk_z_std', 'accelerometer_jerk_x_y_mean', 'accelerometer_jerk_x_y_abs_max', 'accelerometer_jerk_x_y_upper_q', 'accelerometer_jerk_x_z_mean', 'accelerometer_jerk_y_z_std', 'accelerometer_jerk_x_y_z_std', 'accelerometer_x_mean', 'accelerometer_x_std', 'accelerometer_x_min', 'accelerometer_y_mean', 'accelerometer_y_std', 'accelerometer_z_mean', 'accelerometer_z_std', 'accelerometer_z_min', 'accelerometer_z_max', 'accelerometer_x_y_mean', 'accelerometer_x_y_max', 'accelerometer_x_z_mean', 'accelerometer_x_z_median', 'accelerometer_x_z_upper_q', 'accelerometer_y_z_mean', 'accelerometer_y_z_median', 'accelerometer_x_y_z_max', 'gyro_jerk_x_mean', 'gyro_jerk_x_max', 'gyro_jerk_y_min', 'gyro_jerk_y_max', 'gyro_jerk_z_std', 'gyro_jerk_z_min', 'gyro_jerk_z_max', 'gyro_jerk_x_y_abs_max', 'gyro_jerk_x_y_median', 'gyro_jerk_x_y_lower_q', 'gyro_jerk_x_y_iqr', 'gyro_jerk_x_z_std', 'gyro_jerk_x_z_median', 'gyro_jerk_x_z_lower_q', 'gyro_jerk_x_z_iqr', 'gyro_jerk_y_z_std', 'gyro_jerk_y_z_abs_max', 'gyro_jerk_y_z_median', 'gyro_jerk_y_z_upper_q', 'gyro_jerk_x_y_z_mean', 'gyro_jerk_x_y_z_std', 'gyro_jerk_x_y_z_lower_q', 'gyro_x_std', 'gyro_y_std', 'gyro_z_std', 'gyro_x_y_std', 'gyro_x_y_min', 'gyro_x_y_lower_q', 'gyro_x_y_median', 'gyro_x_y_upper_q', 'gyro_x_y_max', 'gyro_x_z_lower_q', 'gyro_x_z_upper_q', 'gyro_x_z_max', 'gyro_y_z_std', 'gyro_y_z_min', 'gyro_y_z_lower_q', 'gyro_y_z_median', 'gyro_y_z_max', 'gyro_x_y_z_std', 'gyro_x_y_z_min', 'gyro_x_y_z_lower_q'], 'RFE(estimator=RandomForestClassifierWithCoef(min_samples_leaf=5, n_estimators=500, n_jobs=-1), n_features_to_select=85)': ['duration', 'velocity_x_std', 'velocity_y_mean', 'velocity_y_min', 'velocity_x_y_mean', 'velocity_x_y_std', 'velocity_x_y_max', 'velocity_x_y_abs_max', 'velocity_x_y_upper_q', 'acceleration_x_std', 'accelerometer_jerk_x_std', 'accelerometer_jerk_x_iqr', 'accelerometer_jerk_x_y_mean', 'accelerometer_jerk_x_z_mean', 'accelerometer_jerk_x_z_median', 'accelerometer_jerk_x_z_upper_q', 'accelerometer_jerk_y_z_mean', 'accelerometer_jerk_x_y_z_mean', 'accelerometer_jerk_x_y_z_upper_q', 'accelerometer_x_mean', 'accelerometer_x_std', 'accelerometer_x_min', 'accelerometer_x_lower_q', 'accelerometer_x_median', 'accelerometer_x_upper_q', 'accelerometer_x_max', 'accelerometer_y_mean', 'accelerometer_y_std', 'accelerometer_y_min', 'accelerometer_y_lower_q', 'accelerometer_y_median', 'accelerometer_y_upper_q', 'accelerometer_y_max', 'accelerometer_z_mean', 'accelerometer_z_min', 'accelerometer_z_lower_q', 'accelerometer_z_median', 'accelerometer_z_upper_q', 'accelerometer_x_y_mean', 'accelerometer_x_y_upper_q', 'accelerometer_x_z_mean', 'accelerometer_x_z_upper_q', 'accelerometer_y_z_mean', 'accelerometer_x_y_z_mean', 'accelerometer_x_y_z_upper_q', 'gyro_jerk_y_std', 'gyro_jerk_z_mean', 'gyro_jerk_z_std', 'gyro_jerk_z_min', 'gyro_jerk_z_max', 'gyro_jerk_z_iqr', 'gyro_jerk_x_y_median', 'gyro_jerk_x_y_lower_q', 'gyro_jerk_x_z_mean', 'gyro_jerk_x_z_median', 'gyro_jerk_x_z_lower_q', 'gyro_jerk_y_z_mean', 'gyro_jerk_y_z_median', 'gyro_jerk_y_z_lower_q', 'gyro_jerk_y_z_upper_q', 'gyro_jerk_x_y_z_mean', 'gyro_jerk_x_y_z_median', 'gyro_jerk_x_y_z_lower_q', 'gyro_jerk_x_y_z_upper_q', 'gyro_y_std', 'gyro_y_max', 'gyro_z_mean', 'gyro_z_std', 'gyro_z_min', 'gyro_z_lower_q', 'gyro_z_upper_q', 'gyro_z_max', 'gyro_x_y_mean', 'gyro_x_y_upper_q', 'gyro_x_y_max', 'gyro_x_z_mean', 'gyro_x_z_median', 'gyro_x_z_upper_q', 'gyro_x_z_max', 'gyro_y_z_mean', 'gyro_y_z_median', 'gyro_y_z_upper_q', 'gyro_y_z_max', 'gyro_x_y_z_mean', 'gyro_x_y_z_max'], 'RFE(estimator=LogisticRegression(), n_features_to_select=100)': ['duration', 'length', 'velocity_x_std', 'velocity_x_min', 'velocity_x_max', 'velocity_x_abs_max', 'velocity_x_median', 'velocity_y_std', 'velocity_y_min', 'velocity_y_max', 'velocity_y_abs_max', 'velocity_y_median', 'velocity_x_y_std', 'velocity_x_y_abs_min', 'velocity_x_y_abs_max', 'velocity_x_y_median', 'velocity_x_y_lower_q', 'velocity_x_y_upper_q', 'acceleration_x_std', 'acceleration_x_y_std', 'acceleration_x_y_max', 'acceleration_x_y_lower_q', 'accelerometer_jerk_x_std', 'accelerometer_jerk_y_std', 'accelerometer_jerk_z_std', 'accelerometer_jerk_x_y_mean', 'accelerometer_jerk_x_y_abs_max', 'accelerometer_jerk_x_y_upper_q', 'accelerometer_jerk_x_z_mean', 'accelerometer_jerk_y_z_std', 'accelerometer_jerk_x_y_z_std', 'accelerometer_x_mean', 'accelerometer_x_std', 'accelerometer_x_min', 'accelerometer_y_mean', 'accelerometer_y_std', 'accelerometer_z_mean', 'accelerometer_z_std', 'accelerometer_z_min', 'accelerometer_z_max', 'accelerometer_x_y_mean', 'accelerometer_x_y_max', 'accelerometer_x_z_mean', 'accelerometer_x_z_std', 'accelerometer_x_z_lower_q', 'accelerometer_x_z_median', 'accelerometer_x_z_upper_q', 'accelerometer_y_z_mean', 'accelerometer_y_z_median', 'accelerometer_x_y_z_lower_q', 'accelerometer_x_y_z_max', 'gyro_jerk_x_mean', 'gyro_jerk_x_max', 'gyro_jerk_y_std', 'gyro_jerk_y_min', 'gyro_jerk_y_max', 'gyro_jerk_z_std', 'gyro_jerk_z_min', 'gyro_jerk_z_max', 'gyro_jerk_x_y_abs_max', 'gyro_jerk_x_y_median', 'gyro_jerk_x_y_lower_q', 'gyro_jerk_x_y_iqr', 'gyro_jerk_x_z_std', 'gyro_jerk_x_z_median', 'gyro_jerk_x_z_lower_q', 'gyro_jerk_x_z_iqr', 'gyro_jerk_y_z_std', 'gyro_jerk_y_z_abs_max', 'gyro_jerk_y_z_median', 'gyro_jerk_y_z_lower_q', 'gyro_jerk_y_z_upper_q', 'gyro_jerk_x_y_z_mean', 'gyro_jerk_x_y_z_std', 'gyro_jerk_x_y_z_median', 'gyro_jerk_x_y_z_lower_q', 'gyro_x_std', 'gyro_y_std', 'gyro_z_std', 'gyro_z_min', 'gyro_z_max', 'gyro_x_y_std', 'gyro_x_y_min', 'gyro_x_y_lower_q', 'gyro_x_y_median', 'gyro_x_y_upper_q', 'gyro_x_y_max', 'gyro_x_z_min', 'gyro_x_z_lower_q', 'gyro_x_z_median', 'gyro_x_z_upper_q', 'gyro_x_z_max', 'gyro_y_z_std', 'gyro_y_z_min', 'gyro_y_z_lower_q', 'gyro_y_z_median', 'gyro_y_z_max', 'gyro_x_y_z_std', 'gyro_x_y_z_min', 'gyro_x_y_z_lower_q'], 'RFE(estimator=RandomForestClassifierWithCoef(min_samples_leaf=5, n_estimators=500, n_jobs=-1), n_features_to_select=100)': ['duration', 'length', 'start_y', 'velocity_x_std', 'velocity_y_mean', 'velocity_y_min', 'velocity_x_y_mean', 'velocity_x_y_std', 'velocity_x_y_max', 'velocity_x_y_abs_max', 'velocity_x_y_median', 'velocity_x_y_upper_q', 'acceleration_x_std', 'acceleration_x_y_std', 'accelerometer_jerk_x_std', 'accelerometer_jerk_x_min', 'accelerometer_jerk_x_max', 'accelerometer_jerk_x_iqr', 'accelerometer_jerk_x_y_mean', 'accelerometer_jerk_x_z_mean', 'accelerometer_jerk_x_z_median', 'accelerometer_jerk_x_z_upper_q', 'accelerometer_jerk_y_z_mean', 'accelerometer_jerk_x_y_z_mean', 'accelerometer_jerk_x_y_z_median', 'accelerometer_jerk_x_y_z_upper_q', 'accelerometer_x_mean', 'accelerometer_x_std', 'accelerometer_x_min', 'accelerometer_x_lower_q', 'accelerometer_x_median', 'accelerometer_x_upper_q', 'accelerometer_x_max', 'accelerometer_y_mean', 'accelerometer_y_std', 'accelerometer_y_min', 'accelerometer_y_lower_q', 'accelerometer_y_median', 'accelerometer_y_upper_q', 'accelerometer_y_max', 'accelerometer_z_mean', 'accelerometer_z_min', 'accelerometer_z_lower_q', 'accelerometer_z_median', 'accelerometer_z_upper_q', 'accelerometer_z_max', 'accelerometer_x_y_mean', 'accelerometer_x_y_upper_q', 'accelerometer_x_z_mean', 'accelerometer_x_z_upper_q', 'accelerometer_y_z_mean', 'accelerometer_x_y_z_mean', 'accelerometer_x_y_z_upper_q', 'gyro_jerk_y_std', 'gyro_jerk_y_max', 'gyro_jerk_z_mean', 'gyro_jerk_z_std', 'gyro_jerk_z_min', 'gyro_jerk_z_max', 'gyro_jerk_z_lower_q', 'gyro_jerk_z_iqr', 'gyro_jerk_x_y_median', 'gyro_jerk_x_y_lower_q', 'gyro_jerk_x_z_mean', 'gyro_jerk_x_z_median', 'gyro_jerk_x_z_lower_q', 'gyro_jerk_x_z_upper_q', 'gyro_jerk_y_z_mean', 'gyro_jerk_y_z_median', 'gyro_jerk_y_z_lower_q', 'gyro_jerk_y_z_upper_q', 'gyro_jerk_x_y_z_mean', 'gyro_jerk_x_y_z_median', 'gyro_jerk_x_y_z_lower_q', 'gyro_jerk_x_y_z_upper_q', 'gyro_x_mean', 'gyro_y_std', 'gyro_y_max', 'gyro_z_mean', 'gyro_z_std', 'gyro_z_min', 'gyro_z_lower_q', 'gyro_z_upper_q', 'gyro_z_max', 'gyro_x_y_mean', 'gyro_x_y_median', 'gyro_x_y_upper_q', 'gyro_x_y_max', 'gyro_x_z_mean', 'gyro_x_z_median', 'gyro_x_z_upper_q', 'gyro_x_z_max', 'gyro_y_z_mean', 'gyro_y_z_std', 'gyro_y_z_median', 'gyro_y_z_upper_q', 'gyro_y_z_max', 'gyro_x_y_z_mean', 'gyro_x_y_z_upper_q', 'gyro_x_y_z_max'], 'RFE(estimator=LogisticRegression(), n_features_to_select=125)': ['duration', 'length', 'velocity_x_std', 'velocity_x_min', 'velocity_x_max', 'velocity_x_abs_max', 'velocity_x_median', 'velocity_y_std', 'velocity_y_min', 'velocity_y_max', 'velocity_y_abs_min', 'velocity_y_abs_max', 'velocity_y_median', 'velocity_y_upper_q', 'velocity_y_iqr', 'velocity_x_y_std', 'velocity_x_y_max', 'velocity_x_y_abs_min', 'velocity_x_y_abs_max', 'velocity_x_y_median', 'velocity_x_y_lower_q', 'velocity_x_y_upper_q', 'acceleration_x_std', 'acceleration_x_y_std', 'acceleration_x_y_max', 'acceleration_x_y_abs_max', 'acceleration_x_y_lower_q', 'accelerometer_jerk_x_std', 'accelerometer_jerk_y_std', 'accelerometer_jerk_z_std', 'accelerometer_jerk_x_y_mean', 'accelerometer_jerk_x_y_abs_max', 'accelerometer_jerk_x_y_upper_q', 'accelerometer_jerk_x_z_mean', 'accelerometer_jerk_x_z_std', 'accelerometer_jerk_x_z_median', 'accelerometer_jerk_y_z_std', 'accelerometer_jerk_y_z_abs_max', 'accelerometer_jerk_y_z_median', 'accelerometer_jerk_x_y_z_std', 'accelerometer_x_mean', 'accelerometer_x_std', 'accelerometer_x_min', 'accelerometer_y_mean', 'accelerometer_y_std', 'accelerometer_z_mean', 'accelerometer_z_std', 'accelerometer_z_min', 'accelerometer_z_max', 'accelerometer_x_y_mean', 'accelerometer_x_y_std', 'accelerometer_x_y_median', 'accelerometer_x_y_upper_q', 'accelerometer_x_y_max', 'accelerometer_x_z_mean', 'accelerometer_x_z_std', 'accelerometer_x_z_lower_q', 'accelerometer_x_z_median', 'accelerometer_x_z_upper_q', 'accelerometer_y_z_mean', 'accelerometer_y_z_lower_q', 'accelerometer_y_z_median', 'accelerometer_x_y_z_std', 'accelerometer_x_y_z_lower_q', 'accelerometer_x_y_z_max', 'gyro_jerk_x_mean', 'gyro_jerk_x_min', 'gyro_jerk_x_max', 'gyro_jerk_y_std', 'gyro_jerk_y_min', 'gyro_jerk_y_max', 'gyro_jerk_z_std', 'gyro_jerk_z_min', 'gyro_jerk_z_max', 'gyro_jerk_x_y_std', 'gyro_jerk_x_y_min', 'gyro_jerk_x_y_abs_max', 'gyro_jerk_x_y_median', 'gyro_jerk_x_y_lower_q', 'gyro_jerk_x_y_iqr', 'gyro_jerk_x_z_std', 'gyro_jerk_x_z_median', 'gyro_jerk_x_z_lower_q', 'gyro_jerk_x_z_iqr', 'gyro_jerk_y_z_std', 'gyro_jerk_y_z_abs_max', 'gyro_jerk_y_z_median', 'gyro_jerk_y_z_lower_q', 'gyro_jerk_y_z_upper_q', 'gyro_jerk_x_y_z_mean', 'gyro_jerk_x_y_z_std', 'gyro_jerk_x_y_z_min', 'gyro_jerk_x_y_z_median', 'gyro_jerk_x_y_z_lower_q', 'gyro_jerk_x_y_z_iqr', 'gyro_x_std', 'gyro_y_std', 'gyro_y_min', 'gyro_y_upper_q', 'gyro_y_max', 'gyro_z_std', 'gyro_z_min', 'gyro_z_lower_q', 'gyro_z_max', 'gyro_x_y_std', 'gyro_x_y_min', 'gyro_x_y_lower_q', 'gyro_x_y_median', 'gyro_x_y_upper_q', 'gyro_x_y_max', 'gyro_x_z_std', 'gyro_x_z_min', 'gyro_x_z_lower_q', 'gyro_x_z_median', 'gyro_x_z_upper_q', 'gyro_x_z_max', 'gyro_y_z_std', 'gyro_y_z_min', 'gyro_y_z_lower_q', 'gyro_y_z_median', 'gyro_y_z_upper_q', 'gyro_y_z_max', 'gyro_x_y_z_std', 'gyro_x_y_z_min', 'gyro_x_y_z_lower_q'], 'RFE(estimator=RandomForestClassifierWithCoef(min_samples_leaf=5, n_estimators=500, n_jobs=-1), n_features_to_select=125)': ['duration', 'length', 'start_y', 'velocity_x_mean', 'velocity_x_std', 'velocity_y_mean', 'velocity_y_min', 'velocity_y_abs_max', 'velocity_x_y_mean', 'velocity_x_y_std', 'velocity_x_y_max', 'velocity_x_y_abs_max', 'velocity_x_y_median', 'velocity_x_y_lower_q', 'velocity_x_y_upper_q', 'acceleration_x_std', 'acceleration_y_mean', 'acceleration_x_y_mean', 'acceleration_x_y_std', 'acceleration_x_y_upper_q', 'angular_velocity_x_y_lower_q', 'accelerometer_jerk_x_std', 'accelerometer_jerk_x_min', 'accelerometer_jerk_x_max', 'accelerometer_jerk_x_iqr', 'accelerometer_jerk_y_std', 'accelerometer_jerk_z_std', 'accelerometer_jerk_x_y_mean', 'accelerometer_jerk_x_y_upper_q', 'accelerometer_jerk_x_z_mean', 'accelerometer_jerk_x_z_max', 'accelerometer_jerk_x_z_median', 'accelerometer_jerk_x_z_upper_q', 'accelerometer_jerk_y_z_mean', 'accelerometer_jerk_x_y_z_mean', 'accelerometer_jerk_x_y_z_median', 'accelerometer_jerk_x_y_z_upper_q', 'accelerometer_x_mean', 'accelerometer_x_std', 'accelerometer_x_min', 'accelerometer_x_lower_q', 'accelerometer_x_median', 'accelerometer_x_upper_q', 'accelerometer_x_max', 'accelerometer_y_mean', 'accelerometer_y_std', 'accelerometer_y_min', 'accelerometer_y_lower_q', 'accelerometer_y_median', 'accelerometer_y_upper_q', 'accelerometer_y_max', 'accelerometer_z_mean', 'accelerometer_z_min', 'accelerometer_z_lower_q', 'accelerometer_z_median', 'accelerometer_z_upper_q', 'accelerometer_z_max', 'accelerometer_x_y_mean', 'accelerometer_x_y_median', 'accelerometer_x_y_upper_q', 'accelerometer_x_z_mean', 'accelerometer_x_z_upper_q', 'accelerometer_y_z_mean', 'accelerometer_y_z_upper_q', 'accelerometer_x_y_z_mean', 'accelerometer_x_y_z_median', 'accelerometer_x_y_z_upper_q', 'gyro_jerk_y_std', 'gyro_jerk_y_min', 'gyro_jerk_y_max', 'gyro_jerk_z_mean', 'gyro_jerk_z_std', 'gyro_jerk_z_min', 'gyro_jerk_z_max', 'gyro_jerk_z_lower_q', 'gyro_jerk_z_upper_q', 'gyro_jerk_z_iqr', 'gyro_jerk_x_y_mean', 'gyro_jerk_x_y_median', 'gyro_jerk_x_y_lower_q', 'gyro_jerk_x_y_upper_q', 'gyro_jerk_x_z_mean', 'gyro_jerk_x_z_median', 'gyro_jerk_x_z_lower_q', 'gyro_jerk_x_z_upper_q', 'gyro_jerk_y_z_mean', 'gyro_jerk_y_z_std', 'gyro_jerk_y_z_median', 'gyro_jerk_y_z_lower_q', 'gyro_jerk_y_z_upper_q', 'gyro_jerk_x_y_z_mean', 'gyro_jerk_x_y_z_median', 'gyro_jerk_x_y_z_lower_q', 'gyro_jerk_x_y_z_upper_q', 'gyro_x_mean', 'gyro_x_min', 'gyro_y_mean', 'gyro_y_std', 'gyro_y_min', 'gyro_y_lower_q', 'gyro_y_max', 'gyro_z_mean', 'gyro_z_std', 'gyro_z_min', 'gyro_z_lower_q', 'gyro_z_median', 'gyro_z_upper_q', 'gyro_z_max', 'gyro_x_y_mean', 'gyro_x_y_median', 'gyro_x_y_upper_q', 'gyro_x_y_max', 'gyro_x_z_mean', 'gyro_x_z_median', 'gyro_x_z_upper_q', 'gyro_x_z_max', 'gyro_y_z_mean', 'gyro_y_z_std', 'gyro_y_z_median', 'gyro_y_z_upper_q', 'gyro_y_z_max', 'gyro_x_y_z_mean', 'gyro_x_y_z_lower_q', 'gyro_x_y_z_upper_q', 'gyro_x_y_z_max'], 'RFE(estimator=LogisticRegression(), n_features_to_select=150)': ['duration', 'length', 'velocity_x_std', 'velocity_x_min', 'velocity_x_max', 'velocity_x_abs_max', 'velocity_x_median', 'velocity_x_iqr', 'velocity_y_std', 'velocity_y_min', 'velocity_y_max', 'velocity_y_abs_min', 'velocity_y_abs_max', 'velocity_y_median', 'velocity_y_upper_q', 'velocity_y_iqr', 'velocity_x_y_std', 'velocity_x_y_max', 'velocity_x_y_abs_min', 'velocity_x_y_abs_max', 'velocity_x_y_median', 'velocity_x_y_lower_q', 'velocity_x_y_upper_q', 'velocity_x_y_iqr', 'acceleration_x_std', 'acceleration_x_min', 'acceleration_x_max', 'acceleration_x_abs_min', 'acceleration_x_median', 'acceleration_x_iqr', 'acceleration_y_std', 'acceleration_x_y_std', 'acceleration_x_y_min', 'acceleration_x_y_max', 'acceleration_x_y_abs_min', 'acceleration_x_y_abs_max', 'acceleration_x_y_median', 'acceleration_x_y_lower_q', 'jerk_x_std', 'jerk_x_abs_max', 'jerk_x_y_min', 'jerk_x_y_lower_q', 'accelerometer_jerk_x_std', 'accelerometer_jerk_x_min', 'accelerometer_jerk_x_max', 'accelerometer_jerk_y_std', 'accelerometer_jerk_z_std', 'accelerometer_jerk_z_min', 'accelerometer_jerk_x_y_mean', 'accelerometer_jerk_x_y_abs_max', 'accelerometer_jerk_x_y_upper_q', 'accelerometer_jerk_x_z_mean', 'accelerometer_jerk_x_z_std', 'accelerometer_jerk_x_z_median', 'accelerometer_jerk_y_z_std', 'accelerometer_jerk_y_z_abs_max', 'accelerometer_jerk_y_z_median', 'accelerometer_jerk_x_y_z_std', 'accelerometer_x_mean', 'accelerometer_x_std', 'accelerometer_x_min', 'accelerometer_y_mean', 'accelerometer_y_std', 'accelerometer_y_lower_q', 'accelerometer_y_upper_q', 'accelerometer_z_mean', 'accelerometer_z_std', 'accelerometer_z_min', 'accelerometer_z_max', 'accelerometer_x_y_mean', 'accelerometer_x_y_std', 'accelerometer_x_y_median', 'accelerometer_x_y_upper_q', 'accelerometer_x_y_max', 'accelerometer_x_z_mean', 'accelerometer_x_z_std', 'accelerometer_x_z_lower_q', 'accelerometer_x_z_median', 'accelerometer_x_z_upper_q', 'accelerometer_y_z_mean', 'accelerometer_y_z_lower_q', 'accelerometer_y_z_median', 'accelerometer_x_y_z_std', 'accelerometer_x_y_z_lower_q', 'accelerometer_x_y_z_max', 'gyro_jerk_x_mean', 'gyro_jerk_x_min', 'gyro_jerk_x_max', 'gyro_jerk_x_upper_q', 'gyro_jerk_y_std', 'gyro_jerk_y_min', 'gyro_jerk_y_max', 'gyro_jerk_z_mean', 'gyro_jerk_z_std', 'gyro_jerk_z_min', 'gyro_jerk_z_max', 'gyro_jerk_x_y_mean', 'gyro_jerk_x_y_std', 'gyro_jerk_x_y_min', 'gyro_jerk_x_y_abs_max', 'gyro_jerk_x_y_median', 'gyro_jerk_x_y_lower_q', 'gyro_jerk_x_y_iqr', 'gyro_jerk_x_z_mean', 'gyro_jerk_x_z_std', 'gyro_jerk_x_z_median', 'gyro_jerk_x_z_lower_q', 'gyro_jerk_x_z_iqr', 'gyro_jerk_y_z_std', 'gyro_jerk_y_z_abs_max', 'gyro_jerk_y_z_median', 'gyro_jerk_y_z_lower_q', 'gyro_jerk_y_z_upper_q', 'gyro_jerk_x_y_z_mean', 'gyro_jerk_x_y_z_std', 'gyro_jerk_x_y_z_min', 'gyro_jerk_x_y_z_median', 'gyro_jerk_x_y_z_lower_q', 'gyro_jerk_x_y_z_iqr', 'gyro_x_std', 'gyro_y_std', 'gyro_y_min', 'gyro_y_upper_q', 'gyro_y_max', 'gyro_z_std', 'gyro_z_min', 'gyro_z_lower_q', 'gyro_z_max', 'gyro_x_y_mean', 'gyro_x_y_std', 'gyro_x_y_min', 'gyro_x_y_lower_q', 'gyro_x_y_median', 'gyro_x_y_upper_q', 'gyro_x_y_max', 'gyro_x_z_std', 'gyro_x_z_min', 'gyro_x_z_lower_q', 'gyro_x_z_median', 'gyro_x_z_upper_q', 'gyro_x_z_max', 'gyro_y_z_std', 'gyro_y_z_min', 'gyro_y_z_lower_q', 'gyro_y_z_median', 'gyro_y_z_upper_q', 'gyro_y_z_max', 'gyro_x_y_z_std', 'gyro_x_y_z_min', 'gyro_x_y_z_lower_q'], 'RFE(estimator=RandomForestClassifierWithCoef(min_samples_leaf=5, n_estimators=500, n_jobs=-1), n_features_to_select=150)': ['duration', 'length', 'start_x', 'start_y', 'velocity_x_mean', 'velocity_x_std', 'velocity_x_max', 'velocity_y_mean', 'velocity_y_min', 'velocity_y_abs_max', 'velocity_y_upper_q', 'velocity_x_y_mean', 'velocity_x_y_std', 'velocity_x_y_max', 'velocity_x_y_abs_max', 'velocity_x_y_median', 'velocity_x_y_lower_q', 'velocity_x_y_upper_q', 'acceleration_x_std', 'acceleration_y_mean', 'acceleration_y_std', 'acceleration_x_y_mean', 'acceleration_x_y_std', 'acceleration_x_y_upper_q', 'jerk_x_std', 'jerk_x_y_std', 'angular_velocity_x_y_min', 'angular_velocity_x_y_lower_q', 'accelerometer_jerk_x_std', 'accelerometer_jerk_x_min', 'accelerometer_jerk_x_max', 'accelerometer_jerk_x_iqr', 'accelerometer_jerk_y_std', 'accelerometer_jerk_z_std', 'accelerometer_jerk_x_y_mean', 'accelerometer_jerk_x_y_median', 'accelerometer_jerk_x_y_upper_q', 'accelerometer_jerk_x_z_mean', 'accelerometer_jerk_x_z_max', 'accelerometer_jerk_x_z_abs_max', 'accelerometer_jerk_x_z_median', 'accelerometer_jerk_x_z_upper_q', 'accelerometer_jerk_y_z_mean', 'accelerometer_jerk_y_z_median', 'accelerometer_jerk_y_z_upper_q', 'accelerometer_jerk_x_y_z_mean', 'accelerometer_jerk_x_y_z_median', 'accelerometer_jerk_x_y_z_lower_q', 'accelerometer_jerk_x_y_z_upper_q', 'accelerometer_x_mean', 'accelerometer_x_std', 'accelerometer_x_min', 'accelerometer_x_lower_q', 'accelerometer_x_median', 'accelerometer_x_upper_q', 'accelerometer_x_max', 'accelerometer_y_mean', 'accelerometer_y_std', 'accelerometer_y_min', 'accelerometer_y_lower_q', 'accelerometer_y_median', 'accelerometer_y_upper_q', 'accelerometer_y_max', 'accelerometer_z_mean', 'accelerometer_z_std', 'accelerometer_z_min', 'accelerometer_z_lower_q', 'accelerometer_z_median', 'accelerometer_z_upper_q', 'accelerometer_z_max', 'accelerometer_x_y_mean', 'accelerometer_x_y_median', 'accelerometer_x_y_upper_q', 'accelerometer_x_y_max', 'accelerometer_x_z_mean', 'accelerometer_x_z_upper_q', 'accelerometer_x_z_max', 'accelerometer_y_z_mean', 'accelerometer_y_z_upper_q', 'accelerometer_x_y_z_mean', 'accelerometer_x_y_z_median', 'accelerometer_x_y_z_upper_q', 'gyro_jerk_x_std', 'gyro_jerk_y_std', 'gyro_jerk_y_min', 'gyro_jerk_y_max', 'gyro_jerk_z_mean', 'gyro_jerk_z_std', 'gyro_jerk_z_min', 'gyro_jerk_z_max', 'gyro_jerk_z_lower_q', 'gyro_jerk_z_upper_q', 'gyro_jerk_z_iqr', 'gyro_jerk_x_y_mean', 'gyro_jerk_x_y_median', 'gyro_jerk_x_y_lower_q', 'gyro_jerk_x_y_upper_q', 'gyro_jerk_x_z_mean', 'gyro_jerk_x_z_median', 'gyro_jerk_x_z_lower_q', 'gyro_jerk_x_z_upper_q', 'gyro_jerk_y_z_mean', 'gyro_jerk_y_z_std', 'gyro_jerk_y_z_max', 'gyro_jerk_y_z_median', 'gyro_jerk_y_z_lower_q', 'gyro_jerk_y_z_upper_q', 'gyro_jerk_x_y_z_mean', 'gyro_jerk_x_y_z_median', 'gyro_jerk_x_y_z_lower_q', 'gyro_jerk_x_y_z_upper_q', 'gyro_jerk_x_y_z_iqr', 'gyro_x_mean', 'gyro_x_min', 'gyro_x_max', 'gyro_y_mean', 'gyro_y_std', 'gyro_y_min', 'gyro_y_lower_q', 'gyro_y_upper_q', 'gyro_y_max', 'gyro_z_mean', 'gyro_z_std', 'gyro_z_min', 'gyro_z_lower_q', 'gyro_z_median', 'gyro_z_upper_q', 'gyro_z_max', 'gyro_x_y_mean', 'gyro_x_y_lower_q', 'gyro_x_y_median', 'gyro_x_y_upper_q', 'gyro_x_y_max', 'gyro_x_z_mean', 'gyro_x_z_std', 'gyro_x_z_lower_q', 'gyro_x_z_median', 'gyro_x_z_upper_q', 'gyro_x_z_max', 'gyro_y_z_mean', 'gyro_y_z_std', 'gyro_y_z_lower_q', 'gyro_y_z_median', 'gyro_y_z_upper_q', 'gyro_y_z_max', 'gyro_x_y_z_mean', 'gyro_x_y_z_lower_q', 'gyro_x_y_z_median', 'gyro_x_y_z_upper_q', 'gyro_x_y_z_max']}\n",
    "#selected_features_dict={85: ['duration', 'length', 'velocity_x_std', 'velocity_x_min', 'velocity_x_max', 'velocity_x_median', 'velocity_y_std', 'velocity_y_min', 'velocity_y_max', 'velocity_y_abs_max', 'velocity_y_median', 'velocity_x_y_std', 'velocity_x_y_max', 'velocity_x_y_abs_min', 'velocity_x_y_lower_q', 'velocity_x_y_upper_q', 'acceleration_x_std', 'accelerometer_jerk_x_std', 'accelerometer_jerk_z_std', 'accelerometer_jerk_x_y_mean', 'accelerometer_jerk_x_y_abs_max', 'accelerometer_jerk_x_y_upper_q', 'accelerometer_jerk_x_z_max', 'accelerometer_jerk_x_z_median', 'accelerometer_jerk_y_z_mean', 'accelerometer_jerk_y_z_std', 'accelerometer_jerk_x_y_z_std', 'accelerometer_x_mean', 'accelerometer_x_std', 'accelerometer_x_min', 'accelerometer_y_mean', 'accelerometer_y_std', 'accelerometer_z_mean', 'accelerometer_z_std', 'accelerometer_x_y_mean', 'accelerometer_x_y_max', 'accelerometer_x_z_mean', 'accelerometer_x_z_median', 'accelerometer_x_z_upper_q', 'accelerometer_y_z_mean', 'accelerometer_y_z_median', 'gyro_jerk_x_mean', 'gyro_jerk_y_min', 'gyro_jerk_y_max', 'gyro_jerk_z_std', 'gyro_jerk_z_min', 'gyro_jerk_z_max', 'gyro_jerk_x_y_mean', 'gyro_jerk_x_y_std', 'gyro_jerk_x_y_max', 'gyro_jerk_x_y_median', 'gyro_jerk_x_y_lower_q', 'gyro_jerk_x_y_iqr', 'gyro_jerk_x_z_std', 'gyro_jerk_x_z_median', 'gyro_jerk_x_z_lower_q', 'gyro_jerk_x_z_iqr', 'gyro_jerk_y_z_std', 'gyro_jerk_y_z_abs_max', 'gyro_jerk_y_z_median', 'gyro_jerk_y_z_upper_q', 'gyro_jerk_x_y_z_median', 'gyro_jerk_x_y_z_lower_q', 'gyro_x_std', 'gyro_y_std', 'gyro_z_std', 'gyro_z_min', 'gyro_x_y_std', 'gyro_x_y_min', 'gyro_x_y_lower_q', 'gyro_x_y_median', 'gyro_x_y_upper_q', 'gyro_x_y_max', 'gyro_x_z_std', 'gyro_x_z_lower_q', 'gyro_x_z_upper_q', 'gyro_x_z_max', 'gyro_y_z_std', 'gyro_y_z_min', 'gyro_y_z_lower_q', 'gyro_y_z_median', 'gyro_y_z_max', 'gyro_x_y_z_std', 'gyro_x_y_z_min', 'gyro_x_y_z_lower_q'], 75: ['duration', 'length', 'velocity_x_std', 'velocity_x_min', 'velocity_x_max', 'velocity_x_median', 'velocity_y_std', 'velocity_y_min', 'velocity_y_max', 'velocity_y_abs_max', 'velocity_y_median', 'velocity_x_y_std', 'velocity_x_y_max', 'velocity_x_y_abs_min', 'velocity_x_y_lower_q', 'velocity_x_y_upper_q', 'accelerometer_jerk_x_std', 'accelerometer_jerk_z_std', 'accelerometer_jerk_x_y_mean', 'accelerometer_jerk_x_y_abs_max', 'accelerometer_jerk_x_y_upper_q', 'accelerometer_jerk_x_z_max', 'accelerometer_jerk_x_z_median', 'accelerometer_jerk_y_z_mean', 'accelerometer_jerk_y_z_std', 'accelerometer_jerk_x_y_z_std', 'accelerometer_x_mean', 'accelerometer_x_std', 'accelerometer_x_min', 'accelerometer_y_mean', 'accelerometer_y_std', 'accelerometer_z_mean', 'accelerometer_x_y_mean', 'accelerometer_x_y_max', 'accelerometer_x_z_mean', 'accelerometer_x_z_median', 'accelerometer_x_z_upper_q', 'accelerometer_y_z_mean', 'accelerometer_y_z_median', 'gyro_jerk_x_mean', 'gyro_jerk_y_min', 'gyro_jerk_y_max', 'gyro_jerk_z_std', 'gyro_jerk_x_y_mean', 'gyro_jerk_x_y_std', 'gyro_jerk_x_y_median', 'gyro_jerk_x_y_iqr', 'gyro_jerk_x_z_std', 'gyro_jerk_x_z_median', 'gyro_jerk_x_z_lower_q', 'gyro_jerk_x_z_iqr', 'gyro_jerk_y_z_std', 'gyro_jerk_y_z_abs_max', 'gyro_jerk_y_z_median', 'gyro_jerk_x_y_z_lower_q', 'gyro_x_std', 'gyro_y_std', 'gyro_z_std', 'gyro_x_y_std', 'gyro_x_y_min', 'gyro_x_y_lower_q', 'gyro_x_y_median', 'gyro_x_y_upper_q', 'gyro_x_y_max', 'gyro_x_z_lower_q', 'gyro_x_z_upper_q', 'gyro_x_z_max', 'gyro_y_z_std', 'gyro_y_z_min', 'gyro_y_z_lower_q', 'gyro_y_z_median', 'gyro_y_z_max', 'gyro_x_y_z_std', 'gyro_x_y_z_min', 'gyro_x_y_z_lower_q'], 100: ['duration', 'length', 'velocity_x_std', 'velocity_x_min', 'velocity_x_max', 'velocity_x_abs_max', 'velocity_x_median', 'velocity_y_std', 'velocity_y_min', 'velocity_y_max', 'velocity_y_abs_min', 'velocity_y_abs_max', 'velocity_y_median', 'velocity_y_upper_q', 'velocity_x_y_std', 'velocity_x_y_max', 'velocity_x_y_abs_min', 'velocity_x_y_lower_q', 'velocity_x_y_upper_q', 'acceleration_x_std', 'acceleration_x_y_std', 'acceleration_x_y_max', 'acceleration_x_y_lower_q', 'accelerometer_jerk_x_std', 'accelerometer_jerk_z_std', 'accelerometer_jerk_x_y_mean', 'accelerometer_jerk_x_y_abs_max', 'accelerometer_jerk_x_y_upper_q', 'accelerometer_jerk_x_z_max', 'accelerometer_jerk_x_z_median', 'accelerometer_jerk_y_z_mean', 'accelerometer_jerk_y_z_std', 'accelerometer_jerk_x_y_z_std', 'accelerometer_x_mean', 'accelerometer_x_std', 'accelerometer_x_min', 'accelerometer_y_mean', 'accelerometer_y_std', 'accelerometer_z_mean', 'accelerometer_z_std', 'accelerometer_z_min', 'accelerometer_z_max', 'accelerometer_x_y_mean', 'accelerometer_x_y_upper_q', 'accelerometer_x_y_max', 'accelerometer_x_z_mean', 'accelerometer_x_z_lower_q', 'accelerometer_x_z_median', 'accelerometer_x_z_upper_q', 'accelerometer_y_z_mean', 'accelerometer_y_z_median', 'accelerometer_x_y_z_std', 'accelerometer_x_y_z_lower_q', 'gyro_jerk_x_mean', 'gyro_jerk_y_min', 'gyro_jerk_y_max', 'gyro_jerk_z_std', 'gyro_jerk_z_min', 'gyro_jerk_z_max', 'gyro_jerk_x_y_mean', 'gyro_jerk_x_y_std', 'gyro_jerk_x_y_max', 'gyro_jerk_x_y_median', 'gyro_jerk_x_y_lower_q', 'gyro_jerk_x_y_iqr', 'gyro_jerk_x_z_std', 'gyro_jerk_x_z_median', 'gyro_jerk_x_z_lower_q', 'gyro_jerk_x_z_iqr', 'gyro_jerk_y_z_std', 'gyro_jerk_y_z_abs_max', 'gyro_jerk_y_z_median', 'gyro_jerk_y_z_upper_q', 'gyro_jerk_x_y_z_median', 'gyro_jerk_x_y_z_lower_q', 'gyro_jerk_x_y_z_iqr', 'gyro_x_std', 'gyro_y_std', 'gyro_z_std', 'gyro_z_min', 'gyro_z_max', 'gyro_x_y_std', 'gyro_x_y_min', 'gyro_x_y_lower_q', 'gyro_x_y_median', 'gyro_x_y_upper_q', 'gyro_x_y_max', 'gyro_x_z_std', 'gyro_x_z_min', 'gyro_x_z_lower_q', 'gyro_x_z_upper_q', 'gyro_x_z_max', 'gyro_y_z_std', 'gyro_y_z_min', 'gyro_y_z_lower_q', 'gyro_y_z_median', 'gyro_y_z_max', 'gyro_x_y_z_std', 'gyro_x_y_z_min', 'gyro_x_y_z_lower_q'], 125: ['duration', 'length', 'velocity_x_std', 'velocity_x_min', 'velocity_x_max', 'velocity_x_abs_max', 'velocity_x_median', 'velocity_y_std', 'velocity_y_min', 'velocity_y_max', 'velocity_y_abs_min', 'velocity_y_abs_max', 'velocity_y_median', 'velocity_y_upper_q', 'velocity_y_iqr', 'velocity_x_y_std', 'velocity_x_y_max', 'velocity_x_y_abs_min', 'velocity_x_y_abs_max', 'velocity_x_y_median', 'velocity_x_y_lower_q', 'velocity_x_y_upper_q', 'acceleration_x_std', 'acceleration_x_min', 'acceleration_x_max', 'acceleration_x_median', 'acceleration_y_std', 'acceleration_x_y_std', 'acceleration_x_y_max', 'acceleration_x_y_abs_max', 'acceleration_x_y_median', 'acceleration_x_y_lower_q', 'accelerometer_jerk_x_std', 'accelerometer_jerk_y_std', 'accelerometer_jerk_z_std', 'accelerometer_jerk_z_min', 'accelerometer_jerk_x_y_mean', 'accelerometer_jerk_x_y_abs_max', 'accelerometer_jerk_x_y_upper_q', 'accelerometer_jerk_x_z_std', 'accelerometer_jerk_x_z_max', 'accelerometer_jerk_x_z_median', 'accelerometer_jerk_y_z_mean', 'accelerometer_jerk_y_z_std', 'accelerometer_jerk_x_y_z_std', 'accelerometer_x_mean', 'accelerometer_x_std', 'accelerometer_x_min', 'accelerometer_y_mean', 'accelerometer_y_std', 'accelerometer_z_mean', 'accelerometer_z_std', 'accelerometer_z_min', 'accelerometer_z_max', 'accelerometer_x_y_mean', 'accelerometer_x_y_std', 'accelerometer_x_y_median', 'accelerometer_x_y_upper_q', 'accelerometer_x_y_max', 'accelerometer_x_z_mean', 'accelerometer_x_z_lower_q', 'accelerometer_x_z_median', 'accelerometer_x_z_upper_q', 'accelerometer_y_z_mean', 'accelerometer_y_z_median', 'accelerometer_x_y_z_std', 'accelerometer_x_y_z_lower_q', 'gyro_jerk_x_mean', 'gyro_jerk_x_max', 'gyro_jerk_y_min', 'gyro_jerk_y_max', 'gyro_jerk_z_std', 'gyro_jerk_z_min', 'gyro_jerk_z_max', 'gyro_jerk_x_y_mean', 'gyro_jerk_x_y_std', 'gyro_jerk_x_y_max', 'gyro_jerk_x_y_median', 'gyro_jerk_x_y_lower_q', 'gyro_jerk_x_y_iqr', 'gyro_jerk_x_z_mean', 'gyro_jerk_x_z_std', 'gyro_jerk_x_z_median', 'gyro_jerk_x_z_lower_q', 'gyro_jerk_x_z_iqr', 'gyro_jerk_y_z_std', 'gyro_jerk_y_z_abs_max', 'gyro_jerk_y_z_median', 'gyro_jerk_y_z_lower_q', 'gyro_jerk_y_z_upper_q', 'gyro_jerk_x_y_z_mean', 'gyro_jerk_x_y_z_std', 'gyro_jerk_x_y_z_median', 'gyro_jerk_x_y_z_lower_q', 'gyro_jerk_x_y_z_iqr', 'gyro_x_std', 'gyro_x_median', 'gyro_x_max', 'gyro_y_std', 'gyro_z_std', 'gyro_z_min', 'gyro_z_lower_q', 'gyro_z_max', 'gyro_x_y_mean', 'gyro_x_y_std', 'gyro_x_y_min', 'gyro_x_y_lower_q', 'gyro_x_y_median', 'gyro_x_y_upper_q', 'gyro_x_y_max', 'gyro_x_z_std', 'gyro_x_z_min', 'gyro_x_z_lower_q', 'gyro_x_z_median', 'gyro_x_z_upper_q', 'gyro_x_z_max', 'gyro_y_z_mean', 'gyro_y_z_std', 'gyro_y_z_min', 'gyro_y_z_lower_q', 'gyro_y_z_median', 'gyro_y_z_max', 'gyro_x_y_z_std', 'gyro_x_y_z_min', 'gyro_x_y_z_lower_q'], 150: ['duration', 'length', 'velocity_x_std', 'velocity_x_min', 'velocity_x_max', 'velocity_x_abs_max', 'velocity_x_median', 'velocity_x_iqr', 'velocity_y_std', 'velocity_y_min', 'velocity_y_max', 'velocity_y_abs_min', 'velocity_y_abs_max', 'velocity_y_median', 'velocity_y_upper_q', 'velocity_y_iqr', 'velocity_x_y_std', 'velocity_x_y_max', 'velocity_x_y_abs_min', 'velocity_x_y_abs_max', 'velocity_x_y_median', 'velocity_x_y_lower_q', 'velocity_x_y_upper_q', 'velocity_x_y_iqr', 'acceleration_x_std', 'acceleration_x_min', 'acceleration_x_max', 'acceleration_x_median', 'acceleration_x_iqr', 'acceleration_y_std', 'acceleration_x_y_std', 'acceleration_x_y_max', 'acceleration_x_y_abs_min', 'acceleration_x_y_abs_max', 'acceleration_x_y_median', 'acceleration_x_y_lower_q', 'jerk_x_std', 'jerk_x_y_min', 'jerk_x_y_median', 'accelerometer_jerk_x_std', 'accelerometer_jerk_x_min', 'accelerometer_jerk_x_max', 'accelerometer_jerk_y_std', 'accelerometer_jerk_z_std', 'accelerometer_jerk_z_min', 'accelerometer_jerk_x_y_mean', 'accelerometer_jerk_x_y_abs_max', 'accelerometer_jerk_x_y_median', 'accelerometer_jerk_x_y_upper_q', 'accelerometer_jerk_x_z_mean', 'accelerometer_jerk_x_z_std', 'accelerometer_jerk_x_z_max', 'accelerometer_jerk_x_z_median', 'accelerometer_jerk_x_z_lower_q', 'accelerometer_jerk_y_z_mean', 'accelerometer_jerk_y_z_std', 'accelerometer_jerk_y_z_lower_q', 'accelerometer_jerk_x_y_z_std', 'accelerometer_x_mean', 'accelerometer_x_std', 'accelerometer_x_min', 'accelerometer_y_mean', 'accelerometer_y_std', 'accelerometer_y_lower_q', 'accelerometer_y_upper_q', 'accelerometer_z_mean', 'accelerometer_z_std', 'accelerometer_z_min', 'accelerometer_z_max', 'accelerometer_x_y_mean', 'accelerometer_x_y_std', 'accelerometer_x_y_median', 'accelerometer_x_y_upper_q', 'accelerometer_x_y_max', 'accelerometer_x_z_mean', 'accelerometer_x_z_lower_q', 'accelerometer_x_z_median', 'accelerometer_x_z_upper_q', 'accelerometer_y_z_mean', 'accelerometer_y_z_lower_q', 'accelerometer_y_z_median', 'accelerometer_y_z_max', 'accelerometer_x_y_z_std', 'accelerometer_x_y_z_lower_q', 'gyro_jerk_x_mean', 'gyro_jerk_x_min', 'gyro_jerk_x_max', 'gyro_jerk_y_mean', 'gyro_jerk_y_min', 'gyro_jerk_y_max', 'gyro_jerk_y_iqr', 'gyro_jerk_z_std', 'gyro_jerk_z_min', 'gyro_jerk_z_max', 'gyro_jerk_x_y_mean', 'gyro_jerk_x_y_std', 'gyro_jerk_x_y_max', 'gyro_jerk_x_y_median', 'gyro_jerk_x_y_lower_q', 'gyro_jerk_x_y_iqr', 'gyro_jerk_x_z_mean', 'gyro_jerk_x_z_std', 'gyro_jerk_x_z_median', 'gyro_jerk_x_z_lower_q', 'gyro_jerk_x_z_iqr', 'gyro_jerk_y_z_std', 'gyro_jerk_y_z_abs_max', 'gyro_jerk_y_z_median', 'gyro_jerk_y_z_lower_q', 'gyro_jerk_y_z_upper_q', 'gyro_jerk_x_y_z_mean', 'gyro_jerk_x_y_z_std', 'gyro_jerk_x_y_z_median', 'gyro_jerk_x_y_z_lower_q', 'gyro_jerk_x_y_z_iqr', 'gyro_x_std', 'gyro_x_median', 'gyro_x_max', 'gyro_y_std', 'gyro_y_min', 'gyro_y_upper_q', 'gyro_y_max', 'gyro_z_std', 'gyro_z_min', 'gyro_z_lower_q', 'gyro_z_max', 'gyro_x_y_mean', 'gyro_x_y_std', 'gyro_x_y_min', 'gyro_x_y_lower_q', 'gyro_x_y_median', 'gyro_x_y_upper_q', 'gyro_x_y_max', 'gyro_x_z_std', 'gyro_x_z_min', 'gyro_x_z_lower_q', 'gyro_x_z_median', 'gyro_x_z_upper_q', 'gyro_x_z_max', 'gyro_y_z_mean', 'gyro_y_z_std', 'gyro_y_z_min', 'gyro_y_z_lower_q', 'gyro_y_z_median', 'gyro_y_z_max', 'gyro_x_y_z_std', 'gyro_x_y_z_min', 'gyro_x_y_z_lower_q', 'gyro_x_y_z_median', 'gyro_x_y_z_max']}"
   ]
  },
  {
   "cell_type": "code",
   "execution_count": null,
   "metadata": {},
   "outputs": [],
   "source": [
    "touch_data = pd.read_csv(path_to_raw_data + 'touch.csv', sep=',')\n",
    "acc_data = pd.read_csv(path_to_raw_data + 'linear_accelerometer.csv', sep=',')\n",
    "gyro_data = pd.read_csv(path_to_raw_data + 'gyroscope.csv', sep=',')\n",
    "touch_data\n",
    "touch_data[\"id\"] = touch_data[\"pattern_id\"].astype(str) + touch_data[\"device\"]\n",
    "acc_data[\"id\"] = acc_data[\"pattern_id\"].astype(str) + acc_data[\"device\"]\n",
    "gyro_data[\"id\"] = gyro_data[\"pattern_id\"].astype(str) + gyro_data[\"device\"]\n",
    "\n",
    "if compute_features_for_segment:\n",
    "    touch_data[\"id\"] += touch_data['segment'].astype(str)\n",
    "    acc_data[\"id\"] += acc_data['segment'].astype(str)\n",
    "    gyro_data[\"id\"] += gyro_data['segment'].astype(str)\n",
    "else:\n",
    "    touch_data.drop('segment', axis=1, inplace=True)\n",
    "    acc_data.drop('segment', axis=1, inplace=True)\n",
    "    gyro_data.drop('segment', axis=1, inplace=True)"
   ]
  },
  {
   "cell_type": "code",
   "execution_count": null,
   "metadata": {},
   "outputs": [],
   "source": [
    "touch_data.head()"
   ]
  },
  {
   "cell_type": "code",
   "execution_count": null,
   "metadata": {},
   "outputs": [],
   "source": [
    "le = LabelEncoder()\n",
    "le.fit(pd.concat([touch_data['id'], acc_data['id'], gyro_data['id']]))\n",
    "touch_data[user_column] = le.transform(touch_data['id'])\n",
    "acc_data[user_column] = le.transform(acc_data['id'])\n",
    "gyro_data[user_column] = le.transform(gyro_data['id'])"
   ]
  },
  {
   "cell_type": "code",
   "execution_count": null,
   "metadata": {},
   "outputs": [],
   "source": [
    "touch_data.head()"
   ]
  },
  {
   "cell_type": "code",
   "execution_count": null,
   "metadata": {},
   "outputs": [],
   "source": []
  },
  {
   "cell_type": "code",
   "execution_count": null,
   "metadata": {},
   "outputs": [],
   "source": [
    "def get_columns_combinations(col_names,combinations = None):\n",
    "    combs = columns._get_column_combinations(col_names, combinations)\n",
    "    final_combs=[]\n",
    "    for comb in combs:\n",
    "        if len(comb) > 1:\n",
    "            final_combs.append(comb)\n",
    "    return final_combs"
   ]
  },
  {
   "cell_type": "code",
   "execution_count": null,
   "metadata": {},
   "outputs": [],
   "source": [
    "def calculate_maginute_to_df(df, columns_name):\n",
    "    final_combinations = []\n",
    "    for combination in get_columns_combinations(columns_name):\n",
    "        sum = [0]*len(df)\n",
    "        for dimension in combination:\n",
    "            sum += df[dimension] ** 2\n",
    "        magnitude=sum **(1/2)\n",
    "        new_column='_'.join(combination)\n",
    "        df[new_column]=magnitude\n",
    "        final_combinations.append(new_column)\n",
    "        \n",
    "    return final_combinations"
   ]
  },
  {
   "cell_type": "code",
   "execution_count": null,
   "metadata": {},
   "outputs": [],
   "source": [
    "def compute_features(df, features, prefix = None):\n",
    "    extractor = FeatureExtractor(features, [user_column])\n",
    "\n",
    "    features_df = extractor.fit_transform(df)\n",
    "    features_df = features_df.replace([np.inf, -np.inf], np.nan)\n",
    "    \n",
    "    if delete_nan_features:\n",
    "        features_df = features_df.dropna()\n",
    "    \n",
    "    if prefix is not None:\n",
    "        features_df.columns = features_df.columns.str.replace(r\"velocity\", prefix)\n",
    "\n",
    "    return features_df"
   ]
  },
  {
   "cell_type": "code",
   "execution_count": null,
   "metadata": {},
   "outputs": [],
   "source": [
    "def renaming_condition(x, columns_name, prefix):\n",
    "    if x in columns_name:\n",
    "        return prefix + x\n",
    "    return x\n",
    "\n",
    "\n",
    "def add_prefix_to_columns(df, columns_name, prefix):\n",
    "    df.columns = [renaming_condition(col, columns_name, prefix) for col in df.columns]\n",
    "\n",
    "    return [prefix + s for s in columns_name]"
   ]
  },
  {
   "cell_type": "code",
   "execution_count": null,
   "metadata": {},
   "outputs": [],
   "source": [
    "def compute_statistics(df, columns_to_compute_statistic, prefix):\n",
    "    columns_to_compute_statistic += calculate_maginute_to_df(df, columns_to_compute_statistic)\n",
    "    columns_to_compute_statistic = add_prefix_to_columns(df, columns_to_compute_statistic, prefix)\n",
    "\n",
    "    statistics = df.groupby([user_column])[columns_to_compute_statistic].describe()\n",
    "    statistics.columns = statistics.columns.to_flat_index()\n",
    "    statistics.rename(columns='_'.join, inplace=True)\n",
    "    statistics = statistics[statistics.columns.drop(list(statistics.filter(regex='count')))]\n",
    "    \n",
    "    return statistics"
   ]
  },
  {
   "cell_type": "code",
   "execution_count": null,
   "metadata": {},
   "outputs": [],
   "source": [
    "def normalize_columns_names(df):\n",
    "    df.columns = df.columns.str.replace(r\"25%\", \"_lower_q\")\n",
    "    df.columns = df.columns.str.replace(r\"50%\", \"_median\")\n",
    "    df.columns = df.columns.str.replace(r\"75%\", \"_upper_q\")\n",
    "    df.columns = df.columns.str.replace(r\"__\", \"_\")"
   ]
  },
  {
   "cell_type": "code",
   "execution_count": null,
   "metadata": {
    "scrolled": true
   },
   "outputs": [],
   "source": [
    "features = [\n",
    "    'duration',\n",
    "    ('length', {\n",
    "        'columns': ['x', 'y'],\n",
    "    }),\n",
    "    ('start', {\n",
    "        'columns': ['x', 'y'],\n",
    "    }),\n",
    "    ('velocity', {\n",
    "        'columns': ['x', 'y'],\n",
    "    }),\n",
    "    ('acceleration', {\n",
    "        'columns': ['x', 'y'],\n",
    "    }),\n",
    "    ('jerk', {\n",
    "        'columns': ['x', 'y'],\n",
    "    }),\n",
    "    ('angular_velocity', {\n",
    "        'columns': ['x', 'y'],\n",
    "    }),\n",
    "    ('angular_acceleration', {\n",
    "        'columns': ['x', 'y'],\n",
    "    }),\n",
    "]\n",
    "print(time.strftime(\"%Y-%m-%d %H:%M\"))\n",
    "touch_features = compute_features(touch_data, features)\n",
    "touch_features = touch_features.merge(touch_data[columns_to_identificate_features], on=[user_column]).drop_duplicates()\n",
    "features = [\n",
    "    ('velocity', {\n",
    "        'columns': ['x', 'y', 'z'],\n",
    "    }),\n",
    "]\n",
    "print(time.strftime(\"%Y-%m-%d %H:%M\"))\n",
    "\n",
    "acc_features = compute_features(acc_data, features, \"accelerometer_jerk\")\n",
    "acc_statistics_from_raw_data = compute_statistics(acc_data,['x','y','z'],\"accelerometer_\")\n",
    "acc_features = acc_features.merge(acc_statistics_from_raw_data, on='user', how='inner').drop_duplicates()\n",
    "print(time.strftime(\"%Y-%m-%d %H:%M\"))\n",
    "\n",
    "gyro_features = compute_features(gyro_data, features, \"gyro_jerk\")\n",
    "gyro_statistics_from_raw_data = compute_statistics(gyro_data,['x','y','z'],\"gyro_\")\n",
    "gyro_features = gyro_features.merge(gyro_statistics_from_raw_data, on='user', how='inner').drop_duplicates()\n",
    "print(time.strftime(\"%Y-%m-%d %H:%M\"))\n",
    "\n",
    "all_features = touch_features.merge(acc_features, on='user', how='inner').merge(gyro_features, on='user', how='inner')\n",
    "normalize_columns_names(all_features)\n",
    "\n",
    "touch_features.to_csv(path_to_featutes + \"touch_feautures.csv\", encoding='utf-8', index=False)\n",
    "acc_features.to_csv(path_to_featutes + \"acc_feautures.csv\", encoding='utf-8', index=False)\n",
    "gyro_features.to_csv(path_to_featutes + \"gyro_feautures.csv\", encoding='utf-8', index=False)\n",
    "all_features.to_csv(path_to_featutes + \"all_feautures.csv\", encoding='utf-8', index=False)"
   ]
  },
  {
   "cell_type": "code",
   "execution_count": null,
   "metadata": {},
   "outputs": [],
   "source": [
    "print(touch_features)\n",
    "print(acc_features)\n",
    "print(gyro_features)\n",
    "print(all_features)"
   ]
  },
  {
   "cell_type": "code",
   "execution_count": null,
   "metadata": {},
   "outputs": [],
   "source": []
  },
  {
   "cell_type": "code",
   "execution_count": null,
   "metadata": {},
   "outputs": [],
   "source": []
  },
  {
   "cell_type": "code",
   "execution_count": null,
   "metadata": {},
   "outputs": [],
   "source": []
  },
  {
   "cell_type": "code",
   "execution_count": null,
   "metadata": {},
   "outputs": [],
   "source": []
  },
  {
   "cell_type": "code",
   "execution_count": 212,
   "metadata": {},
   "outputs": [],
   "source": [
    "def use_knn(df_x_train, df_x_test, count_neighbors=1,l=2):\n",
    "    neigh = NearestNeighbors(n_neighbors=count_neighbors,p=l)\n",
    "    neigh.fit(df_x_train)\n",
    "    knn=neigh.kneighbors(df_x_test)\n",
    "    return [np.mean(i) for i in knn[0]]\n",
    "\n",
    "def use_svm(df_x_train, df_x_test,c=1):\n",
    "    clf = OneClassSVM(kernel='sigmoid',c=c).fit(df_train[train_x_columns])\n",
    "    svm = clf.score_samples(df_test[train_x_columns])\n",
    "    \n",
    "    return svm\n",
    "\n",
    "def get_knn(count_neighbors=1,l=2):\n",
    "    neigh = NearestNeighbors(n_neighbors=count_neighbors,p=l)\n",
    "    return neigh"
   ]
  },
  {
   "cell_type": "code",
   "execution_count": null,
   "metadata": {},
   "outputs": [],
   "source": [
    "def get_threshold_for_knn():\n",
    "    random_users = random.sample(list(all_features[user_name_column].unique()), 10)\n",
    "    vsetky_vzdialenosti = []\n",
    "    for random_user in random_users:\n",
    "        train = all_features.loc[all_features[user_name_column] == random_user]\n",
    "        test = all_features.loc[all_features[user_name_column] != random_user]\n",
    "        knn = use_knn(train[train_x_columns], test[train_x_columns])\n",
    "        vsetky_vzdialenosti.append(knn[0])\n",
    "    medians = []\n",
    "    for hodnota in vsetky_vzdialenosti:\n",
    "        medians.append(np.percentile(hodnota, 25))  \n",
    "    \n",
    "    return np.percentile(medians, 50)\n",
    "treshold_for_knn = get_threshold_for_knn()\n",
    "print(treshold_for_knn)\n",
    "# 33.69773240289701"
   ]
  },
  {
   "cell_type": "code",
   "execution_count": null,
   "metadata": {},
   "outputs": [],
   "source": [
    "treshold_for_knn=9"
   ]
  },
  {
   "cell_type": "code",
   "execution_count": 170,
   "metadata": {},
   "outputs": [],
   "source": [
    "def split_to_train_test(df, users_to_train):\n",
    "\n",
    "    df_shuffled = df.sample(frac=1, random_state=20).reset_index(drop=True)\n",
    "\n",
    "    mask = [True if x[user_name_column] in users_to_train else False for i, x in df_shuffled.iterrows()]\n",
    "    df_owner = df_shuffled[mask]\n",
    "\n",
    "    mask2 = [True if x[user_name_column] not in users_to_train else False for i, x in df_shuffled.iterrows()]\n",
    "    df_others = df_shuffled[mask2]\n",
    "    \n",
    "    df_train = df_owner[:round(len(df_owner)*0.8)]\n",
    "    df_test = df_owner[round(len(df_owner)*0.8):]\n",
    "    df_test = df_test.append(df_others[:len(df_test)])\n",
    "    \n",
    "    scaler = StandardScaler()\n",
    "    scaler.fit(df_train[train_x_columns])\n",
    "    df_train[train_x_columns] = scaler.transform(df_train[train_x_columns])\n",
    "    df_test[train_x_columns] = scaler.transform(df_test[train_x_columns])\n",
    "    \n",
    "    return df_train, df_test\n",
    "\n",
    "def split_to_train_test_by_pattern(df, users_to_train):\n",
    "\n",
    "    df_shuffled = df.sample(frac=1, random_state=20).reset_index(drop=True)\n",
    "\n",
    "    mask = [True if x[user_name_column] in users_to_train else False for i, x in df_shuffled.iterrows()]\n",
    "    df_owner = df_shuffled[mask]\n",
    "\n",
    "    mask = [True if x[user_name_column] not in users_to_train else False for i, x in df_shuffled.iterrows()]\n",
    "    df_others = df_shuffled[mask]\n",
    "    \n",
    "    \n",
    "    unique_owners_patern_id = df_owner['id'].unique()\n",
    "    paterns_id_to_train_owners = unique_owners_patern_id[:round(len(unique_owners_patern_id)*0.8)]\n",
    "    paterns_id_to_test_owners = unique_owners_patern_id[round(len(unique_owners_patern_id)*0.8):]\n",
    "\n",
    "    mask = [True if x['id'] in paterns_id_to_train_owners else False for i, x in df_owner.iterrows()]\n",
    "    df_train = df_owner[mask]\n",
    "    \n",
    "    mask = [True if x['id'] in paterns_id_to_test_owners else False for i, x in df_owner.iterrows()]\n",
    "    df_test = df_owner[mask]\n",
    "    \n",
    "    paterns_id_to_test_from_others = df_others['id'].unique()[:len(paterns_id_to_test_owners)]\n",
    "    mask = [True if x['id'] in paterns_id_to_test_from_others else False for i, x in df_others.iterrows()]\n",
    "    df_test = df_test.append(df_others[mask])\n",
    "    \n",
    "    scaler = StandardScaler()\n",
    "    scaler.fit(df_train[train_x_columns])\n",
    "    df_train[train_x_columns] = scaler.transform(df_train[train_x_columns])\n",
    "    df_test[train_x_columns] = scaler.transform(df_test[train_x_columns])\n",
    "    \n",
    "    return df_train, df_test\n",
    "\n",
    "def get_df_for_RFE(df, users_to_train):\n",
    "    df_shuffled = df.sample(frac=1, random_state=20).reset_index(drop=True)\n",
    "    \n",
    "    all_usernames = df_shuffled[user_name_column].unique()\n",
    "    usernames_without_owner = [x for x in all_usernames if x not in users_to_train]\n",
    "    usernames_to_train = usernames_without_owner[:round(len(all_usernames)*0.8)]\n",
    "    usernames_to_train += users_to_train\n",
    "#     usernames_to_test = usernames_without_owner[round(len(all_usernames)*0.8):]\n",
    "    \n",
    "    mask = [True if x[user_name_column] in usernames_to_train else False for i, x in df_shuffled.iterrows()]\n",
    "    df_not_new_users = df_shuffled[mask]\n",
    "    \n",
    "    pattern_ids_for_not_new_users = df_not_new_users.groupby(user_name_column)['id'].unique()\n",
    "    pattern_ids_to_train = []\n",
    "    for user in pattern_ids_for_not_new_users:\n",
    "        pattern_ids_to_train = pattern_ids_to_train + list(user[:round(len(user)*0.8)])\n",
    "\n",
    "    \n",
    "    mask = [True if x['id'] in pattern_ids_to_train else False for i, x in df_not_new_users.iterrows()]\n",
    "    df_train = df_not_new_users[mask]\n",
    "    \n",
    "    scaler = StandardScaler()\n",
    "    scaler.fit(df_train[train_x_columns])\n",
    "    df_train[train_x_columns] = scaler.transform(df_train[train_x_columns])\n",
    "      \n",
    "    return df_train\n",
    "\n",
    "def split_to_train_test_by_pattern_new(df, users_to_train):\n",
    "    df_shuffled = df.sample(frac=1, random_state=20).reset_index(drop=True)\n",
    "    \n",
    "    #division users into existing and new ones\n",
    "    all_usernames = df_shuffled[user_name_column].unique()\n",
    "    usernames_without_owner = [x for x in all_usernames if x not in users_to_train]\n",
    "    usernames_to_train = usernames_without_owner[:round(len(all_usernames)*0.8)]\n",
    "    usernames_to_train += users_to_train\n",
    "    usernames_to_test = usernames_without_owner[round(len(all_usernames)*0.8):]\n",
    "    \n",
    "    \n",
    "    #get df of existing ones\n",
    "    mask = [True if x[user_name_column] in usernames_to_train else False for i, x in df_shuffled.iterrows()]\n",
    "    df_not_new_users = df_shuffled[mask]\n",
    "    \n",
    "    #get patern id for every user, and division to train-test id\n",
    "    pattern_ids_for_not_new_users = df_not_new_users.groupby(user_name_column)['id'].unique()\n",
    "    pattern_ids_to_train = []\n",
    "    pattern_ids_to_test = []\n",
    "    for user in pattern_ids_for_not_new_users:\n",
    "        pattern_ids_to_train += list(user[:round(len(user)*0.8)])\n",
    "        pattern_ids_to_test += list(user[round(len(user)*0.8):])\n",
    "    \n",
    "    #get df for train based on pattern id and selected owners\n",
    "    mask = [True if x['id'] in pattern_ids_to_train and x[user_name_column] in users_to_train else False for i, x in df_not_new_users.iterrows()]\n",
    "    df_train = df_not_new_users[mask]\n",
    "    \n",
    "    #get df for test - owners samples\n",
    "    mask = [True if x['id'] in pattern_ids_to_test and x[user_name_column] in users_to_train else False for i, x in df_not_new_users.iterrows()]\n",
    "    df_test = df_not_new_users[mask]\n",
    "\n",
    "    #get df for others for test\n",
    "    mask = [True if x['id'] in pattern_ids_to_test and x[user_name_column] not in users_to_train else False for i, x in df_not_new_users.iterrows()]\n",
    "    df_temp = df_not_new_users[mask]\n",
    "    \n",
    "    #get of new others and concat with df above \n",
    "    mask = [True if x[user_name_column] in usernames_to_test  else False for i, x in df_shuffled.iterrows()]\n",
    "    df_temp = pd.concat([df_temp, df_shuffled[mask]])\n",
    "    \n",
    "    #get x pattern id from test - x = len(pattern_id from owner in test)\n",
    "    random.seed(0)\n",
    "    temp_uniq_pattern_id = random.sample(list(df_temp['id'].unique()), len(df_test['id'].unique()))\n",
    "    \n",
    "    #get final df for test\n",
    "    mask = [True if x['id'] in temp_uniq_pattern_id  else False for i, x in df_temp.iterrows()]\n",
    "    df_test = pd.concat([df_test, df_temp[mask]])\n",
    "    \n",
    "    scaler = StandardScaler()\n",
    "    scaler.fit(df_train[train_x_columns])\n",
    "    df_train[train_x_columns] = scaler.transform(df_train[train_x_columns])\n",
    "    df_test[train_x_columns] = scaler.transform(df_test[train_x_columns])\n",
    "    \n",
    "    return df_train, df_test\n",
    "\n",
    "def split_to_train_val_test_raw(df):\n",
    "    df_shuffled = df.sample(frac=1, random_state=20).reset_index(drop=True)\n",
    "    \n",
    "    all_usernames = df_shuffled[user_name_column].unique()\n",
    "    new_user_usernames = all_usernames[round(len(all_usernames)*0.8):]\n",
    "        \n",
    "    unique_patterns_id = df_shuffled.groupby(user_name_column)['id'].unique()\n",
    "\n",
    "    pattern_ids_to_train = []\n",
    "    pattern_ids_to_val = []\n",
    "    pattern_ids_to_test = []\n",
    "    for user, patterns_id in unique_patterns_id.iteritems():\n",
    "        if(user in new_user_usernames):\n",
    "            pattern_ids_to_val += list(patterns_id[:round(len(patterns_id)*0.5)])\n",
    "            pattern_ids_to_test += list(patterns_id[round(len(patterns_id)*0.5):])\n",
    "        else:        \n",
    "            pattern_ids_to_train += list(patterns_id[:round(len(patterns_id)*0.7)])\n",
    "            pattern_ids_to_val += list(patterns_id[round(len(patterns_id)*0.7):round(len(patterns_id)*0.85)])\n",
    "            pattern_ids_to_test += list(patterns_id[round(len(patterns_id)*0.85):])\n",
    "\n",
    "    \n",
    "    mask = [True if x['id'] in pattern_ids_to_train else False for i, x in df_shuffled.iterrows()]\n",
    "    df_raw_train = df_shuffled[mask]  \n",
    "    \n",
    "    mask = [True if x['id'] in pattern_ids_to_val else False for i, x in df_shuffled.iterrows()]\n",
    "    df_raw_val = df_shuffled[mask]  \n",
    "    \n",
    "    mask = [True if x['id'] in pattern_ids_to_test else False for i, x in df_shuffled.iterrows()]\n",
    "    df_raw_test = df_shuffled[mask]  \n",
    "    \n",
    "    \n",
    "    scaler = StandardScaler()\n",
    "    scaler.fit(df_raw_train[train_x_columns])\n",
    "    df_raw_train[train_x_columns] = scaler.transform(df_raw_train[train_x_columns])\n",
    "    df_raw_val[train_x_columns] = scaler.transform(df_raw_val[train_x_columns])\n",
    "    df_raw_test[train_x_columns] = scaler.transform(df_raw_test[train_x_columns])\n",
    "    \n",
    "    return df_raw_train, df_raw_val, df_raw_test\n",
    "\n",
    "def adapt_dfs_to_users(df_raw_train, df_raw_val, df_raw_test, users):\n",
    "    \n",
    "    mask = [True if x[user_name_column] in users else False for i, x in df_raw_train.iterrows()]\n",
    "    df_train = df_raw_train[mask]\n",
    "    \n",
    "    \n",
    "    mask = [True if x[user_name_column] in users else False for i, x in df_raw_val.iterrows()]\n",
    "    df_val = df_raw_val[mask]\n",
    "    \n",
    "    mask = [True if x[user_name_column] not in users else False for i, x in df_raw_val.iterrows()]\n",
    "    df_not_users_val = df_raw_val[mask]\n",
    "    \n",
    "    unique_users_paterns = df_val['id'].unique()\n",
    "    unique_not_users_paterns = df_not_users_val['id'].unique()[:len(unique_users_paterns)]\n",
    "    \n",
    "    mask = [True if x['id'] in unique_not_users_paterns else False for i, x in df_not_users_val.iterrows()]\n",
    "    df_val = pd.concat([df_val, df_not_users_val[mask]])\n",
    "    \n",
    "    \n",
    "    \n",
    "    mask = [True if x[user_name_column] in users else False for i, x in df_raw_test.iterrows()]\n",
    "    df_test = df_raw_test[mask]\n",
    "    \n",
    "    mask = [True if x[user_name_column] not in users else False for i, x in df_raw_test.iterrows()]\n",
    "    df_not_users_test = df_raw_test[mask]\n",
    "    \n",
    "    unique_users_paterns = df_test['id'].unique()\n",
    "    unique_not_users_paterns = df_not_users_test['id'].unique()[:len(unique_users_paterns)]\n",
    "    \n",
    "    mask = [True if x['id'] in unique_not_users_paterns else False for i, x in df_not_users_test.iterrows()]\n",
    "    df_test = pd.concat([df_test, df_not_users_test[mask]])\n",
    "    \n",
    "    \n",
    "    return df_train, df_val, df_test"
   ]
  },
  {
   "cell_type": "code",
   "execution_count": 6,
   "metadata": {},
   "outputs": [],
   "source": [
    "def unify_y_column_format(test_y, predicted, selected_owners, treshold):\n",
    "    test_converted = [1 if i in selected_owners else 0 for i in test_y]\n",
    "    \n",
    "    predict_converted = [1 if i <= treshold else 0 for i in predicted]\n",
    "    \n",
    "    return test_converted, predict_converted"
   ]
  },
  {
   "cell_type": "code",
   "execution_count": 104,
   "metadata": {},
   "outputs": [],
   "source": [
    "def use_imputation(df_list, train_x_columns):\n",
    "    imputer = IterativeImputer(random_state=0, max_iter=20, verbose=2)\n",
    "    imputer.fit(df_list[0][train_x_columns])\n",
    "    \n",
    "    for i in range(len(df_list)):\n",
    "        df_list[i][train_x_columns]=imputer.transform(df_list[i][train_x_columns])\n",
    "    \n",
    "    return df_list"
   ]
  },
  {
   "cell_type": "code",
   "execution_count": 8,
   "metadata": {},
   "outputs": [],
   "source": [
    "def show_results(test_y,predicted_y):\n",
    "    print ('Accuracy:', accuracy_score(test_y, predicted_y))\n",
    "    print ('F1 score:', f1_score(test_y, predicted_y, pos_label=1))\n",
    "    print ('Recall:', recall_score(test_y, predicted_y, pos_label=1))\n",
    "    print ('Precision:', precision_score(test_y, predicted_y, pos_label=1))\n",
    "    print ('\\n confussion matrix:\\n',confusion_matrix(test_y, predicted_y))"
   ]
  },
  {
   "cell_type": "code",
   "execution_count": 288,
   "metadata": {},
   "outputs": [],
   "source": [
    "def plot_far_eer(test_y_raw, tresholds):\n",
    "\n",
    "    tresholds, test_y_raw = zip(*sorted(zip(tresholds, test_y_raw)))\n",
    "    fmr_array=[]\n",
    "    fnmr_array=[]\n",
    "    for treshold in tresholds:\n",
    "        test_y, predicted_y = unify_y_column_format(test_y_raw, tresholds, selected_owners, treshold)\n",
    "\n",
    "        fmr_array.append(fmr_score(test_y, predicted_y))\n",
    "        fnmr_array.append(fnmr_score(test_y, predicted_y))\n",
    "\n",
    "#     point = eer_score(list(tresholds), fmr_array, fnmr_array)\n",
    "    \n",
    "    line1 = LineString(list(zip(tresholds, fmr_array)))\n",
    "    line2 = LineString(list(zip(tresholds, fnmr_array)))\n",
    "\n",
    "    int_pt = line1.intersection(line2)\n",
    "    \n",
    "    plt.plot(tresholds, fmr_array, 'r') # plotting t, a separately \n",
    "    plt.plot(tresholds, fnmr_array, 'b') # plotting t, b separately\n",
    "    plt.plot(int_pt.x, int_pt.y, marker='o', markersize=5, color=\"green\")\n",
    "    plt.show()\n",
    "    \n",
    "    print(\"EER: \"+str(int_pt.y))\n",
    "    \n",
    "def get_eer(test_y_raw, tresholds):\n",
    "\n",
    "    tresholds, test_y_raw = zip(*sorted(zip(tresholds, test_y_raw)))\n",
    "\n",
    "    fmr_array=[]\n",
    "    fnmr_array=[]\n",
    "    for treshold in tresholds:\n",
    "        test_y, predicted_y = unify_y_column_format(test_y_raw, tresholds, selected_owners, treshold)\n",
    "\n",
    "        fmr_array.append(fmr_score(test_y, predicted_y))\n",
    "        fnmr_array.append(fnmr_score(test_y, predicted_y))\n",
    "\n",
    "#     point = eer_score(list(tresholds), fmr_array, fnmr_array)\n",
    "    \n",
    "    line1 = LineString(list(zip(tresholds, fmr_array)))\n",
    "    line2 = LineString(list(zip(tresholds, fnmr_array)))\n",
    "\n",
    "    int_pt = line1.intersection(line2)\n",
    "    \n",
    "    \n",
    "    return int_pt.y"
   ]
  },
  {
   "cell_type": "code",
   "execution_count": 97,
   "metadata": {},
   "outputs": [],
   "source": [
    "all_features = pd.read_csv(path_to_featutes + \"all_feautures.csv\")\n",
    "if compute_features_for_segment:\n",
    "    all_features['id'] = all_features['id'].str[:-1]"
   ]
  },
  {
   "cell_type": "code",
   "execution_count": 98,
   "metadata": {},
   "outputs": [],
   "source": [
    "all_features = all_features.dropna(thresh=80)\n",
    "if (user_name_column in columns_to_identificate_features):\n",
    "    columns_to_identificate_features.remove(user_name_column)\n",
    "    columns_to_identificate_features.remove(\"id\")\n",
    "all_features.drop(columns=columns_to_identificate_features, inplace=True)\n",
    "\n",
    "\n",
    "train_x_columns = [x for x in list(all_features.columns) if x != user_name_column and x != 'id']\n"
   ]
  },
  {
   "cell_type": "code",
   "execution_count": 132,
   "metadata": {},
   "outputs": [
    {
     "name": "stdout",
     "output_type": "stream",
     "text": [
      "33\n",
      "['mino' 'Jozef Schneider' 'PeterB' 'Martin' 'lukasb' 'Filip'\n",
      " 'Matej Adamov' 'Martina' 'michal' 'TomasM' 'vargaf' 'AdamT' 'baxos'\n",
      " 'mimo' 'kitti' 'Matúš Cuper' 'Rado' 'denisgr' 'fero' 'IM' 'Miki' 'blinky'\n",
      " 'tany' 'tom990' 'martin' 'hawkie94' 'banas' 'Sojkam' 'dominika' 'luci'\n",
      " 'Ivi' 'Jakub.m' 'Stevo']\n"
     ]
    }
   ],
   "source": [
    "users= all_features[user_name_column].unique()\n",
    "print(len(users))\n",
    "print(users)"
   ]
  },
  {
   "cell_type": "code",
   "execution_count": null,
   "metadata": {},
   "outputs": [],
   "source": [
    "selected_owners = ['mino']\n",
    "df_train, df_test = split_to_train_test_by_pattern_new(all_features, selected_owners)\n",
    "\n",
    "if not delete_nan_features:\n",
    "    df_train, df_test =  use_imputation([df_train, df_test], train_x_columns)"
   ]
  },
  {
   "cell_type": "code",
   "execution_count": null,
   "metadata": {},
   "outputs": [],
   "source": [
    "train_x_columns=selected_features_dict[75]\n",
    "len(train_x_columns)"
   ]
  },
  {
   "cell_type": "code",
   "execution_count": 270,
   "metadata": {
    "scrolled": false
   },
   "outputs": [
    {
     "name": "stdout",
     "output_type": "stream",
     "text": [
      "(4.423853347462541, 5.262808756124035, 6.084787810744497, 6.473419420499245, 7.4311975125190335, 7.6217408973118665, 7.623319592882433, 8.01312978256293, 8.09069508312164, 8.141378469849116, 8.17359257400811, 8.261094577221188, 8.291601905212026, 8.360579863776266, 8.403387608077635, 8.674388557084688, 8.698277124059834, 8.844817096006517, 8.9375524866034, 9.095699854912082, 9.118049979838123, 9.311254235081655, 9.587817682814787, 9.631386371626766, 9.691319341779385, 9.698122726928595, 9.733546259360018, 9.75551618499279, 9.784988522687195, 9.90851531969784, 9.939013511614986, 9.992408789647525, 10.055472479236467, 10.152995332564624, 10.15528217801618, 10.16937917229468, 10.183961344143775, 10.249472546051644, 10.310503486422666, 10.627622062614352, 10.648520008722448, 10.682177347901295, 10.726665087822013, 10.733411919199995, 10.737832668941214, 10.820307385629688, 10.839377984651463, 10.8502639253732, 10.850502133758846, 10.85434588082353, 10.856509007573624, 10.93354848828965, 10.935425593945853, 11.096511381222427, 11.122594711370066, 11.249459307156027, 11.289425408904135, 11.415564495635916, 11.486450305555135, 11.529482559331383, 11.596341007107847, 11.600459214996526, 11.695620298921522, 11.73498861460515, 11.789317806429798, 11.823819497196215, 11.825154516707697, 11.842019440255, 11.990200560866993, 12.00499070539495, 12.007164695268397, 12.05550508033879, 12.342286129740966, 12.392695439181441, 12.454311822175535, 12.468548452131879, 12.707563827960563, 12.724782666415418, 12.75825946290061, 12.852317419239572, 12.903376784650888, 12.91485524549186, 13.251274091686419, 13.298985603093731, 13.446786289104786, 13.546593193899108, 13.563098756386008, 13.687685919380126, 13.906601248872745, 14.049890758238641, 14.076450108473288, 14.30469602103573, 14.468240542187159, 14.474312139175463, 14.501524466483776, 14.552731894358255, 14.603489166277317, 14.873176192004887, 14.961100224563587, 15.031276392864248, 15.055369099655916, 15.249837896606653, 15.260357467057965, 15.415995706583036, 15.45835937699732, 15.503026989408063, 15.543786036033525, 15.552457793254998, 15.559723623951342, 15.562300314557275, 15.590819072369484, 15.79114573548679, 15.793927700615328, 15.8473685598455, 15.977807987381114, 15.983044623157744, 16.171224279533806, 16.200239427866524, 16.412692187702145, 16.418110056022428, 16.431641636878958, 16.525327254164864, 16.773006767923352, 16.828569271412935, 16.91754873526291, 17.02888996865213, 17.175637671013384, 17.188807073907824, 17.210895027682998, 17.302474157052412, 17.320414555091155, 17.324098972333616, 17.409826077651612, 17.471861852761293, 17.57129395385963, 17.611241157119387, 18.03597025103991, 18.040286589609288, 18.053897382229508, 18.42361611462892, 18.512587471349516, 18.839461968020558, 18.917388746776364, 19.049813623401842, 19.14327282593539, 19.258982883047306, 19.319193724594662, 19.340793626985274, 20.765155582868775, 20.88959350082719, 21.745747618170128, 22.02396319353392, 22.106295160556517, 22.60081530978068, 22.673850575922167, 23.147704549318412, 23.47827028454219, 23.88149069916671, 23.88921839560183, 24.44570675180673, 24.654398325461106, 24.690786614123606, 27.800592838835716, 29.495520646498363, 29.55396823412871, 29.81629395801043, 30.553679813414973, 33.837120618711346, 37.13607596577569, 40.469139828534956)\n",
      "('michal', 'michal', 'michal', 'michal', 'michal', 'michal', 'michal', 'michal', 'michal', 'luci', 'luci', 'luci', 'michal', 'luci', 'michal', 'michal', 'mino', 'michal', 'michal', 'mino', 'denisgr', 'mino', 'luci', 'michal', 'mino', 'michal', 'michal', 'michal', 'denisgr', 'michal', 'michal', 'denisgr', 'luci', 'luci', 'mino', 'denisgr', 'denisgr', 'luci', 'luci', 'denisgr', 'denisgr', 'luci', 'denisgr', 'denisgr', 'denisgr', 'michal', 'michal', 'denisgr', 'michal', 'michal', 'luci', 'luci', 'mino', 'michal', 'luci', 'luci', 'luci', 'michal', 'michal', 'luci', 'michal', 'michal', 'luci', 'mino', 'luci', 'michal', 'mino', 'denisgr', 'michal', 'luci', 'luci', 'luci', 'michal', 'luci', 'mino', 'luci', 'denisgr', 'michal', 'luci', 'luci', 'michal', 'mino', 'michal', 'denisgr', 'luci', 'michal', 'michal', 'mino', 'michal', 'michal', 'luci', 'michal', 'luci', 'mino', 'mino', 'luci', 'denisgr', 'luci', 'luci', 'luci', 'michal', 'luci', 'luci', 'denisgr', 'michal', 'luci', 'mino', 'luci', 'mino', 'michal', 'denisgr', 'denisgr', 'luci', 'mino', 'luci', 'luci', 'luci', 'denisgr', 'luci', 'michal', 'luci', 'michal', 'luci', 'michal', 'luci', 'luci', 'michal', 'michal', 'michal', 'michal', 'michal', 'michal', 'denisgr', 'michal', 'luci', 'luci', 'mino', 'luci', 'michal', 'denisgr', 'luci', 'michal', 'luci', 'michal', 'michal', 'luci', 'mino', 'luci', 'luci', 'michal', 'michal', 'michal', 'luci', 'luci', 'michal', 'michal', 'luci', 'luci', 'luci', 'luci', 'michal', 'denisgr', 'michal', 'luci', 'michal', 'michal', 'luci', 'michal', 'luci', 'michal')\n"
     ]
    },
    {
     "data": {
      "image/png": "[encoded data removed]",
      "text/plain": [
       "<Figure size 432x288 with 1 Axes>"
      ]
     },
     "metadata": {
      "needs_background": "light"
     },
     "output_type": "display_data"
    },
    {
     "name": "stdout",
     "output_type": "stream",
     "text": [
      "EER: 0.4852941176470588\n"
     ]
    }
   ],
   "source": [
    "#prediction based on segments individualy \n",
    "# selected_owners = ['mino']\n",
    "# df_train, df_test = split_to_train_test_by_pattern_new(all_features, selected_owners)\n",
    "\n",
    "# if not delete_nan_features:\n",
    "#     df_train, df_test =  use_imputation(df_train, train_x_columns, df_test)\n",
    "    \n",
    "predicted = use_knn(df_train[train_x_columns],df_test[train_x_columns])\n",
    "\n",
    "\n",
    "# test_y, predicted_y = unify_y_column_format(df_test[train_y_columns], tresholds, selected_owners,treshold_for_knn)\n",
    "# show_results(test_y,predicted_y)\n",
    "\n",
    "plot_far_eer(df_test[train_y_columns].reset_index(drop=True),predicted)"
   ]
  },
  {
   "cell_type": "code",
   "execution_count": null,
   "metadata": {},
   "outputs": [],
   "source": [
    "#prediction based on patterns\n",
    "# selected_owners = ['mino']\n",
    "# df_train, df_test = split_to_train_test_by_pattern(all_features, selected_owners)\n",
    "\n",
    "# if not delete_nan_features:\n",
    "#     df_train, df_test =  use_imputation(df_train, train_x_columns, df_test)\n",
    "    \n",
    "predicted = use_knn(df_train[train_x_columns],df_test[train_x_columns])\n",
    "\n",
    "df_results =  df_test[[train_y_columns,'id']]\n",
    "df_results['prediction'] = predicted\n",
    "\n",
    "\n",
    "nieco=df_results.groupby([train_y_columns,'id']).median()\n",
    "nieco=nieco.reset_index().drop('id', axis=1)\n",
    "\n",
    "# test_y, predicted_y = unify_y_column_format(nieco[train_y_columns], nieco['prediction'], selected_owners,treshold_for_knn)\n",
    "# show_results(test_y,predicted_y)\n",
    "\n",
    "plot_far_eer(nieco[train_y_columns],nieco['prediction'])\n"
   ]
  },
  {
   "cell_type": "code",
   "execution_count": 178,
   "metadata": {},
   "outputs": [
    {
     "data": {
      "image/png": "[encoded data removed]",
      "text/plain": [
       "<Figure size 432x288 with 1 Axes>"
      ]
     },
     "metadata": {
      "needs_background": "light"
     },
     "output_type": "display_data"
    },
    {
     "name": "stdout",
     "output_type": "stream",
     "text": [
      "EER: 0.7419354838709677\n"
     ]
    }
   ],
   "source": [
    "predicted = use_svm(df_train[train_x_columns],df_test[train_x_columns])\n",
    "plot_far_eer(df_test[train_y_columns], predicted)"
   ]
  },
  {
   "cell_type": "code",
   "execution_count": 179,
   "metadata": {},
   "outputs": [
    {
     "data": {
      "image/png": "[encoded data removed]",
      "text/plain": [
       "<Figure size 432x288 with 1 Axes>"
      ]
     },
     "metadata": {
      "needs_background": "light"
     },
     "output_type": "display_data"
    },
    {
     "name": "stdout",
     "output_type": "stream",
     "text": [
      "EER: 0.8181818181818182\n"
     ]
    }
   ],
   "source": [
    "predicted = use_svm(df_train[train_x_columns],df_test[train_x_columns])\n",
    "\n",
    "df_results =  df_test[[train_y_columns,'id']]\n",
    "df_results['prediction'] = predicted\n",
    "\n",
    "\n",
    "nieco=df_results.groupby([train_y_columns,'id']).mean()\n",
    "nieco=nieco.reset_index().drop('id', axis=1)\n",
    "\n",
    "# test_y, predicted_y = unify_y_column_format(nieco[train_y_columns], nieco['prediction'], selected_owners,treshold_for_knn)\n",
    "# show_results(test_y,predicted_y)\n",
    "\n",
    "plot_far_eer(nieco[train_y_columns],nieco['prediction'])"
   ]
  },
  {
   "cell_type": "code",
   "execution_count": null,
   "metadata": {},
   "outputs": [],
   "source": []
  },
  {
   "cell_type": "code",
   "execution_count": null,
   "metadata": {},
   "outputs": [],
   "source": [
    "import xgboost as xgb\n",
    "\n",
    "xgb_model = xgb.XGBClassifier(objective=\"binary:logistic\", random_state=42)\n",
    "xgb_model.fit(df_train[train_x_columns], [1]*len(df_train[train_x_columns]))\n",
    "y_pred = xgb_model.predict(df_test[train_x_columns])\n",
    "test_converted = [1 if i in selected_owners else 0 for i in df_test[train_y_columns]]\n",
    "print(confusion_matrix(test_converted, y_pred))\n",
    "print(xgb_model.classes_)"
   ]
  },
  {
   "cell_type": "code",
   "execution_count": null,
   "metadata": {},
   "outputs": [],
   "source": []
  },
  {
   "cell_type": "code",
   "execution_count": null,
   "metadata": {},
   "outputs": [],
   "source": [
    "train_x_columns=selected_features_dict[125]\n",
    "len(train_x_columns)"
   ]
  },
  {
   "cell_type": "code",
   "execution_count": 177,
   "metadata": {},
   "outputs": [],
   "source": []
  },
  {
   "cell_type": "code",
   "execution_count": 107,
   "metadata": {
    "scrolled": false
   },
   "outputs": [],
   "source": [
    "df_raw_train, df_raw_val, df_raw_test = split_to_train_val_test_raw(all_features)\n",
    "\n",
    "if not delete_nan_features:\n",
    "    df_raw_train, df_raw_val, df_raw_test =  use_imputation([df_raw_train, df_raw_val, df_raw_test], train_x_columns)\n",
    "    \n",
    "df_raw_train.to_csv(path_to_featutes + \"imputed/\" + \"train.csv\", encoding='utf-8', index=False)\n",
    "df_raw_val.to_csv(path_to_featutes + \"imputed/\" + \"val.csv\", encoding='utf-8', index=False)\n",
    "df_raw_test.to_csv(path_to_featutes + \"imputed/\" + \"test.csv\", encoding='utf-8', index=False)"
   ]
  },
  {
   "cell_type": "code",
   "execution_count": 120,
   "metadata": {},
   "outputs": [],
   "source": []
  },
  {
   "cell_type": "code",
   "execution_count": 113,
   "metadata": {},
   "outputs": [
    {
     "name": "stdout",
     "output_type": "stream",
     "text": [
      "75\n",
      "85\n",
      "100\n",
      "125\n",
      "150\n"
     ]
    }
   ],
   "source": [
    "selected_features_dict = {}\n",
    "selected_features_dict[0]=train_x_columns\n",
    "\n",
    "class RandomForestClassifierWithCoef(RandomForestClassifier):\n",
    "    def fit(self, *args, **kwargs):\n",
    "        super(RandomForestClassifierWithCoef, self).fit(*args, **kwargs)\n",
    "        self.coef_ = self.feature_importances_\n",
    "        \n",
    "models = [LogisticRegression(solver='lbfgs'), RandomForestClassifierWithCoef(n_estimators=500, min_samples_leaf=5, n_jobs=-1)]\n",
    "\n",
    "for number in [75,85,100,125,150]:\n",
    "    print(number)\n",
    "    for model in models:\n",
    "        rfe = RFE(model, number)\n",
    "#         rfe = RFECV(estimator=model, step=1, cv=2, scoring='roc_auc', verbose=2)\n",
    "        fit = rfe.fit(df_raw_train[train_x_columns], df_raw_train[train_y_columns])\n",
    "\n",
    "        # print(\"Num Features: %d\" % fit.n_features_)\n",
    "        # print(\"Selected Features: %s\" % fit.support_)\n",
    "        # print(\"Feature Ranking: %s\" % fit.ranking_)\n",
    "        indexes_to_delete=[]\n",
    "        for i in range(len(fit.ranking_)):\n",
    "            if(fit.ranking_[i]!=1):\n",
    "                indexes_to_delete.append(i)\n",
    "        selected_features = [i for j, i in enumerate(train_x_columns) if j not in indexes_to_delete]\n",
    "        selected_features_dict[str(rfe)]=selected_features\n",
    "\n",
    "for k in selected_features_dict.keys():\n",
    "    new_key = ' '.join(str(k).replace(\"\\\\n\", \" \").split())\n",
    "    selected_features_dict[new_key] = selected_features_dict.pop(k)\n",
    "print(selected_features_dict)"
   ]
  },
  {
   "cell_type": "code",
   "execution_count": null,
   "metadata": {},
   "outputs": [],
   "source": [
    "selected_owners = ['Martin']\n",
    "df_train, df_val, df_test = adapt_dfs_to_users(df_raw_train, df_raw_val, df_raw_test, selected_owners)"
   ]
  },
  {
   "cell_type": "code",
   "execution_count": 225,
   "metadata": {},
   "outputs": [],
   "source": [
    "test_eer_array=[]\n",
    "val_eer_array=[]\n",
    "predict_based_on_whole_pattern = True\n",
    "\n",
    "for selected_owners in users_to_cv:\n",
    "    df_train, df_val, df_test = adapt_dfs_to_users(df_raw_train, df_raw_val, df_raw_test, selected_owners)\n",
    "    \n",
    "    knn = get_knn()\n",
    "    knn.fit(df_train[train_x_columns])\n",
    "    \n",
    "    predicted_val=[np.mean(i) for i in knn.kneighbors(df_val[train_x_columns])[0]]\n",
    "    if predict_based_on_whole_pattern:\n",
    "\n",
    "        df_results =  df_val[[train_y_columns,'id']]\n",
    "        df_results['prediction'] = predicted_val\n",
    "        nieco=df_results.groupby([train_y_columns,'id']).median()\n",
    "        nieco=nieco.reset_index().drop('id', axis=1)\n",
    "        \n",
    "        ground_truth_val, predicted_val = nieco[train_y_columns], nieco['prediction']\n",
    "    else:\n",
    "        ground_truth_val= df_val[[train_y_columns]]\n",
    "    \n",
    "    val_eer_array.append(get_eer(ground_truth_val, predicted_val))\n",
    "    \n",
    "    \n",
    "    predicted_test=[np.mean(i) for i in knn.kneighbors(df_test[train_x_columns])[0]]\n",
    "\n",
    "    df_results =  df_test[[train_y_columns,'id']]\n",
    "    df_results['prediction'] = predicted_test\n",
    "    nieco=df_results.groupby([train_y_columns,'id']).median()\n",
    "    nieco=nieco.reset_index().drop('id', axis=1)\n",
    "    \n",
    "    if predict_based_on_whole_pattern:\n",
    "            ground_truth_test, predicted_test = nieco[train_y_columns], nieco['prediction']\n",
    "    else:\n",
    "        ground_truth_test= df_test[[train_y_columns]]\n",
    "\n",
    "    test_eer_array.append(get_eer(ground_truth_test, predicted_test))\n",
    "    \n",
    "    \n",
    "val_eer = mean(val_eer_array)\n",
    "test_eer = mean(test_eer_array)"
   ]
  },
  {
   "cell_type": "code",
   "execution_count": 226,
   "metadata": {},
   "outputs": [
    {
     "data": {
      "text/plain": [
       "0.4298354516163881"
      ]
     },
     "execution_count": 226,
     "metadata": {},
     "output_type": "execute_result"
    }
   ],
   "source": [
    "val_eer"
   ]
  },
  {
   "cell_type": "code",
   "execution_count": 227,
   "metadata": {},
   "outputs": [
    {
     "data": {
      "text/plain": [
       "0.3321656325836928"
      ]
     },
     "execution_count": 227,
     "metadata": {},
     "output_type": "execute_result"
    }
   ],
   "source": [
    "test_eer"
   ]
  },
  {
   "cell_type": "code",
   "execution_count": 291,
   "metadata": {},
   "outputs": [
    {
     "data": {
      "image/png": "[encoded data removed]",
      "text/plain": [
       "<Figure size 432x288 with 1 Axes>"
      ]
     },
     "metadata": {
      "needs_background": "light"
     },
     "output_type": "display_data"
    },
    {
     "name": "stdout",
     "output_type": "stream",
     "text": [
      "EER: 0.2727272727272727\n"
     ]
    }
   ],
   "source": [
    "predict_based_on_whole_pattern = True\n",
    "\n",
    "selected_owners = 'Martin'\n",
    "df_train, df_val, df_test = adapt_dfs_to_users(df_raw_train, df_raw_val, df_raw_test, selected_owners)\n",
    "\n",
    "knn = get_knn()\n",
    "knn.fit(df_train[train_x_columns])\n",
    "\n",
    "predicted_test=[np.mean(i) for i in knn.kneighbors(df_test[train_x_columns])[0]]\n",
    "\n",
    "\n",
    "if predict_based_on_whole_pattern == True:\n",
    "    df_results =  df_test[[train_y_columns,'id']]\n",
    "    df_results['prediction'] = predicted_test\n",
    "    nieco=df_results.groupby([train_y_columns,'id']).median()\n",
    "    nieco=nieco.reset_index().drop('id', axis=1)\n",
    "    ground_truth_test, predicted_test = nieco[train_y_columns], nieco['prediction']\n",
    "else:\n",
    "    ground_truth_test = df_test[train_y_columns]\n",
    "    \n",
    "\n",
    "plot_far_eer(ground_truth_test, predicted_test)\n"
   ]
  },
  {
   "cell_type": "code",
   "execution_count": null,
   "metadata": {},
   "outputs": [],
   "source": []
  }
 ],
 "metadata": {
  "kernelspec": {
   "display_name": "Python 3",
   "language": "python",
   "name": "python3"
  },
  "language_info": {
   "codemirror_mode": {
    "name": "ipython",
    "version": 3
   },
   "file_extension": ".py",
   "mimetype": "text/x-python",
   "name": "python",
   "nbconvert_exporter": "python",
   "pygments_lexer": "ipython3",
   "version": "3.7.9"
  }
 },
 "nbformat": 4,
 "nbformat_minor": 4
}

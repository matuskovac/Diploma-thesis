{
 "cells": [
  {
   "cell_type": "code",
   "execution_count": 1,
   "metadata": {},
   "outputs": [],
   "source": [
    "import warnings\n",
    "warnings.filterwarnings('ignore')\n",
    "import numpy as np\n",
    "import pandas as pd\n",
    "import time\n",
    "import random\n",
    "import itertools\n",
    "import  matplotlib.pyplot as plt\n",
    "from sklearn.model_selection import train_test_split\n",
    "from sklearn.preprocessing import LabelEncoder\n",
    "from sklearn.preprocessing import StandardScaler\n",
    "from sklearn.preprocessing import MinMaxScaler\n",
    "from sklearn.tree import DecisionTreeClassifier\n",
    "from sklearn.naive_bayes import GaussianNB\n",
    "from sklearn.svm import SVC\n",
    "from sklearn.neighbors import NearestNeighbors\n",
    "from sklearn.utils import shuffle\n",
    "from sklearn.metrics import precision_score, \\\n",
    "    recall_score, confusion_matrix, classification_report, \\\n",
    "    accuracy_score, f1_score\n",
    "from sklearn.experimental import enable_iterative_imputer\n",
    "from sklearn.impute import IterativeImputer\n",
    "\n",
    "from behalearn.preprocessing import columns\n",
    "from behalearn.authentication import authentication_metrics\n",
    "from behalearn.authentication import authentication_results\n",
    "from behalearn.estimators import VotingClassifier\n",
    "from behalearn.features import FeatureExtractor\n",
    "from behalearn.features import temporal\n",
    "from behalearn.metrics import fmr_score\n",
    "from behalearn.metrics import fnmr_score\n",
    "from behalearn.metrics import eer_score\n",
    "from behalearn.metrics import hter_score\n",
    "from behalearn.preprocessing import StartEndSegmentSplitter\n",
    "from behalearn.preprocessing import SegmentSplitter\n",
    "from behalearn.preprocessing.segment import criteria\n",
    "from behalearn.visualization import initialize_notebook_output\n",
    "from behalearn.visualization import label_touches\n",
    "from behalearn.visualization import plot_fmr_fnmr\n",
    "from behalearn.visualization import visualize_mobile_data\n",
    "from behalearn.visualization import visualize_mouse_data\n",
    "from behalearn.visualization import visualize_custom_data\n"
   ]
  },
  {
   "cell_type": "code",
   "execution_count": 74,
   "metadata": {},
   "outputs": [],
   "source": [
    "segment_column = 'segment'\n",
    "user_column = 'user'\n",
    "user_name_column = 'username'\n",
    "compute_features_for_segment = True\n",
    "delete_nan_features = True\n",
    "\n",
    "path_to_raw_data = '../login_datasets/2019-01-08_FIIT_-2-poschodie_po_skuske_KPAIS_correct_patterns_only/'\n",
    "path_to_featutes = \"../login_features/\" + (\"segments\" if compute_features_for_segment else \"paterns\") + (\"\" if delete_nan_features else \"_nan\") + \"/\"\n",
    "\n",
    "columns_to_identificate_features = ['id', 'pattern_id','device','scenario', user_name_column, user_column]\n",
    "if compute_features_for_segment:\n",
    "    columns_to_identificate_features.append(segment_column)\n"
   ]
  },
  {
   "cell_type": "code",
   "execution_count": null,
   "metadata": {},
   "outputs": [],
   "source": [
    "touch_data = pd.read_csv(path_to_raw_data + 'touch.csv', sep=',')\n",
    "acc_data = pd.read_csv(path_to_raw_data + 'linear_accelerometer.csv', sep=',')\n",
    "gyro_data = pd.read_csv(path_to_raw_data + 'gyroscope.csv', sep=',')\n",
    "touch_data\n",
    "touch_data[\"id\"] = touch_data[\"pattern_id\"].astype(str) + touch_data[\"device\"]\n",
    "acc_data[\"id\"] = acc_data[\"pattern_id\"].astype(str) + acc_data[\"device\"]\n",
    "gyro_data[\"id\"] = gyro_data[\"pattern_id\"].astype(str) + gyro_data[\"device\"]\n",
    "\n",
    "if compute_features_for_segment:\n",
    "    touch_data[\"id\"] += touch_data['segment'].astype(str)\n",
    "    acc_data[\"id\"] += acc_data['segment'].astype(str)\n",
    "    gyro_data[\"id\"] += gyro_data['segment'].astype(str)\n",
    "else:\n",
    "    touch_data.drop('segment', axis=1, inplace=True)\n",
    "    acc_data.drop('segment', axis=1, inplace=True)\n",
    "    gyro_data.drop('segment', axis=1, inplace=True)"
   ]
  },
  {
   "cell_type": "code",
   "execution_count": null,
   "metadata": {},
   "outputs": [],
   "source": [
    "touch_data.head()"
   ]
  },
  {
   "cell_type": "code",
   "execution_count": null,
   "metadata": {},
   "outputs": [],
   "source": [
    "le = LabelEncoder()\n",
    "le.fit(pd.concat([touch_data['id'], acc_data['id'], gyro_data['id']]))\n",
    "touch_data[user_column] = le.transform(touch_data['id'])\n",
    "acc_data[user_column] = le.transform(acc_data['id'])\n",
    "gyro_data[user_column] = le.transform(gyro_data['id'])"
   ]
  },
  {
   "cell_type": "code",
   "execution_count": null,
   "metadata": {},
   "outputs": [],
   "source": [
    "touch_data.head()"
   ]
  },
  {
   "cell_type": "code",
   "execution_count": null,
   "metadata": {},
   "outputs": [],
   "source": []
  },
  {
   "cell_type": "code",
   "execution_count": null,
   "metadata": {},
   "outputs": [],
   "source": [
    "def get_columns_combinations(col_names,combinations = None):\n",
    "    combs = columns._get_column_combinations(col_names, combinations)\n",
    "    final_combs=[]\n",
    "    for comb in combs:\n",
    "        if len(comb) > 1:\n",
    "            final_combs.append(comb)\n",
    "    return final_combs"
   ]
  },
  {
   "cell_type": "code",
   "execution_count": null,
   "metadata": {},
   "outputs": [],
   "source": [
    "def calculate_maginute_to_df(df, columns_name):\n",
    "    final_combinations = []\n",
    "    for combination in get_columns_combinations(columns_name):\n",
    "        sum = [0]*len(df)\n",
    "        for dimension in combination:\n",
    "            sum += df[dimension] ** 2\n",
    "        magnitude=sum **(1/2)\n",
    "        new_column='_'.join(combination)\n",
    "        df[new_column]=magnitude\n",
    "        final_combinations.append(new_column)\n",
    "        \n",
    "    return final_combinations"
   ]
  },
  {
   "cell_type": "code",
   "execution_count": null,
   "metadata": {},
   "outputs": [],
   "source": [
    "def compute_features(df, features, prefix = None):\n",
    "    extractor = FeatureExtractor(features, [user_column])\n",
    "\n",
    "    features_df = extractor.fit_transform(df)\n",
    "    features_df = features_df.replace([np.inf, -np.inf], np.nan)\n",
    "    \n",
    "    if delete_nan_features:\n",
    "        features_df = features_df.dropna()\n",
    "    \n",
    "    if prefix is not None:\n",
    "        features_df.columns = features_df.columns.str.replace(r\"velocity\", prefix)\n",
    "\n",
    "    return features_df"
   ]
  },
  {
   "cell_type": "code",
   "execution_count": null,
   "metadata": {},
   "outputs": [],
   "source": [
    "def renaming_condition(x, columns_name, prefix):\n",
    "    if x in columns_name:\n",
    "        return prefix + x\n",
    "    return x\n",
    "\n",
    "\n",
    "def add_prefix_to_columns(df, columns_name, prefix):\n",
    "    df.columns = [renaming_condition(col, columns_name, prefix) for col in df.columns]\n",
    "\n",
    "    return [prefix + s for s in columns_name]"
   ]
  },
  {
   "cell_type": "code",
   "execution_count": null,
   "metadata": {},
   "outputs": [],
   "source": [
    "def compute_statistics(df, columns_to_compute_statistic, prefix):\n",
    "    columns_to_compute_statistic += calculate_maginute_to_df(df, columns_to_compute_statistic)\n",
    "    columns_to_compute_statistic = add_prefix_to_columns(df, columns_to_compute_statistic, prefix)\n",
    "\n",
    "    statistics = df.groupby([user_column])[columns_to_compute_statistic].describe()\n",
    "    statistics.columns = statistics.columns.to_flat_index()\n",
    "    statistics.rename(columns='_'.join, inplace=True)\n",
    "    statistics = statistics[statistics.columns.drop(list(statistics.filter(regex='count')))]\n",
    "    \n",
    "    return statistics"
   ]
  },
  {
   "cell_type": "code",
   "execution_count": null,
   "metadata": {},
   "outputs": [],
   "source": [
    "def normalize_columns_names(df):\n",
    "    df.columns = df.columns.str.replace(r\"25%\", \"_lower_q\")\n",
    "    df.columns = df.columns.str.replace(r\"50%\", \"_median\")\n",
    "    df.columns = df.columns.str.replace(r\"75%\", \"_upper_q\")\n",
    "    df.columns = df.columns.str.replace(r\"__\", \"_\")"
   ]
  },
  {
   "cell_type": "code",
   "execution_count": null,
   "metadata": {
    "scrolled": true
   },
   "outputs": [],
   "source": [
    "features = [\n",
    "    'duration',\n",
    "    ('length', {\n",
    "        'columns': ['x', 'y'],\n",
    "    }),\n",
    "    ('start', {\n",
    "        'columns': ['x', 'y'],\n",
    "    }),\n",
    "    ('velocity', {\n",
    "        'columns': ['x', 'y'],\n",
    "    }),\n",
    "    ('acceleration', {\n",
    "        'columns': ['x', 'y'],\n",
    "    }),\n",
    "    ('jerk', {\n",
    "        'columns': ['x', 'y'],\n",
    "    }),\n",
    "    ('angular_velocity', {\n",
    "        'columns': ['x', 'y'],\n",
    "    }),\n",
    "    ('angular_acceleration', {\n",
    "        'columns': ['x', 'y'],\n",
    "    }),\n",
    "]\n",
    "print(time.strftime(\"%Y-%m-%d %H:%M\"))\n",
    "touch_features = compute_features(touch_data, features)\n",
    "touch_features = touch_features.merge(touch_data[columns_to_identificate_features], on=[user_column]).drop_duplicates()\n",
    "features = [\n",
    "    ('velocity', {\n",
    "        'columns': ['x', 'y', 'z'],\n",
    "    }),\n",
    "]\n",
    "print(time.strftime(\"%Y-%m-%d %H:%M\"))\n",
    "\n",
    "acc_features = compute_features(acc_data, features, \"accelerometer_jerk\")\n",
    "acc_statistics_from_raw_data = compute_statistics(acc_data,['x','y','z'],\"accelerometer_\")\n",
    "acc_features = acc_features.merge(acc_statistics_from_raw_data, on='user', how='inner').drop_duplicates()\n",
    "print(time.strftime(\"%Y-%m-%d %H:%M\"))\n",
    "\n",
    "gyro_features = compute_features(gyro_data, features, \"gyro_jerk\")\n",
    "gyro_statistics_from_raw_data = compute_statistics(gyro_data,['x','y','z'],\"gyro_\")\n",
    "gyro_features = gyro_features.merge(gyro_statistics_from_raw_data, on='user', how='inner').drop_duplicates()\n",
    "print(time.strftime(\"%Y-%m-%d %H:%M\"))\n",
    "\n",
    "all_features = touch_features.merge(acc_features, on='user', how='inner').merge(gyro_features, on='user', how='inner')\n",
    "normalize_columns_names(all_features)"
   ]
  },
  {
   "cell_type": "code",
   "execution_count": null,
   "metadata": {},
   "outputs": [],
   "source": [
    "print(touch_features)\n",
    "print(acc_features)\n",
    "print(gyro_features)\n",
    "print(all_features)"
   ]
  },
  {
   "cell_type": "code",
   "execution_count": null,
   "metadata": {},
   "outputs": [],
   "source": [
    "touch_features.to_csv(path_to_featutes + \"touch_feautures.csv\", encoding='utf-8', index=False)\n",
    "acc_features.to_csv(path_to_featutes + \"acc_feautures.csv\", encoding='utf-8', index=False)\n",
    "gyro_features.to_csv(path_to_featutes + \"gyro_feautures.csv\", encoding='utf-8', index=False)\n",
    "all_features.to_csv(path_to_featutes + \"all_feautures.csv\", encoding='utf-8', index=False)"
   ]
  },
  {
   "cell_type": "code",
   "execution_count": null,
   "metadata": {},
   "outputs": [],
   "source": []
  },
  {
   "cell_type": "code",
   "execution_count": null,
   "metadata": {},
   "outputs": [],
   "source": [
    "len(touch_data['user'].unique())"
   ]
  },
  {
   "cell_type": "code",
   "execution_count": null,
   "metadata": {},
   "outputs": [],
   "source": [
    "all_features"
   ]
  },
  {
   "cell_type": "code",
   "execution_count": null,
   "metadata": {},
   "outputs": [],
   "source": []
  },
  {
   "cell_type": "code",
   "execution_count": null,
   "metadata": {},
   "outputs": [],
   "source": []
  },
  {
   "cell_type": "code",
   "execution_count": 76,
   "metadata": {},
   "outputs": [],
   "source": [
    "all_features = pd.read_csv(path_to_featutes + \"all_feautures.csv\")"
   ]
  },
  {
   "cell_type": "code",
   "execution_count": 77,
   "metadata": {},
   "outputs": [],
   "source": [
    "all_features = all_features.dropna(thresh=80)\n",
    "if (user_name_column in columns_to_identificate_features):\n",
    "    columns_to_identificate_features.remove(user_name_column)\n",
    "all_features.drop(columns=columns_to_identificate_features, inplace=True)\n",
    "\n",
    "train_x_columns = [x for x in list(all_features.columns) if x != user_name_column]\n",
    "train_y_columns = user_name_column"
   ]
  },
  {
   "cell_type": "code",
   "execution_count": 24,
   "metadata": {},
   "outputs": [],
   "source": [
    "# scaler = StandardScaler()\n",
    "# all_features[train_x_columns] = scaler.fit_transform(all_features[train_x_columns])"
   ]
  },
  {
   "cell_type": "code",
   "execution_count": null,
   "metadata": {},
   "outputs": [],
   "source": [
    "# x_train, x_test, y_train, y_test = train_test_split(all_features[train_x_columns], all_features[train_y_columns], random_state=42)"
   ]
  },
  {
   "cell_type": "code",
   "execution_count": 5,
   "metadata": {},
   "outputs": [],
   "source": [
    "def use_knn(df_x_train,df_x_test):\n",
    "    neigh = NearestNeighbors(n_neighbors=1)\n",
    "    neigh.fit(df_x_train)\n",
    "    start = time.time()\n",
    "    knn=neigh.kneighbors(df_x_test)\n",
    "    end = time.time()\n",
    "    return knn"
   ]
  },
  {
   "cell_type": "code",
   "execution_count": 92,
   "metadata": {},
   "outputs": [
    {
     "name": "stdout",
     "output_type": "stream",
     "text": [
      "33\n",
      "['mino' 'Jozef Schneider' 'PeterB' 'Martin' 'lukasb' 'Filip'\n",
      " 'Matej Adamov' 'Martina' 'michal' 'TomasM' 'vargaf' 'AdamT' 'baxos'\n",
      " 'mimo' 'kitti' 'Matúš Cuper' 'Rado' 'denisgr' 'fero' 'IM' 'Miki' 'blinky'\n",
      " 'tany' 'tom990' 'martin' 'hawkie94' 'banas' 'Sojkam' 'dominika' 'luci'\n",
      " 'Ivi' 'Jakub.m' 'Stevo']\n"
     ]
    }
   ],
   "source": [
    "users= all_features[user_name_column].unique()\n",
    "print(len(users))\n",
    "print(users)"
   ]
  },
  {
   "cell_type": "code",
   "execution_count": 42,
   "metadata": {},
   "outputs": [
    {
     "name": "stdout",
     "output_type": "stream",
     "text": [
      "34.754741806538405\n"
     ]
    }
   ],
   "source": [
    "def get_threshold_for_knn():\n",
    "    random_users = random.sample(list(all_features[user_name_column].unique()), 10)\n",
    "    vsetky_vzdialenosti = []\n",
    "    for random_user in random_users:\n",
    "        train = all_features.loc[all_features[user_name_column] == random_user]\n",
    "        test = all_features.loc[all_features[user_name_column] != random_user]\n",
    "        knn = use_knn(train[train_x_columns], test[train_x_columns])\n",
    "        vsetky_vzdialenosti.append(knn[0])\n",
    "    medians = []\n",
    "    for hodnota in vsetky_vzdialenosti:\n",
    "        medians.append(np.percentile(hodnota, 25))  \n",
    "    \n",
    "    return np.percentile(medians, 50)\n",
    "treshold_for_knn = get_threshold_for_knn()\n",
    "print(treshold_for_knn)\n",
    "# 33.69773240289701"
   ]
  },
  {
   "cell_type": "code",
   "execution_count": 57,
   "metadata": {},
   "outputs": [],
   "source": [
    "treshold_for_knn=13"
   ]
  },
  {
   "cell_type": "code",
   "execution_count": 89,
   "metadata": {},
   "outputs": [],
   "source": [
    "def split_to_train_test(df, users_to_train):\n",
    "\n",
    "    df_shuffled = df.sample(frac=1, random_state=10).reset_index(drop=True)\n",
    "\n",
    "    mask = [True if x[user_name_column] in users_to_train else False for i, x in df_shuffled.iterrows()]\n",
    "    df_owner = df_shuffled[mask]\n",
    "\n",
    "    mask2 = [True if x[user_name_column] not in users_to_train else False for i, x in df_shuffled.iterrows()]\n",
    "    df_others = df_shuffled[mask2]\n",
    "    \n",
    "    df_train = df_owner[:int(len(df_owner)*0.8)]\n",
    "    df_test = df_owner[int(len(df_owner)*0.8):]\n",
    "    df_test = df_test.append(df_others[:len(df_test)])\n",
    "    \n",
    "    scaler = StandardScaler()\n",
    "    scaler.fit(df_train[train_x_columns])\n",
    "    df_train[train_x_columns] = scaler.transform(df_train[train_x_columns])\n",
    "    df_test[train_x_columns] = scaler.transform(df_test[train_x_columns])\n",
    "    \n",
    "    return df_train, df_test"
   ]
  },
  {
   "cell_type": "code",
   "execution_count": 31,
   "metadata": {},
   "outputs": [],
   "source": [
    "def unify_y_column_format(test_y, predicted, selected_owners, treshold):\n",
    "    test_converted = [1 if i in selected_owners else 0 for i in test_y]\n",
    "    \n",
    "    #predicted = list(itertools.chain.from_iterable(predicted[0]))\n",
    "    predict_converted = [1 if i <= treshold else 0 for i in predicted]\n",
    "    \n",
    "    return test_converted, predict_converted"
   ]
  },
  {
   "cell_type": "code",
   "execution_count": 29,
   "metadata": {},
   "outputs": [],
   "source": [
    "def use_imputation(df_train, df_test, train_x_columns):\n",
    "    imputer = IterativeImputer(random_state=0, max_iter=20, verbose=2)\n",
    "    imputer.fit(df_train[train_x_columns])\n",
    "    df_train[train_x_columns] = imputer.transform(df_train[train_x_columns])\n",
    "    df_test[train_x_columns] = imputer.transform(df_test[train_x_columns])\n",
    "    return df_train, df_test"
   ]
  },
  {
   "cell_type": "code",
   "execution_count": 34,
   "metadata": {},
   "outputs": [],
   "source": [
    "def show_results(test_y,predicted_y):\n",
    "    print ('Accuracy:', accuracy_score(test_y, predicted_y))\n",
    "    print ('F1 score:', f1_score(test_y, predicted_y, pos_label=1))\n",
    "    print ('Recall:', recall_score(test_y, predicted_y, pos_label=1))\n",
    "    print ('Precision:', precision_score(test_y, predicted_y, pos_label=1))\n",
    "    print ('\\n confussion matrix:\\n',confusion_matrix(test_y, predicted_y))"
   ]
  },
  {
   "cell_type": "code",
   "execution_count": 90,
   "metadata": {},
   "outputs": [
    {
     "name": "stdout",
     "output_type": "stream",
     "text": [
      "Accuracy: 0.6161616161616161\n",
      "F1 score: 0.6122448979591837\n",
      "Recall: 0.6060606060606061\n",
      "Precision: 0.6185567010309279\n",
      "\n",
      " confussion matrix:\n",
      " [[62 37]\n",
      " [39 60]]\n"
     ]
    }
   ],
   "source": [
    "selected_owners = ['mino']\n",
    "df_train, df_test = split_to_train_test(all_features, selected_owners)\n",
    "\n",
    "predicted = use_knn(df_train[train_x_columns],df_test[train_x_columns])\n",
    "\n",
    "test_y, predicted_y = unify_y_column_format(df_test[train_y_columns], list(itertools.chain.from_iterable(predicted[0])), selected_owners,treshold_for_knn)\n",
    "\n",
    "show_results(test_y,predicted_y)"
   ]
  },
  {
   "cell_type": "code",
   "execution_count": 91,
   "metadata": {},
   "outputs": [
    {
     "name": "stdout",
     "output_type": "stream",
     "text": [
      "(6.202545292753937, 0.5050505050505051)\n"
     ]
    },
    {
     "data": {
      "image/png": "[encoded data removed]",
      "text/plain": [
       "<Figure size 432x288 with 1 Axes>"
      ]
     },
     "metadata": {
      "needs_background": "light"
     },
     "output_type": "display_data"
    }
   ],
   "source": [
    "tresholds =list(itertools.chain.from_iterable(predicted[0]))\n",
    "test_y_raw = df_test[train_y_columns].reset_index(drop=True)\n",
    "tresholds, test_y_raw = zip(*sorted(zip(tresholds, test_y_raw)))\n",
    "fmr_array=[]\n",
    "fnmr_array=[]\n",
    "for treshold in tresholds:\n",
    "    test_y, predicted_y = unify_y_column_format(test_y_raw, tresholds, selected_owners, treshold)\n",
    "\n",
    "    fmr_array.append(fmr_score(test_y, predicted_y))\n",
    "    fnmr_array.append(fnmr_score(test_y, predicted_y))\n",
    "    \n",
    "nieco = eer_score(tresholds, fmr_array, fnmr_array)\n",
    "print(nieco)\n",
    "plt.plot(tresholds, fmr_array, 'r') # plotting t, a separately \n",
    "plt.plot(tresholds, fnmr_array, 'b') # plotting t, b separately\n",
    "plt.plot(nieco[0], nieco[1], marker='o', markersize=5, color=\"green\")\n",
    "plt.show()\n",
    "print(tresholds)\n",
    "print(fmr_array)\n",
    "print(fnmr_array)"
   ]
  },
  {
   "cell_type": "code",
   "execution_count": null,
   "metadata": {},
   "outputs": [],
   "source": []
  },
  {
   "cell_type": "code",
   "execution_count": 70,
   "metadata": {},
   "outputs": [
    {
     "name": "stdout",
     "output_type": "stream",
     "text": [
      "[IterativeImputer] Completing matrix with shape (432, 352)\n",
      "[IterativeImputer] Ending imputation round 1/20, elapsed time 54.91\n",
      "[IterativeImputer] Change: 24.46548861303908, scaled tolerance: 0.017203269004702273 \n",
      "[IterativeImputer] Ending imputation round 2/20, elapsed time 101.60\n",
      "[IterativeImputer] Change: 6.656333881769349, scaled tolerance: 0.017203269004702273 \n",
      "[IterativeImputer] Ending imputation round 3/20, elapsed time 148.30\n",
      "[IterativeImputer] Change: 3.2001217192922757, scaled tolerance: 0.017203269004702273 \n",
      "[IterativeImputer] Ending imputation round 4/20, elapsed time 198.41\n",
      "[IterativeImputer] Change: 2.123695833474096, scaled tolerance: 0.017203269004702273 \n",
      "[IterativeImputer] Ending imputation round 5/20, elapsed time 251.70\n",
      "[IterativeImputer] Change: 1.6117468515634115, scaled tolerance: 0.017203269004702273 \n",
      "[IterativeImputer] Ending imputation round 6/20, elapsed time 297.75\n",
      "[IterativeImputer] Change: 1.2605798765297216, scaled tolerance: 0.017203269004702273 \n",
      "[IterativeImputer] Ending imputation round 7/20, elapsed time 342.82\n",
      "[IterativeImputer] Change: 1.0137254763403942, scaled tolerance: 0.017203269004702273 \n",
      "[IterativeImputer] Ending imputation round 8/20, elapsed time 388.20\n",
      "[IterativeImputer] Change: 0.8256759651531731, scaled tolerance: 0.017203269004702273 \n",
      "[IterativeImputer] Ending imputation round 9/20, elapsed time 435.07\n",
      "[IterativeImputer] Change: 0.6782516679751909, scaled tolerance: 0.017203269004702273 \n",
      "[IterativeImputer] Ending imputation round 10/20, elapsed time 480.18\n",
      "[IterativeImputer] Change: 0.558107768713429, scaled tolerance: 0.017203269004702273 \n",
      "[IterativeImputer] Ending imputation round 11/20, elapsed time 526.16\n",
      "[IterativeImputer] Change: 0.4597764017629131, scaled tolerance: 0.017203269004702273 \n",
      "[IterativeImputer] Ending imputation round 12/20, elapsed time 573.17\n",
      "[IterativeImputer] Change: 0.37925403629056414, scaled tolerance: 0.017203269004702273 \n",
      "[IterativeImputer] Ending imputation round 13/20, elapsed time 618.95\n",
      "[IterativeImputer] Change: 0.3129623960208598, scaled tolerance: 0.017203269004702273 \n",
      "[IterativeImputer] Ending imputation round 14/20, elapsed time 666.45\n",
      "[IterativeImputer] Change: 0.2583851965723693, scaled tolerance: 0.017203269004702273 \n",
      "[IterativeImputer] Ending imputation round 15/20, elapsed time 712.85\n",
      "[IterativeImputer] Change: 0.2134580803129364, scaled tolerance: 0.017203269004702273 \n",
      "[IterativeImputer] Ending imputation round 16/20, elapsed time 759.59\n",
      "[IterativeImputer] Change: 0.1764582097198417, scaled tolerance: 0.017203269004702273 \n",
      "[IterativeImputer] Ending imputation round 17/20, elapsed time 807.65\n",
      "[IterativeImputer] Change: 0.145968260961527, scaled tolerance: 0.017203269004702273 \n",
      "[IterativeImputer] Ending imputation round 18/20, elapsed time 858.79\n",
      "[IterativeImputer] Change: 0.12083913100553435, scaled tolerance: 0.017203269004702273 \n",
      "[IterativeImputer] Ending imputation round 19/20, elapsed time 914.82\n",
      "[IterativeImputer] Change: 0.10011711900893078, scaled tolerance: 0.017203269004702273 \n",
      "[IterativeImputer] Ending imputation round 20/20, elapsed time 978.31\n",
      "[IterativeImputer] Change: 0.08303445487721603, scaled tolerance: 0.017203269004702273 \n",
      "[IterativeImputer] Completing matrix with shape (432, 352)\n",
      "[IterativeImputer] Ending imputation round 1/20, elapsed time 0.11\n",
      "[IterativeImputer] Ending imputation round 2/20, elapsed time 0.19\n",
      "[IterativeImputer] Ending imputation round 3/20, elapsed time 0.27\n",
      "[IterativeImputer] Ending imputation round 4/20, elapsed time 0.34\n",
      "[IterativeImputer] Ending imputation round 5/20, elapsed time 0.42\n",
      "[IterativeImputer] Ending imputation round 6/20, elapsed time 0.48\n",
      "[IterativeImputer] Ending imputation round 7/20, elapsed time 0.57\n",
      "[IterativeImputer] Ending imputation round 8/20, elapsed time 0.64\n",
      "[IterativeImputer] Ending imputation round 9/20, elapsed time 0.70\n",
      "[IterativeImputer] Ending imputation round 10/20, elapsed time 0.76\n",
      "[IterativeImputer] Ending imputation round 11/20, elapsed time 0.82\n",
      "[IterativeImputer] Ending imputation round 12/20, elapsed time 0.88\n",
      "[IterativeImputer] Ending imputation round 13/20, elapsed time 0.94\n",
      "[IterativeImputer] Ending imputation round 14/20, elapsed time 1.00\n",
      "[IterativeImputer] Ending imputation round 15/20, elapsed time 1.05\n",
      "[IterativeImputer] Ending imputation round 16/20, elapsed time 1.11\n",
      "[IterativeImputer] Ending imputation round 17/20, elapsed time 1.17\n",
      "[IterativeImputer] Ending imputation round 18/20, elapsed time 1.21\n",
      "[IterativeImputer] Ending imputation round 19/20, elapsed time 1.28\n",
      "[IterativeImputer] Ending imputation round 20/20, elapsed time 1.34\n",
      "[IterativeImputer] Completing matrix with shape (218, 352)\n",
      "[IterativeImputer] Ending imputation round 1/20, elapsed time 0.03\n",
      "[IterativeImputer] Ending imputation round 2/20, elapsed time 0.08\n",
      "[IterativeImputer] Ending imputation round 3/20, elapsed time 0.10\n",
      "[IterativeImputer] Ending imputation round 4/20, elapsed time 0.15\n",
      "[IterativeImputer] Ending imputation round 5/20, elapsed time 0.18\n",
      "[IterativeImputer] Ending imputation round 6/20, elapsed time 0.21\n",
      "[IterativeImputer] Ending imputation round 7/20, elapsed time 0.24\n",
      "[IterativeImputer] Ending imputation round 8/20, elapsed time 0.28\n",
      "[IterativeImputer] Ending imputation round 9/20, elapsed time 0.31\n",
      "[IterativeImputer] Ending imputation round 10/20, elapsed time 0.34\n",
      "[IterativeImputer] Ending imputation round 11/20, elapsed time 0.37\n",
      "[IterativeImputer] Ending imputation round 12/20, elapsed time 0.40\n",
      "[IterativeImputer] Ending imputation round 13/20, elapsed time 0.42\n",
      "[IterativeImputer] Ending imputation round 14/20, elapsed time 0.45\n",
      "[IterativeImputer] Ending imputation round 15/20, elapsed time 0.48\n",
      "[IterativeImputer] Ending imputation round 16/20, elapsed time 0.50\n",
      "[IterativeImputer] Ending imputation round 17/20, elapsed time 0.53\n",
      "[IterativeImputer] Ending imputation round 18/20, elapsed time 0.55\n",
      "[IterativeImputer] Ending imputation round 19/20, elapsed time 0.58\n",
      "[IterativeImputer] Ending imputation round 20/20, elapsed time 0.60\n"
     ]
    }
   ],
   "source": [
    "selected_owners = ['mino']\n",
    "df_train, df_test = split_to_train_test(all_features, selected_owners)\n",
    "if not delete_nan_features:\n",
    "    df_train, df_test =  use_imputation(df_train, df_test, train_x_columns)"
   ]
  },
  {
   "cell_type": "code",
   "execution_count": 71,
   "metadata": {},
   "outputs": [
    {
     "name": "stdout",
     "output_type": "stream",
     "text": [
      "Accuracy: 0.5504587155963303\n",
      "F1 score: 0.5585585585585585\n",
      "Recall: 0.5688073394495413\n",
      "Precision: 0.5486725663716814\n",
      "\n",
      " confussion matrix:\n",
      " [[58 51]\n",
      " [47 62]]\n"
     ]
    }
   ],
   "source": [
    "predicted = use_knn(df_train[train_x_columns],df_test[train_x_columns])\n",
    "\n",
    "test_y, predicted_y = unify_y_column_format(df_test[train_y_columns], list(itertools.chain.from_iterable(predicted[0])), selected_owners,treshold_for_knn)\n",
    "\n",
    "show_results(test_y,predicted_y)"
   ]
  },
  {
   "cell_type": "code",
   "execution_count": 72,
   "metadata": {},
   "outputs": [
    {
     "data": {
      "image/png": "[encoded data removed]",
      "text/plain": [
       "<Figure size 432x288 with 1 Axes>"
      ]
     },
     "metadata": {
      "needs_background": "light"
     },
     "output_type": "display_data"
    }
   ],
   "source": [
    "tresholds =list(itertools.chain.from_iterable(predicted[0]))\n",
    "test_y_raw = df_test[train_y_columns].reset_index(drop=True)\n",
    "tresholds, test_y_raw = zip(*sorted(zip(tresholds, test_y_raw)))\n",
    "fmr_array=[]\n",
    "fnmr_array=[]\n",
    "for treshold in tresholds:\n",
    "    test_y, predicted_y = unify_y_column_format(test_y_raw, tresholds, selected_owners, treshold)\n",
    "\n",
    "    fmr_array.append(fmr_score(test_y, predicted_y))\n",
    "    fnmr_array.append(fnmr_score(test_y, predicted_y))\n",
    "    \n",
    "nieco = eer_score(tresholds, fmr_array, fnmr_array)\n",
    "\n",
    "plt.plot(tresholds, fmr_array, 'r') # plotting t, a separately \n",
    "plt.plot(tresholds, fnmr_array, 'b') # plotting t, b separately\n",
    "plt.plot(nieco[0], nieco[1], marker='o', markersize=5, color=\"green\")\n",
    "plt.show()"
   ]
  },
  {
   "cell_type": "code",
   "execution_count": null,
   "metadata": {},
   "outputs": [],
   "source": []
  }
 ],
 "metadata": {
  "kernelspec": {
   "display_name": "Python 3",
   "language": "python",
   "name": "python3"
  },
  "language_info": {
   "codemirror_mode": {
    "name": "ipython",
    "version": 3
   },
   "file_extension": ".py",
   "mimetype": "text/x-python",
   "name": "python",
   "nbconvert_exporter": "python",
   "pygments_lexer": "ipython3",
   "version": "3.7.9"
  }
 },
 "nbformat": 4,
 "nbformat_minor": 4
}

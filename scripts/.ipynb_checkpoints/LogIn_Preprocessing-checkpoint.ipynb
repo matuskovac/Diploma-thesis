{
 "cells": [
  {
   "cell_type": "code",
   "execution_count": 48,
   "metadata": {},
   "outputs": [],
   "source": [
    "import warnings\n",
    "warnings.filterwarnings('ignore')\n",
    "import numpy as np\n",
    "import pandas as pd\n",
    "import time\n",
    "import random\n",
    "import itertools\n",
    "import  matplotlib.pyplot as plt\n",
    "import shapely\n",
    "from shapely.geometry import LineString, Point\n",
    "\n",
    "from sklearn.model_selection import train_test_split\n",
    "from sklearn.preprocessing import LabelEncoder\n",
    "from sklearn.preprocessing import StandardScaler\n",
    "from sklearn.preprocessing import MinMaxScaler\n",
    "from sklearn.tree import DecisionTreeClassifier\n",
    "from sklearn.naive_bayes import GaussianNB\n",
    "from sklearn.svm import SVC\n",
    "from sklearn.neighbors import NearestNeighbors\n",
    "from sklearn.utils import shuffle\n",
    "from sklearn.metrics import precision_score, \\\n",
    "    recall_score, confusion_matrix, classification_report, \\\n",
    "    accuracy_score, f1_score\n",
    "from sklearn.experimental import enable_iterative_imputer\n",
    "from sklearn.impute import IterativeImputer\n",
    "from sklearn.ensemble import ExtraTreesClassifier\n",
    "from sklearn.feature_selection import RFE\n",
    "from sklearn.linear_model import LogisticRegression\n",
    "from sklearn.svm import OneClassSVM\n",
    "\n",
    "from behalearn.preprocessing import columns\n",
    "from behalearn.authentication import authentication_metrics\n",
    "from behalearn.authentication import authentication_results\n",
    "from behalearn.estimators import VotingClassifier\n",
    "from behalearn.features import FeatureExtractor\n",
    "from behalearn.features import temporal\n",
    "from behalearn.metrics import fmr_score\n",
    "from behalearn.metrics import fnmr_score\n",
    "from behalearn.metrics import eer_score\n",
    "from behalearn.metrics import hter_score\n",
    "from behalearn.preprocessing import StartEndSegmentSplitter\n",
    "from behalearn.preprocessing import SegmentSplitter\n",
    "from behalearn.preprocessing.segment import criteria\n",
    "from behalearn.visualization import initialize_notebook_output\n",
    "from behalearn.visualization import label_touches\n",
    "from behalearn.visualization import plot_fmr_fnmr\n",
    "from behalearn.visualization import visualize_mobile_data\n",
    "from behalearn.visualization import visualize_mouse_data\n",
    "from behalearn.visualization import visualize_custom_data\n"
   ]
  },
  {
   "cell_type": "code",
   "execution_count": 56,
   "metadata": {},
   "outputs": [],
   "source": [
    "segment_column = 'segment'\n",
    "user_column = 'user'\n",
    "user_name_column = 'username'\n",
    "compute_features_for_segment = True\n",
    "delete_nan_features = False\n",
    "use_selected_features = False\n",
    "\n",
    "path_to_raw_data = '../login_datasets/2019-01-08_FIIT_-2-poschodie_po_skuske_KPAIS_correct_patterns_only/'\n",
    "path_to_featutes = \"../login_features/\" + (\"segments\" if compute_features_for_segment else \"paterns\") + (\"\" if delete_nan_features else \"_nan\") + \"/\"\n",
    "\n",
    "columns_to_identificate_features = ['id', 'pattern_id','device','scenario', user_name_column, user_column]\n",
    "if compute_features_for_segment:\n",
    "    columns_to_identificate_features.append(segment_column)\n",
    "\n",
    "selected_features_dict={85: ['duration', 'length', 'velocity_x_std', 'velocity_x_min', 'velocity_x_max', 'velocity_x_median', 'velocity_y_std', 'velocity_y_min', 'velocity_y_max', 'velocity_y_abs_max', 'velocity_y_median', 'velocity_x_y_std', 'velocity_x_y_max', 'velocity_x_y_abs_min', 'velocity_x_y_lower_q', 'velocity_x_y_upper_q', 'acceleration_x_std', 'accelerometer_jerk_x_std', 'accelerometer_jerk_z_std', 'accelerometer_jerk_x_y_mean', 'accelerometer_jerk_x_y_abs_max', 'accelerometer_jerk_x_y_upper_q', 'accelerometer_jerk_x_z_max', 'accelerometer_jerk_x_z_median', 'accelerometer_jerk_y_z_mean', 'accelerometer_jerk_y_z_std', 'accelerometer_jerk_x_y_z_std', 'accelerometer_x_mean', 'accelerometer_x_std', 'accelerometer_x_min', 'accelerometer_y_mean', 'accelerometer_y_std', 'accelerometer_z_mean', 'accelerometer_z_std', 'accelerometer_x_y_mean', 'accelerometer_x_y_max', 'accelerometer_x_z_mean', 'accelerometer_x_z_median', 'accelerometer_x_z_upper_q', 'accelerometer_y_z_mean', 'accelerometer_y_z_median', 'gyro_jerk_x_mean', 'gyro_jerk_y_min', 'gyro_jerk_y_max', 'gyro_jerk_z_std', 'gyro_jerk_z_min', 'gyro_jerk_z_max', 'gyro_jerk_x_y_mean', 'gyro_jerk_x_y_std', 'gyro_jerk_x_y_max', 'gyro_jerk_x_y_median', 'gyro_jerk_x_y_lower_q', 'gyro_jerk_x_y_iqr', 'gyro_jerk_x_z_std', 'gyro_jerk_x_z_median', 'gyro_jerk_x_z_lower_q', 'gyro_jerk_x_z_iqr', 'gyro_jerk_y_z_std', 'gyro_jerk_y_z_abs_max', 'gyro_jerk_y_z_median', 'gyro_jerk_y_z_upper_q', 'gyro_jerk_x_y_z_median', 'gyro_jerk_x_y_z_lower_q', 'gyro_x_std', 'gyro_y_std', 'gyro_z_std', 'gyro_z_min', 'gyro_x_y_std', 'gyro_x_y_min', 'gyro_x_y_lower_q', 'gyro_x_y_median', 'gyro_x_y_upper_q', 'gyro_x_y_max', 'gyro_x_z_std', 'gyro_x_z_lower_q', 'gyro_x_z_upper_q', 'gyro_x_z_max', 'gyro_y_z_std', 'gyro_y_z_min', 'gyro_y_z_lower_q', 'gyro_y_z_median', 'gyro_y_z_max', 'gyro_x_y_z_std', 'gyro_x_y_z_min', 'gyro_x_y_z_lower_q'], 75: ['duration', 'length', 'velocity_x_std', 'velocity_x_min', 'velocity_x_max', 'velocity_x_median', 'velocity_y_std', 'velocity_y_min', 'velocity_y_max', 'velocity_y_abs_max', 'velocity_y_median', 'velocity_x_y_std', 'velocity_x_y_max', 'velocity_x_y_abs_min', 'velocity_x_y_lower_q', 'velocity_x_y_upper_q', 'accelerometer_jerk_x_std', 'accelerometer_jerk_z_std', 'accelerometer_jerk_x_y_mean', 'accelerometer_jerk_x_y_abs_max', 'accelerometer_jerk_x_y_upper_q', 'accelerometer_jerk_x_z_max', 'accelerometer_jerk_x_z_median', 'accelerometer_jerk_y_z_mean', 'accelerometer_jerk_y_z_std', 'accelerometer_jerk_x_y_z_std', 'accelerometer_x_mean', 'accelerometer_x_std', 'accelerometer_x_min', 'accelerometer_y_mean', 'accelerometer_y_std', 'accelerometer_z_mean', 'accelerometer_x_y_mean', 'accelerometer_x_y_max', 'accelerometer_x_z_mean', 'accelerometer_x_z_median', 'accelerometer_x_z_upper_q', 'accelerometer_y_z_mean', 'accelerometer_y_z_median', 'gyro_jerk_x_mean', 'gyro_jerk_y_min', 'gyro_jerk_y_max', 'gyro_jerk_z_std', 'gyro_jerk_x_y_mean', 'gyro_jerk_x_y_std', 'gyro_jerk_x_y_median', 'gyro_jerk_x_y_iqr', 'gyro_jerk_x_z_std', 'gyro_jerk_x_z_median', 'gyro_jerk_x_z_lower_q', 'gyro_jerk_x_z_iqr', 'gyro_jerk_y_z_std', 'gyro_jerk_y_z_abs_max', 'gyro_jerk_y_z_median', 'gyro_jerk_x_y_z_lower_q', 'gyro_x_std', 'gyro_y_std', 'gyro_z_std', 'gyro_x_y_std', 'gyro_x_y_min', 'gyro_x_y_lower_q', 'gyro_x_y_median', 'gyro_x_y_upper_q', 'gyro_x_y_max', 'gyro_x_z_lower_q', 'gyro_x_z_upper_q', 'gyro_x_z_max', 'gyro_y_z_std', 'gyro_y_z_min', 'gyro_y_z_lower_q', 'gyro_y_z_median', 'gyro_y_z_max', 'gyro_x_y_z_std', 'gyro_x_y_z_min', 'gyro_x_y_z_lower_q'], 100: ['duration', 'length', 'velocity_x_std', 'velocity_x_min', 'velocity_x_max', 'velocity_x_abs_max', 'velocity_x_median', 'velocity_y_std', 'velocity_y_min', 'velocity_y_max', 'velocity_y_abs_min', 'velocity_y_abs_max', 'velocity_y_median', 'velocity_y_upper_q', 'velocity_x_y_std', 'velocity_x_y_max', 'velocity_x_y_abs_min', 'velocity_x_y_lower_q', 'velocity_x_y_upper_q', 'acceleration_x_std', 'acceleration_x_y_std', 'acceleration_x_y_max', 'acceleration_x_y_lower_q', 'accelerometer_jerk_x_std', 'accelerometer_jerk_z_std', 'accelerometer_jerk_x_y_mean', 'accelerometer_jerk_x_y_abs_max', 'accelerometer_jerk_x_y_upper_q', 'accelerometer_jerk_x_z_max', 'accelerometer_jerk_x_z_median', 'accelerometer_jerk_y_z_mean', 'accelerometer_jerk_y_z_std', 'accelerometer_jerk_x_y_z_std', 'accelerometer_x_mean', 'accelerometer_x_std', 'accelerometer_x_min', 'accelerometer_y_mean', 'accelerometer_y_std', 'accelerometer_z_mean', 'accelerometer_z_std', 'accelerometer_z_min', 'accelerometer_z_max', 'accelerometer_x_y_mean', 'accelerometer_x_y_upper_q', 'accelerometer_x_y_max', 'accelerometer_x_z_mean', 'accelerometer_x_z_lower_q', 'accelerometer_x_z_median', 'accelerometer_x_z_upper_q', 'accelerometer_y_z_mean', 'accelerometer_y_z_median', 'accelerometer_x_y_z_std', 'accelerometer_x_y_z_lower_q', 'gyro_jerk_x_mean', 'gyro_jerk_y_min', 'gyro_jerk_y_max', 'gyro_jerk_z_std', 'gyro_jerk_z_min', 'gyro_jerk_z_max', 'gyro_jerk_x_y_mean', 'gyro_jerk_x_y_std', 'gyro_jerk_x_y_max', 'gyro_jerk_x_y_median', 'gyro_jerk_x_y_lower_q', 'gyro_jerk_x_y_iqr', 'gyro_jerk_x_z_std', 'gyro_jerk_x_z_median', 'gyro_jerk_x_z_lower_q', 'gyro_jerk_x_z_iqr', 'gyro_jerk_y_z_std', 'gyro_jerk_y_z_abs_max', 'gyro_jerk_y_z_median', 'gyro_jerk_y_z_upper_q', 'gyro_jerk_x_y_z_median', 'gyro_jerk_x_y_z_lower_q', 'gyro_jerk_x_y_z_iqr', 'gyro_x_std', 'gyro_y_std', 'gyro_z_std', 'gyro_z_min', 'gyro_z_max', 'gyro_x_y_std', 'gyro_x_y_min', 'gyro_x_y_lower_q', 'gyro_x_y_median', 'gyro_x_y_upper_q', 'gyro_x_y_max', 'gyro_x_z_std', 'gyro_x_z_min', 'gyro_x_z_lower_q', 'gyro_x_z_upper_q', 'gyro_x_z_max', 'gyro_y_z_std', 'gyro_y_z_min', 'gyro_y_z_lower_q', 'gyro_y_z_median', 'gyro_y_z_max', 'gyro_x_y_z_std', 'gyro_x_y_z_min', 'gyro_x_y_z_lower_q'], 125: ['duration', 'length', 'velocity_x_std', 'velocity_x_min', 'velocity_x_max', 'velocity_x_abs_max', 'velocity_x_median', 'velocity_y_std', 'velocity_y_min', 'velocity_y_max', 'velocity_y_abs_min', 'velocity_y_abs_max', 'velocity_y_median', 'velocity_y_upper_q', 'velocity_y_iqr', 'velocity_x_y_std', 'velocity_x_y_max', 'velocity_x_y_abs_min', 'velocity_x_y_abs_max', 'velocity_x_y_median', 'velocity_x_y_lower_q', 'velocity_x_y_upper_q', 'acceleration_x_std', 'acceleration_x_min', 'acceleration_x_max', 'acceleration_x_median', 'acceleration_y_std', 'acceleration_x_y_std', 'acceleration_x_y_max', 'acceleration_x_y_abs_max', 'acceleration_x_y_median', 'acceleration_x_y_lower_q', 'accelerometer_jerk_x_std', 'accelerometer_jerk_y_std', 'accelerometer_jerk_z_std', 'accelerometer_jerk_z_min', 'accelerometer_jerk_x_y_mean', 'accelerometer_jerk_x_y_abs_max', 'accelerometer_jerk_x_y_upper_q', 'accelerometer_jerk_x_z_std', 'accelerometer_jerk_x_z_max', 'accelerometer_jerk_x_z_median', 'accelerometer_jerk_y_z_mean', 'accelerometer_jerk_y_z_std', 'accelerometer_jerk_x_y_z_std', 'accelerometer_x_mean', 'accelerometer_x_std', 'accelerometer_x_min', 'accelerometer_y_mean', 'accelerometer_y_std', 'accelerometer_z_mean', 'accelerometer_z_std', 'accelerometer_z_min', 'accelerometer_z_max', 'accelerometer_x_y_mean', 'accelerometer_x_y_std', 'accelerometer_x_y_median', 'accelerometer_x_y_upper_q', 'accelerometer_x_y_max', 'accelerometer_x_z_mean', 'accelerometer_x_z_lower_q', 'accelerometer_x_z_median', 'accelerometer_x_z_upper_q', 'accelerometer_y_z_mean', 'accelerometer_y_z_median', 'accelerometer_x_y_z_std', 'accelerometer_x_y_z_lower_q', 'gyro_jerk_x_mean', 'gyro_jerk_x_max', 'gyro_jerk_y_min', 'gyro_jerk_y_max', 'gyro_jerk_z_std', 'gyro_jerk_z_min', 'gyro_jerk_z_max', 'gyro_jerk_x_y_mean', 'gyro_jerk_x_y_std', 'gyro_jerk_x_y_max', 'gyro_jerk_x_y_median', 'gyro_jerk_x_y_lower_q', 'gyro_jerk_x_y_iqr', 'gyro_jerk_x_z_mean', 'gyro_jerk_x_z_std', 'gyro_jerk_x_z_median', 'gyro_jerk_x_z_lower_q', 'gyro_jerk_x_z_iqr', 'gyro_jerk_y_z_std', 'gyro_jerk_y_z_abs_max', 'gyro_jerk_y_z_median', 'gyro_jerk_y_z_lower_q', 'gyro_jerk_y_z_upper_q', 'gyro_jerk_x_y_z_mean', 'gyro_jerk_x_y_z_std', 'gyro_jerk_x_y_z_median', 'gyro_jerk_x_y_z_lower_q', 'gyro_jerk_x_y_z_iqr', 'gyro_x_std', 'gyro_x_median', 'gyro_x_max', 'gyro_y_std', 'gyro_z_std', 'gyro_z_min', 'gyro_z_lower_q', 'gyro_z_max', 'gyro_x_y_mean', 'gyro_x_y_std', 'gyro_x_y_min', 'gyro_x_y_lower_q', 'gyro_x_y_median', 'gyro_x_y_upper_q', 'gyro_x_y_max', 'gyro_x_z_std', 'gyro_x_z_min', 'gyro_x_z_lower_q', 'gyro_x_z_median', 'gyro_x_z_upper_q', 'gyro_x_z_max', 'gyro_y_z_mean', 'gyro_y_z_std', 'gyro_y_z_min', 'gyro_y_z_lower_q', 'gyro_y_z_median', 'gyro_y_z_max', 'gyro_x_y_z_std', 'gyro_x_y_z_min', 'gyro_x_y_z_lower_q'], 150: ['duration', 'length', 'velocity_x_std', 'velocity_x_min', 'velocity_x_max', 'velocity_x_abs_max', 'velocity_x_median', 'velocity_x_iqr', 'velocity_y_std', 'velocity_y_min', 'velocity_y_max', 'velocity_y_abs_min', 'velocity_y_abs_max', 'velocity_y_median', 'velocity_y_upper_q', 'velocity_y_iqr', 'velocity_x_y_std', 'velocity_x_y_max', 'velocity_x_y_abs_min', 'velocity_x_y_abs_max', 'velocity_x_y_median', 'velocity_x_y_lower_q', 'velocity_x_y_upper_q', 'velocity_x_y_iqr', 'acceleration_x_std', 'acceleration_x_min', 'acceleration_x_max', 'acceleration_x_median', 'acceleration_x_iqr', 'acceleration_y_std', 'acceleration_x_y_std', 'acceleration_x_y_max', 'acceleration_x_y_abs_min', 'acceleration_x_y_abs_max', 'acceleration_x_y_median', 'acceleration_x_y_lower_q', 'jerk_x_std', 'jerk_x_y_min', 'jerk_x_y_median', 'accelerometer_jerk_x_std', 'accelerometer_jerk_x_min', 'accelerometer_jerk_x_max', 'accelerometer_jerk_y_std', 'accelerometer_jerk_z_std', 'accelerometer_jerk_z_min', 'accelerometer_jerk_x_y_mean', 'accelerometer_jerk_x_y_abs_max', 'accelerometer_jerk_x_y_median', 'accelerometer_jerk_x_y_upper_q', 'accelerometer_jerk_x_z_mean', 'accelerometer_jerk_x_z_std', 'accelerometer_jerk_x_z_max', 'accelerometer_jerk_x_z_median', 'accelerometer_jerk_x_z_lower_q', 'accelerometer_jerk_y_z_mean', 'accelerometer_jerk_y_z_std', 'accelerometer_jerk_y_z_lower_q', 'accelerometer_jerk_x_y_z_std', 'accelerometer_x_mean', 'accelerometer_x_std', 'accelerometer_x_min', 'accelerometer_y_mean', 'accelerometer_y_std', 'accelerometer_y_lower_q', 'accelerometer_y_upper_q', 'accelerometer_z_mean', 'accelerometer_z_std', 'accelerometer_z_min', 'accelerometer_z_max', 'accelerometer_x_y_mean', 'accelerometer_x_y_std', 'accelerometer_x_y_median', 'accelerometer_x_y_upper_q', 'accelerometer_x_y_max', 'accelerometer_x_z_mean', 'accelerometer_x_z_lower_q', 'accelerometer_x_z_median', 'accelerometer_x_z_upper_q', 'accelerometer_y_z_mean', 'accelerometer_y_z_lower_q', 'accelerometer_y_z_median', 'accelerometer_y_z_max', 'accelerometer_x_y_z_std', 'accelerometer_x_y_z_lower_q', 'gyro_jerk_x_mean', 'gyro_jerk_x_min', 'gyro_jerk_x_max', 'gyro_jerk_y_mean', 'gyro_jerk_y_min', 'gyro_jerk_y_max', 'gyro_jerk_y_iqr', 'gyro_jerk_z_std', 'gyro_jerk_z_min', 'gyro_jerk_z_max', 'gyro_jerk_x_y_mean', 'gyro_jerk_x_y_std', 'gyro_jerk_x_y_max', 'gyro_jerk_x_y_median', 'gyro_jerk_x_y_lower_q', 'gyro_jerk_x_y_iqr', 'gyro_jerk_x_z_mean', 'gyro_jerk_x_z_std', 'gyro_jerk_x_z_median', 'gyro_jerk_x_z_lower_q', 'gyro_jerk_x_z_iqr', 'gyro_jerk_y_z_std', 'gyro_jerk_y_z_abs_max', 'gyro_jerk_y_z_median', 'gyro_jerk_y_z_lower_q', 'gyro_jerk_y_z_upper_q', 'gyro_jerk_x_y_z_mean', 'gyro_jerk_x_y_z_std', 'gyro_jerk_x_y_z_median', 'gyro_jerk_x_y_z_lower_q', 'gyro_jerk_x_y_z_iqr', 'gyro_x_std', 'gyro_x_median', 'gyro_x_max', 'gyro_y_std', 'gyro_y_min', 'gyro_y_upper_q', 'gyro_y_max', 'gyro_z_std', 'gyro_z_min', 'gyro_z_lower_q', 'gyro_z_max', 'gyro_x_y_mean', 'gyro_x_y_std', 'gyro_x_y_min', 'gyro_x_y_lower_q', 'gyro_x_y_median', 'gyro_x_y_upper_q', 'gyro_x_y_max', 'gyro_x_z_std', 'gyro_x_z_min', 'gyro_x_z_lower_q', 'gyro_x_z_median', 'gyro_x_z_upper_q', 'gyro_x_z_max', 'gyro_y_z_mean', 'gyro_y_z_std', 'gyro_y_z_min', 'gyro_y_z_lower_q', 'gyro_y_z_median', 'gyro_y_z_max', 'gyro_x_y_z_std', 'gyro_x_y_z_min', 'gyro_x_y_z_lower_q', 'gyro_x_y_z_median', 'gyro_x_y_z_max']}"
   ]
  },
  {
   "cell_type": "code",
   "execution_count": null,
   "metadata": {},
   "outputs": [],
   "source": [
    "touch_data = pd.read_csv(path_to_raw_data + 'touch.csv', sep=',')\n",
    "acc_data = pd.read_csv(path_to_raw_data + 'linear_accelerometer.csv', sep=',')\n",
    "gyro_data = pd.read_csv(path_to_raw_data + 'gyroscope.csv', sep=',')\n",
    "touch_data\n",
    "touch_data[\"id\"] = touch_data[\"pattern_id\"].astype(str) + touch_data[\"device\"]\n",
    "acc_data[\"id\"] = acc_data[\"pattern_id\"].astype(str) + acc_data[\"device\"]\n",
    "gyro_data[\"id\"] = gyro_data[\"pattern_id\"].astype(str) + gyro_data[\"device\"]\n",
    "\n",
    "if compute_features_for_segment:\n",
    "    touch_data[\"id\"] += touch_data['segment'].astype(str)\n",
    "    acc_data[\"id\"] += acc_data['segment'].astype(str)\n",
    "    gyro_data[\"id\"] += gyro_data['segment'].astype(str)\n",
    "else:\n",
    "    touch_data.drop('segment', axis=1, inplace=True)\n",
    "    acc_data.drop('segment', axis=1, inplace=True)\n",
    "    gyro_data.drop('segment', axis=1, inplace=True)"
   ]
  },
  {
   "cell_type": "code",
   "execution_count": null,
   "metadata": {},
   "outputs": [],
   "source": [
    "touch_data.head()"
   ]
  },
  {
   "cell_type": "code",
   "execution_count": null,
   "metadata": {},
   "outputs": [],
   "source": [
    "le = LabelEncoder()\n",
    "le.fit(pd.concat([touch_data['id'], acc_data['id'], gyro_data['id']]))\n",
    "touch_data[user_column] = le.transform(touch_data['id'])\n",
    "acc_data[user_column] = le.transform(acc_data['id'])\n",
    "gyro_data[user_column] = le.transform(gyro_data['id'])"
   ]
  },
  {
   "cell_type": "code",
   "execution_count": null,
   "metadata": {},
   "outputs": [],
   "source": [
    "touch_data.head()"
   ]
  },
  {
   "cell_type": "code",
   "execution_count": null,
   "metadata": {},
   "outputs": [],
   "source": []
  },
  {
   "cell_type": "code",
   "execution_count": null,
   "metadata": {},
   "outputs": [],
   "source": [
    "def get_columns_combinations(col_names,combinations = None):\n",
    "    combs = columns._get_column_combinations(col_names, combinations)\n",
    "    final_combs=[]\n",
    "    for comb in combs:\n",
    "        if len(comb) > 1:\n",
    "            final_combs.append(comb)\n",
    "    return final_combs"
   ]
  },
  {
   "cell_type": "code",
   "execution_count": null,
   "metadata": {},
   "outputs": [],
   "source": [
    "def calculate_maginute_to_df(df, columns_name):\n",
    "    final_combinations = []\n",
    "    for combination in get_columns_combinations(columns_name):\n",
    "        sum = [0]*len(df)\n",
    "        for dimension in combination:\n",
    "            sum += df[dimension] ** 2\n",
    "        magnitude=sum **(1/2)\n",
    "        new_column='_'.join(combination)\n",
    "        df[new_column]=magnitude\n",
    "        final_combinations.append(new_column)\n",
    "        \n",
    "    return final_combinations"
   ]
  },
  {
   "cell_type": "code",
   "execution_count": null,
   "metadata": {},
   "outputs": [],
   "source": [
    "def compute_features(df, features, prefix = None):\n",
    "    extractor = FeatureExtractor(features, [user_column])\n",
    "\n",
    "    features_df = extractor.fit_transform(df)\n",
    "    features_df = features_df.replace([np.inf, -np.inf], np.nan)\n",
    "    \n",
    "    if delete_nan_features:\n",
    "        features_df = features_df.dropna()\n",
    "    \n",
    "    if prefix is not None:\n",
    "        features_df.columns = features_df.columns.str.replace(r\"velocity\", prefix)\n",
    "\n",
    "    return features_df"
   ]
  },
  {
   "cell_type": "code",
   "execution_count": null,
   "metadata": {},
   "outputs": [],
   "source": [
    "def renaming_condition(x, columns_name, prefix):\n",
    "    if x in columns_name:\n",
    "        return prefix + x\n",
    "    return x\n",
    "\n",
    "\n",
    "def add_prefix_to_columns(df, columns_name, prefix):\n",
    "    df.columns = [renaming_condition(col, columns_name, prefix) for col in df.columns]\n",
    "\n",
    "    return [prefix + s for s in columns_name]"
   ]
  },
  {
   "cell_type": "code",
   "execution_count": null,
   "metadata": {},
   "outputs": [],
   "source": [
    "def compute_statistics(df, columns_to_compute_statistic, prefix):\n",
    "    columns_to_compute_statistic += calculate_maginute_to_df(df, columns_to_compute_statistic)\n",
    "    columns_to_compute_statistic = add_prefix_to_columns(df, columns_to_compute_statistic, prefix)\n",
    "\n",
    "    statistics = df.groupby([user_column])[columns_to_compute_statistic].describe()\n",
    "    statistics.columns = statistics.columns.to_flat_index()\n",
    "    statistics.rename(columns='_'.join, inplace=True)\n",
    "    statistics = statistics[statistics.columns.drop(list(statistics.filter(regex='count')))]\n",
    "    \n",
    "    return statistics"
   ]
  },
  {
   "cell_type": "code",
   "execution_count": null,
   "metadata": {},
   "outputs": [],
   "source": [
    "def normalize_columns_names(df):\n",
    "    df.columns = df.columns.str.replace(r\"25%\", \"_lower_q\")\n",
    "    df.columns = df.columns.str.replace(r\"50%\", \"_median\")\n",
    "    df.columns = df.columns.str.replace(r\"75%\", \"_upper_q\")\n",
    "    df.columns = df.columns.str.replace(r\"__\", \"_\")"
   ]
  },
  {
   "cell_type": "code",
   "execution_count": null,
   "metadata": {
    "scrolled": true
   },
   "outputs": [],
   "source": [
    "features = [\n",
    "    'duration',\n",
    "    ('length', {\n",
    "        'columns': ['x', 'y'],\n",
    "    }),\n",
    "    ('start', {\n",
    "        'columns': ['x', 'y'],\n",
    "    }),\n",
    "    ('velocity', {\n",
    "        'columns': ['x', 'y'],\n",
    "    }),\n",
    "    ('acceleration', {\n",
    "        'columns': ['x', 'y'],\n",
    "    }),\n",
    "    ('jerk', {\n",
    "        'columns': ['x', 'y'],\n",
    "    }),\n",
    "    ('angular_velocity', {\n",
    "        'columns': ['x', 'y'],\n",
    "    }),\n",
    "    ('angular_acceleration', {\n",
    "        'columns': ['x', 'y'],\n",
    "    }),\n",
    "]\n",
    "print(time.strftime(\"%Y-%m-%d %H:%M\"))\n",
    "touch_features = compute_features(touch_data, features)\n",
    "touch_features = touch_features.merge(touch_data[columns_to_identificate_features], on=[user_column]).drop_duplicates()\n",
    "features = [\n",
    "    ('velocity', {\n",
    "        'columns': ['x', 'y', 'z'],\n",
    "    }),\n",
    "]\n",
    "print(time.strftime(\"%Y-%m-%d %H:%M\"))\n",
    "\n",
    "acc_features = compute_features(acc_data, features, \"accelerometer_jerk\")\n",
    "acc_statistics_from_raw_data = compute_statistics(acc_data,['x','y','z'],\"accelerometer_\")\n",
    "acc_features = acc_features.merge(acc_statistics_from_raw_data, on='user', how='inner').drop_duplicates()\n",
    "print(time.strftime(\"%Y-%m-%d %H:%M\"))\n",
    "\n",
    "gyro_features = compute_features(gyro_data, features, \"gyro_jerk\")\n",
    "gyro_statistics_from_raw_data = compute_statistics(gyro_data,['x','y','z'],\"gyro_\")\n",
    "gyro_features = gyro_features.merge(gyro_statistics_from_raw_data, on='user', how='inner').drop_duplicates()\n",
    "print(time.strftime(\"%Y-%m-%d %H:%M\"))\n",
    "\n",
    "all_features = touch_features.merge(acc_features, on='user', how='inner').merge(gyro_features, on='user', how='inner')\n",
    "normalize_columns_names(all_features)"
   ]
  },
  {
   "cell_type": "code",
   "execution_count": null,
   "metadata": {},
   "outputs": [],
   "source": [
    "print(touch_features)\n",
    "print(acc_features)\n",
    "print(gyro_features)\n",
    "print(all_features)"
   ]
  },
  {
   "cell_type": "code",
   "execution_count": null,
   "metadata": {},
   "outputs": [],
   "source": [
    "touch_features.to_csv(path_to_featutes + \"touch_feautures.csv\", encoding='utf-8', index=False)\n",
    "acc_features.to_csv(path_to_featutes + \"acc_feautures.csv\", encoding='utf-8', index=False)\n",
    "gyro_features.to_csv(path_to_featutes + \"gyro_feautures.csv\", encoding='utf-8', index=False)\n",
    "all_features.to_csv(path_to_featutes + \"all_feautures.csv\", encoding='utf-8', index=False)"
   ]
  },
  {
   "cell_type": "code",
   "execution_count": null,
   "metadata": {},
   "outputs": [],
   "source": []
  },
  {
   "cell_type": "code",
   "execution_count": null,
   "metadata": {},
   "outputs": [],
   "source": []
  },
  {
   "cell_type": "code",
   "execution_count": null,
   "metadata": {},
   "outputs": [],
   "source": []
  },
  {
   "cell_type": "code",
   "execution_count": 3,
   "metadata": {},
   "outputs": [],
   "source": [
    "def use_knn(df_x_train,df_x_test):\n",
    "    neigh = NearestNeighbors(n_neighbors=1)\n",
    "    neigh.fit(df_x_train)\n",
    "    start = time.time()\n",
    "    knn=neigh.kneighbors(df_x_test)\n",
    "    end = time.time()\n",
    "    return knn"
   ]
  },
  {
   "cell_type": "code",
   "execution_count": 4,
   "metadata": {},
   "outputs": [
    {
     "ename": "NameError",
     "evalue": "name 'all_features' is not defined",
     "output_type": "error",
     "traceback": [
      "\u001b[1;31m---------------------------------------------------------------------------\u001b[0m",
      "\u001b[1;31mNameError\u001b[0m                                 Traceback (most recent call last)",
      "\u001b[1;32m<ipython-input-4-44e97f60cba1>\u001b[0m in \u001b[0;36m<module>\u001b[1;34m\u001b[0m\n\u001b[0;32m     12\u001b[0m \u001b[1;33m\u001b[0m\u001b[0m\n\u001b[0;32m     13\u001b[0m     \u001b[1;32mreturn\u001b[0m \u001b[0mnp\u001b[0m\u001b[1;33m.\u001b[0m\u001b[0mpercentile\u001b[0m\u001b[1;33m(\u001b[0m\u001b[0mmedians\u001b[0m\u001b[1;33m,\u001b[0m \u001b[1;36m50\u001b[0m\u001b[1;33m)\u001b[0m\u001b[1;33m\u001b[0m\u001b[1;33m\u001b[0m\u001b[0m\n\u001b[1;32m---> 14\u001b[1;33m \u001b[0mtreshold_for_knn\u001b[0m \u001b[1;33m=\u001b[0m \u001b[0mget_threshold_for_knn\u001b[0m\u001b[1;33m(\u001b[0m\u001b[1;33m)\u001b[0m\u001b[1;33m\u001b[0m\u001b[1;33m\u001b[0m\u001b[0m\n\u001b[0m\u001b[0;32m     15\u001b[0m \u001b[0mprint\u001b[0m\u001b[1;33m(\u001b[0m\u001b[0mtreshold_for_knn\u001b[0m\u001b[1;33m)\u001b[0m\u001b[1;33m\u001b[0m\u001b[1;33m\u001b[0m\u001b[0m\n\u001b[0;32m     16\u001b[0m \u001b[1;31m# 33.69773240289701\u001b[0m\u001b[1;33m\u001b[0m\u001b[1;33m\u001b[0m\u001b[1;33m\u001b[0m\u001b[0m\n",
      "\u001b[1;32m<ipython-input-4-44e97f60cba1>\u001b[0m in \u001b[0;36mget_threshold_for_knn\u001b[1;34m()\u001b[0m\n\u001b[0;32m      1\u001b[0m \u001b[1;32mdef\u001b[0m \u001b[0mget_threshold_for_knn\u001b[0m\u001b[1;33m(\u001b[0m\u001b[1;33m)\u001b[0m\u001b[1;33m:\u001b[0m\u001b[1;33m\u001b[0m\u001b[1;33m\u001b[0m\u001b[0m\n\u001b[1;32m----> 2\u001b[1;33m     \u001b[0mrandom_users\u001b[0m \u001b[1;33m=\u001b[0m \u001b[0mrandom\u001b[0m\u001b[1;33m.\u001b[0m\u001b[0msample\u001b[0m\u001b[1;33m(\u001b[0m\u001b[0mlist\u001b[0m\u001b[1;33m(\u001b[0m\u001b[0mall_features\u001b[0m\u001b[1;33m[\u001b[0m\u001b[0muser_name_column\u001b[0m\u001b[1;33m]\u001b[0m\u001b[1;33m.\u001b[0m\u001b[0munique\u001b[0m\u001b[1;33m(\u001b[0m\u001b[1;33m)\u001b[0m\u001b[1;33m)\u001b[0m\u001b[1;33m,\u001b[0m \u001b[1;36m10\u001b[0m\u001b[1;33m)\u001b[0m\u001b[1;33m\u001b[0m\u001b[1;33m\u001b[0m\u001b[0m\n\u001b[0m\u001b[0;32m      3\u001b[0m     \u001b[0mvsetky_vzdialenosti\u001b[0m \u001b[1;33m=\u001b[0m \u001b[1;33m[\u001b[0m\u001b[1;33m]\u001b[0m\u001b[1;33m\u001b[0m\u001b[1;33m\u001b[0m\u001b[0m\n\u001b[0;32m      4\u001b[0m     \u001b[1;32mfor\u001b[0m \u001b[0mrandom_user\u001b[0m \u001b[1;32min\u001b[0m \u001b[0mrandom_users\u001b[0m\u001b[1;33m:\u001b[0m\u001b[1;33m\u001b[0m\u001b[1;33m\u001b[0m\u001b[0m\n\u001b[0;32m      5\u001b[0m         \u001b[0mtrain\u001b[0m \u001b[1;33m=\u001b[0m \u001b[0mall_features\u001b[0m\u001b[1;33m.\u001b[0m\u001b[0mloc\u001b[0m\u001b[1;33m[\u001b[0m\u001b[0mall_features\u001b[0m\u001b[1;33m[\u001b[0m\u001b[0muser_name_column\u001b[0m\u001b[1;33m]\u001b[0m \u001b[1;33m==\u001b[0m \u001b[0mrandom_user\u001b[0m\u001b[1;33m]\u001b[0m\u001b[1;33m\u001b[0m\u001b[1;33m\u001b[0m\u001b[0m\n",
      "\u001b[1;31mNameError\u001b[0m: name 'all_features' is not defined"
     ]
    }
   ],
   "source": [
    "def get_threshold_for_knn():\n",
    "    random_users = random.sample(list(all_features[user_name_column].unique()), 10)\n",
    "    vsetky_vzdialenosti = []\n",
    "    for random_user in random_users:\n",
    "        train = all_features.loc[all_features[user_name_column] == random_user]\n",
    "        test = all_features.loc[all_features[user_name_column] != random_user]\n",
    "        knn = use_knn(train[train_x_columns], test[train_x_columns])\n",
    "        vsetky_vzdialenosti.append(knn[0])\n",
    "    medians = []\n",
    "    for hodnota in vsetky_vzdialenosti:\n",
    "        medians.append(np.percentile(hodnota, 25))  \n",
    "    \n",
    "    return np.percentile(medians, 50)\n",
    "treshold_for_knn = get_threshold_for_knn()\n",
    "print(treshold_for_knn)\n",
    "# 33.69773240289701"
   ]
  },
  {
   "cell_type": "code",
   "execution_count": null,
   "metadata": {},
   "outputs": [],
   "source": [
    "treshold_for_knn=9"
   ]
  },
  {
   "cell_type": "code",
   "execution_count": 61,
   "metadata": {},
   "outputs": [],
   "source": [
    "def split_to_train_test(df, users_to_train):\n",
    "\n",
    "    df_shuffled = df.sample(frac=1, random_state=20).reset_index(drop=True)\n",
    "\n",
    "    mask = [True if x[user_name_column] in users_to_train else False for i, x in df_shuffled.iterrows()]\n",
    "    df_owner = df_shuffled[mask]\n",
    "\n",
    "    mask2 = [True if x[user_name_column] not in users_to_train else False for i, x in df_shuffled.iterrows()]\n",
    "    df_others = df_shuffled[mask2]\n",
    "    \n",
    "    df_train = df_owner[:round(len(df_owner)*0.8)]\n",
    "    df_test = df_owner[round(len(df_owner)*0.8):]\n",
    "    df_test = df_test.append(df_others[:len(df_test)])\n",
    "    \n",
    "    scaler = StandardScaler()\n",
    "    scaler.fit(df_train[train_x_columns])\n",
    "    df_train[train_x_columns] = scaler.transform(df_train[train_x_columns])\n",
    "    df_test[train_x_columns] = scaler.transform(df_test[train_x_columns])\n",
    "    \n",
    "    return df_train, df_test\n",
    "\n",
    "def split_to_train_test_by_pattern(df, users_to_train):\n",
    "\n",
    "    df_shuffled = df.sample(frac=1, random_state=20).reset_index(drop=True)\n",
    "\n",
    "    mask = [True if x[user_name_column] in users_to_train else False for i, x in df_shuffled.iterrows()]\n",
    "    df_owner = df_shuffled[mask]\n",
    "\n",
    "    mask = [True if x[user_name_column] not in users_to_train else False for i, x in df_shuffled.iterrows()]\n",
    "    df_others = df_shuffled[mask]\n",
    "    \n",
    "    \n",
    "    unique_owners_patern_id = df_owner['id'].unique()\n",
    "    paterns_id_to_train_owners = unique_owners_patern_id[:round(len(unique_owners_patern_id)*0.8)]\n",
    "    paterns_id_to_test_owners = unique_owners_patern_id[round(len(unique_owners_patern_id)*0.8):]\n",
    "\n",
    "    mask = [True if x['id'] in paterns_id_to_train_owners else False for i, x in df_owner.iterrows()]\n",
    "    df_train = df_owner[mask]\n",
    "    \n",
    "    mask = [True if x['id'] in paterns_id_to_test_owners else False for i, x in df_owner.iterrows()]\n",
    "    df_test = df_owner[mask]\n",
    "    \n",
    "    paterns_id_to_test_from_others = df_others['id'].unique()[:len(paterns_id_to_test_owners)]\n",
    "    mask = [True if x['id'] in paterns_id_to_test_from_others else False for i, x in df_others.iterrows()]\n",
    "    df_test = df_test.append(df_others[mask])\n",
    "    \n",
    "    scaler = StandardScaler()\n",
    "    scaler.fit(df_train[train_x_columns])\n",
    "    df_train[train_x_columns] = scaler.transform(df_train[train_x_columns])\n",
    "    df_test[train_x_columns] = scaler.transform(df_test[train_x_columns])\n",
    "    \n",
    "    return df_train, df_test\n",
    "\n",
    "def get_df_for_RFE(df, users_to_train):\n",
    "    df_shuffled = df.sample(frac=1, random_state=20).reset_index(drop=True)\n",
    "    \n",
    "    all_usernames = df_shuffled[user_name_column].unique()\n",
    "    usernames_without_owner = [x for x in all_usernames if x not in users_to_train]\n",
    "    usernames_to_train = usernames_without_owner[:round(len(all_usernames)*0.8)]\n",
    "    usernames_to_train += users_to_train\n",
    "#     usernames_to_test = usernames_without_owner[round(len(all_usernames)*0.8):]\n",
    "    \n",
    "    mask = [True if x[user_name_column] in usernames_to_train else False for i, x in df_shuffled.iterrows()]\n",
    "    df_not_new_users = df_shuffled[mask]\n",
    "    \n",
    "    pattern_ids_for_not_new_users = df_not_new_users.groupby(user_name_column)['id'].unique()\n",
    "    pattern_ids_to_train = []\n",
    "    for user in pattern_ids_for_not_new_users:\n",
    "        pattern_ids_to_train = pattern_ids_to_train + list(user[:round(len(user)*0.8)])\n",
    "\n",
    "    \n",
    "    mask = [True if x['id'] in pattern_ids_to_train else False for i, x in df_not_new_users.iterrows()]\n",
    "    df_train = df_not_new_users[mask]\n",
    "    \n",
    "    scaler = StandardScaler()\n",
    "    scaler.fit(df_train[train_x_columns])\n",
    "    df_train[train_x_columns] = scaler.transform(df_train[train_x_columns])\n",
    "      \n",
    "    return df_train\n",
    "\n",
    "def split_to_train_test_by_pattern_new(df, users_to_train):\n",
    "    df_shuffled = df.sample(frac=1, random_state=20).reset_index(drop=True)\n",
    "    \n",
    "    #division users into existing and new ones\n",
    "    all_usernames = df_shuffled[user_name_column].unique()\n",
    "    usernames_without_owner = [x for x in all_usernames if x not in users_to_train]\n",
    "    usernames_to_train = usernames_without_owner[:round(len(all_usernames)*0.8)]\n",
    "    usernames_to_train += users_to_train\n",
    "    usernames_to_test = usernames_without_owner[round(len(all_usernames)*0.8):]\n",
    "    \n",
    "    \n",
    "    #get df of existing ones\n",
    "    mask = [True if x[user_name_column] in usernames_to_train else False for i, x in df_shuffled.iterrows()]\n",
    "    df_not_new_users = df_shuffled[mask]\n",
    "    \n",
    "    #get patern id for every user, and division to train-test id\n",
    "    pattern_ids_for_not_new_users = df_not_new_users.groupby(user_name_column)['id'].unique()\n",
    "    pattern_ids_to_train = []\n",
    "    pattern_ids_to_test = []\n",
    "    for user in pattern_ids_for_not_new_users:\n",
    "        pattern_ids_to_train += list(user[:round(len(user)*0.8)])\n",
    "        pattern_ids_to_test += list(user[round(len(user)*0.8):])\n",
    "    \n",
    "    #get df for train based on pattern id and selected owners\n",
    "    mask = [True if x['id'] in pattern_ids_to_train and x[user_name_column] in users_to_train else False for i, x in df_not_new_users.iterrows()]\n",
    "    df_train = df_not_new_users[mask]\n",
    "    \n",
    "    #get df for test - owners samples\n",
    "    mask = [True if x['id'] in pattern_ids_to_test and x[user_name_column] in users_to_train else False for i, x in df_not_new_users.iterrows()]\n",
    "    df_test = df_not_new_users[mask]\n",
    "\n",
    "    #get df for others for test\n",
    "    mask = [True if x['id'] in pattern_ids_to_test and x[user_name_column] not in users_to_train else False for i, x in df_not_new_users.iterrows()]\n",
    "    df_temp = df_not_new_users[mask]\n",
    "    \n",
    "    #get of new others and concat with df above \n",
    "    mask = [True if x[user_name_column] in usernames_to_test  else False for i, x in df_shuffled.iterrows()]\n",
    "    df_temp = pd.concat([df_temp, df_shuffled[mask]])\n",
    "    \n",
    "    #get x pattern id from test - x = len(pattern_id from owner in test)\n",
    "    random.seed(0)\n",
    "    temp_uniq_pattern_id = random.sample(list(df_temp['id'].unique()), len(df_test['id'].unique()))\n",
    "    \n",
    "    #get final df for test\n",
    "    mask = [True if x['id'] in temp_uniq_pattern_id  else False for i, x in df_temp.iterrows()]\n",
    "    df_test = pd.concat([df_test, df_temp[mask]])\n",
    "    \n",
    "    scaler = StandardScaler()\n",
    "    scaler.fit(df_train[train_x_columns])\n",
    "    df_train[train_x_columns] = scaler.transform(df_train[train_x_columns])\n",
    "    df_test[train_x_columns] = scaler.transform(df_test[train_x_columns])\n",
    "    \n",
    "    return df_train, df_test"
   ]
  },
  {
   "cell_type": "code",
   "execution_count": 6,
   "metadata": {},
   "outputs": [],
   "source": [
    "def unify_y_column_format(test_y, predicted, selected_owners, treshold):\n",
    "    test_converted = [1 if i in selected_owners else 0 for i in test_y]\n",
    "    \n",
    "    predict_converted = [1 if i <= treshold else 0 for i in predicted]\n",
    "    \n",
    "    return test_converted, predict_converted"
   ]
  },
  {
   "cell_type": "code",
   "execution_count": 60,
   "metadata": {},
   "outputs": [],
   "source": [
    "def use_imputation(df_train, train_x_columns, df_test=None):\n",
    "    imputer = IterativeImputer(random_state=0, max_iter=20, verbose=2)\n",
    "    imputer.fit(df_train[train_x_columns])\n",
    "    df_train[train_x_columns] = imputer.transform(df_train[train_x_columns])\n",
    "    if df_test is not None:\n",
    "        df_test[train_x_columns] = imputer.transform(df_test[train_x_columns])\n",
    "        return df_train, df_test\n",
    "    return df_train"
   ]
  },
  {
   "cell_type": "code",
   "execution_count": 8,
   "metadata": {},
   "outputs": [],
   "source": [
    "def show_results(test_y,predicted_y):\n",
    "    print ('Accuracy:', accuracy_score(test_y, predicted_y))\n",
    "    print ('F1 score:', f1_score(test_y, predicted_y, pos_label=1))\n",
    "    print ('Recall:', recall_score(test_y, predicted_y, pos_label=1))\n",
    "    print ('Precision:', precision_score(test_y, predicted_y, pos_label=1))\n",
    "    print ('\\n confussion matrix:\\n',confusion_matrix(test_y, predicted_y))"
   ]
  },
  {
   "cell_type": "code",
   "execution_count": 9,
   "metadata": {},
   "outputs": [],
   "source": [
    "def plot_far_eer(test_y_raw, tresholds):\n",
    "\n",
    "    tresholds, test_y_raw = zip(*sorted(zip(tresholds, test_y_raw)))\n",
    "\n",
    "    fmr_array=[]\n",
    "    fnmr_array=[]\n",
    "    for treshold in tresholds:\n",
    "        test_y, predicted_y = unify_y_column_format(test_y_raw, tresholds, selected_owners, treshold)\n",
    "\n",
    "        fmr_array.append(fmr_score(test_y, predicted_y))\n",
    "        fnmr_array.append(fnmr_score(test_y, predicted_y))\n",
    "\n",
    "#     point = eer_score(list(tresholds), fmr_array, fnmr_array)\n",
    "    \n",
    "    line1 = LineString(list(zip(tresholds, fmr_array)))\n",
    "    line2 = LineString(list(zip(tresholds, fnmr_array)))\n",
    "\n",
    "    int_pt = line1.intersection(line2)\n",
    "    \n",
    "    plt.plot(tresholds, fmr_array, 'r') # plotting t, a separately \n",
    "    plt.plot(tresholds, fnmr_array, 'b') # plotting t, b separately\n",
    "    plt.plot(int_pt.x, int_pt.y, marker='o', markersize=5, color=\"green\")\n",
    "    plt.show()\n",
    "    \n",
    "    print(\"EER: \"+str(int_pt.y))"
   ]
  },
  {
   "cell_type": "code",
   "execution_count": 118,
   "metadata": {},
   "outputs": [],
   "source": [
    "all_features = pd.read_csv(path_to_featutes + \"all_feautures.csv\")\n",
    "if compute_features_for_segment:\n",
    "    all_features['id'] = all_features['id'].str[:-1]"
   ]
  },
  {
   "cell_type": "code",
   "execution_count": 119,
   "metadata": {},
   "outputs": [],
   "source": [
    "all_features = all_features.dropna(thresh=80)\n",
    "if (user_name_column in columns_to_identificate_features):\n",
    "    columns_to_identificate_features.remove(user_name_column)\n",
    "    columns_to_identificate_features.remove(\"id\")\n",
    "all_features.drop(columns=columns_to_identificate_features, inplace=True)\n",
    "\n",
    "if use_selected_features:\n",
    "    train_x_columns = selected_features\n",
    "else:\n",
    "    train_x_columns = [x for x in list(all_features.columns) if x != user_name_column and x != 'id']\n",
    "train_y_columns = user_name_column"
   ]
  },
  {
   "cell_type": "code",
   "execution_count": 40,
   "metadata": {},
   "outputs": [
    {
     "name": "stdout",
     "output_type": "stream",
     "text": [
      "33\n",
      "['mino' 'Jozef Schneider' 'PeterB' 'Martin' 'lukasb' 'Filip'\n",
      " 'Matej Adamov' 'Martina' 'michal' 'TomasM' 'vargaf' 'AdamT' 'baxos'\n",
      " 'mimo' 'kitti' 'Matúš Cuper' 'Rado' 'denisgr' 'fero' 'IM' 'Miki' 'blinky'\n",
      " 'tany' 'tom990' 'martin' 'hawkie94' 'banas' 'Sojkam' 'dominika' 'luci'\n",
      " 'Ivi' 'Jakub.m' 'Stevo']\n"
     ]
    }
   ],
   "source": [
    "users= all_features[user_name_column].unique()\n",
    "print(len(users))\n",
    "print(users)"
   ]
  },
  {
   "cell_type": "code",
   "execution_count": 64,
   "metadata": {},
   "outputs": [
    {
     "name": "stdout",
     "output_type": "stream",
     "text": [
      "[IterativeImputer] Completing matrix with shape (441, 352)\n",
      "[IterativeImputer] Ending imputation round 1/20, elapsed time 45.34\n",
      "[IterativeImputer] Change: 22.618667243724225, scaled tolerance: 0.017123883469121904 \n",
      "[IterativeImputer] Ending imputation round 2/20, elapsed time 92.35\n",
      "[IterativeImputer] Change: 6.76802870229358, scaled tolerance: 0.017123883469121904 \n",
      "[IterativeImputer] Ending imputation round 3/20, elapsed time 138.81\n",
      "[IterativeImputer] Change: 3.168743645977526, scaled tolerance: 0.017123883469121904 \n",
      "[IterativeImputer] Ending imputation round 4/20, elapsed time 183.83\n",
      "[IterativeImputer] Change: 2.15273209307263, scaled tolerance: 0.017123883469121904 \n",
      "[IterativeImputer] Ending imputation round 5/20, elapsed time 229.21\n",
      "[IterativeImputer] Change: 1.5064252122430468, scaled tolerance: 0.017123883469121904 \n",
      "[IterativeImputer] Ending imputation round 6/20, elapsed time 274.34\n",
      "[IterativeImputer] Change: 1.0911311015653142, scaled tolerance: 0.017123883469121904 \n",
      "[IterativeImputer] Ending imputation round 7/20, elapsed time 319.41\n",
      "[IterativeImputer] Change: 0.8243788347828512, scaled tolerance: 0.017123883469121904 \n",
      "[IterativeImputer] Ending imputation round 8/20, elapsed time 364.56\n",
      "[IterativeImputer] Change: 0.6378528282252136, scaled tolerance: 0.017123883469121904 \n",
      "[IterativeImputer] Ending imputation round 9/20, elapsed time 409.73\n",
      "[IterativeImputer] Change: 0.5056066499804137, scaled tolerance: 0.017123883469121904 \n",
      "[IterativeImputer] Ending imputation round 10/20, elapsed time 456.49\n",
      "[IterativeImputer] Change: 0.4074236894244936, scaled tolerance: 0.017123883469121904 \n",
      "[IterativeImputer] Ending imputation round 11/20, elapsed time 503.69\n",
      "[IterativeImputer] Change: 0.33510496964067943, scaled tolerance: 0.017123883469121904 \n",
      "[IterativeImputer] Ending imputation round 12/20, elapsed time 549.24\n",
      "[IterativeImputer] Change: 0.27763028819728625, scaled tolerance: 0.017123883469121904 \n",
      "[IterativeImputer] Ending imputation round 13/20, elapsed time 596.03\n",
      "[IterativeImputer] Change: 0.23055230595739146, scaled tolerance: 0.017123883469121904 \n",
      "[IterativeImputer] Ending imputation round 14/20, elapsed time 646.75\n",
      "[IterativeImputer] Change: 0.19225802683681786, scaled tolerance: 0.017123883469121904 \n",
      "[IterativeImputer] Ending imputation round 15/20, elapsed time 695.62\n",
      "[IterativeImputer] Change: 0.16057905887530924, scaled tolerance: 0.017123883469121904 \n",
      "[IterativeImputer] Ending imputation round 16/20, elapsed time 743.59\n",
      "[IterativeImputer] Change: 0.1342899924785009, scaled tolerance: 0.017123883469121904 \n",
      "[IterativeImputer] Ending imputation round 17/20, elapsed time 789.60\n",
      "[IterativeImputer] Change: 0.11228481676619054, scaled tolerance: 0.017123883469121904 \n",
      "[IterativeImputer] Ending imputation round 18/20, elapsed time 837.11\n",
      "[IterativeImputer] Change: 0.09389412035893967, scaled tolerance: 0.017123883469121904 \n",
      "[IterativeImputer] Ending imputation round 19/20, elapsed time 884.26\n",
      "[IterativeImputer] Change: 0.0785382801312535, scaled tolerance: 0.017123883469121904 \n",
      "[IterativeImputer] Ending imputation round 20/20, elapsed time 942.08\n",
      "[IterativeImputer] Change: 0.06572190804292986, scaled tolerance: 0.017123883469121904 \n",
      "[IterativeImputer] Completing matrix with shape (441, 352)\n",
      "[IterativeImputer] Ending imputation round 1/20, elapsed time 0.06\n",
      "[IterativeImputer] Ending imputation round 2/20, elapsed time 0.14\n",
      "[IterativeImputer] Ending imputation round 3/20, elapsed time 0.29\n",
      "[IterativeImputer] Ending imputation round 4/20, elapsed time 0.47\n",
      "[IterativeImputer] Ending imputation round 5/20, elapsed time 0.64\n",
      "[IterativeImputer] Ending imputation round 6/20, elapsed time 0.79\n",
      "[IterativeImputer] Ending imputation round 7/20, elapsed time 0.83\n",
      "[IterativeImputer] Ending imputation round 8/20, elapsed time 0.90\n",
      "[IterativeImputer] Ending imputation round 9/20, elapsed time 0.96\n",
      "[IterativeImputer] Ending imputation round 10/20, elapsed time 1.42\n",
      "[IterativeImputer] Ending imputation round 11/20, elapsed time 1.47\n",
      "[IterativeImputer] Ending imputation round 12/20, elapsed time 1.53\n",
      "[IterativeImputer] Ending imputation round 13/20, elapsed time 1.59\n",
      "[IterativeImputer] Ending imputation round 14/20, elapsed time 1.65\n",
      "[IterativeImputer] Ending imputation round 15/20, elapsed time 1.72\n",
      "[IterativeImputer] Ending imputation round 16/20, elapsed time 1.76\n",
      "[IterativeImputer] Ending imputation round 17/20, elapsed time 1.82\n",
      "[IterativeImputer] Ending imputation round 18/20, elapsed time 1.89\n",
      "[IterativeImputer] Ending imputation round 19/20, elapsed time 2.00\n",
      "[IterativeImputer] Ending imputation round 20/20, elapsed time 2.06\n",
      "[IterativeImputer] Completing matrix with shape (193, 352)\n",
      "[IterativeImputer] Ending imputation round 1/20, elapsed time 12.50\n",
      "[IterativeImputer] Ending imputation round 2/20, elapsed time 21.74\n",
      "[IterativeImputer] Ending imputation round 3/20, elapsed time 28.45\n",
      "[IterativeImputer] Ending imputation round 4/20, elapsed time 32.22\n",
      "[IterativeImputer] Ending imputation round 5/20, elapsed time 32.31\n",
      "[IterativeImputer] Ending imputation round 6/20, elapsed time 32.36\n",
      "[IterativeImputer] Ending imputation round 7/20, elapsed time 32.42\n",
      "[IterativeImputer] Ending imputation round 8/20, elapsed time 32.51\n",
      "[IterativeImputer] Ending imputation round 9/20, elapsed time 32.57\n",
      "[IterativeImputer] Ending imputation round 10/20, elapsed time 32.65\n",
      "[IterativeImputer] Ending imputation round 11/20, elapsed time 32.71\n",
      "[IterativeImputer] Ending imputation round 12/20, elapsed time 32.74\n",
      "[IterativeImputer] Ending imputation round 13/20, elapsed time 32.79\n",
      "[IterativeImputer] Ending imputation round 14/20, elapsed time 32.85\n",
      "[IterativeImputer] Ending imputation round 15/20, elapsed time 32.91\n",
      "[IterativeImputer] Ending imputation round 16/20, elapsed time 32.96\n",
      "[IterativeImputer] Ending imputation round 17/20, elapsed time 33.00\n",
      "[IterativeImputer] Ending imputation round 18/20, elapsed time 33.05\n",
      "[IterativeImputer] Ending imputation round 19/20, elapsed time 33.13\n",
      "[IterativeImputer] Ending imputation round 20/20, elapsed time 33.18\n"
     ]
    }
   ],
   "source": [
    "selected_owners = ['mino']\n",
    "df_train, df_test = split_to_train_test_by_pattern_new(all_features, selected_owners)\n",
    "\n",
    "if not delete_nan_features:\n",
    "    df_train, df_test =  use_imputation(df_train, train_x_columns, df_test)"
   ]
  },
  {
   "cell_type": "code",
   "execution_count": 121,
   "metadata": {},
   "outputs": [
    {
     "data": {
      "text/plain": [
       "85"
      ]
     },
     "execution_count": 121,
     "metadata": {},
     "output_type": "execute_result"
    }
   ],
   "source": [
    "train_x_columns=selected_features_dict[85]\n",
    "len(train_x_columns)"
   ]
  },
  {
   "cell_type": "code",
   "execution_count": 80,
   "metadata": {
    "scrolled": false
   },
   "outputs": [
    {
     "data": {
      "image/png": "[encoded data removed]",
      "text/plain": [
       "<Figure size 432x288 with 1 Axes>"
      ]
     },
     "metadata": {
      "needs_background": "light"
     },
     "output_type": "display_data"
    },
    {
     "name": "stdout",
     "output_type": "stream",
     "text": [
      "EER: 0.26\n"
     ]
    }
   ],
   "source": [
    "#prediction based on segments individualy \n",
    "# selected_owners = ['mino']\n",
    "# df_train, df_test = split_to_train_test_by_pattern_new(all_features, selected_owners)\n",
    "\n",
    "# if not delete_nan_features:\n",
    "#     df_train, df_test =  use_imputation(df_train, train_x_columns, df_test)\n",
    "    \n",
    "predicted = use_knn(df_train[train_x_columns],df_test[train_x_columns])\n",
    "tresholds=list(itertools.chain.from_iterable(predicted[0]))\n",
    "\n",
    "\n",
    "# test_y, predicted_y = unify_y_column_format(df_test[train_y_columns], tresholds, selected_owners,treshold_for_knn)\n",
    "# show_results(test_y,predicted_y)\n",
    "\n",
    "plot_far_eer(df_test[train_y_columns].reset_index(drop=True),tresholds)"
   ]
  },
  {
   "cell_type": "code",
   "execution_count": 122,
   "metadata": {},
   "outputs": [
    {
     "data": {
      "image/png": "[encoded data removed]",
      "text/plain": [
       "<Figure size 432x288 with 1 Axes>"
      ]
     },
     "metadata": {
      "needs_background": "light"
     },
     "output_type": "display_data"
    },
    {
     "name": "stdout",
     "output_type": "stream",
     "text": [
      "EER: 0.0625\n"
     ]
    }
   ],
   "source": [
    "#prediction based on patterns\n",
    "# selected_owners = ['mino']\n",
    "# df_train, df_test = split_to_train_test_by_pattern(all_features, selected_owners)\n",
    "\n",
    "# if not delete_nan_features:\n",
    "#     df_train, df_test =  use_imputation(df_train, train_x_columns, df_test)\n",
    "    \n",
    "predicted = use_knn(df_train[train_x_columns],df_test[train_x_columns])\n",
    "tresholds=list(itertools.chain.from_iterable(predicted[0]))\n",
    "\n",
    "df_results =  df_test[[train_y_columns,'id']]\n",
    "df_results['prediction'] = tresholds\n",
    "\n",
    "\n",
    "nieco=df_results.groupby([train_y_columns,'id']).median()\n",
    "nieco=nieco.reset_index().drop('id', axis=1)\n",
    "\n",
    "# test_y, predicted_y = unify_y_column_format(nieco[train_y_columns], nieco['prediction'], selected_owners,treshold_for_knn)\n",
    "# show_results(test_y,predicted_y)\n",
    "\n",
    "plot_far_eer(nieco[train_y_columns],nieco['prediction'])\n"
   ]
  },
  {
   "cell_type": "code",
   "execution_count": null,
   "metadata": {},
   "outputs": [],
   "source": []
  },
  {
   "cell_type": "code",
   "execution_count": null,
   "metadata": {},
   "outputs": [],
   "source": [
    "selected_features_array = {}\n",
    "for number in [75,85,100,125,150]:\n",
    "    print(number)\n",
    "    model = LogisticRegression(solver='lbfgs')\n",
    "    rfe = RFE(model, number)\n",
    "    fit = rfe.fit(df_train[train_x_columns], df_train[train_y_columns])\n",
    "    # print(\"Num Features: %d\" % fit.n_features_)\n",
    "    # print(\"Selected Features: %s\" % fit.support_)\n",
    "    # print(\"Feature Ranking: %s\" % fit.ranking_)\n",
    "    indexes_to_delete=[]\n",
    "    for i in range(len(fit.ranking_)):\n",
    "        if(fit.ranking_[i]!=1):\n",
    "            indexes_to_delete.append(i)\n",
    "    selected_features = [i for j, i in enumerate(train_x_columns) if j not in indexes_to_delete]\n",
    "    selected_features_array[number]=selected_features\n"
   ]
  },
  {
   "cell_type": "code",
   "execution_count": null,
   "metadata": {},
   "outputs": [],
   "source": [
    "selected_features_array"
   ]
  },
  {
   "cell_type": "code",
   "execution_count": null,
   "metadata": {},
   "outputs": [],
   "source": [
    "str(selected_features_array)"
   ]
  },
  {
   "cell_type": "code",
   "execution_count": null,
   "metadata": {},
   "outputs": [],
   "source": [
    "indexes_to_delete=[]\n",
    "for i in range(len(fit.ranking_)):\n",
    "    if(fit.ranking_[i]!=1):\n",
    "        indexes_to_delete.append(i)\n",
    "selected_features = [i for j, i in enumerate(train_x_columns) if j not in indexes_to_delete]\n",
    "print(len(selected_features))"
   ]
  },
  {
   "cell_type": "code",
   "execution_count": null,
   "metadata": {},
   "outputs": [],
   "source": [
    "predicted = use_knn(df_train[selected_features],df_test[selected_features])\n",
    "tresholds=list(itertools.chain.from_iterable(predicted[0]))\n",
    "\n",
    "df_merged =  df_test[[train_y_columns,'id']]\n",
    "df_merged['prediction'] = tresholds\n",
    "\n",
    "\n",
    "nieco=df_merged.groupby([train_y_columns,'id']).median()\n",
    "nieco=nieco.reset_index().drop('id', axis=1)\n",
    "\n",
    "# test_y, predicted_y = unify_y_column_format(nieco[train_y_columns], nieco['prediction'], selected_owners,treshold_for_knn)\n",
    "# show_results(test_y,predicted_y)\n",
    "\n",
    "plot_far_eer(nieco[train_y_columns],nieco['prediction'])"
   ]
  },
  {
   "cell_type": "code",
   "execution_count": null,
   "metadata": {},
   "outputs": [],
   "source": [
    "import xgboost as xgb\n",
    "\n",
    "xgb_model = xgb.XGBClassifier(objective=\"binary:logistic\", random_state=42)\n",
    "xgb_model.fit(df_train[train_x_columns], [1]*len(df_train[train_x_columns]))"
   ]
  },
  {
   "cell_type": "code",
   "execution_count": null,
   "metadata": {},
   "outputs": [],
   "source": [
    "y_pred = xgb_model.predict(df_test[train_x_columns])\n",
    "test_converted = [1 if i in selected_owners else 0 for i in df_test[train_y_columns]]\n",
    "print(confusion_matrix(test_converted, y_pred))\n"
   ]
  },
  {
   "cell_type": "code",
   "execution_count": null,
   "metadata": {},
   "outputs": [],
   "source": [
    "print(xgb_model.classes_)"
   ]
  },
  {
   "cell_type": "code",
   "execution_count": 113,
   "metadata": {},
   "outputs": [
    {
     "data": {
      "text/plain": [
       "125"
      ]
     },
     "execution_count": 113,
     "metadata": {},
     "output_type": "execute_result"
    }
   ],
   "source": [
    "train_x_columns=selected_features_dict[125]\n",
    "len(train_x_columns)"
   ]
  },
  {
   "cell_type": "code",
   "execution_count": 103,
   "metadata": {},
   "outputs": [
    {
     "data": {
      "image/png": "[encoded data removed]",
      "text/plain": [
       "<Figure size 432x288 with 1 Axes>"
      ]
     },
     "metadata": {
      "needs_background": "light"
     },
     "output_type": "display_data"
    },
    {
     "name": "stdout",
     "output_type": "stream",
     "text": [
      "EER: 0.40860215053763443\n"
     ]
    }
   ],
   "source": [
    "clf = OneClassSVM(kernel='sigmoid').fit(df_train[train_x_columns])\n",
    "plot_far_eer(df_test[train_y_columns],clf.score_samples(df_test[train_x_columns]))"
   ]
  },
  {
   "cell_type": "code",
   "execution_count": 115,
   "metadata": {},
   "outputs": [
    {
     "data": {
      "image/png": "[encoded data removed]",
      "text/plain": [
       "<Figure size 432x288 with 1 Axes>"
      ]
     },
     "metadata": {
      "needs_background": "light"
     },
     "output_type": "display_data"
    },
    {
     "name": "stdout",
     "output_type": "stream",
     "text": [
      "EER: 0.5\n"
     ]
    }
   ],
   "source": [
    "clf = OneClassSVM(kernel='sigmoid').fit(df_train[train_x_columns])\n",
    "\n",
    "\n",
    "df_results =  df_test[[train_y_columns,'id']]\n",
    "df_results['prediction'] = clf.score_samples(df_test[train_x_columns])\n",
    "\n",
    "\n",
    "nieco=df_results.groupby([train_y_columns,'id']).mean()\n",
    "nieco=nieco.reset_index().drop('id', axis=1)\n",
    "\n",
    "# test_y, predicted_y = unify_y_column_format(nieco[train_y_columns], nieco['prediction'], selected_owners,treshold_for_knn)\n",
    "# show_results(test_y,predicted_y)\n",
    "\n",
    "plot_far_eer(nieco[train_y_columns],nieco['prediction'])"
   ]
  },
  {
   "cell_type": "code",
   "execution_count": null,
   "metadata": {
    "scrolled": true
   },
   "outputs": [],
   "source": [
    "# model = LogisticRegression(solver='lbfgs')\n",
    "# rfe = RFE(model, 85)\n",
    "# fit = rfe.fit(df_train[train_x_columns], df_train[train_y_columns])\n",
    "# # print(\"Num Features: %d\" % fit.n_features_)\n",
    "# # print(\"Selected Features: %s\" % fit.support_)\n",
    "# # print(\"Feature Ranking: %s\" % fit.ranking_)\n",
    "# indexes_to_delete=[]\n",
    "# for i in range(len(fit.ranking_)):\n",
    "#     if(fit.ranking_[i]!=1):\n",
    "#         indexes_to_delete.append(i)\n",
    "# selected_features2 = [i for j, i in enumerate(train_x_columns) if j not in indexes_to_delete]\n",
    "# selected_features_array[85] = selected_features2"
   ]
  },
  {
   "cell_type": "code",
   "execution_count": null,
   "metadata": {},
   "outputs": [],
   "source": [
    "# df_merged =  df_test[[train_y_columns,'id']]\n",
    "# df_merged['prediction'] = clf.score_samples(test_x)\n",
    "\n",
    "\n",
    "# nieco=df_merged.groupby([train_y_columns,'id']).median()\n",
    "# nieco=nieco.reset_index().drop('id', axis=1)\n",
    "\n",
    "# # test_y, predicted_y = unify_y_column_format(nieco[train_y_columns], nieco['prediction'], selected_owners,treshold_for_knn)\n",
    "# # show_results(test_y,predicted_y)\n",
    "\n",
    "# plot_far_eer(nieco[train_y_columns],nieco['prediction'])"
   ]
  },
  {
   "cell_type": "code",
   "execution_count": 37,
   "metadata": {},
   "outputs": [],
   "source": [
    "# def get_df_for_RFE(df, users_to_train):\n",
    "#     df_shuffled = df.sample(frac=1, random_state=20).reset_index(drop=True)\n",
    "    \n",
    "#     all_usernames = df_shuffled[user_name_column].unique()\n",
    "#     usernames_without_owner = [x for x in all_usernames if x not in users_to_train]\n",
    "#     usernames_to_train = usernames_without_owner[:round(len(all_usernames)*0.8)]\n",
    "#     usernames_to_train += users_to_train\n",
    "# #     usernames_to_test = usernames_without_owner[round(len(all_usernames)*0.8):]\n",
    "    \n",
    "#     mask = [True if x[user_name_column] in usernames_to_train else False for i, x in df_shuffled.iterrows()]\n",
    "#     df_not_new_users = df_shuffled[mask]\n",
    "    \n",
    "#     pattern_ids_for_not_new_users = df_not_new_users.groupby(user_name_column)['id'].unique()\n",
    "#     pattern_ids_to_train = []\n",
    "#     for user in pattern_ids_for_not_new_users:\n",
    "#         pattern_ids_to_train = pattern_ids_to_train + list(user[:round(len(user)*0.8)])\n",
    "\n",
    "    \n",
    "#     mask = [True if x['id'] in pattern_ids_to_train else False for i, x in df_not_new_users.iterrows()]\n",
    "#     df_train = df_not_new_users[mask]\n",
    "    \n",
    "#     scaler = StandardScaler()\n",
    "#     scaler.fit(df_train[train_x_columns])\n",
    "#     df_train[train_x_columns] = scaler.transform(df_train[train_x_columns])\n",
    "      \n",
    "#     return df_train\n",
    "\n",
    "# def split_to_train_test_by_pattern_new(df, users_to_train):\n",
    "#     df_shuffled = df.sample(frac=1, random_state=20).reset_index(drop=True)\n",
    "    \n",
    "#     #division users into existing and new ones\n",
    "#     all_usernames = df_shuffled[user_name_column].unique()\n",
    "#     usernames_without_owner = [x for x in all_usernames if x not in users_to_train]\n",
    "#     usernames_to_train = usernames_without_owner[:round(len(all_usernames)*0.8)]\n",
    "#     usernames_to_train += users_to_train\n",
    "#     usernames_to_test = usernames_without_owner[round(len(all_usernames)*0.8):]\n",
    "    \n",
    "    \n",
    "#     #get df of existing ones\n",
    "#     mask = [True if x[user_name_column] in usernames_to_train else False for i, x in df_shuffled.iterrows()]\n",
    "#     df_not_new_users = df_shuffled[mask]\n",
    "    \n",
    "#     #get patern id for every user, and division to train-test id\n",
    "#     pattern_ids_for_not_new_users = df_not_new_users.groupby(user_name_column)['id'].unique()\n",
    "#     pattern_ids_to_train = []\n",
    "#     pattern_ids_to_test = []\n",
    "#     for user in pattern_ids_for_not_new_users:\n",
    "#         pattern_ids_to_train += list(user[:round(len(user)*0.8)])\n",
    "#         pattern_ids_to_test += list(user[round(len(user)*0.8):])\n",
    "    \n",
    "#     #get df for train based on pattern id and selected owners\n",
    "#     mask = [True if x['id'] in pattern_ids_to_train and x[user_name_column] in users_to_train else False for i, x in df_not_new_users.iterrows()]\n",
    "#     df_train = df_not_new_users[mask]\n",
    "    \n",
    "#     #get df for test - owners samples\n",
    "#     mask = [True if x['id'] in pattern_ids_to_test and x[user_name_column] in users_to_train else False for i, x in df_not_new_users.iterrows()]\n",
    "#     df_test = df_not_new_users[mask]\n",
    "#     print(len(df_test['id'].unique()))\n",
    "#     #get df for others for test\n",
    "#     mask = [True if x['id'] in pattern_ids_to_test and x[user_name_column] not in users_to_train else False for i, x in df_not_new_users.iterrows()]\n",
    "#     df_temp = df_not_new_users[mask]\n",
    "    \n",
    "#     #get of new others and concat with df above \n",
    "#     mask = [True if x[user_name_column] in usernames_to_test  else False for i, x in df_shuffled.iterrows()]\n",
    "#     df_temp = pd.concat([df_temp, df_shuffled[mask]])\n",
    "    \n",
    "#     #get x pattern id from test - x = len(pattern_id from owner in test)\n",
    "#     random.seed(0)\n",
    "#     temp_uniq_pattern_id = random.sample(list(df_temp['id'].unique()), len(df_test['id'].unique()))\n",
    "    \n",
    "#     #get final df for test\n",
    "#     mask = [True if x['id'] in temp_uniq_pattern_id  else False for i, x in df_temp.iterrows()]\n",
    "#     df_test = pd.concat([df_test, df_temp[mask]])\n",
    "    \n",
    "#     scaler = StandardScaler()\n",
    "#     scaler.fit(df_train[train_x_columns])\n",
    "#     df_train[train_x_columns] = scaler.transform(df_train[train_x_columns])\n",
    "#     df_test[train_x_columns] = scaler.transform(df_test[train_x_columns])\n",
    "    \n",
    "#     return df_train, df_test"
   ]
  },
  {
   "cell_type": "code",
   "execution_count": null,
   "metadata": {},
   "outputs": [],
   "source": []
  }
 ],
 "metadata": {
  "kernelspec": {
   "display_name": "Python 3",
   "language": "python",
   "name": "python3"
  },
  "language_info": {
   "codemirror_mode": {
    "name": "ipython",
    "version": 3
   },
   "file_extension": ".py",
   "mimetype": "text/x-python",
   "name": "python",
   "nbconvert_exporter": "python",
   "pygments_lexer": "ipython3",
   "version": "3.7.9"
  }
 },
 "nbformat": 4,
 "nbformat_minor": 4
}

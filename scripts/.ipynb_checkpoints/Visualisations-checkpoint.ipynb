{
 "cells": [
  {
   "cell_type": "code",
   "execution_count": 58,
   "metadata": {},
   "outputs": [],
   "source": [
    "import pandas as pd\n",
    "import numpy as np\n",
    "import matplotlib.pyplot as plt\n",
    "import random\n",
    "from sklearn.decomposition import PCA\n",
    "from sklearn.preprocessing import StandardScaler"
   ]
  },
  {
   "cell_type": "code",
   "execution_count": 69,
   "metadata": {},
   "outputs": [
    {
     "ename": "TypeError",
     "evalue": "'generator' object is not subscriptable",
     "output_type": "error",
     "traceback": [
      "\u001b[1;31m---------------------------------------------------------------------------\u001b[0m",
      "\u001b[1;31mTypeError\u001b[0m                                 Traceback (most recent call last)",
      "\u001b[1;32m<ipython-input-69-17280068b4cf>\u001b[0m in \u001b[0;36m<module>\u001b[1;34m\u001b[0m\n\u001b[0;32m      6\u001b[0m \u001b[1;32mfor\u001b[0m \u001b[0mi\u001b[0m \u001b[1;32min\u001b[0m \u001b[0mrange\u001b[0m\u001b[1;33m(\u001b[0m\u001b[0mlen\u001b[0m\u001b[1;33m(\u001b[0m\u001b[0mall_files\u001b[0m\u001b[1;33m)\u001b[0m\u001b[1;33m)\u001b[0m\u001b[1;33m:\u001b[0m\u001b[1;33m\u001b[0m\u001b[1;33m\u001b[0m\u001b[0m\n\u001b[0;32m      7\u001b[0m     \u001b[1;32mif\u001b[0m \u001b[0mi\u001b[0m\u001b[1;33m==\u001b[0m\u001b[1;36m0\u001b[0m\u001b[1;33m:\u001b[0m\u001b[1;33m\u001b[0m\u001b[1;33m\u001b[0m\u001b[0m\n\u001b[1;32m----> 8\u001b[1;33m         \u001b[0mdf_from_each_file\u001b[0m\u001b[1;33m[\u001b[0m\u001b[0mi\u001b[0m\u001b[1;33m]\u001b[0m\u001b[1;33m[\u001b[0m\u001b[1;34m\"child\"\u001b[0m\u001b[1;33m]\u001b[0m \u001b[1;33m=\u001b[0m \u001b[1;36m0\u001b[0m\u001b[1;33m\u001b[0m\u001b[1;33m\u001b[0m\u001b[0m\n\u001b[0m\u001b[0;32m      9\u001b[0m     \u001b[1;32melse\u001b[0m\u001b[1;33m:\u001b[0m\u001b[1;33m\u001b[0m\u001b[1;33m\u001b[0m\u001b[0m\n\u001b[0;32m     10\u001b[0m         \u001b[0mdf_from_each_file\u001b[0m\u001b[1;33m[\u001b[0m\u001b[0mi\u001b[0m\u001b[1;33m]\u001b[0m\u001b[1;33m[\u001b[0m\u001b[1;34m\"child\"\u001b[0m\u001b[1;33m]\u001b[0m \u001b[1;33m=\u001b[0m \u001b[1;36m1\u001b[0m\u001b[1;33m\u001b[0m\u001b[1;33m\u001b[0m\u001b[0m\n",
      "\u001b[1;31mTypeError\u001b[0m: 'generator' object is not subscriptable"
     ]
    }
   ],
   "source": [
    "all_files = [\"../login_datasets/2019-01-08_FIIT_-2-poschodie_po_skuske_KPAIS_correct_patterns_only/touch.csv\",\n",
    "             \"../login_datasets/2019-03-25_ZS_Mudronova_processed_final/touch.csv\",\n",
    "            \"../login_datasets/2019-04-10_ZS_Mudronova_processed_final/touch.csv\"]\n",
    "\n",
    "df_from_each_file = (pd.read_csv(f) for f in all_files)\n",
    "for i in range(len(all_files)):\n",
    "    if i==0:\n",
    "        df_from_each_file[i][\"child\"] = 0\n",
    "    else:\n",
    "        df_from_each_file[i][\"child\"] = 1\n",
    "concatenated_df   = pd.concat(df_from_each_file, ignore_index=True)\n",
    "\n",
    "concatenated_df[\"pattern_id\"] = concatenated_df[\"pattern_id\"].astype(str)+concatenated_df[\"device\"]+concatenated_df[\"username\"]\n"
   ]
  },
  {
   "cell_type": "code",
   "execution_count": 66,
   "metadata": {},
   "outputs": [
    {
     "name": "stdout",
     "output_type": "stream",
     "text": [
      "7\n"
     ]
    }
   ],
   "source": [
    "print(concatenated_df)"
   ]
  },
  {
   "cell_type": "code",
   "execution_count": 3,
   "metadata": {},
   "outputs": [],
   "source": [
    "simple_scenario_df = concatenated_df.loc[concatenated_df['scenario'] == \"scenario_show_simple\"]\n",
    "# print(simple_scenario_df)\n",
    "\n",
    "complex_scenario_df = concatenated_df.loc[concatenated_df['scenario'] == \"scenario_show_complex\"]\n",
    "# print(complex_scenario_df)"
   ]
  },
  {
   "cell_type": "code",
   "execution_count": 57,
   "metadata": {},
   "outputs": [
    {
     "name": "stdout",
     "output_type": "stream",
     "text": [
      "525Device6IM\n"
     ]
    },
    {
     "data": {
      "image/png": "[encoded data removed]",
      "text/plain": [
       "<Figure size 432x288 with 1 Axes>"
      ]
     },
     "metadata": {
      "needs_background": "light"
     },
     "output_type": "display_data"
    }
   ],
   "source": [
    "random_sample_simple = random.choice(pd.unique(simple_scenario_df[\"pattern_id\"]))\n",
    "print(random_sample_simple)\n",
    "\n",
    "plt.plot(simple_scenario_df.loc[simple_scenario_df['pattern_id'] == random_sample_simple][\"x\"], simple_scenario_df.loc[simple_scenario_df['pattern_id'] == random_sample_simple][\"y\"])\n",
    "\n",
    "plt.xlim(0, 600)\n",
    "plt.ylim(0, 600)\n",
    "plt.locator_params(axis='y', nbins=4)\n",
    "plt.locator_params(axis='x', nbins=4)\n",
    "plt.rcParams.update({'font.size': 14})\n",
    "plt.gca().set_aspect('equal', adjustable='box')\n",
    "plt.gca().invert_yaxis()\n",
    "plt.show()"
   ]
  },
  {
   "cell_type": "code",
   "execution_count": 54,
   "metadata": {},
   "outputs": [
    {
     "name": "stdout",
     "output_type": "stream",
     "text": [
      "708Device1banas\n"
     ]
    },
    {
     "data": {
      "image/png": "[encoded data removed]",
      "text/plain": [
       "<Figure size 432x288 with 1 Axes>"
      ]
     },
     "metadata": {
      "needs_background": "light"
     },
     "output_type": "display_data"
    }
   ],
   "source": [
    "random_sample_complex = random.choice(pd.unique(complex_scenario_df[\"pattern_id\"]))\n",
    "print(random_sample_complex)\n",
    "\n",
    "plt.plot(complex_scenario_df.loc[complex_scenario_df['pattern_id'] == random_sample_complex][\"x\"], \n",
    "         complex_scenario_df.loc[complex_scenario_df['pattern_id'] == random_sample_complex][\"y\"])\n",
    "\n",
    "plt.xlim(0, 600)\n",
    "plt.ylim(0, 600)\n",
    "plt.locator_params(axis='y', nbins=4)\n",
    "plt.locator_params(axis='x', nbins=4)\n",
    "plt.rcParams.update({'font.size': 14})\n",
    "plt.gca().set_aspect('equal', adjustable='box')\n",
    "plt.gca().invert_yaxis()\n",
    "plt.show()\n",
    "\n"
   ]
  },
  {
   "cell_type": "code",
   "execution_count": null,
   "metadata": {},
   "outputs": [],
   "source": []
  },
  {
   "cell_type": "markdown",
   "metadata": {},
   "source": [
    "# ------------------------------------akcelerometer"
   ]
  },
  {
   "cell_type": "code",
   "execution_count": null,
   "metadata": {},
   "outputs": [],
   "source": [
    "all_files = [\"../login_datasets/2019-01-08_FIIT_-2-poschodie_po_skuske_KPAIS_correct_patterns_only/accelerometer.csv\",\n",
    "             \"../login_datasets/2019-03-25_ZS_Mudronova_processed_final/accelerometer.csv\",\n",
    "            \"../login_datasets/2019-04-10_ZS_Mudronova_processed_final/accelerometer.csv\"]\n",
    "\n",
    "df_from_each_file = (pd.read_csv(f) for f in all_files)\n",
    "concatenated_df   = pd.concat(df_from_each_file, ignore_index=True)\n",
    "\n",
    "concatenated_df[\"pattern_id\"] = concatenated_df[\"pattern_id\"].astype(str)+concatenated_df[\"device\"]+concatenated_df[\"username\"]\n",
    "\n",
    "\n",
    "simple_scenario_df = concatenated_df.loc[concatenated_df['scenario'] == \"scenario_show_simple\"]\n",
    "# print(simple_scenario_df)\n",
    "\n",
    "complex_scenario_df = concatenated_df.loc[concatenated_df['scenario'] == \"scenario_show_complex\"]\n",
    "# print(complex_scenario_df)"
   ]
  },
  {
   "cell_type": "code",
   "execution_count": null,
   "metadata": {},
   "outputs": [],
   "source": [
    "random_sample_simple = \"AdamT\"\n",
    "random_sample_simple2 = \"blinky\"\n",
    "random_sample_simple3 = \"baxos\"\n",
    "print(random_sample_simple)\n",
    "\n",
    "# plt.plot(simple_scenario_df.loc[simple_scenario_df['pattern_id'] == random_sample_simple][\"x\"], simple_scenario_df.loc[simple_scenario_df['pattern_id'] == random_sample_simple][\"y\"])\n",
    "\n",
    "\n",
    "plt.scatter(simple_scenario_df.loc[simple_scenario_df['username'] == random_sample_simple][\"x\"], simple_scenario_df.loc[simple_scenario_df['username'] == random_sample_simple][\"y\"],label = \"line 1\")\n",
    "plt.scatter(simple_scenario_df.loc[simple_scenario_df['username'] == random_sample_simple2][\"x\"], simple_scenario_df.loc[simple_scenario_df['username'] == random_sample_simple2][\"y\"],label = \"line 2\")\n",
    "plt.scatter(simple_scenario_df.loc[simple_scenario_df['username'] == random_sample_simple3][\"x\"], simple_scenario_df.loc[simple_scenario_df['username'] == random_sample_simple3][\"y\"],label = \"line 3\")\n",
    "\n",
    "plt.xlim(-10, 10)\n",
    "plt.ylim(-10, 10)\n",
    "plt.gca().set_aspect('equal', adjustable='box')\n",
    "plt.gca().invert_yaxis()\n",
    "plt.show()"
   ]
  },
  {
   "cell_type": "code",
   "execution_count": null,
   "metadata": {},
   "outputs": [],
   "source": [
    "all_files = [\"../login_datasets/2019-01-08_FIIT_-2-poschodie_po_skuske_KPAIS_correct_patterns_only/accelerometer.csv\",\n",
    "             \"../login_datasets/2019-03-25_ZS_Mudronova_processed_final/accelerometer.csv\",\n",
    "            \"../login_datasets/2019-04-10_ZS_Mudronova_processed_final/accelerometer.csv\"]\n",
    "\n",
    "df_from_each_file = (pd.read_csv(f) for f in all_files)\n",
    "concatenated_df   = pd.concat(df_from_each_file, ignore_index=True)\n",
    "\n",
    "concatenated_df[\"pattern_id\"] = concatenated_df[\"pattern_id\"].astype(str)+concatenated_df[\"device\"]+concatenated_df[\"username\"]\n",
    "\n",
    "\n",
    "simple_scenario_df = concatenated_df.loc[concatenated_df['scenario'] == \"scenario_show_simple\"]\n",
    "# print(simple_scenario_df)\n",
    "\n",
    "complex_scenario_df = concatenated_df.loc[concatenated_df['scenario'] == \"scenario_show_complex\"]\n",
    "# print(complex_scenario_df)\n",
    "complex_scenario_df = simple_scenario_df"
   ]
  },
  {
   "cell_type": "code",
   "execution_count": null,
   "metadata": {},
   "outputs": [],
   "source": [
    "features = ['x', 'y', 'z']\n",
    "# Separating out the features\n",
    "x = complex_scenario_df.loc[:, features].values\n",
    "# Separating out the target\n",
    "y = complex_scenario_df.loc[:,['username']].values\n",
    "# Standardizing the features\n",
    "x = StandardScaler().fit_transform(x)\n",
    "\n",
    "pca = PCA(n_components=2)\n",
    "principalComponents = pca.fit_transform(x)\n",
    "principalDf = pd.DataFrame(data = principalComponents, columns = ['x', 'y'])\n",
    "\n",
    "usernames_df = complex_scenario_df[['username']].reset_index()\n",
    "\n",
    "finalDf = pd.concat([principalDf, usernames_df[['username']]], axis = 1, sort=False)"
   ]
  },
  {
   "cell_type": "code",
   "execution_count": null,
   "metadata": {},
   "outputs": [],
   "source": [
    "random_sample_simple = \"AdamT\"\n",
    "random_sample_simple2 = \"blinky\"\n",
    "random_sample_simple3 = \"baxos\"\n",
    "print(random_sample_simple)\n",
    "\n",
    "# plt.plot(simple_scenario_df.loc[simple_scenario_df['pattern_id'] == random_sample_simple][\"x\"], simple_scenario_df.loc[simple_scenario_df['pattern_id'] == random_sample_simple][\"y\"])\n",
    "\n",
    "\n",
    "plt.scatter(finalDf.loc[finalDf['username'] == random_sample_simple][\"x\"], finalDf.loc[finalDf['username'] == random_sample_simple][\"y\"],label = \"line 1\")\n",
    "plt.scatter(finalDf.loc[finalDf['username'] == random_sample_simple2][\"x\"], finalDf.loc[finalDf['username'] == random_sample_simple2][\"y\"],label = \"line 2\")\n",
    "plt.scatter(finalDf.loc[finalDf['username'] == random_sample_simple3][\"x\"], finalDf.loc[finalDf['username'] == random_sample_simple3][\"y\"],label = \"line 3\")\n",
    "\n",
    "\n",
    "plt.xlim(-4.5, 4.5)\n",
    "plt.ylim(-4.5, 4.5)\n",
    "plt.gca().set_aspect('equal', adjustable='box')\n",
    "plt.gca().invert_yaxis()\n",
    "plt.show()"
   ]
  },
  {
   "cell_type": "markdown",
   "metadata": {},
   "source": [
    "# ------------------------------------gyroskop"
   ]
  },
  {
   "cell_type": "code",
   "execution_count": null,
   "metadata": {},
   "outputs": [],
   "source": [
    "all_files = [\"../login_datasets/2019-01-08_FIIT_-2-poschodie_po_skuske_KPAIS_correct_patterns_only/gyroscope.csv\",\n",
    "             \"../login_datasets/2019-03-25_ZS_Mudronova_processed_final/gyroscope.csv\",\n",
    "            \"../login_datasets/2019-04-10_ZS_Mudronova_processed_final/gyroscope.csv\"]\n",
    "\n",
    "df_from_each_file = (pd.read_csv(f) for f in all_files)\n",
    "concatenated_df   = pd.concat(df_from_each_file, ignore_index=True)\n",
    "\n",
    "concatenated_df[\"pattern_id\"] = concatenated_df[\"pattern_id\"].astype(str)+concatenated_df[\"device\"]+concatenated_df[\"username\"]\n",
    "\n",
    "\n",
    "simple_scenario_df = concatenated_df.loc[concatenated_df['scenario'] == \"scenario_show_simple\"]\n",
    "# print(simple_scenario_df)\n",
    "\n",
    "complex_scenario_df = concatenated_df.loc[concatenated_df['scenario'] == \"scenario_show_complex\"]\n",
    "# print(complex_scenario_df)\n",
    "complex_scenario_df = simple_scenario_df"
   ]
  },
  {
   "cell_type": "code",
   "execution_count": null,
   "metadata": {},
   "outputs": [],
   "source": [
    "features = ['x', 'y', 'z']\n",
    "# Separating out the features\n",
    "x = complex_scenario_df.loc[:, features].values\n",
    "# Separating out the target\n",
    "y = complex_scenario_df.loc[:,['username']].values\n",
    "# Standardizing the features\n",
    "x = StandardScaler().fit_transform(x)\n",
    "\n",
    "pca = PCA(n_components=2)\n",
    "principalComponents = pca.fit_transform(x)\n",
    "principalDf = pd.DataFrame(data = principalComponents, columns = ['x', 'y'])\n",
    "\n",
    "usernames_df = complex_scenario_df[['username']].reset_index()\n",
    "\n",
    "finalDf = pd.concat([principalDf, usernames_df[['username']]], axis = 1, sort=False)"
   ]
  },
  {
   "cell_type": "code",
   "execution_count": null,
   "metadata": {},
   "outputs": [],
   "source": [
    "random_sample_simple = \"AdamT\"\n",
    "random_sample_simple2 = \"blinky\"\n",
    "random_sample_simple3 = \"baxos\"\n",
    "print(random_sample_simple)\n",
    "\n",
    "# plt.plot(simple_scenario_df.loc[simple_scenario_df['pattern_id'] == random_sample_simple][\"x\"], simple_scenario_df.loc[simple_scenario_df['pattern_id'] == random_sample_simple][\"y\"])\n",
    "\n",
    "\n",
    "plt.scatter(finalDf.loc[finalDf['username'] == random_sample_simple][\"x\"], finalDf.loc[finalDf['username'] == random_sample_simple][\"y\"],label = \"line 1\")\n",
    "plt.scatter(finalDf.loc[finalDf['username'] == random_sample_simple2][\"x\"], finalDf.loc[finalDf['username'] == random_sample_simple2][\"y\"],label = \"line 2\")\n",
    "plt.scatter(finalDf.loc[finalDf['username'] == random_sample_simple3][\"x\"], finalDf.loc[finalDf['username'] == random_sample_simple3][\"y\"],label = \"line 3\")\n",
    "\n",
    "\n",
    "plt.xlim(-10, 10)\n",
    "plt.ylim(-10, 10)\n",
    "plt.gca().set_aspect('equal', adjustable='box')\n",
    "plt.gca().invert_yaxis()\n",
    "plt.show()"
   ]
  },
  {
   "cell_type": "markdown",
   "metadata": {},
   "source": [
    "# ------------------------------------magnetometer"
   ]
  },
  {
   "cell_type": "code",
   "execution_count": null,
   "metadata": {},
   "outputs": [],
   "source": [
    "all_files = [\"../login_datasets/2019-01-08_FIIT_-2-poschodie_po_skuske_KPAIS_correct_patterns_only/magnetometer.csv\",\n",
    "             \"../login_datasets/2019-03-25_ZS_Mudronova_processed_final/magnetometer.csv\",\n",
    "            \"../login_datasets/2019-04-10_ZS_Mudronova_processed_final/magnetometer.csv\"]\n",
    "\n",
    "df_from_each_file = (pd.read_csv(f) for f in all_files)\n",
    "concatenated_df   = pd.concat(df_from_each_file, ignore_index=True)\n",
    "\n",
    "concatenated_df[\"pattern_id\"] = concatenated_df[\"pattern_id\"].astype(str)+concatenated_df[\"device\"]+concatenated_df[\"username\"]\n",
    "\n",
    "\n",
    "simple_scenario_df = concatenated_df.loc[concatenated_df['scenario'] == \"scenario_show_simple\"]\n",
    "# print(simple_scenario_df)\n",
    "\n",
    "complex_scenario_df = concatenated_df.loc[concatenated_df['scenario'] == \"scenario_show_complex\"]\n",
    "# print(complex_scenario_df)\n",
    "# complex_scenario_df = simple_scenario_df"
   ]
  },
  {
   "cell_type": "code",
   "execution_count": null,
   "metadata": {},
   "outputs": [],
   "source": [
    "features = ['x', 'y', 'z']\n",
    "# Separating out the features\n",
    "x = complex_scenario_df.loc[:, features].values\n",
    "# Separating out the target\n",
    "y = complex_scenario_df.loc[:,['username']].values\n",
    "# Standardizing the features\n",
    "x = StandardScaler().fit_transform(x)\n",
    "\n",
    "pca = PCA(n_components=2)\n",
    "principalComponents = pca.fit_transform(x)\n",
    "principalDf = pd.DataFrame(data = principalComponents, columns = ['x', 'y'])\n",
    "\n",
    "usernames_df = complex_scenario_df[['username']].reset_index()\n",
    "\n",
    "finalDf = pd.concat([principalDf, usernames_df[['username']]], axis = 1, sort=False)"
   ]
  },
  {
   "cell_type": "code",
   "execution_count": null,
   "metadata": {},
   "outputs": [],
   "source": [
    "random_sample_simple = \"AdamT\"\n",
    "random_sample_simple2 = \"blinky\"\n",
    "random_sample_simple3 = \"baxos\"\n",
    "print(random_sample_simple)\n",
    "\n",
    "# plt.plot(simple_scenario_df.loc[simple_scenario_df['pattern_id'] == random_sample_simple][\"x\"], simple_scenario_df.loc[simple_scenario_df['pattern_id'] == random_sample_simple][\"y\"])\n",
    "\n",
    "\n",
    "plt.scatter(finalDf.loc[finalDf['username'] == random_sample_simple][\"x\"], finalDf.loc[finalDf['username'] == random_sample_simple][\"y\"],label = \"line 1\")\n",
    "plt.scatter(finalDf.loc[finalDf['username'] == random_sample_simple2][\"x\"], finalDf.loc[finalDf['username'] == random_sample_simple2][\"y\"],label = \"line 2\")\n",
    "plt.scatter(finalDf.loc[finalDf['username'] == random_sample_simple3][\"x\"], finalDf.loc[finalDf['username'] == random_sample_simple3][\"y\"],label = \"line 3\")\n",
    "\n",
    "plt.xlim(-3, 3)\n",
    "plt.ylim(-3, 3)\n",
    "plt.gca().set_aspect('equal', adjustable='box')\n",
    "plt.gca().invert_yaxis()\n",
    "plt.show()"
   ]
  },
  {
   "cell_type": "markdown",
   "metadata": {},
   "source": [
    "# PREDSPRACOVANIE"
   ]
  },
  {
   "cell_type": "code",
   "execution_count": null,
   "metadata": {},
   "outputs": [],
   "source": [
    "all_files = [\"../login_datasets/2019-01-08_FIIT_-2-poschodie_po_skuske_KPAIS_correct_patterns_only/touch.csv\",\n",
    "             \"../login_datasets/2019-03-25_ZS_Mudronova_processed_final/touch.csv\",\n",
    "            \"../login_datasets/2019-04-10_ZS_Mudronova_processed_final/touch.csv\"]\n",
    "csvfile = []\n",
    "\n",
    "for i in range(len(all_files)):\n",
    "    csvfile.append(pandas.read_csv(all_files[i], encoding='utf-8'))\n",
    "    if i==0:\n",
    "        csvfile[i][\"child\"] = 0\n",
    "    else:\n",
    "        csvfile[i][\"child\"] = 1\n",
    "\n",
    "\n",
    "csvfile = pandas.read_csv('file.csv', encoding='utf-8')\n",
    "\n",
    "df_from_each_file = (pd.read_csv(f) for f in all_files)\n",
    "for i in range(len(all_files)):\n",
    "    if i==0:\n",
    "        df_from_each_file[i][\"child\"] = 0\n",
    "    else:\n",
    "        df_from_each_file[i][\"child\"] = 1"
   ]
  }
 ],
 "metadata": {
  "kernelspec": {
   "display_name": "Python 3",
   "language": "python",
   "name": "python3"
  },
  "language_info": {
   "codemirror_mode": {
    "name": "ipython",
    "version": 3
   },
   "file_extension": ".py",
   "mimetype": "text/x-python",
   "name": "python",
   "nbconvert_exporter": "python",
   "pygments_lexer": "ipython3",
   "version": "3.7.9"
  }
 },
 "nbformat": 4,
 "nbformat_minor": 4
}

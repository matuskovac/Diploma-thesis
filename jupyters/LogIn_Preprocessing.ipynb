{
 "cells": [
  {
   "cell_type": "code",
   "execution_count": 1,
   "metadata": {},
   "outputs": [],
   "source": [
    "import warnings\n",
    "warnings.filterwarnings('ignore')\n",
    "import numpy as np\n",
    "import pandas as pd\n",
    "import time\n",
    "import random\n",
    "import itertools\n",
    "import  matplotlib.pyplot as plt\n",
    "import shapely\n",
    "from shapely.geometry import LineString, Point\n",
    "from statistics import mean\n",
    "\n",
    "from sklearn.model_selection import train_test_split\n",
    "from sklearn.preprocessing import LabelEncoder\n",
    "from sklearn.preprocessing import StandardScaler\n",
    "from sklearn.preprocessing import MinMaxScaler\n",
    "from sklearn.tree import DecisionTreeClassifier\n",
    "from sklearn.naive_bayes import GaussianNB\n",
    "from sklearn.svm import SVC\n",
    "from sklearn.neighbors import NearestNeighbors\n",
    "from sklearn.utils import shuffle\n",
    "from sklearn.metrics import precision_score, \\\n",
    "    recall_score, confusion_matrix, classification_report, \\\n",
    "    accuracy_score, f1_score\n",
    "from sklearn.experimental import enable_iterative_imputer\n",
    "from sklearn.impute import IterativeImputer\n",
    "from sklearn.ensemble import ExtraTreesClassifier\n",
    "from sklearn.feature_selection import RFE\n",
    "from sklearn.linear_model import LogisticRegression\n",
    "from sklearn.svm import OneClassSVM\n",
    "from sklearn.ensemble import RandomForestClassifier\n",
    "from sklearn.feature_selection import RFECV\n",
    "from sklearn.svm import SVR\n",
    "\n",
    "from behalearn.preprocessing import columns\n",
    "from behalearn.authentication import authentication_metrics\n",
    "from behalearn.authentication import authentication_results\n",
    "from behalearn.estimators import VotingClassifier\n",
    "from behalearn.features import FeatureExtractor\n",
    "from behalearn.features import temporal\n",
    "from behalearn.metrics import fmr_score\n",
    "from behalearn.metrics import fnmr_score\n",
    "from behalearn.metrics import eer_score\n",
    "from behalearn.metrics import hter_score\n",
    "from behalearn.preprocessing import StartEndSegmentSplitter\n",
    "from behalearn.preprocessing import SegmentSplitter\n",
    "from behalearn.preprocessing.segment import criteria\n",
    "from behalearn.visualization import initialize_notebook_output\n",
    "from behalearn.visualization import label_touches\n",
    "from behalearn.visualization import plot_fmr_fnmr\n",
    "from behalearn.visualization import visualize_mobile_data\n",
    "from behalearn.visualization import visualize_mouse_data\n",
    "from behalearn.visualization import visualize_custom_data\n"
   ]
  },
  {
   "cell_type": "code",
   "execution_count": 2,
   "metadata": {},
   "outputs": [],
   "source": [
    "segment_column = 'segment'\n",
    "user_column = 'user'\n",
    "user_name_column = 'username'\n",
    "compute_features_for_segment = True\n",
    "delete_nan_features = False\n",
    "use_selected_features = False\n",
    "\n",
    "path_to_raw_data = '../login_datasets/2019-01-08_FIIT_-2-poschodie_po_skuske_KPAIS_correct_patterns_only/'\n",
    "path_to_featutes = \"../login_features/\" + (\"segments\" if compute_features_for_segment else \"paterns\") + (\"\" if delete_nan_features else \"_nan\") + \"/\"\n",
    "\n",
    "columns_to_identificate_features = ['id', 'pattern_id','device','scenario', user_name_column, user_column]\n",
    "if compute_features_for_segment:\n",
    "    columns_to_identificate_features.append(segment_column)\n",
    "    \n",
    "train_y_columns = user_name_column\n",
    "selected_features_dict={'40_RandomForestClassifierWithCoef(min_samples_leaf=5, n_estimators=500, n_jobs=-1)': ['duration', 'velocity_x_y_mean', 'velocity_x_y_max', 'velocity_x_y_abs_max', 'accelerometer_jerk_x_std', 'accelerometer_jerk_x_z_mean', 'accelerometer_jerk_x_z_upper_q', 'accelerometer_jerk_x_y_z_mean', 'accelerometer_x_mean', 'accelerometer_x_lower_q', 'accelerometer_x_median', 'accelerometer_y_mean', 'accelerometer_y_lower_q', 'accelerometer_y_median', 'accelerometer_y_upper_q', 'accelerometer_z_mean', 'accelerometer_z_lower_q', 'accelerometer_x_y_mean', 'accelerometer_x_z_mean', 'accelerometer_y_z_mean', 'accelerometer_x_y_z_mean', 'gyro_jerk_z_std', 'gyro_jerk_x_y_lower_q', 'gyro_jerk_x_z_mean', 'gyro_jerk_x_z_lower_q', 'gyro_jerk_y_z_median', 'gyro_jerk_y_z_lower_q', 'gyro_jerk_x_y_z_mean', 'gyro_jerk_x_y_z_lower_q', 'gyro_z_std', 'gyro_z_min', 'gyro_z_max', 'gyro_x_y_mean', 'gyro_x_z_mean', 'gyro_x_z_upper_q', 'gyro_x_z_max', 'gyro_y_z_mean', 'gyro_y_z_upper_q', 'gyro_y_z_max', 'gyro_x_y_z_mean'], '100_LogisticRegression()': ['duration', 'length', 'velocity_x_std', 'velocity_x_min', 'velocity_x_max', 'velocity_x_abs_max', 'velocity_x_median', 'velocity_y_std', 'velocity_y_min', 'velocity_y_max', 'velocity_y_abs_min', 'velocity_y_median', 'velocity_y_upper_q', 'velocity_x_y_std', 'velocity_x_y_min', 'velocity_x_y_max', 'velocity_x_y_median', 'velocity_x_y_lower_q', 'velocity_x_y_upper_q', 'acceleration_x_std', 'accelerometer_jerk_x_std', 'accelerometer_jerk_z_std', 'accelerometer_jerk_z_min', 'accelerometer_jerk_x_y_mean', 'accelerometer_jerk_x_y_max', 'accelerometer_jerk_x_y_upper_q', 'accelerometer_jerk_x_z_median', 'accelerometer_jerk_y_z_mean', 'accelerometer_jerk_y_z_max', 'accelerometer_jerk_x_y_z_std', 'accelerometer_x_mean', 'accelerometer_x_std', 'accelerometer_x_min', 'accelerometer_y_mean', 'accelerometer_y_std', 'accelerometer_z_mean', 'accelerometer_z_std', 'accelerometer_z_max', 'accelerometer_x_y_median', 'accelerometer_x_y_upper_q', 'accelerometer_x_y_max', 'accelerometer_x_z_mean', 'accelerometer_x_z_lower_q', 'accelerometer_x_z_median', 'accelerometer_x_z_upper_q', 'accelerometer_y_z_lower_q', 'accelerometer_y_z_median', 'accelerometer_x_y_z_lower_q', 'accelerometer_x_y_z_median', 'accelerometer_x_y_z_max', 'gyro_jerk_x_mean', 'gyro_jerk_x_max', 'gyro_jerk_y_min', 'gyro_jerk_y_max', 'gyro_jerk_z_std', 'gyro_jerk_z_min', 'gyro_jerk_z_max', 'gyro_jerk_x_y_mean', 'gyro_jerk_x_y_std', 'gyro_jerk_x_y_median', 'gyro_jerk_x_y_lower_q', 'gyro_jerk_x_z_std', 'gyro_jerk_x_z_median', 'gyro_jerk_x_z_lower_q', 'gyro_jerk_x_z_iqr', 'gyro_jerk_y_z_max', 'gyro_jerk_y_z_median', 'gyro_jerk_y_z_lower_q', 'gyro_jerk_y_z_upper_q', 'gyro_jerk_x_y_z_mean', 'gyro_jerk_x_y_z_abs_max', 'gyro_jerk_x_y_z_median', 'gyro_jerk_x_y_z_lower_q', 'gyro_jerk_x_y_z_iqr', 'gyro_x_std', 'gyro_y_std', 'gyro_z_std', 'gyro_z_min', 'gyro_z_lower_q', 'gyro_z_max', 'gyro_x_y_mean', 'gyro_x_y_std', 'gyro_x_y_min', 'gyro_x_y_median', 'gyro_x_y_upper_q', 'gyro_x_y_max', 'gyro_x_z_std', 'gyro_x_z_min', 'gyro_x_z_lower_q', 'gyro_x_z_median', 'gyro_x_z_upper_q', 'gyro_x_z_max', 'gyro_y_z_std', 'gyro_y_z_min', 'gyro_y_z_lower_q', 'gyro_y_z_median', 'gyro_y_z_max', 'gyro_x_y_z_std', 'gyro_x_y_z_min', 'gyro_x_y_z_lower_q'], '110_LogisticRegression()': ['duration', 'length', 'velocity_x_std', 'velocity_x_min', 'velocity_x_max', 'velocity_x_abs_max', 'velocity_x_median', 'velocity_y_std', 'velocity_y_min', 'velocity_y_max', 'velocity_y_abs_min', 'velocity_y_median', 'velocity_y_upper_q', 'velocity_x_y_std', 'velocity_x_y_min', 'velocity_x_y_max', 'velocity_x_y_abs_max', 'velocity_x_y_median', 'velocity_x_y_lower_q', 'velocity_x_y_upper_q', 'acceleration_x_std', 'acceleration_x_y_std', 'acceleration_x_y_max', 'acceleration_x_y_abs_max', 'accelerometer_jerk_x_std', 'accelerometer_jerk_z_std', 'accelerometer_jerk_z_min', 'accelerometer_jerk_x_y_mean', 'accelerometer_jerk_x_y_max', 'accelerometer_jerk_x_y_upper_q', 'accelerometer_jerk_x_z_median', 'accelerometer_jerk_y_z_mean', 'accelerometer_jerk_y_z_std', 'accelerometer_jerk_y_z_max', 'accelerometer_jerk_x_y_z_std', 'accelerometer_x_mean', 'accelerometer_x_std', 'accelerometer_x_min', 'accelerometer_y_mean', 'accelerometer_y_std', 'accelerometer_z_mean', 'accelerometer_z_std', 'accelerometer_z_max', 'accelerometer_x_y_median', 'accelerometer_x_y_upper_q', 'accelerometer_x_y_max', 'accelerometer_x_z_mean', 'accelerometer_x_z_lower_q', 'accelerometer_x_z_median', 'accelerometer_x_z_upper_q', 'accelerometer_y_z_lower_q', 'accelerometer_y_z_median', 'accelerometer_x_y_z_std', 'accelerometer_x_y_z_lower_q', 'accelerometer_x_y_z_median', 'accelerometer_x_y_z_max', 'gyro_jerk_x_mean', 'gyro_jerk_x_max', 'gyro_jerk_y_min', 'gyro_jerk_y_max', 'gyro_jerk_z_std', 'gyro_jerk_z_min', 'gyro_jerk_z_max', 'gyro_jerk_x_y_mean', 'gyro_jerk_x_y_std', 'gyro_jerk_x_y_median', 'gyro_jerk_x_y_lower_q', 'gyro_jerk_x_y_iqr', 'gyro_jerk_x_z_std', 'gyro_jerk_x_z_median', 'gyro_jerk_x_z_lower_q', 'gyro_jerk_x_z_iqr', 'gyro_jerk_y_z_max', 'gyro_jerk_y_z_median', 'gyro_jerk_y_z_lower_q', 'gyro_jerk_y_z_upper_q', 'gyro_jerk_x_y_z_mean', 'gyro_jerk_x_y_z_abs_max', 'gyro_jerk_x_y_z_median', 'gyro_jerk_x_y_z_lower_q', 'gyro_jerk_x_y_z_iqr', 'gyro_x_std', 'gyro_y_std', 'gyro_y_min', 'gyro_y_upper_q', 'gyro_z_std', 'gyro_z_min', 'gyro_z_lower_q', 'gyro_z_max', 'gyro_x_y_mean', 'gyro_x_y_std', 'gyro_x_y_min', 'gyro_x_y_median', 'gyro_x_y_upper_q', 'gyro_x_y_max', 'gyro_x_z_std', 'gyro_x_z_min', 'gyro_x_z_lower_q', 'gyro_x_z_median', 'gyro_x_z_upper_q', 'gyro_x_z_max', 'gyro_y_z_std', 'gyro_y_z_min', 'gyro_y_z_lower_q', 'gyro_y_z_median', 'gyro_y_z_upper_q', 'gyro_y_z_max', 'gyro_x_y_z_std', 'gyro_x_y_z_min', 'gyro_x_y_z_lower_q'], '10_RandomForestClassifierWithCoef(min_samples_leaf=5, n_estimators=500, n_jobs=-1)': ['duration', 'accelerometer_jerk_x_z_mean', 'accelerometer_x_mean', 'accelerometer_y_mean', 'accelerometer_z_mean', 'gyro_jerk_z_std', 'gyro_jerk_y_z_lower_q', 'gyro_jerk_x_y_z_lower_q', 'gyro_x_z_mean', 'gyro_y_z_mean'], '20_RandomForestClassifierWithCoef(min_samples_leaf=5, n_estimators=500, n_jobs=-1)': ['duration', 'velocity_x_y_max', 'accelerometer_jerk_x_std', 'accelerometer_jerk_x_z_mean', 'accelerometer_jerk_x_y_z_mean', 'accelerometer_x_mean', 'accelerometer_y_mean', 'accelerometer_y_lower_q', 'accelerometer_z_mean', 'accelerometer_x_y_z_mean', 'gyro_jerk_z_std', 'gyro_jerk_x_z_lower_q', 'gyro_jerk_y_z_lower_q', 'gyro_jerk_x_y_z_mean', 'gyro_jerk_x_y_z_lower_q', 'gyro_z_std', 'gyro_x_y_mean', 'gyro_x_z_mean', 'gyro_y_z_mean', 'gyro_y_z_max'], 'A_LogisticRegression()': ['duration', 'length', 'velocity_x_std', 'velocity_x_min', 'velocity_x_max', 'velocity_x_abs_max', 'velocity_x_median', 'velocity_x_iqr', 'velocity_y_std', 'velocity_y_min', 'velocity_y_max', 'velocity_y_abs_min', 'velocity_y_abs_max', 'velocity_y_median', 'velocity_y_upper_q', 'velocity_y_iqr', 'velocity_x_y_std', 'velocity_x_y_min', 'velocity_x_y_max', 'velocity_x_y_abs_max', 'velocity_x_y_median', 'velocity_x_y_lower_q', 'velocity_x_y_upper_q', 'velocity_x_y_iqr', 'acceleration_x_std', 'acceleration_x_min', 'acceleration_x_max', 'acceleration_x_median', 'acceleration_x_iqr', 'acceleration_y_std', 'acceleration_x_y_std', 'acceleration_x_y_max', 'acceleration_x_y_abs_min', 'acceleration_x_y_abs_max', 'acceleration_x_y_median', 'acceleration_x_y_lower_q', 'jerk_x_std', 'jerk_x_abs_max', 'jerk_x_lower_q', 'jerk_x_y_min', 'accelerometer_jerk_x_std', 'accelerometer_jerk_x_min', 'accelerometer_jerk_x_max', 'accelerometer_jerk_y_std', 'accelerometer_jerk_z_std', 'accelerometer_jerk_z_min', 'accelerometer_jerk_x_y_mean', 'accelerometer_jerk_x_y_max', 'accelerometer_jerk_x_y_median', 'accelerometer_jerk_x_y_upper_q', 'accelerometer_jerk_x_z_std', 'accelerometer_jerk_x_z_median', 'accelerometer_jerk_x_z_lower_q', 'accelerometer_jerk_y_z_mean', 'accelerometer_jerk_y_z_std', 'accelerometer_jerk_y_z_max', 'accelerometer_jerk_y_z_median', 'accelerometer_jerk_y_z_lower_q', 'accelerometer_jerk_x_y_z_std', 'accelerometer_x_mean', 'accelerometer_x_std', 'accelerometer_x_min', 'accelerometer_y_mean', 'accelerometer_y_std', 'accelerometer_y_min', 'accelerometer_y_lower_q', 'accelerometer_y_upper_q', 'accelerometer_z_mean', 'accelerometer_z_std', 'accelerometer_z_min', 'accelerometer_z_max', 'accelerometer_x_y_mean', 'accelerometer_x_y_std', 'accelerometer_x_y_lower_q', 'accelerometer_x_y_median', 'accelerometer_x_y_upper_q', 'accelerometer_x_y_max', 'accelerometer_x_z_mean', 'accelerometer_x_z_std', 'accelerometer_x_z_lower_q', 'accelerometer_x_z_median', 'accelerometer_x_z_upper_q', 'accelerometer_y_z_std', 'accelerometer_y_z_lower_q', 'accelerometer_y_z_median', 'accelerometer_y_z_upper_q', 'accelerometer_x_y_z_std', 'accelerometer_x_y_z_lower_q', 'accelerometer_x_y_z_median', 'accelerometer_x_y_z_max', 'gyro_jerk_x_mean', 'gyro_jerk_x_min', 'gyro_jerk_x_max', 'gyro_jerk_x_upper_q', 'gyro_jerk_y_mean', 'gyro_jerk_y_min', 'gyro_jerk_y_max', 'gyro_jerk_y_iqr', 'gyro_jerk_z_std', 'gyro_jerk_z_min', 'gyro_jerk_z_max', 'gyro_jerk_x_y_mean', 'gyro_jerk_x_y_std', 'gyro_jerk_x_y_abs_min', 'gyro_jerk_x_y_median', 'gyro_jerk_x_y_lower_q', 'gyro_jerk_x_y_iqr', 'gyro_jerk_x_z_std', 'gyro_jerk_x_z_median', 'gyro_jerk_x_z_lower_q', 'gyro_jerk_x_z_iqr', 'gyro_jerk_y_z_std', 'gyro_jerk_y_z_max', 'gyro_jerk_y_z_median', 'gyro_jerk_y_z_lower_q', 'gyro_jerk_y_z_upper_q', 'gyro_jerk_x_y_z_mean', 'gyro_jerk_x_y_z_std', 'gyro_jerk_x_y_z_abs_min', 'gyro_jerk_x_y_z_abs_max', 'gyro_jerk_x_y_z_median', 'gyro_jerk_x_y_z_lower_q', 'gyro_jerk_x_y_z_iqr', 'gyro_x_std', 'gyro_x_max', 'gyro_y_std', 'gyro_y_min', 'gyro_y_upper_q', 'gyro_y_max', 'gyro_z_std', 'gyro_z_min', 'gyro_z_lower_q', 'gyro_z_median', 'gyro_z_upper_q', 'gyro_z_max', 'gyro_x_y_mean', 'gyro_x_y_std', 'gyro_x_y_min', 'gyro_x_y_lower_q', 'gyro_x_y_median', 'gyro_x_y_upper_q', 'gyro_x_y_max', 'gyro_x_z_std', 'gyro_x_z_min', 'gyro_x_z_lower_q', 'gyro_x_z_median', 'gyro_x_z_upper_q', 'gyro_x_z_max', 'gyro_y_z_std', 'gyro_y_z_min', 'gyro_y_z_lower_q', 'gyro_y_z_median', 'gyro_y_z_upper_q', 'gyro_y_z_max', 'gyro_x_y_z_std', 'gyro_x_y_z_min', 'gyro_x_y_z_lower_q', 'gyro_x_y_z_max'], 'A_RandomForestClassifierWithCoef(min_samples_leaf=5, n_estimators=500, n_jobs=-1)': ['duration', 'length', 'start_x', 'start_y', 'velocity_x_mean', 'velocity_x_std', 'velocity_x_max', 'velocity_x_abs_max', 'velocity_y_mean', 'velocity_y_std', 'velocity_y_min', 'velocity_y_max', 'velocity_y_abs_max', 'velocity_y_lower_q', 'velocity_y_upper_q', 'velocity_x_y_mean', 'velocity_x_y_std', 'velocity_x_y_max', 'velocity_x_y_abs_max', 'velocity_x_y_median', 'velocity_x_y_lower_q', 'velocity_x_y_upper_q', 'acceleration_x_mean', 'acceleration_x_std', 'acceleration_y_mean', 'acceleration_y_std', 'acceleration_x_y_mean', 'acceleration_x_y_std', 'acceleration_x_y_lower_q', 'acceleration_x_y_upper_q', 'jerk_x_std', 'jerk_x_y_std', 'angular_velocity_x_y_mean', 'angular_velocity_x_y_min', 'angular_velocity_x_y_lower_q', 'accelerometer_jerk_x_std', 'accelerometer_jerk_x_min', 'accelerometer_jerk_x_max', 'accelerometer_jerk_x_iqr', 'accelerometer_jerk_y_std', 'accelerometer_jerk_z_std', 'accelerometer_jerk_x_y_mean', 'accelerometer_jerk_x_y_median', 'accelerometer_jerk_x_y_upper_q', 'accelerometer_jerk_x_z_mean', 'accelerometer_jerk_x_z_max', 'accelerometer_jerk_x_z_abs_max', 'accelerometer_jerk_x_z_median', 'accelerometer_jerk_x_z_upper_q', 'accelerometer_jerk_y_z_mean', 'accelerometer_jerk_y_z_median', 'accelerometer_jerk_y_z_upper_q', 'accelerometer_jerk_x_y_z_mean', 'accelerometer_jerk_x_y_z_median', 'accelerometer_jerk_x_y_z_lower_q', 'accelerometer_jerk_x_y_z_upper_q', 'accelerometer_x_mean', 'accelerometer_x_std', 'accelerometer_x_min', 'accelerometer_x_lower_q', 'accelerometer_x_median', 'accelerometer_x_upper_q', 'accelerometer_x_max', 'accelerometer_y_mean', 'accelerometer_y_std', 'accelerometer_y_min', 'accelerometer_y_lower_q', 'accelerometer_y_median', 'accelerometer_y_upper_q', 'accelerometer_y_max', 'accelerometer_z_mean', 'accelerometer_z_std', 'accelerometer_z_min', 'accelerometer_z_lower_q', 'accelerometer_z_median', 'accelerometer_z_upper_q', 'accelerometer_z_max', 'accelerometer_x_y_mean', 'accelerometer_x_y_lower_q', 'accelerometer_x_y_median', 'accelerometer_x_y_upper_q', 'accelerometer_x_y_max', 'accelerometer_x_z_mean', 'accelerometer_x_z_median', 'accelerometer_x_z_upper_q', 'accelerometer_x_z_max', 'accelerometer_y_z_mean', 'accelerometer_y_z_median', 'accelerometer_y_z_upper_q', 'accelerometer_x_y_z_mean', 'accelerometer_x_y_z_lower_q', 'accelerometer_x_y_z_median', 'accelerometer_x_y_z_upper_q', 'gyro_jerk_x_std', 'gyro_jerk_x_max', 'gyro_jerk_y_mean', 'gyro_jerk_y_std', 'gyro_jerk_y_min', 'gyro_jerk_y_max', 'gyro_jerk_y_iqr', 'gyro_jerk_z_mean', 'gyro_jerk_z_std', 'gyro_jerk_z_min', 'gyro_jerk_z_max', 'gyro_jerk_z_lower_q', 'gyro_jerk_z_upper_q', 'gyro_jerk_z_iqr', 'gyro_jerk_x_y_mean', 'gyro_jerk_x_y_median', 'gyro_jerk_x_y_lower_q', 'gyro_jerk_x_y_upper_q', 'gyro_jerk_x_z_mean', 'gyro_jerk_x_z_median', 'gyro_jerk_x_z_lower_q', 'gyro_jerk_x_z_upper_q', 'gyro_jerk_y_z_mean', 'gyro_jerk_y_z_std', 'gyro_jerk_y_z_max', 'gyro_jerk_y_z_median', 'gyro_jerk_y_z_lower_q', 'gyro_jerk_y_z_upper_q', 'gyro_jerk_x_y_z_mean', 'gyro_jerk_x_y_z_median', 'gyro_jerk_x_y_z_lower_q', 'gyro_jerk_x_y_z_upper_q', 'gyro_jerk_x_y_z_iqr', 'gyro_x_mean', 'gyro_x_min', 'gyro_x_lower_q', 'gyro_x_median', 'gyro_x_upper_q', 'gyro_x_max', 'gyro_y_mean', 'gyro_y_std', 'gyro_y_min', 'gyro_y_lower_q', 'gyro_y_median', 'gyro_y_upper_q', 'gyro_y_max', 'gyro_z_mean', 'gyro_z_std', 'gyro_z_min', 'gyro_z_lower_q', 'gyro_z_median', 'gyro_z_upper_q', 'gyro_z_max', 'gyro_x_y_mean', 'gyro_x_y_lower_q', 'gyro_x_y_median', 'gyro_x_y_upper_q', 'gyro_x_y_max', 'gyro_x_z_mean', 'gyro_x_z_std', 'gyro_x_z_lower_q', 'gyro_x_z_median', 'gyro_x_z_upper_q', 'gyro_x_z_max', 'gyro_y_z_mean', 'gyro_y_z_std', 'gyro_y_z_lower_q', 'gyro_y_z_median', 'gyro_y_z_upper_q', 'gyro_y_z_max', 'gyro_x_y_z_mean', 'gyro_x_y_z_min', 'gyro_x_y_z_lower_q', 'gyro_x_y_z_median', 'gyro_x_y_z_upper_q', 'gyro_x_y_z_max'], '50_RandomForestClassifierWithCoef(min_samples_leaf=5, n_estimators=500, n_jobs=-1)': ['duration', 'velocity_x_std', 'velocity_x_y_mean', 'velocity_x_y_max', 'velocity_x_y_abs_max', 'velocity_x_y_upper_q', 'accelerometer_jerk_x_std', 'accelerometer_jerk_x_y_mean', 'accelerometer_jerk_x_z_mean', 'accelerometer_jerk_x_z_upper_q', 'accelerometer_jerk_y_z_mean', 'accelerometer_jerk_x_y_z_mean', 'accelerometer_x_mean', 'accelerometer_x_min', 'accelerometer_x_lower_q', 'accelerometer_x_median', 'accelerometer_x_upper_q', 'accelerometer_y_mean', 'accelerometer_y_lower_q', 'accelerometer_y_median', 'accelerometer_y_upper_q', 'accelerometer_z_mean', 'accelerometer_z_lower_q', 'accelerometer_x_y_mean', 'accelerometer_x_z_mean', 'accelerometer_y_z_mean', 'accelerometer_x_y_z_mean', 'gyro_jerk_y_std', 'gyro_jerk_z_std', 'gyro_jerk_z_iqr', 'gyro_jerk_x_y_lower_q', 'gyro_jerk_x_z_mean', 'gyro_jerk_x_z_lower_q', 'gyro_jerk_y_z_median', 'gyro_jerk_y_z_lower_q', 'gyro_jerk_x_y_z_mean', 'gyro_jerk_x_y_z_median', 'gyro_jerk_x_y_z_lower_q', 'gyro_z_std', 'gyro_z_min', 'gyro_z_max', 'gyro_x_y_mean', 'gyro_x_y_max', 'gyro_x_z_mean', 'gyro_x_z_upper_q', 'gyro_x_z_max', 'gyro_y_z_mean', 'gyro_y_z_upper_q', 'gyro_y_z_max', 'gyro_x_y_z_mean'], '60_RandomForestClassifierWithCoef(min_samples_leaf=5, n_estimators=500, n_jobs=-1)': ['duration', 'velocity_x_std', 'velocity_y_abs_max', 'velocity_x_y_mean', 'velocity_x_y_max', 'velocity_x_y_abs_max', 'velocity_x_y_upper_q', 'accelerometer_jerk_x_std', 'accelerometer_jerk_x_y_mean', 'accelerometer_jerk_x_z_mean', 'accelerometer_jerk_x_z_upper_q', 'accelerometer_jerk_y_z_mean', 'accelerometer_jerk_x_y_z_mean', 'accelerometer_x_mean', 'accelerometer_x_min', 'accelerometer_x_lower_q', 'accelerometer_x_median', 'accelerometer_x_upper_q', 'accelerometer_y_mean', 'accelerometer_y_lower_q', 'accelerometer_y_median', 'accelerometer_y_upper_q', 'accelerometer_z_mean', 'accelerometer_z_lower_q', 'accelerometer_z_median', 'accelerometer_x_y_mean', 'accelerometer_x_z_mean', 'accelerometer_x_z_upper_q', 'accelerometer_y_z_mean', 'accelerometer_x_y_z_mean', 'gyro_jerk_y_std', 'gyro_jerk_z_std', 'gyro_jerk_z_min', 'gyro_jerk_z_iqr', 'gyro_jerk_x_y_median', 'gyro_jerk_x_y_lower_q', 'gyro_jerk_x_z_mean', 'gyro_jerk_x_z_median', 'gyro_jerk_x_z_lower_q', 'gyro_jerk_y_z_median', 'gyro_jerk_y_z_lower_q', 'gyro_jerk_x_y_z_mean', 'gyro_jerk_x_y_z_median', 'gyro_jerk_x_y_z_lower_q', 'gyro_jerk_x_y_z_upper_q', 'gyro_y_max', 'gyro_z_mean', 'gyro_z_std', 'gyro_z_min', 'gyro_z_max', 'gyro_x_y_mean', 'gyro_x_y_upper_q', 'gyro_x_y_max', 'gyro_x_z_mean', 'gyro_x_z_upper_q', 'gyro_x_z_max', 'gyro_y_z_mean', 'gyro_y_z_upper_q', 'gyro_y_z_max', 'gyro_x_y_z_mean'], '70_RandomForestClassifierWithCoef(min_samples_leaf=5, n_estimators=500, n_jobs=-1)': ['duration', 'velocity_x_std', 'velocity_y_abs_max', 'velocity_x_y_mean', 'velocity_x_y_max', 'velocity_x_y_abs_max', 'velocity_x_y_upper_q', 'accelerometer_jerk_x_std', 'accelerometer_jerk_x_y_mean', 'accelerometer_jerk_x_z_mean', 'accelerometer_jerk_x_z_median', 'accelerometer_jerk_x_z_upper_q', 'accelerometer_jerk_y_z_mean', 'accelerometer_jerk_x_y_z_mean', 'accelerometer_x_mean', 'accelerometer_x_std', 'accelerometer_x_min', 'accelerometer_x_lower_q', 'accelerometer_x_median', 'accelerometer_x_upper_q', 'accelerometer_y_mean', 'accelerometer_y_min', 'accelerometer_y_lower_q', 'accelerometer_y_median', 'accelerometer_y_upper_q', 'accelerometer_y_max', 'accelerometer_z_mean', 'accelerometer_z_lower_q', 'accelerometer_z_median', 'accelerometer_z_upper_q', 'accelerometer_x_y_mean', 'accelerometer_x_z_mean', 'accelerometer_x_z_upper_q', 'accelerometer_y_z_mean', 'accelerometer_x_y_z_mean', 'gyro_jerk_y_std', 'gyro_jerk_z_mean', 'gyro_jerk_z_std', 'gyro_jerk_z_min', 'gyro_jerk_z_iqr', 'gyro_jerk_x_y_median', 'gyro_jerk_x_y_lower_q', 'gyro_jerk_x_z_mean', 'gyro_jerk_x_z_median', 'gyro_jerk_x_z_lower_q', 'gyro_jerk_y_z_median', 'gyro_jerk_y_z_lower_q', 'gyro_jerk_x_y_z_mean', 'gyro_jerk_x_y_z_median', 'gyro_jerk_x_y_z_lower_q', 'gyro_jerk_x_y_z_upper_q', 'gyro_y_std', 'gyro_y_max', 'gyro_z_mean', 'gyro_z_std', 'gyro_z_min', 'gyro_z_upper_q', 'gyro_z_max', 'gyro_x_y_mean', 'gyro_x_y_upper_q', 'gyro_x_y_max', 'gyro_x_z_mean', 'gyro_x_z_upper_q', 'gyro_x_z_max', 'gyro_y_z_mean', 'gyro_y_z_median', 'gyro_y_z_upper_q', 'gyro_y_z_max', 'gyro_x_y_z_mean', 'gyro_x_y_z_max'], '80_RandomForestClassifierWithCoef(min_samples_leaf=5, n_estimators=500, n_jobs=-1)': ['duration', 'start_y', 'velocity_x_std', 'velocity_y_min', 'velocity_y_abs_max', 'velocity_x_y_mean', 'velocity_x_y_std', 'velocity_x_y_max', 'velocity_x_y_abs_max', 'velocity_x_y_upper_q', 'accelerometer_jerk_x_std', 'accelerometer_jerk_x_max', 'accelerometer_jerk_x_y_mean', 'accelerometer_jerk_x_z_mean', 'accelerometer_jerk_x_z_median', 'accelerometer_jerk_x_z_upper_q', 'accelerometer_jerk_y_z_mean', 'accelerometer_jerk_x_y_z_mean', 'accelerometer_jerk_x_y_z_median', 'accelerometer_x_mean', 'accelerometer_x_std', 'accelerometer_x_min', 'accelerometer_x_lower_q', 'accelerometer_x_median', 'accelerometer_x_upper_q', 'accelerometer_y_mean', 'accelerometer_y_min', 'accelerometer_y_lower_q', 'accelerometer_y_median', 'accelerometer_y_upper_q', 'accelerometer_y_max', 'accelerometer_z_mean', 'accelerometer_z_lower_q', 'accelerometer_z_median', 'accelerometer_z_upper_q', 'accelerometer_x_y_mean', 'accelerometer_x_z_mean', 'accelerometer_x_z_upper_q', 'accelerometer_y_z_mean', 'accelerometer_x_y_z_mean', 'accelerometer_x_y_z_upper_q', 'gyro_jerk_y_std', 'gyro_jerk_z_mean', 'gyro_jerk_z_std', 'gyro_jerk_z_min', 'gyro_jerk_z_max', 'gyro_jerk_z_iqr', 'gyro_jerk_x_y_median', 'gyro_jerk_x_y_lower_q', 'gyro_jerk_x_z_mean', 'gyro_jerk_x_z_median', 'gyro_jerk_x_z_lower_q', 'gyro_jerk_y_z_mean', 'gyro_jerk_y_z_median', 'gyro_jerk_y_z_lower_q', 'gyro_jerk_x_y_z_mean', 'gyro_jerk_x_y_z_median', 'gyro_jerk_x_y_z_lower_q', 'gyro_jerk_x_y_z_upper_q', 'gyro_x_mean', 'gyro_y_std', 'gyro_y_max', 'gyro_z_mean', 'gyro_z_std', 'gyro_z_min', 'gyro_z_upper_q', 'gyro_z_max', 'gyro_x_y_mean', 'gyro_x_y_upper_q', 'gyro_x_y_max', 'gyro_x_z_mean', 'gyro_x_z_median', 'gyro_x_z_upper_q', 'gyro_x_z_max', 'gyro_y_z_mean', 'gyro_y_z_median', 'gyro_y_z_upper_q', 'gyro_y_z_max', 'gyro_x_y_z_mean', 'gyro_x_y_z_max'], '90_RandomForestClassifierWithCoef(min_samples_leaf=5, n_estimators=500, n_jobs=-1)': ['duration', 'start_y', 'velocity_x_std', 'velocity_y_min', 'velocity_y_abs_max', 'velocity_x_y_mean', 'velocity_x_y_std', 'velocity_x_y_max', 'velocity_x_y_abs_max', 'velocity_x_y_median', 'velocity_x_y_upper_q', 'acceleration_x_std', 'accelerometer_jerk_x_std', 'accelerometer_jerk_x_max', 'accelerometer_jerk_x_iqr', 'accelerometer_jerk_x_y_mean', 'accelerometer_jerk_x_z_mean', 'accelerometer_jerk_x_z_median', 'accelerometer_jerk_x_z_upper_q', 'accelerometer_jerk_y_z_mean', 'accelerometer_jerk_x_y_z_mean', 'accelerometer_jerk_x_y_z_median', 'accelerometer_jerk_x_y_z_upper_q', 'accelerometer_x_mean', 'accelerometer_x_std', 'accelerometer_x_min', 'accelerometer_x_lower_q', 'accelerometer_x_median', 'accelerometer_x_upper_q', 'accelerometer_x_max', 'accelerometer_y_mean', 'accelerometer_y_std', 'accelerometer_y_min', 'accelerometer_y_lower_q', 'accelerometer_y_median', 'accelerometer_y_upper_q', 'accelerometer_y_max', 'accelerometer_z_mean', 'accelerometer_z_min', 'accelerometer_z_lower_q', 'accelerometer_z_median', 'accelerometer_z_upper_q', 'accelerometer_x_y_mean', 'accelerometer_x_z_mean', 'accelerometer_x_z_upper_q', 'accelerometer_y_z_mean', 'accelerometer_x_y_z_mean', 'accelerometer_x_y_z_upper_q', 'gyro_jerk_y_std', 'gyro_jerk_z_mean', 'gyro_jerk_z_std', 'gyro_jerk_z_min', 'gyro_jerk_z_max', 'gyro_jerk_z_iqr', 'gyro_jerk_x_y_median', 'gyro_jerk_x_y_lower_q', 'gyro_jerk_x_z_mean', 'gyro_jerk_x_z_median', 'gyro_jerk_x_z_lower_q', 'gyro_jerk_y_z_mean', 'gyro_jerk_y_z_median', 'gyro_jerk_y_z_lower_q', 'gyro_jerk_y_z_upper_q', 'gyro_jerk_x_y_z_mean', 'gyro_jerk_x_y_z_median', 'gyro_jerk_x_y_z_lower_q', 'gyro_jerk_x_y_z_upper_q', 'gyro_x_mean', 'gyro_y_std', 'gyro_y_max', 'gyro_z_mean', 'gyro_z_std', 'gyro_z_min', 'gyro_z_lower_q', 'gyro_z_upper_q', 'gyro_z_max', 'gyro_x_y_mean', 'gyro_x_y_median', 'gyro_x_y_upper_q', 'gyro_x_y_max', 'gyro_x_z_mean', 'gyro_x_z_median', 'gyro_x_z_upper_q', 'gyro_x_z_max', 'gyro_y_z_mean', 'gyro_y_z_median', 'gyro_y_z_upper_q', 'gyro_y_z_max', 'gyro_x_y_z_mean', 'gyro_x_y_z_max'], '100_RandomForestClassifierWithCoef(min_samples_leaf=5, n_estimators=500, n_jobs=-1)': ['duration', 'start_y', 'velocity_x_std', 'velocity_y_mean', 'velocity_y_min', 'velocity_y_abs_max', 'velocity_x_y_mean', 'velocity_x_y_std', 'velocity_x_y_max', 'velocity_x_y_abs_max', 'velocity_x_y_median', 'velocity_x_y_upper_q', 'acceleration_x_std', 'acceleration_x_y_mean', 'acceleration_x_y_std', 'accelerometer_jerk_x_std', 'accelerometer_jerk_x_min', 'accelerometer_jerk_x_max', 'accelerometer_jerk_x_iqr', 'accelerometer_jerk_x_y_mean', 'accelerometer_jerk_x_z_mean', 'accelerometer_jerk_x_z_median', 'accelerometer_jerk_x_z_upper_q', 'accelerometer_jerk_y_z_mean', 'accelerometer_jerk_x_y_z_mean', 'accelerometer_jerk_x_y_z_median', 'accelerometer_jerk_x_y_z_upper_q', 'accelerometer_x_mean', 'accelerometer_x_std', 'accelerometer_x_min', 'accelerometer_x_lower_q', 'accelerometer_x_median', 'accelerometer_x_upper_q', 'accelerometer_x_max', 'accelerometer_y_mean', 'accelerometer_y_std', 'accelerometer_y_min', 'accelerometer_y_lower_q', 'accelerometer_y_median', 'accelerometer_y_upper_q', 'accelerometer_y_max', 'accelerometer_z_mean', 'accelerometer_z_min', 'accelerometer_z_lower_q', 'accelerometer_z_median', 'accelerometer_z_upper_q', 'accelerometer_z_max', 'accelerometer_x_y_mean', 'accelerometer_x_y_upper_q', 'accelerometer_x_z_mean', 'accelerometer_x_z_upper_q', 'accelerometer_y_z_mean', 'accelerometer_x_y_z_mean', 'accelerometer_x_y_z_upper_q', 'gyro_jerk_y_std', 'gyro_jerk_z_mean', 'gyro_jerk_z_std', 'gyro_jerk_z_min', 'gyro_jerk_z_max', 'gyro_jerk_z_lower_q', 'gyro_jerk_z_iqr', 'gyro_jerk_x_y_mean', 'gyro_jerk_x_y_median', 'gyro_jerk_x_y_lower_q', 'gyro_jerk_x_z_mean', 'gyro_jerk_x_z_median', 'gyro_jerk_x_z_lower_q', 'gyro_jerk_y_z_mean', 'gyro_jerk_y_z_median', 'gyro_jerk_y_z_lower_q', 'gyro_jerk_y_z_upper_q', 'gyro_jerk_x_y_z_mean', 'gyro_jerk_x_y_z_median', 'gyro_jerk_x_y_z_lower_q', 'gyro_jerk_x_y_z_upper_q', 'gyro_x_mean', 'gyro_y_std', 'gyro_y_lower_q', 'gyro_y_max', 'gyro_z_mean', 'gyro_z_std', 'gyro_z_min', 'gyro_z_lower_q', 'gyro_z_upper_q', 'gyro_z_max', 'gyro_x_y_mean', 'gyro_x_y_median', 'gyro_x_y_upper_q', 'gyro_x_y_max', 'gyro_x_z_mean', 'gyro_x_z_median', 'gyro_x_z_upper_q', 'gyro_x_z_max', 'gyro_y_z_mean', 'gyro_y_z_std', 'gyro_y_z_median', 'gyro_y_z_upper_q', 'gyro_y_z_max', 'gyro_x_y_z_mean', 'gyro_x_y_z_max'], '110_RandomForestClassifierWithCoef(min_samples_leaf=5, n_estimators=500, n_jobs=-1)': ['duration', 'length', 'start_y', 'velocity_x_mean', 'velocity_x_std', 'velocity_y_mean', 'velocity_y_min', 'velocity_y_abs_max', 'velocity_x_y_mean', 'velocity_x_y_std', 'velocity_x_y_max', 'velocity_x_y_abs_max', 'velocity_x_y_median', 'velocity_x_y_upper_q', 'acceleration_x_std', 'acceleration_x_y_mean', 'acceleration_x_y_std', 'accelerometer_jerk_x_std', 'accelerometer_jerk_x_min', 'accelerometer_jerk_x_max', 'accelerometer_jerk_x_iqr', 'accelerometer_jerk_x_y_mean', 'accelerometer_jerk_x_z_mean', 'accelerometer_jerk_x_z_median', 'accelerometer_jerk_x_z_upper_q', 'accelerometer_jerk_y_z_mean', 'accelerometer_jerk_x_y_z_mean', 'accelerometer_jerk_x_y_z_median', 'accelerometer_jerk_x_y_z_upper_q', 'accelerometer_x_mean', 'accelerometer_x_std', 'accelerometer_x_min', 'accelerometer_x_lower_q', 'accelerometer_x_median', 'accelerometer_x_upper_q', 'accelerometer_x_max', 'accelerometer_y_mean', 'accelerometer_y_std', 'accelerometer_y_min', 'accelerometer_y_lower_q', 'accelerometer_y_median', 'accelerometer_y_upper_q', 'accelerometer_y_max', 'accelerometer_z_mean', 'accelerometer_z_min', 'accelerometer_z_lower_q', 'accelerometer_z_median', 'accelerometer_z_upper_q', 'accelerometer_z_max', 'accelerometer_x_y_mean', 'accelerometer_x_y_median', 'accelerometer_x_y_upper_q', 'accelerometer_x_z_mean', 'accelerometer_x_z_upper_q', 'accelerometer_y_z_mean', 'accelerometer_y_z_upper_q', 'accelerometer_x_y_z_mean', 'accelerometer_x_y_z_upper_q', 'gyro_jerk_y_std', 'gyro_jerk_z_mean', 'gyro_jerk_z_std', 'gyro_jerk_z_min', 'gyro_jerk_z_max', 'gyro_jerk_z_lower_q', 'gyro_jerk_z_iqr', 'gyro_jerk_x_y_mean', 'gyro_jerk_x_y_median', 'gyro_jerk_x_y_lower_q', 'gyro_jerk_x_y_upper_q', 'gyro_jerk_x_z_mean', 'gyro_jerk_x_z_median', 'gyro_jerk_x_z_lower_q', 'gyro_jerk_x_z_upper_q', 'gyro_jerk_y_z_mean', 'gyro_jerk_y_z_median', 'gyro_jerk_y_z_lower_q', 'gyro_jerk_y_z_upper_q', 'gyro_jerk_x_y_z_mean', 'gyro_jerk_x_y_z_median', 'gyro_jerk_x_y_z_lower_q', 'gyro_jerk_x_y_z_upper_q', 'gyro_x_mean', 'gyro_y_std', 'gyro_y_min', 'gyro_y_lower_q', 'gyro_y_max', 'gyro_z_mean', 'gyro_z_std', 'gyro_z_min', 'gyro_z_lower_q', 'gyro_z_upper_q', 'gyro_z_max', 'gyro_x_y_mean', 'gyro_x_y_lower_q', 'gyro_x_y_median', 'gyro_x_y_upper_q', 'gyro_x_y_max', 'gyro_x_z_mean', 'gyro_x_z_median', 'gyro_x_z_upper_q', 'gyro_x_z_max', 'gyro_y_z_mean', 'gyro_y_z_std', 'gyro_y_z_lower_q', 'gyro_y_z_median', 'gyro_y_z_upper_q', 'gyro_y_z_max', 'gyro_x_y_z_mean', 'gyro_x_y_z_upper_q', 'gyro_x_y_z_max'], '0': ['duration', 'length', 'start_x', 'start_y', 'velocity_x_mean', 'velocity_x_std', 'velocity_x_min', 'velocity_x_max', 'velocity_x_abs_min', 'velocity_x_abs_max', 'velocity_x_median', 'velocity_x_lower_q', 'velocity_x_upper_q', 'velocity_x_iqr', 'velocity_y_mean', 'velocity_y_std', 'velocity_y_min', 'velocity_y_max', 'velocity_y_abs_min', 'velocity_y_abs_max', 'velocity_y_median', 'velocity_y_lower_q', 'velocity_y_upper_q', 'velocity_y_iqr', 'velocity_x_y_mean', 'velocity_x_y_std', 'velocity_x_y_min', 'velocity_x_y_max', 'velocity_x_y_abs_min', 'velocity_x_y_abs_max', 'velocity_x_y_median', 'velocity_x_y_lower_q', 'velocity_x_y_upper_q', 'velocity_x_y_iqr', 'acceleration_x_mean', 'acceleration_x_std', 'acceleration_x_min', 'acceleration_x_max', 'acceleration_x_abs_min', 'acceleration_x_abs_max', 'acceleration_x_median', 'acceleration_x_lower_q', 'acceleration_x_upper_q', 'acceleration_x_iqr', 'acceleration_y_mean', 'acceleration_y_std', 'acceleration_y_min', 'acceleration_y_max', 'acceleration_y_abs_min', 'acceleration_y_abs_max', 'acceleration_y_median', 'acceleration_y_lower_q', 'acceleration_y_upper_q', 'acceleration_y_iqr', 'acceleration_x_y_mean', 'acceleration_x_y_std', 'acceleration_x_y_min', 'acceleration_x_y_max', 'acceleration_x_y_abs_min', 'acceleration_x_y_abs_max', 'acceleration_x_y_median', 'acceleration_x_y_lower_q', 'acceleration_x_y_upper_q', 'acceleration_x_y_iqr', 'jerk_x_mean', 'jerk_x_std', 'jerk_x_min', 'jerk_x_max', 'jerk_x_abs_min', 'jerk_x_abs_max', 'jerk_x_median', 'jerk_x_lower_q', 'jerk_x_upper_q', 'jerk_x_iqr', 'jerk_y_mean', 'jerk_y_std', 'jerk_y_min', 'jerk_y_max', 'jerk_y_abs_min', 'jerk_y_abs_max', 'jerk_y_median', 'jerk_y_lower_q', 'jerk_y_upper_q', 'jerk_y_iqr', 'jerk_x_y_mean', 'jerk_x_y_std', 'jerk_x_y_min', 'jerk_x_y_max', 'jerk_x_y_abs_min', 'jerk_x_y_abs_max', 'jerk_x_y_median', 'jerk_x_y_lower_q', 'jerk_x_y_upper_q', 'jerk_x_y_iqr', 'angular_velocity_x_y_mean', 'angular_velocity_x_y_std', 'angular_velocity_x_y_min', 'angular_velocity_x_y_max', 'angular_velocity_x_y_abs_min', 'angular_velocity_x_y_abs_max', 'angular_velocity_x_y_median', 'angular_velocity_x_y_lower_q', 'angular_velocity_x_y_upper_q', 'angular_velocity_x_y_iqr', 'angular_acceleration_x_y_mean', 'angular_acceleration_x_y_std', 'angular_acceleration_x_y_min', 'angular_acceleration_x_y_max', 'angular_acceleration_x_y_abs_min', 'angular_acceleration_x_y_abs_max', 'angular_acceleration_x_y_median', 'angular_acceleration_x_y_lower_q', 'angular_acceleration_x_y_upper_q', 'angular_acceleration_x_y_iqr', 'accelerometer_jerk_x_mean', 'accelerometer_jerk_x_std', 'accelerometer_jerk_x_min', 'accelerometer_jerk_x_max', 'accelerometer_jerk_x_abs_min', 'accelerometer_jerk_x_abs_max', 'accelerometer_jerk_x_median', 'accelerometer_jerk_x_lower_q', 'accelerometer_jerk_x_upper_q', 'accelerometer_jerk_x_iqr', 'accelerometer_jerk_y_mean', 'accelerometer_jerk_y_std', 'accelerometer_jerk_y_min', 'accelerometer_jerk_y_max', 'accelerometer_jerk_y_abs_min', 'accelerometer_jerk_y_abs_max', 'accelerometer_jerk_y_median', 'accelerometer_jerk_y_lower_q', 'accelerometer_jerk_y_upper_q', 'accelerometer_jerk_y_iqr', 'accelerometer_jerk_z_mean', 'accelerometer_jerk_z_std', 'accelerometer_jerk_z_min', 'accelerometer_jerk_z_max', 'accelerometer_jerk_z_abs_min', 'accelerometer_jerk_z_abs_max', 'accelerometer_jerk_z_median', 'accelerometer_jerk_z_lower_q', 'accelerometer_jerk_z_upper_q', 'accelerometer_jerk_z_iqr', 'accelerometer_jerk_x_y_mean', 'accelerometer_jerk_x_y_std', 'accelerometer_jerk_x_y_min', 'accelerometer_jerk_x_y_max', 'accelerometer_jerk_x_y_abs_min', 'accelerometer_jerk_x_y_abs_max', 'accelerometer_jerk_x_y_median', 'accelerometer_jerk_x_y_lower_q', 'accelerometer_jerk_x_y_upper_q', 'accelerometer_jerk_x_y_iqr', 'accelerometer_jerk_x_z_mean', 'accelerometer_jerk_x_z_std', 'accelerometer_jerk_x_z_min', 'accelerometer_jerk_x_z_max', 'accelerometer_jerk_x_z_abs_min', 'accelerometer_jerk_x_z_abs_max', 'accelerometer_jerk_x_z_median', 'accelerometer_jerk_x_z_lower_q', 'accelerometer_jerk_x_z_upper_q', 'accelerometer_jerk_x_z_iqr', 'accelerometer_jerk_y_z_mean', 'accelerometer_jerk_y_z_std', 'accelerometer_jerk_y_z_min', 'accelerometer_jerk_y_z_max', 'accelerometer_jerk_y_z_abs_min', 'accelerometer_jerk_y_z_abs_max', 'accelerometer_jerk_y_z_median', 'accelerometer_jerk_y_z_lower_q', 'accelerometer_jerk_y_z_upper_q', 'accelerometer_jerk_y_z_iqr', 'accelerometer_jerk_x_y_z_mean', 'accelerometer_jerk_x_y_z_std', 'accelerometer_jerk_x_y_z_min', 'accelerometer_jerk_x_y_z_max', 'accelerometer_jerk_x_y_z_abs_min', 'accelerometer_jerk_x_y_z_abs_max', 'accelerometer_jerk_x_y_z_median', 'accelerometer_jerk_x_y_z_lower_q', 'accelerometer_jerk_x_y_z_upper_q', 'accelerometer_jerk_x_y_z_iqr', 'accelerometer_x_mean', 'accelerometer_x_std', 'accelerometer_x_min', 'accelerometer_x_lower_q', 'accelerometer_x_median', 'accelerometer_x_upper_q', 'accelerometer_x_max', 'accelerometer_y_mean', 'accelerometer_y_std', 'accelerometer_y_min', 'accelerometer_y_lower_q', 'accelerometer_y_median', 'accelerometer_y_upper_q', 'accelerometer_y_max', 'accelerometer_z_mean', 'accelerometer_z_std', 'accelerometer_z_min', 'accelerometer_z_lower_q', 'accelerometer_z_median', 'accelerometer_z_upper_q', 'accelerometer_z_max', 'accelerometer_x_y_mean', 'accelerometer_x_y_std', 'accelerometer_x_y_min', 'accelerometer_x_y_lower_q', 'accelerometer_x_y_median', 'accelerometer_x_y_upper_q', 'accelerometer_x_y_max', 'accelerometer_x_z_mean', 'accelerometer_x_z_std', 'accelerometer_x_z_min', 'accelerometer_x_z_lower_q', 'accelerometer_x_z_median', 'accelerometer_x_z_upper_q', 'accelerometer_x_z_max', 'accelerometer_y_z_mean', 'accelerometer_y_z_std', 'accelerometer_y_z_min', 'accelerometer_y_z_lower_q', 'accelerometer_y_z_median', 'accelerometer_y_z_upper_q', 'accelerometer_y_z_max', 'accelerometer_x_y_z_mean', 'accelerometer_x_y_z_std', 'accelerometer_x_y_z_min', 'accelerometer_x_y_z_lower_q', 'accelerometer_x_y_z_median', 'accelerometer_x_y_z_upper_q', 'accelerometer_x_y_z_max', 'gyro_jerk_x_mean', 'gyro_jerk_x_std', 'gyro_jerk_x_min', 'gyro_jerk_x_max', 'gyro_jerk_x_abs_min', 'gyro_jerk_x_abs_max', 'gyro_jerk_x_median', 'gyro_jerk_x_lower_q', 'gyro_jerk_x_upper_q', 'gyro_jerk_x_iqr', 'gyro_jerk_y_mean', 'gyro_jerk_y_std', 'gyro_jerk_y_min', 'gyro_jerk_y_max', 'gyro_jerk_y_abs_min', 'gyro_jerk_y_abs_max', 'gyro_jerk_y_median', 'gyro_jerk_y_lower_q', 'gyro_jerk_y_upper_q', 'gyro_jerk_y_iqr', 'gyro_jerk_z_mean', 'gyro_jerk_z_std', 'gyro_jerk_z_min', 'gyro_jerk_z_max', 'gyro_jerk_z_abs_min', 'gyro_jerk_z_abs_max', 'gyro_jerk_z_median', 'gyro_jerk_z_lower_q', 'gyro_jerk_z_upper_q', 'gyro_jerk_z_iqr', 'gyro_jerk_x_y_mean', 'gyro_jerk_x_y_std', 'gyro_jerk_x_y_min', 'gyro_jerk_x_y_max', 'gyro_jerk_x_y_abs_min', 'gyro_jerk_x_y_abs_max', 'gyro_jerk_x_y_median', 'gyro_jerk_x_y_lower_q', 'gyro_jerk_x_y_upper_q', 'gyro_jerk_x_y_iqr', 'gyro_jerk_x_z_mean', 'gyro_jerk_x_z_std', 'gyro_jerk_x_z_min', 'gyro_jerk_x_z_max', 'gyro_jerk_x_z_abs_min', 'gyro_jerk_x_z_abs_max', 'gyro_jerk_x_z_median', 'gyro_jerk_x_z_lower_q', 'gyro_jerk_x_z_upper_q', 'gyro_jerk_x_z_iqr', 'gyro_jerk_y_z_mean', 'gyro_jerk_y_z_std', 'gyro_jerk_y_z_min', 'gyro_jerk_y_z_max', 'gyro_jerk_y_z_abs_min', 'gyro_jerk_y_z_abs_max', 'gyro_jerk_y_z_median', 'gyro_jerk_y_z_lower_q', 'gyro_jerk_y_z_upper_q', 'gyro_jerk_y_z_iqr', 'gyro_jerk_x_y_z_mean', 'gyro_jerk_x_y_z_std', 'gyro_jerk_x_y_z_min', 'gyro_jerk_x_y_z_max', 'gyro_jerk_x_y_z_abs_min', 'gyro_jerk_x_y_z_abs_max', 'gyro_jerk_x_y_z_median', 'gyro_jerk_x_y_z_lower_q', 'gyro_jerk_x_y_z_upper_q', 'gyro_jerk_x_y_z_iqr', 'gyro_x_mean', 'gyro_x_std', 'gyro_x_min', 'gyro_x_lower_q', 'gyro_x_median', 'gyro_x_upper_q', 'gyro_x_max', 'gyro_y_mean', 'gyro_y_std', 'gyro_y_min', 'gyro_y_lower_q', 'gyro_y_median', 'gyro_y_upper_q', 'gyro_y_max', 'gyro_z_mean', 'gyro_z_std', 'gyro_z_min', 'gyro_z_lower_q', 'gyro_z_median', 'gyro_z_upper_q', 'gyro_z_max', 'gyro_x_y_mean', 'gyro_x_y_std', 'gyro_x_y_min', 'gyro_x_y_lower_q', 'gyro_x_y_median', 'gyro_x_y_upper_q', 'gyro_x_y_max', 'gyro_x_z_mean', 'gyro_x_z_std', 'gyro_x_z_min', 'gyro_x_z_lower_q', 'gyro_x_z_median', 'gyro_x_z_upper_q', 'gyro_x_z_max', 'gyro_y_z_mean', 'gyro_y_z_std', 'gyro_y_z_min', 'gyro_y_z_lower_q', 'gyro_y_z_median', 'gyro_y_z_upper_q', 'gyro_y_z_max', 'gyro_x_y_z_mean', 'gyro_x_y_z_std', 'gyro_x_y_z_min', 'gyro_x_y_z_lower_q', 'gyro_x_y_z_median', 'gyro_x_y_z_upper_q', 'gyro_x_y_z_max'], '10_LogisticRegression()': ['accelerometer_x_z_mean', 'accelerometer_x_z_median', 'accelerometer_x_y_z_median', 'gyro_jerk_x_y_mean', 'gyro_jerk_x_y_lower_q', 'gyro_jerk_x_y_z_lower_q', 'gyro_x_y_mean', 'gyro_x_y_max', 'gyro_x_z_max', 'gyro_y_z_max'], '20_LogisticRegression()': ['accelerometer_jerk_x_y_mean', 'accelerometer_jerk_y_z_mean', 'accelerometer_x_z_mean', 'accelerometer_x_z_median', 'accelerometer_y_z_median', 'accelerometer_x_y_z_median', 'gyro_jerk_z_std', 'gyro_jerk_x_y_mean', 'gyro_jerk_x_y_lower_q', 'gyro_jerk_x_z_median', 'gyro_jerk_x_y_z_median', 'gyro_jerk_x_y_z_lower_q', 'gyro_x_y_mean', 'gyro_x_y_max', 'gyro_x_z_lower_q', 'gyro_x_z_max', 'gyro_y_z_lower_q', 'gyro_y_z_max', 'gyro_x_y_z_std', 'gyro_x_y_z_lower_q'], '30_LogisticRegression()': ['accelerometer_jerk_x_std', 'accelerometer_jerk_x_y_mean', 'accelerometer_jerk_y_z_mean', 'accelerometer_y_mean', 'accelerometer_x_y_upper_q', 'accelerometer_x_z_mean', 'accelerometer_x_z_median', 'accelerometer_y_z_median', 'accelerometer_x_y_z_median', 'gyro_jerk_z_std', 'gyro_jerk_x_y_mean', 'gyro_jerk_x_y_lower_q', 'gyro_jerk_x_z_median', 'gyro_jerk_x_y_z_median', 'gyro_jerk_x_y_z_lower_q', 'gyro_z_std', 'gyro_x_y_mean', 'gyro_x_y_std', 'gyro_x_y_min', 'gyro_x_y_upper_q', 'gyro_x_y_max', 'gyro_x_z_lower_q', 'gyro_x_z_upper_q', 'gyro_x_z_max', 'gyro_y_z_std', 'gyro_y_z_lower_q', 'gyro_y_z_max', 'gyro_x_y_z_std', 'gyro_x_y_z_min', 'gyro_x_y_z_lower_q'], '90_LogisticRegression()': ['duration', 'length', 'velocity_x_std', 'velocity_x_min', 'velocity_x_max', 'velocity_x_abs_max', 'velocity_x_median', 'velocity_y_std', 'velocity_y_min', 'velocity_y_max', 'velocity_y_abs_min', 'velocity_y_median', 'velocity_x_y_std', 'velocity_x_y_min', 'velocity_x_y_max', 'velocity_x_y_lower_q', 'velocity_x_y_upper_q', 'acceleration_x_std', 'accelerometer_jerk_x_std', 'accelerometer_jerk_z_std', 'accelerometer_jerk_x_y_mean', 'accelerometer_jerk_x_y_max', 'accelerometer_jerk_x_y_upper_q', 'accelerometer_jerk_x_z_median', 'accelerometer_jerk_y_z_mean', 'accelerometer_jerk_y_z_max', 'accelerometer_x_mean', 'accelerometer_x_std', 'accelerometer_x_min', 'accelerometer_y_mean', 'accelerometer_y_std', 'accelerometer_z_mean', 'accelerometer_z_std', 'accelerometer_z_max', 'accelerometer_x_y_median', 'accelerometer_x_y_upper_q', 'accelerometer_x_y_max', 'accelerometer_x_z_mean', 'accelerometer_x_z_lower_q', 'accelerometer_x_z_median', 'accelerometer_x_z_upper_q', 'accelerometer_y_z_median', 'accelerometer_x_y_z_lower_q', 'accelerometer_x_y_z_median', 'accelerometer_x_y_z_max', 'gyro_jerk_x_mean', 'gyro_jerk_x_max', 'gyro_jerk_y_min', 'gyro_jerk_y_max', 'gyro_jerk_z_std', 'gyro_jerk_z_min', 'gyro_jerk_z_max', 'gyro_jerk_x_y_mean', 'gyro_jerk_x_y_std', 'gyro_jerk_x_y_median', 'gyro_jerk_x_y_lower_q', 'gyro_jerk_x_z_std', 'gyro_jerk_x_z_median', 'gyro_jerk_x_z_lower_q', 'gyro_jerk_x_z_iqr', 'gyro_jerk_y_z_max', 'gyro_jerk_y_z_median', 'gyro_jerk_y_z_upper_q', 'gyro_jerk_x_y_z_abs_max', 'gyro_jerk_x_y_z_median', 'gyro_jerk_x_y_z_lower_q', 'gyro_jerk_x_y_z_iqr', 'gyro_x_std', 'gyro_y_std', 'gyro_z_std', 'gyro_x_y_mean', 'gyro_x_y_std', 'gyro_x_y_min', 'gyro_x_y_median', 'gyro_x_y_upper_q', 'gyro_x_y_max', 'gyro_x_z_std', 'gyro_x_z_min', 'gyro_x_z_lower_q', 'gyro_x_z_median', 'gyro_x_z_upper_q', 'gyro_x_z_max', 'gyro_y_z_std', 'gyro_y_z_min', 'gyro_y_z_lower_q', 'gyro_y_z_median', 'gyro_y_z_max', 'gyro_x_y_z_std', 'gyro_x_y_z_min', 'gyro_x_y_z_lower_q'], '30_RandomForestClassifierWithCoef(min_samples_leaf=5, n_estimators=500, n_jobs=-1)': ['duration', 'velocity_x_y_mean', 'velocity_x_y_max', 'accelerometer_jerk_x_std', 'accelerometer_jerk_x_z_mean', 'accelerometer_jerk_x_y_z_mean', 'accelerometer_x_mean', 'accelerometer_x_lower_q', 'accelerometer_y_mean', 'accelerometer_y_lower_q', 'accelerometer_y_median', 'accelerometer_y_upper_q', 'accelerometer_z_mean', 'accelerometer_x_z_mean', 'accelerometer_x_y_z_mean', 'gyro_jerk_z_std', 'gyro_jerk_x_y_lower_q', 'gyro_jerk_x_z_lower_q', 'gyro_jerk_y_z_median', 'gyro_jerk_y_z_lower_q', 'gyro_jerk_x_y_z_mean', 'gyro_jerk_x_y_z_lower_q', 'gyro_z_std', 'gyro_z_min', 'gyro_z_max', 'gyro_x_y_mean', 'gyro_x_z_mean', 'gyro_x_z_max', 'gyro_y_z_mean', 'gyro_y_z_max'], '40_LogisticRegression()': ['duration', 'velocity_x_std', 'velocity_y_std', 'accelerometer_jerk_x_std', 'accelerometer_jerk_x_y_mean', 'accelerometer_jerk_x_y_upper_q', 'accelerometer_jerk_y_z_mean', 'accelerometer_y_mean', 'accelerometer_y_std', 'accelerometer_z_mean', 'accelerometer_x_y_upper_q', 'accelerometer_x_z_mean', 'accelerometer_x_z_median', 'accelerometer_y_z_median', 'accelerometer_x_y_z_median', 'gyro_jerk_x_mean', 'gyro_jerk_z_std', 'gyro_jerk_x_y_mean', 'gyro_jerk_x_y_lower_q', 'gyro_jerk_x_z_median', 'gyro_jerk_x_z_lower_q', 'gyro_jerk_x_z_iqr', 'gyro_jerk_y_z_median', 'gyro_jerk_x_y_z_median', 'gyro_jerk_x_y_z_lower_q', 'gyro_z_std', 'gyro_x_y_mean', 'gyro_x_y_std', 'gyro_x_y_min', 'gyro_x_y_upper_q', 'gyro_x_y_max', 'gyro_x_z_lower_q', 'gyro_x_z_upper_q', 'gyro_x_z_max', 'gyro_y_z_std', 'gyro_y_z_lower_q', 'gyro_y_z_max', 'gyro_x_y_z_std', 'gyro_x_y_z_min', 'gyro_x_y_z_lower_q'], '50_LogisticRegression()': ['duration', 'velocity_x_std', 'velocity_y_std', 'velocity_x_y_std', 'velocity_x_y_min', 'velocity_x_y_max', 'velocity_x_y_lower_q', 'velocity_x_y_upper_q', 'accelerometer_jerk_x_std', 'accelerometer_jerk_x_y_mean', 'accelerometer_jerk_x_y_max', 'accelerometer_jerk_x_y_upper_q', 'accelerometer_jerk_y_z_mean', 'accelerometer_y_mean', 'accelerometer_y_std', 'accelerometer_z_mean', 'accelerometer_x_y_upper_q', 'accelerometer_x_z_mean', 'accelerometer_x_z_median', 'accelerometer_y_z_median', 'accelerometer_x_y_z_median', 'gyro_jerk_x_mean', 'gyro_jerk_y_min', 'gyro_jerk_y_max', 'gyro_jerk_z_std', 'gyro_jerk_x_y_mean', 'gyro_jerk_x_y_lower_q', 'gyro_jerk_x_z_median', 'gyro_jerk_x_z_lower_q', 'gyro_jerk_x_z_iqr', 'gyro_jerk_y_z_max', 'gyro_jerk_y_z_median', 'gyro_jerk_x_y_z_median', 'gyro_jerk_x_y_z_lower_q', 'gyro_y_std', 'gyro_z_std', 'gyro_x_y_mean', 'gyro_x_y_std', 'gyro_x_y_min', 'gyro_x_y_upper_q', 'gyro_x_y_max', 'gyro_x_z_lower_q', 'gyro_x_z_upper_q', 'gyro_x_z_max', 'gyro_y_z_std', 'gyro_y_z_lower_q', 'gyro_y_z_max', 'gyro_x_y_z_std', 'gyro_x_y_z_min', 'gyro_x_y_z_lower_q'], '60_LogisticRegression()': ['duration', 'velocity_x_std', 'velocity_y_std', 'velocity_x_y_std', 'velocity_x_y_min', 'velocity_x_y_max', 'velocity_x_y_lower_q', 'velocity_x_y_upper_q', 'accelerometer_jerk_x_std', 'accelerometer_jerk_x_y_mean', 'accelerometer_jerk_x_y_max', 'accelerometer_jerk_x_y_upper_q', 'accelerometer_jerk_y_z_mean', 'accelerometer_x_mean', 'accelerometer_x_std', 'accelerometer_x_min', 'accelerometer_y_mean', 'accelerometer_y_std', 'accelerometer_z_mean', 'accelerometer_x_y_median', 'accelerometer_x_y_upper_q', 'accelerometer_x_y_max', 'accelerometer_x_z_mean', 'accelerometer_x_z_median', 'accelerometer_x_z_upper_q', 'accelerometer_y_z_median', 'accelerometer_x_y_z_median', 'accelerometer_x_y_z_max', 'gyro_jerk_x_mean', 'gyro_jerk_y_min', 'gyro_jerk_y_max', 'gyro_jerk_z_std', 'gyro_jerk_x_y_mean', 'gyro_jerk_x_y_std', 'gyro_jerk_x_y_lower_q', 'gyro_jerk_x_z_median', 'gyro_jerk_x_z_lower_q', 'gyro_jerk_x_z_iqr', 'gyro_jerk_y_z_max', 'gyro_jerk_y_z_median', 'gyro_jerk_y_z_upper_q', 'gyro_jerk_x_y_z_median', 'gyro_jerk_x_y_z_lower_q', 'gyro_jerk_x_y_z_iqr', 'gyro_y_std', 'gyro_z_std', 'gyro_x_y_mean', 'gyro_x_y_std', 'gyro_x_y_min', 'gyro_x_y_upper_q', 'gyro_x_y_max', 'gyro_x_z_lower_q', 'gyro_x_z_upper_q', 'gyro_x_z_max', 'gyro_y_z_std', 'gyro_y_z_lower_q', 'gyro_y_z_max', 'gyro_x_y_z_std', 'gyro_x_y_z_min', 'gyro_x_y_z_lower_q'], '70_LogisticRegression()': ['duration', 'velocity_x_std', 'velocity_x_min', 'velocity_x_max', 'velocity_x_median', 'velocity_y_std', 'velocity_x_y_std', 'velocity_x_y_min', 'velocity_x_y_max', 'velocity_x_y_lower_q', 'velocity_x_y_upper_q', 'accelerometer_jerk_x_std', 'accelerometer_jerk_z_std', 'accelerometer_jerk_x_y_mean', 'accelerometer_jerk_x_y_max', 'accelerometer_jerk_x_y_upper_q', 'accelerometer_jerk_y_z_mean', 'accelerometer_x_mean', 'accelerometer_x_std', 'accelerometer_x_min', 'accelerometer_y_mean', 'accelerometer_y_std', 'accelerometer_z_mean', 'accelerometer_z_std', 'accelerometer_x_y_median', 'accelerometer_x_y_upper_q', 'accelerometer_x_y_max', 'accelerometer_x_z_mean', 'accelerometer_x_z_median', 'accelerometer_x_z_upper_q', 'accelerometer_y_z_median', 'accelerometer_x_y_z_median', 'accelerometer_x_y_z_max', 'gyro_jerk_x_mean', 'gyro_jerk_y_min', 'gyro_jerk_y_max', 'gyro_jerk_z_std', 'gyro_jerk_x_y_mean', 'gyro_jerk_x_y_std', 'gyro_jerk_x_y_median', 'gyro_jerk_x_y_lower_q', 'gyro_jerk_x_z_std', 'gyro_jerk_x_z_median', 'gyro_jerk_x_z_lower_q', 'gyro_jerk_x_z_iqr', 'gyro_jerk_y_z_max', 'gyro_jerk_y_z_median', 'gyro_jerk_y_z_upper_q', 'gyro_jerk_x_y_z_median', 'gyro_jerk_x_y_z_lower_q', 'gyro_jerk_x_y_z_iqr', 'gyro_x_std', 'gyro_y_std', 'gyro_z_std', 'gyro_x_y_mean', 'gyro_x_y_std', 'gyro_x_y_min', 'gyro_x_y_upper_q', 'gyro_x_y_max', 'gyro_x_z_std', 'gyro_x_z_lower_q', 'gyro_x_z_upper_q', 'gyro_x_z_max', 'gyro_y_z_std', 'gyro_y_z_min', 'gyro_y_z_lower_q', 'gyro_y_z_max', 'gyro_x_y_z_std', 'gyro_x_y_z_min', 'gyro_x_y_z_lower_q'], '80_LogisticRegression()': ['duration', 'length', 'velocity_x_std', 'velocity_x_min', 'velocity_x_max', 'velocity_x_median', 'velocity_y_std', 'velocity_y_min', 'velocity_y_max', 'velocity_y_abs_min', 'velocity_y_median', 'velocity_x_y_std', 'velocity_x_y_min', 'velocity_x_y_max', 'velocity_x_y_lower_q', 'velocity_x_y_upper_q', 'accelerometer_jerk_x_std', 'accelerometer_jerk_z_std', 'accelerometer_jerk_x_y_mean', 'accelerometer_jerk_x_y_max', 'accelerometer_jerk_x_y_upper_q', 'accelerometer_jerk_y_z_mean', 'accelerometer_x_mean', 'accelerometer_x_std', 'accelerometer_x_min', 'accelerometer_y_mean', 'accelerometer_y_std', 'accelerometer_z_mean', 'accelerometer_z_std', 'accelerometer_x_y_median', 'accelerometer_x_y_upper_q', 'accelerometer_x_y_max', 'accelerometer_x_z_mean', 'accelerometer_x_z_median', 'accelerometer_x_z_upper_q', 'accelerometer_y_z_median', 'accelerometer_x_y_z_lower_q', 'accelerometer_x_y_z_median', 'accelerometer_x_y_z_max', 'gyro_jerk_x_mean', 'gyro_jerk_y_min', 'gyro_jerk_y_max', 'gyro_jerk_z_std', 'gyro_jerk_z_min', 'gyro_jerk_z_max', 'gyro_jerk_x_y_mean', 'gyro_jerk_x_y_std', 'gyro_jerk_x_y_median', 'gyro_jerk_x_y_lower_q', 'gyro_jerk_x_z_std', 'gyro_jerk_x_z_median', 'gyro_jerk_x_z_lower_q', 'gyro_jerk_x_z_iqr', 'gyro_jerk_y_z_max', 'gyro_jerk_y_z_median', 'gyro_jerk_y_z_upper_q', 'gyro_jerk_x_y_z_median', 'gyro_jerk_x_y_z_lower_q', 'gyro_jerk_x_y_z_iqr', 'gyro_x_std', 'gyro_y_std', 'gyro_z_std', 'gyro_x_y_mean', 'gyro_x_y_std', 'gyro_x_y_min', 'gyro_x_y_median', 'gyro_x_y_upper_q', 'gyro_x_y_max', 'gyro_x_z_std', 'gyro_x_z_lower_q', 'gyro_x_z_upper_q', 'gyro_x_z_max', 'gyro_y_z_std', 'gyro_y_z_min', 'gyro_y_z_lower_q', 'gyro_y_z_median', 'gyro_y_z_max', 'gyro_x_y_z_std', 'gyro_x_y_z_min', 'gyro_x_y_z_lower_q']}\n",
    "#selected_features_dict = {'0': ['duration', 'length', 'start_x', 'start_y', 'velocity_x_mean', 'velocity_x_std', 'velocity_x_min', 'velocity_x_max', 'velocity_x_abs_min', 'velocity_x_abs_max', 'velocity_x_median', 'velocity_x_lower_q', 'velocity_x_upper_q', 'velocity_x_iqr', 'velocity_y_mean', 'velocity_y_std', 'velocity_y_min', 'velocity_y_max', 'velocity_y_abs_min', 'velocity_y_abs_max', 'velocity_y_median', 'velocity_y_lower_q', 'velocity_y_upper_q', 'velocity_y_iqr', 'velocity_x_y_mean', 'velocity_x_y_std', 'velocity_x_y_min', 'velocity_x_y_max', 'velocity_x_y_abs_min', 'velocity_x_y_abs_max', 'velocity_x_y_median', 'velocity_x_y_lower_q', 'velocity_x_y_upper_q', 'velocity_x_y_iqr', 'acceleration_x_mean', 'acceleration_x_std', 'acceleration_x_min', 'acceleration_x_max', 'acceleration_x_abs_min', 'acceleration_x_abs_max', 'acceleration_x_median', 'acceleration_x_lower_q', 'acceleration_x_upper_q', 'acceleration_x_iqr', 'acceleration_y_mean', 'acceleration_y_std', 'acceleration_y_min', 'acceleration_y_max', 'acceleration_y_abs_min', 'acceleration_y_abs_max', 'acceleration_y_median', 'acceleration_y_lower_q', 'acceleration_y_upper_q', 'acceleration_y_iqr', 'acceleration_x_y_mean', 'acceleration_x_y_std', 'acceleration_x_y_min', 'acceleration_x_y_max', 'acceleration_x_y_abs_min', 'acceleration_x_y_abs_max', 'acceleration_x_y_median', 'acceleration_x_y_lower_q', 'acceleration_x_y_upper_q', 'acceleration_x_y_iqr', 'jerk_x_mean', 'jerk_x_std', 'jerk_x_min', 'jerk_x_max', 'jerk_x_abs_min', 'jerk_x_abs_max', 'jerk_x_median', 'jerk_x_lower_q', 'jerk_x_upper_q', 'jerk_x_iqr', 'jerk_y_mean', 'jerk_y_std', 'jerk_y_min', 'jerk_y_max', 'jerk_y_abs_min', 'jerk_y_abs_max', 'jerk_y_median', 'jerk_y_lower_q', 'jerk_y_upper_q', 'jerk_y_iqr', 'jerk_x_y_mean', 'jerk_x_y_std', 'jerk_x_y_min', 'jerk_x_y_max', 'jerk_x_y_abs_min', 'jerk_x_y_abs_max', 'jerk_x_y_median', 'jerk_x_y_lower_q', 'jerk_x_y_upper_q', 'jerk_x_y_iqr', 'angular_velocity_x_y_mean', 'angular_velocity_x_y_std', 'angular_velocity_x_y_min', 'angular_velocity_x_y_max', 'angular_velocity_x_y_abs_min', 'angular_velocity_x_y_abs_max', 'angular_velocity_x_y_median', 'angular_velocity_x_y_lower_q', 'angular_velocity_x_y_upper_q', 'angular_velocity_x_y_iqr', 'angular_acceleration_x_y_mean', 'angular_acceleration_x_y_std', 'angular_acceleration_x_y_min', 'angular_acceleration_x_y_max', 'angular_acceleration_x_y_abs_min', 'angular_acceleration_x_y_abs_max', 'angular_acceleration_x_y_median', 'angular_acceleration_x_y_lower_q', 'angular_acceleration_x_y_upper_q', 'angular_acceleration_x_y_iqr', 'accelerometer_jerk_x_mean', 'accelerometer_jerk_x_std', 'accelerometer_jerk_x_min', 'accelerometer_jerk_x_max', 'accelerometer_jerk_x_abs_min', 'accelerometer_jerk_x_abs_max', 'accelerometer_jerk_x_median', 'accelerometer_jerk_x_lower_q', 'accelerometer_jerk_x_upper_q', 'accelerometer_jerk_x_iqr', 'accelerometer_jerk_y_mean', 'accelerometer_jerk_y_std', 'accelerometer_jerk_y_min', 'accelerometer_jerk_y_max', 'accelerometer_jerk_y_abs_min', 'accelerometer_jerk_y_abs_max', 'accelerometer_jerk_y_median', 'accelerometer_jerk_y_lower_q', 'accelerometer_jerk_y_upper_q', 'accelerometer_jerk_y_iqr', 'accelerometer_jerk_z_mean', 'accelerometer_jerk_z_std', 'accelerometer_jerk_z_min', 'accelerometer_jerk_z_max', 'accelerometer_jerk_z_abs_min', 'accelerometer_jerk_z_abs_max', 'accelerometer_jerk_z_median', 'accelerometer_jerk_z_lower_q', 'accelerometer_jerk_z_upper_q', 'accelerometer_jerk_z_iqr', 'accelerometer_jerk_x_y_mean', 'accelerometer_jerk_x_y_std', 'accelerometer_jerk_x_y_min', 'accelerometer_jerk_x_y_max', 'accelerometer_jerk_x_y_abs_min', 'accelerometer_jerk_x_y_abs_max', 'accelerometer_jerk_x_y_median', 'accelerometer_jerk_x_y_lower_q', 'accelerometer_jerk_x_y_upper_q', 'accelerometer_jerk_x_y_iqr', 'accelerometer_jerk_x_z_mean', 'accelerometer_jerk_x_z_std', 'accelerometer_jerk_x_z_min', 'accelerometer_jerk_x_z_max', 'accelerometer_jerk_x_z_abs_min', 'accelerometer_jerk_x_z_abs_max', 'accelerometer_jerk_x_z_median', 'accelerometer_jerk_x_z_lower_q', 'accelerometer_jerk_x_z_upper_q', 'accelerometer_jerk_x_z_iqr', 'accelerometer_jerk_y_z_mean', 'accelerometer_jerk_y_z_std', 'accelerometer_jerk_y_z_min', 'accelerometer_jerk_y_z_max', 'accelerometer_jerk_y_z_abs_min', 'accelerometer_jerk_y_z_abs_max', 'accelerometer_jerk_y_z_median', 'accelerometer_jerk_y_z_lower_q', 'accelerometer_jerk_y_z_upper_q', 'accelerometer_jerk_y_z_iqr', 'accelerometer_jerk_x_y_z_mean', 'accelerometer_jerk_x_y_z_std', 'accelerometer_jerk_x_y_z_min', 'accelerometer_jerk_x_y_z_max', 'accelerometer_jerk_x_y_z_abs_min', 'accelerometer_jerk_x_y_z_abs_max', 'accelerometer_jerk_x_y_z_median', 'accelerometer_jerk_x_y_z_lower_q', 'accelerometer_jerk_x_y_z_upper_q', 'accelerometer_jerk_x_y_z_iqr', 'accelerometer_x_mean', 'accelerometer_x_std', 'accelerometer_x_min', 'accelerometer_x_lower_q', 'accelerometer_x_median', 'accelerometer_x_upper_q', 'accelerometer_x_max', 'accelerometer_y_mean', 'accelerometer_y_std', 'accelerometer_y_min', 'accelerometer_y_lower_q', 'accelerometer_y_median', 'accelerometer_y_upper_q', 'accelerometer_y_max', 'accelerometer_z_mean', 'accelerometer_z_std', 'accelerometer_z_min', 'accelerometer_z_lower_q', 'accelerometer_z_median', 'accelerometer_z_upper_q', 'accelerometer_z_max', 'accelerometer_x_y_mean', 'accelerometer_x_y_std', 'accelerometer_x_y_min', 'accelerometer_x_y_lower_q', 'accelerometer_x_y_median', 'accelerometer_x_y_upper_q', 'accelerometer_x_y_max', 'accelerometer_x_z_mean', 'accelerometer_x_z_std', 'accelerometer_x_z_min', 'accelerometer_x_z_lower_q', 'accelerometer_x_z_median', 'accelerometer_x_z_upper_q', 'accelerometer_x_z_max', 'accelerometer_y_z_mean', 'accelerometer_y_z_std', 'accelerometer_y_z_min', 'accelerometer_y_z_lower_q', 'accelerometer_y_z_median', 'accelerometer_y_z_upper_q', 'accelerometer_y_z_max', 'accelerometer_x_y_z_mean', 'accelerometer_x_y_z_std', 'accelerometer_x_y_z_min', 'accelerometer_x_y_z_lower_q', 'accelerometer_x_y_z_median', 'accelerometer_x_y_z_upper_q', 'accelerometer_x_y_z_max', 'gyro_jerk_x_mean', 'gyro_jerk_x_std', 'gyro_jerk_x_min', 'gyro_jerk_x_max', 'gyro_jerk_x_abs_min', 'gyro_jerk_x_abs_max', 'gyro_jerk_x_median', 'gyro_jerk_x_lower_q', 'gyro_jerk_x_upper_q', 'gyro_jerk_x_iqr', 'gyro_jerk_y_mean', 'gyro_jerk_y_std', 'gyro_jerk_y_min', 'gyro_jerk_y_max', 'gyro_jerk_y_abs_min', 'gyro_jerk_y_abs_max', 'gyro_jerk_y_median', 'gyro_jerk_y_lower_q', 'gyro_jerk_y_upper_q', 'gyro_jerk_y_iqr', 'gyro_jerk_z_mean', 'gyro_jerk_z_std', 'gyro_jerk_z_min', 'gyro_jerk_z_max', 'gyro_jerk_z_abs_min', 'gyro_jerk_z_abs_max', 'gyro_jerk_z_median', 'gyro_jerk_z_lower_q', 'gyro_jerk_z_upper_q', 'gyro_jerk_z_iqr', 'gyro_jerk_x_y_mean', 'gyro_jerk_x_y_std', 'gyro_jerk_x_y_min', 'gyro_jerk_x_y_max', 'gyro_jerk_x_y_abs_min', 'gyro_jerk_x_y_abs_max', 'gyro_jerk_x_y_median', 'gyro_jerk_x_y_lower_q', 'gyro_jerk_x_y_upper_q', 'gyro_jerk_x_y_iqr', 'gyro_jerk_x_z_mean', 'gyro_jerk_x_z_std', 'gyro_jerk_x_z_min', 'gyro_jerk_x_z_max', 'gyro_jerk_x_z_abs_min', 'gyro_jerk_x_z_abs_max', 'gyro_jerk_x_z_median', 'gyro_jerk_x_z_lower_q', 'gyro_jerk_x_z_upper_q', 'gyro_jerk_x_z_iqr', 'gyro_jerk_y_z_mean', 'gyro_jerk_y_z_std', 'gyro_jerk_y_z_min', 'gyro_jerk_y_z_max', 'gyro_jerk_y_z_abs_min', 'gyro_jerk_y_z_abs_max', 'gyro_jerk_y_z_median', 'gyro_jerk_y_z_lower_q', 'gyro_jerk_y_z_upper_q', 'gyro_jerk_y_z_iqr', 'gyro_jerk_x_y_z_mean', 'gyro_jerk_x_y_z_std', 'gyro_jerk_x_y_z_min', 'gyro_jerk_x_y_z_max', 'gyro_jerk_x_y_z_abs_min', 'gyro_jerk_x_y_z_abs_max', 'gyro_jerk_x_y_z_median', 'gyro_jerk_x_y_z_lower_q', 'gyro_jerk_x_y_z_upper_q', 'gyro_jerk_x_y_z_iqr', 'gyro_x_mean', 'gyro_x_std', 'gyro_x_min', 'gyro_x_lower_q', 'gyro_x_median', 'gyro_x_upper_q', 'gyro_x_max', 'gyro_y_mean', 'gyro_y_std', 'gyro_y_min', 'gyro_y_lower_q', 'gyro_y_median', 'gyro_y_upper_q', 'gyro_y_max', 'gyro_z_mean', 'gyro_z_std', 'gyro_z_min', 'gyro_z_lower_q', 'gyro_z_median', 'gyro_z_upper_q', 'gyro_z_max', 'gyro_x_y_mean', 'gyro_x_y_std', 'gyro_x_y_min', 'gyro_x_y_lower_q', 'gyro_x_y_median', 'gyro_x_y_upper_q', 'gyro_x_y_max', 'gyro_x_z_mean', 'gyro_x_z_std', 'gyro_x_z_min', 'gyro_x_z_lower_q', 'gyro_x_z_median', 'gyro_x_z_upper_q', 'gyro_x_z_max', 'gyro_y_z_mean', 'gyro_y_z_std', 'gyro_y_z_min', 'gyro_y_z_lower_q', 'gyro_y_z_median', 'gyro_y_z_upper_q', 'gyro_y_z_max', 'gyro_x_y_z_mean', 'gyro_x_y_z_std', 'gyro_x_y_z_min', 'gyro_x_y_z_lower_q', 'gyro_x_y_z_median', 'gyro_x_y_z_upper_q', 'gyro_x_y_z_max'], 'RFE(estimator=LogisticRegression(), n_features_to_select=75)': ['duration', 'velocity_x_std', 'velocity_x_min', 'velocity_x_max', 'velocity_x_median', 'velocity_y_std', 'velocity_y_min', 'velocity_y_max', 'velocity_y_abs_max', 'velocity_y_median', 'velocity_x_y_std', 'velocity_x_y_abs_min', 'velocity_x_y_abs_max', 'velocity_x_y_lower_q', 'velocity_x_y_upper_q', 'accelerometer_jerk_x_std', 'accelerometer_jerk_z_std', 'accelerometer_jerk_x_y_mean', 'accelerometer_jerk_x_y_abs_max', 'accelerometer_jerk_x_y_upper_q', 'accelerometer_jerk_x_z_mean', 'accelerometer_jerk_y_z_std', 'accelerometer_jerk_x_y_z_std', 'accelerometer_x_mean', 'accelerometer_x_std', 'accelerometer_x_min', 'accelerometer_y_mean', 'accelerometer_y_std', 'accelerometer_z_mean', 'accelerometer_z_std', 'accelerometer_x_y_mean', 'accelerometer_x_y_max', 'accelerometer_x_z_mean', 'accelerometer_x_z_upper_q', 'accelerometer_y_z_mean', 'accelerometer_x_y_z_max', 'gyro_jerk_x_mean', 'gyro_jerk_y_min', 'gyro_jerk_y_max', 'gyro_jerk_z_std', 'gyro_jerk_z_max', 'gyro_jerk_x_y_abs_max', 'gyro_jerk_x_y_median', 'gyro_jerk_x_y_lower_q', 'gyro_jerk_x_y_iqr', 'gyro_jerk_x_z_std', 'gyro_jerk_x_z_median', 'gyro_jerk_x_z_lower_q', 'gyro_jerk_x_z_iqr', 'gyro_jerk_y_z_std', 'gyro_jerk_y_z_abs_max', 'gyro_jerk_y_z_median', 'gyro_jerk_y_z_upper_q', 'gyro_jerk_x_y_z_mean', 'gyro_jerk_x_y_z_std', 'gyro_jerk_x_y_z_lower_q', 'gyro_x_std', 'gyro_y_std', 'gyro_z_std', 'gyro_x_y_std', 'gyro_x_y_min', 'gyro_x_y_lower_q', 'gyro_x_y_median', 'gyro_x_y_upper_q', 'gyro_x_y_max', 'gyro_x_z_lower_q', 'gyro_x_z_upper_q', 'gyro_x_z_max', 'gyro_y_z_std', 'gyro_y_z_min', 'gyro_y_z_median', 'gyro_y_z_max', 'gyro_x_y_z_std', 'gyro_x_y_z_min', 'gyro_x_y_z_lower_q'], 'RFE(estimator=RandomForestClassifierWithCoef(min_samples_leaf=5, n_estimators=500, n_jobs=-1), n_features_to_select=75)': ['duration', 'velocity_x_std', 'velocity_y_mean', 'velocity_x_y_mean', 'velocity_x_y_std', 'velocity_x_y_max', 'velocity_x_y_abs_max', 'velocity_x_y_upper_q', 'accelerometer_jerk_x_std', 'accelerometer_jerk_x_max', 'accelerometer_jerk_x_y_mean', 'accelerometer_jerk_x_z_mean', 'accelerometer_jerk_x_z_median', 'accelerometer_jerk_x_z_upper_q', 'accelerometer_jerk_y_z_mean', 'accelerometer_jerk_x_y_z_mean', 'accelerometer_x_mean', 'accelerometer_x_std', 'accelerometer_x_min', 'accelerometer_x_lower_q', 'accelerometer_x_median', 'accelerometer_x_upper_q', 'accelerometer_y_mean', 'accelerometer_y_min', 'accelerometer_y_lower_q', 'accelerometer_y_median', 'accelerometer_y_upper_q', 'accelerometer_y_max', 'accelerometer_z_mean', 'accelerometer_z_lower_q', 'accelerometer_z_median', 'accelerometer_z_upper_q', 'accelerometer_x_y_mean', 'accelerometer_x_z_mean', 'accelerometer_x_z_upper_q', 'accelerometer_y_z_mean', 'accelerometer_x_y_z_mean', 'accelerometer_x_y_z_upper_q', 'gyro_jerk_y_std', 'gyro_jerk_z_std', 'gyro_jerk_z_min', 'gyro_jerk_z_max', 'gyro_jerk_z_iqr', 'gyro_jerk_x_y_median', 'gyro_jerk_x_y_lower_q', 'gyro_jerk_x_z_mean', 'gyro_jerk_x_z_median', 'gyro_jerk_x_z_lower_q', 'gyro_jerk_y_z_mean', 'gyro_jerk_y_z_median', 'gyro_jerk_y_z_lower_q', 'gyro_jerk_x_y_z_mean', 'gyro_jerk_x_y_z_median', 'gyro_jerk_x_y_z_lower_q', 'gyro_y_std', 'gyro_y_max', 'gyro_z_mean', 'gyro_z_std', 'gyro_z_min', 'gyro_z_lower_q', 'gyro_z_upper_q', 'gyro_z_max', 'gyro_x_y_mean', 'gyro_x_y_upper_q', 'gyro_x_y_max', 'gyro_x_z_mean', 'gyro_x_z_median', 'gyro_x_z_upper_q', 'gyro_x_z_max', 'gyro_y_z_mean', 'gyro_y_z_median', 'gyro_y_z_upper_q', 'gyro_y_z_max', 'gyro_x_y_z_mean', 'gyro_x_y_z_max'], 'RFE(estimator=LogisticRegression(), n_features_to_select=85)': ['duration', 'length', 'velocity_x_std', 'velocity_x_min', 'velocity_x_max', 'velocity_x_abs_max', 'velocity_x_median', 'velocity_y_std', 'velocity_y_min', 'velocity_y_max', 'velocity_y_abs_max', 'velocity_y_median', 'velocity_x_y_std', 'velocity_x_y_abs_min', 'velocity_x_y_abs_max', 'velocity_x_y_lower_q', 'velocity_x_y_upper_q', 'acceleration_x_std', 'accelerometer_jerk_x_std', 'accelerometer_jerk_z_std', 'accelerometer_jerk_x_y_mean', 'accelerometer_jerk_x_y_abs_max', 'accelerometer_jerk_x_y_upper_q', 'accelerometer_jerk_x_z_mean', 'accelerometer_jerk_y_z_std', 'accelerometer_jerk_x_y_z_std', 'accelerometer_x_mean', 'accelerometer_x_std', 'accelerometer_x_min', 'accelerometer_y_mean', 'accelerometer_y_std', 'accelerometer_z_mean', 'accelerometer_z_std', 'accelerometer_z_min', 'accelerometer_z_max', 'accelerometer_x_y_mean', 'accelerometer_x_y_max', 'accelerometer_x_z_mean', 'accelerometer_x_z_median', 'accelerometer_x_z_upper_q', 'accelerometer_y_z_mean', 'accelerometer_y_z_median', 'accelerometer_x_y_z_max', 'gyro_jerk_x_mean', 'gyro_jerk_x_max', 'gyro_jerk_y_min', 'gyro_jerk_y_max', 'gyro_jerk_z_std', 'gyro_jerk_z_min', 'gyro_jerk_z_max', 'gyro_jerk_x_y_abs_max', 'gyro_jerk_x_y_median', 'gyro_jerk_x_y_lower_q', 'gyro_jerk_x_y_iqr', 'gyro_jerk_x_z_std', 'gyro_jerk_x_z_median', 'gyro_jerk_x_z_lower_q', 'gyro_jerk_x_z_iqr', 'gyro_jerk_y_z_std', 'gyro_jerk_y_z_abs_max', 'gyro_jerk_y_z_median', 'gyro_jerk_y_z_upper_q', 'gyro_jerk_x_y_z_mean', 'gyro_jerk_x_y_z_std', 'gyro_jerk_x_y_z_lower_q', 'gyro_x_std', 'gyro_y_std', 'gyro_z_std', 'gyro_x_y_std', 'gyro_x_y_min', 'gyro_x_y_lower_q', 'gyro_x_y_median', 'gyro_x_y_upper_q', 'gyro_x_y_max', 'gyro_x_z_lower_q', 'gyro_x_z_upper_q', 'gyro_x_z_max', 'gyro_y_z_std', 'gyro_y_z_min', 'gyro_y_z_lower_q', 'gyro_y_z_median', 'gyro_y_z_max', 'gyro_x_y_z_std', 'gyro_x_y_z_min', 'gyro_x_y_z_lower_q'], 'RFE(estimator=RandomForestClassifierWithCoef(min_samples_leaf=5, n_estimators=500, n_jobs=-1), n_features_to_select=85)': ['duration', 'velocity_x_std', 'velocity_y_mean', 'velocity_y_min', 'velocity_x_y_mean', 'velocity_x_y_std', 'velocity_x_y_max', 'velocity_x_y_abs_max', 'velocity_x_y_upper_q', 'acceleration_x_std', 'accelerometer_jerk_x_std', 'accelerometer_jerk_x_iqr', 'accelerometer_jerk_x_y_mean', 'accelerometer_jerk_x_z_mean', 'accelerometer_jerk_x_z_median', 'accelerometer_jerk_x_z_upper_q', 'accelerometer_jerk_y_z_mean', 'accelerometer_jerk_x_y_z_mean', 'accelerometer_jerk_x_y_z_upper_q', 'accelerometer_x_mean', 'accelerometer_x_std', 'accelerometer_x_min', 'accelerometer_x_lower_q', 'accelerometer_x_median', 'accelerometer_x_upper_q', 'accelerometer_x_max', 'accelerometer_y_mean', 'accelerometer_y_std', 'accelerometer_y_min', 'accelerometer_y_lower_q', 'accelerometer_y_median', 'accelerometer_y_upper_q', 'accelerometer_y_max', 'accelerometer_z_mean', 'accelerometer_z_min', 'accelerometer_z_lower_q', 'accelerometer_z_median', 'accelerometer_z_upper_q', 'accelerometer_x_y_mean', 'accelerometer_x_y_upper_q', 'accelerometer_x_z_mean', 'accelerometer_x_z_upper_q', 'accelerometer_y_z_mean', 'accelerometer_x_y_z_mean', 'accelerometer_x_y_z_upper_q', 'gyro_jerk_y_std', 'gyro_jerk_z_mean', 'gyro_jerk_z_std', 'gyro_jerk_z_min', 'gyro_jerk_z_max', 'gyro_jerk_z_iqr', 'gyro_jerk_x_y_median', 'gyro_jerk_x_y_lower_q', 'gyro_jerk_x_z_mean', 'gyro_jerk_x_z_median', 'gyro_jerk_x_z_lower_q', 'gyro_jerk_y_z_mean', 'gyro_jerk_y_z_median', 'gyro_jerk_y_z_lower_q', 'gyro_jerk_y_z_upper_q', 'gyro_jerk_x_y_z_mean', 'gyro_jerk_x_y_z_median', 'gyro_jerk_x_y_z_lower_q', 'gyro_jerk_x_y_z_upper_q', 'gyro_y_std', 'gyro_y_max', 'gyro_z_mean', 'gyro_z_std', 'gyro_z_min', 'gyro_z_lower_q', 'gyro_z_upper_q', 'gyro_z_max', 'gyro_x_y_mean', 'gyro_x_y_upper_q', 'gyro_x_y_max', 'gyro_x_z_mean', 'gyro_x_z_median', 'gyro_x_z_upper_q', 'gyro_x_z_max', 'gyro_y_z_mean', 'gyro_y_z_median', 'gyro_y_z_upper_q', 'gyro_y_z_max', 'gyro_x_y_z_mean', 'gyro_x_y_z_max'], 'RFE(estimator=LogisticRegression(), n_features_to_select=100)': ['duration', 'length', 'velocity_x_std', 'velocity_x_min', 'velocity_x_max', 'velocity_x_abs_max', 'velocity_x_median', 'velocity_y_std', 'velocity_y_min', 'velocity_y_max', 'velocity_y_abs_max', 'velocity_y_median', 'velocity_x_y_std', 'velocity_x_y_abs_min', 'velocity_x_y_abs_max', 'velocity_x_y_median', 'velocity_x_y_lower_q', 'velocity_x_y_upper_q', 'acceleration_x_std', 'acceleration_x_y_std', 'acceleration_x_y_max', 'acceleration_x_y_lower_q', 'accelerometer_jerk_x_std', 'accelerometer_jerk_y_std', 'accelerometer_jerk_z_std', 'accelerometer_jerk_x_y_mean', 'accelerometer_jerk_x_y_abs_max', 'accelerometer_jerk_x_y_upper_q', 'accelerometer_jerk_x_z_mean', 'accelerometer_jerk_y_z_std', 'accelerometer_jerk_x_y_z_std', 'accelerometer_x_mean', 'accelerometer_x_std', 'accelerometer_x_min', 'accelerometer_y_mean', 'accelerometer_y_std', 'accelerometer_z_mean', 'accelerometer_z_std', 'accelerometer_z_min', 'accelerometer_z_max', 'accelerometer_x_y_mean', 'accelerometer_x_y_max', 'accelerometer_x_z_mean', 'accelerometer_x_z_std', 'accelerometer_x_z_lower_q', 'accelerometer_x_z_median', 'accelerometer_x_z_upper_q', 'accelerometer_y_z_mean', 'accelerometer_y_z_median', 'accelerometer_x_y_z_lower_q', 'accelerometer_x_y_z_max', 'gyro_jerk_x_mean', 'gyro_jerk_x_max', 'gyro_jerk_y_std', 'gyro_jerk_y_min', 'gyro_jerk_y_max', 'gyro_jerk_z_std', 'gyro_jerk_z_min', 'gyro_jerk_z_max', 'gyro_jerk_x_y_abs_max', 'gyro_jerk_x_y_median', 'gyro_jerk_x_y_lower_q', 'gyro_jerk_x_y_iqr', 'gyro_jerk_x_z_std', 'gyro_jerk_x_z_median', 'gyro_jerk_x_z_lower_q', 'gyro_jerk_x_z_iqr', 'gyro_jerk_y_z_std', 'gyro_jerk_y_z_abs_max', 'gyro_jerk_y_z_median', 'gyro_jerk_y_z_lower_q', 'gyro_jerk_y_z_upper_q', 'gyro_jerk_x_y_z_mean', 'gyro_jerk_x_y_z_std', 'gyro_jerk_x_y_z_median', 'gyro_jerk_x_y_z_lower_q', 'gyro_x_std', 'gyro_y_std', 'gyro_z_std', 'gyro_z_min', 'gyro_z_max', 'gyro_x_y_std', 'gyro_x_y_min', 'gyro_x_y_lower_q', 'gyro_x_y_median', 'gyro_x_y_upper_q', 'gyro_x_y_max', 'gyro_x_z_min', 'gyro_x_z_lower_q', 'gyro_x_z_median', 'gyro_x_z_upper_q', 'gyro_x_z_max', 'gyro_y_z_std', 'gyro_y_z_min', 'gyro_y_z_lower_q', 'gyro_y_z_median', 'gyro_y_z_max', 'gyro_x_y_z_std', 'gyro_x_y_z_min', 'gyro_x_y_z_lower_q'], 'RFE(estimator=RandomForestClassifierWithCoef(min_samples_leaf=5, n_estimators=500, n_jobs=-1), n_features_to_select=100)': ['duration', 'length', 'start_y', 'velocity_x_std', 'velocity_y_mean', 'velocity_y_min', 'velocity_x_y_mean', 'velocity_x_y_std', 'velocity_x_y_max', 'velocity_x_y_abs_max', 'velocity_x_y_median', 'velocity_x_y_upper_q', 'acceleration_x_std', 'acceleration_x_y_std', 'accelerometer_jerk_x_std', 'accelerometer_jerk_x_min', 'accelerometer_jerk_x_max', 'accelerometer_jerk_x_iqr', 'accelerometer_jerk_x_y_mean', 'accelerometer_jerk_x_z_mean', 'accelerometer_jerk_x_z_median', 'accelerometer_jerk_x_z_upper_q', 'accelerometer_jerk_y_z_mean', 'accelerometer_jerk_x_y_z_mean', 'accelerometer_jerk_x_y_z_median', 'accelerometer_jerk_x_y_z_upper_q', 'accelerometer_x_mean', 'accelerometer_x_std', 'accelerometer_x_min', 'accelerometer_x_lower_q', 'accelerometer_x_median', 'accelerometer_x_upper_q', 'accelerometer_x_max', 'accelerometer_y_mean', 'accelerometer_y_std', 'accelerometer_y_min', 'accelerometer_y_lower_q', 'accelerometer_y_median', 'accelerometer_y_upper_q', 'accelerometer_y_max', 'accelerometer_z_mean', 'accelerometer_z_min', 'accelerometer_z_lower_q', 'accelerometer_z_median', 'accelerometer_z_upper_q', 'accelerometer_z_max', 'accelerometer_x_y_mean', 'accelerometer_x_y_upper_q', 'accelerometer_x_z_mean', 'accelerometer_x_z_upper_q', 'accelerometer_y_z_mean', 'accelerometer_x_y_z_mean', 'accelerometer_x_y_z_upper_q', 'gyro_jerk_y_std', 'gyro_jerk_y_max', 'gyro_jerk_z_mean', 'gyro_jerk_z_std', 'gyro_jerk_z_min', 'gyro_jerk_z_max', 'gyro_jerk_z_lower_q', 'gyro_jerk_z_iqr', 'gyro_jerk_x_y_median', 'gyro_jerk_x_y_lower_q', 'gyro_jerk_x_z_mean', 'gyro_jerk_x_z_median', 'gyro_jerk_x_z_lower_q', 'gyro_jerk_x_z_upper_q', 'gyro_jerk_y_z_mean', 'gyro_jerk_y_z_median', 'gyro_jerk_y_z_lower_q', 'gyro_jerk_y_z_upper_q', 'gyro_jerk_x_y_z_mean', 'gyro_jerk_x_y_z_median', 'gyro_jerk_x_y_z_lower_q', 'gyro_jerk_x_y_z_upper_q', 'gyro_x_mean', 'gyro_y_std', 'gyro_y_max', 'gyro_z_mean', 'gyro_z_std', 'gyro_z_min', 'gyro_z_lower_q', 'gyro_z_upper_q', 'gyro_z_max', 'gyro_x_y_mean', 'gyro_x_y_median', 'gyro_x_y_upper_q', 'gyro_x_y_max', 'gyro_x_z_mean', 'gyro_x_z_median', 'gyro_x_z_upper_q', 'gyro_x_z_max', 'gyro_y_z_mean', 'gyro_y_z_std', 'gyro_y_z_median', 'gyro_y_z_upper_q', 'gyro_y_z_max', 'gyro_x_y_z_mean', 'gyro_x_y_z_upper_q', 'gyro_x_y_z_max'], 'RFE(estimator=LogisticRegression(), n_features_to_select=125)': ['duration', 'length', 'velocity_x_std', 'velocity_x_min', 'velocity_x_max', 'velocity_x_abs_max', 'velocity_x_median', 'velocity_y_std', 'velocity_y_min', 'velocity_y_max', 'velocity_y_abs_min', 'velocity_y_abs_max', 'velocity_y_median', 'velocity_y_upper_q', 'velocity_y_iqr', 'velocity_x_y_std', 'velocity_x_y_max', 'velocity_x_y_abs_min', 'velocity_x_y_abs_max', 'velocity_x_y_median', 'velocity_x_y_lower_q', 'velocity_x_y_upper_q', 'acceleration_x_std', 'acceleration_x_y_std', 'acceleration_x_y_max', 'acceleration_x_y_abs_max', 'acceleration_x_y_lower_q', 'accelerometer_jerk_x_std', 'accelerometer_jerk_y_std', 'accelerometer_jerk_z_std', 'accelerometer_jerk_x_y_mean', 'accelerometer_jerk_x_y_abs_max', 'accelerometer_jerk_x_y_upper_q', 'accelerometer_jerk_x_z_mean', 'accelerometer_jerk_x_z_std', 'accelerometer_jerk_x_z_median', 'accelerometer_jerk_y_z_std', 'accelerometer_jerk_y_z_abs_max', 'accelerometer_jerk_y_z_median', 'accelerometer_jerk_x_y_z_std', 'accelerometer_x_mean', 'accelerometer_x_std', 'accelerometer_x_min', 'accelerometer_y_mean', 'accelerometer_y_std', 'accelerometer_z_mean', 'accelerometer_z_std', 'accelerometer_z_min', 'accelerometer_z_max', 'accelerometer_x_y_mean', 'accelerometer_x_y_std', 'accelerometer_x_y_median', 'accelerometer_x_y_upper_q', 'accelerometer_x_y_max', 'accelerometer_x_z_mean', 'accelerometer_x_z_std', 'accelerometer_x_z_lower_q', 'accelerometer_x_z_median', 'accelerometer_x_z_upper_q', 'accelerometer_y_z_mean', 'accelerometer_y_z_lower_q', 'accelerometer_y_z_median', 'accelerometer_x_y_z_std', 'accelerometer_x_y_z_lower_q', 'accelerometer_x_y_z_max', 'gyro_jerk_x_mean', 'gyro_jerk_x_min', 'gyro_jerk_x_max', 'gyro_jerk_y_std', 'gyro_jerk_y_min', 'gyro_jerk_y_max', 'gyro_jerk_z_std', 'gyro_jerk_z_min', 'gyro_jerk_z_max', 'gyro_jerk_x_y_std', 'gyro_jerk_x_y_min', 'gyro_jerk_x_y_abs_max', 'gyro_jerk_x_y_median', 'gyro_jerk_x_y_lower_q', 'gyro_jerk_x_y_iqr', 'gyro_jerk_x_z_std', 'gyro_jerk_x_z_median', 'gyro_jerk_x_z_lower_q', 'gyro_jerk_x_z_iqr', 'gyro_jerk_y_z_std', 'gyro_jerk_y_z_abs_max', 'gyro_jerk_y_z_median', 'gyro_jerk_y_z_lower_q', 'gyro_jerk_y_z_upper_q', 'gyro_jerk_x_y_z_mean', 'gyro_jerk_x_y_z_std', 'gyro_jerk_x_y_z_min', 'gyro_jerk_x_y_z_median', 'gyro_jerk_x_y_z_lower_q', 'gyro_jerk_x_y_z_iqr', 'gyro_x_std', 'gyro_y_std', 'gyro_y_min', 'gyro_y_upper_q', 'gyro_y_max', 'gyro_z_std', 'gyro_z_min', 'gyro_z_lower_q', 'gyro_z_max', 'gyro_x_y_std', 'gyro_x_y_min', 'gyro_x_y_lower_q', 'gyro_x_y_median', 'gyro_x_y_upper_q', 'gyro_x_y_max', 'gyro_x_z_std', 'gyro_x_z_min', 'gyro_x_z_lower_q', 'gyro_x_z_median', 'gyro_x_z_upper_q', 'gyro_x_z_max', 'gyro_y_z_std', 'gyro_y_z_min', 'gyro_y_z_lower_q', 'gyro_y_z_median', 'gyro_y_z_upper_q', 'gyro_y_z_max', 'gyro_x_y_z_std', 'gyro_x_y_z_min', 'gyro_x_y_z_lower_q'], 'RFE(estimator=RandomForestClassifierWithCoef(min_samples_leaf=5, n_estimators=500, n_jobs=-1), n_features_to_select=125)': ['duration', 'length', 'start_y', 'velocity_x_mean', 'velocity_x_std', 'velocity_y_mean', 'velocity_y_min', 'velocity_y_abs_max', 'velocity_x_y_mean', 'velocity_x_y_std', 'velocity_x_y_max', 'velocity_x_y_abs_max', 'velocity_x_y_median', 'velocity_x_y_lower_q', 'velocity_x_y_upper_q', 'acceleration_x_std', 'acceleration_y_mean', 'acceleration_x_y_mean', 'acceleration_x_y_std', 'acceleration_x_y_upper_q', 'angular_velocity_x_y_lower_q', 'accelerometer_jerk_x_std', 'accelerometer_jerk_x_min', 'accelerometer_jerk_x_max', 'accelerometer_jerk_x_iqr', 'accelerometer_jerk_y_std', 'accelerometer_jerk_z_std', 'accelerometer_jerk_x_y_mean', 'accelerometer_jerk_x_y_upper_q', 'accelerometer_jerk_x_z_mean', 'accelerometer_jerk_x_z_max', 'accelerometer_jerk_x_z_median', 'accelerometer_jerk_x_z_upper_q', 'accelerometer_jerk_y_z_mean', 'accelerometer_jerk_x_y_z_mean', 'accelerometer_jerk_x_y_z_median', 'accelerometer_jerk_x_y_z_upper_q', 'accelerometer_x_mean', 'accelerometer_x_std', 'accelerometer_x_min', 'accelerometer_x_lower_q', 'accelerometer_x_median', 'accelerometer_x_upper_q', 'accelerometer_x_max', 'accelerometer_y_mean', 'accelerometer_y_std', 'accelerometer_y_min', 'accelerometer_y_lower_q', 'accelerometer_y_median', 'accelerometer_y_upper_q', 'accelerometer_y_max', 'accelerometer_z_mean', 'accelerometer_z_min', 'accelerometer_z_lower_q', 'accelerometer_z_median', 'accelerometer_z_upper_q', 'accelerometer_z_max', 'accelerometer_x_y_mean', 'accelerometer_x_y_median', 'accelerometer_x_y_upper_q', 'accelerometer_x_z_mean', 'accelerometer_x_z_upper_q', 'accelerometer_y_z_mean', 'accelerometer_y_z_upper_q', 'accelerometer_x_y_z_mean', 'accelerometer_x_y_z_median', 'accelerometer_x_y_z_upper_q', 'gyro_jerk_y_std', 'gyro_jerk_y_min', 'gyro_jerk_y_max', 'gyro_jerk_z_mean', 'gyro_jerk_z_std', 'gyro_jerk_z_min', 'gyro_jerk_z_max', 'gyro_jerk_z_lower_q', 'gyro_jerk_z_upper_q', 'gyro_jerk_z_iqr', 'gyro_jerk_x_y_mean', 'gyro_jerk_x_y_median', 'gyro_jerk_x_y_lower_q', 'gyro_jerk_x_y_upper_q', 'gyro_jerk_x_z_mean', 'gyro_jerk_x_z_median', 'gyro_jerk_x_z_lower_q', 'gyro_jerk_x_z_upper_q', 'gyro_jerk_y_z_mean', 'gyro_jerk_y_z_std', 'gyro_jerk_y_z_median', 'gyro_jerk_y_z_lower_q', 'gyro_jerk_y_z_upper_q', 'gyro_jerk_x_y_z_mean', 'gyro_jerk_x_y_z_median', 'gyro_jerk_x_y_z_lower_q', 'gyro_jerk_x_y_z_upper_q', 'gyro_x_mean', 'gyro_x_min', 'gyro_y_mean', 'gyro_y_std', 'gyro_y_min', 'gyro_y_lower_q', 'gyro_y_max', 'gyro_z_mean', 'gyro_z_std', 'gyro_z_min', 'gyro_z_lower_q', 'gyro_z_median', 'gyro_z_upper_q', 'gyro_z_max', 'gyro_x_y_mean', 'gyro_x_y_median', 'gyro_x_y_upper_q', 'gyro_x_y_max', 'gyro_x_z_mean', 'gyro_x_z_median', 'gyro_x_z_upper_q', 'gyro_x_z_max', 'gyro_y_z_mean', 'gyro_y_z_std', 'gyro_y_z_median', 'gyro_y_z_upper_q', 'gyro_y_z_max', 'gyro_x_y_z_mean', 'gyro_x_y_z_lower_q', 'gyro_x_y_z_upper_q', 'gyro_x_y_z_max'], 'RFE(estimator=LogisticRegression(), n_features_to_select=150)': ['duration', 'length', 'velocity_x_std', 'velocity_x_min', 'velocity_x_max', 'velocity_x_abs_max', 'velocity_x_median', 'velocity_x_iqr', 'velocity_y_std', 'velocity_y_min', 'velocity_y_max', 'velocity_y_abs_min', 'velocity_y_abs_max', 'velocity_y_median', 'velocity_y_upper_q', 'velocity_y_iqr', 'velocity_x_y_std', 'velocity_x_y_max', 'velocity_x_y_abs_min', 'velocity_x_y_abs_max', 'velocity_x_y_median', 'velocity_x_y_lower_q', 'velocity_x_y_upper_q', 'velocity_x_y_iqr', 'acceleration_x_std', 'acceleration_x_min', 'acceleration_x_max', 'acceleration_x_abs_min', 'acceleration_x_median', 'acceleration_x_iqr', 'acceleration_y_std', 'acceleration_x_y_std', 'acceleration_x_y_min', 'acceleration_x_y_max', 'acceleration_x_y_abs_min', 'acceleration_x_y_abs_max', 'acceleration_x_y_median', 'acceleration_x_y_lower_q', 'jerk_x_std', 'jerk_x_abs_max', 'jerk_x_y_min', 'jerk_x_y_lower_q', 'accelerometer_jerk_x_std', 'accelerometer_jerk_x_min', 'accelerometer_jerk_x_max', 'accelerometer_jerk_y_std', 'accelerometer_jerk_z_std', 'accelerometer_jerk_z_min', 'accelerometer_jerk_x_y_mean', 'accelerometer_jerk_x_y_abs_max', 'accelerometer_jerk_x_y_upper_q', 'accelerometer_jerk_x_z_mean', 'accelerometer_jerk_x_z_std', 'accelerometer_jerk_x_z_median', 'accelerometer_jerk_y_z_std', 'accelerometer_jerk_y_z_abs_max', 'accelerometer_jerk_y_z_median', 'accelerometer_jerk_x_y_z_std', 'accelerometer_x_mean', 'accelerometer_x_std', 'accelerometer_x_min', 'accelerometer_y_mean', 'accelerometer_y_std', 'accelerometer_y_lower_q', 'accelerometer_y_upper_q', 'accelerometer_z_mean', 'accelerometer_z_std', 'accelerometer_z_min', 'accelerometer_z_max', 'accelerometer_x_y_mean', 'accelerometer_x_y_std', 'accelerometer_x_y_median', 'accelerometer_x_y_upper_q', 'accelerometer_x_y_max', 'accelerometer_x_z_mean', 'accelerometer_x_z_std', 'accelerometer_x_z_lower_q', 'accelerometer_x_z_median', 'accelerometer_x_z_upper_q', 'accelerometer_y_z_mean', 'accelerometer_y_z_lower_q', 'accelerometer_y_z_median', 'accelerometer_x_y_z_std', 'accelerometer_x_y_z_lower_q', 'accelerometer_x_y_z_max', 'gyro_jerk_x_mean', 'gyro_jerk_x_min', 'gyro_jerk_x_max', 'gyro_jerk_x_upper_q', 'gyro_jerk_y_std', 'gyro_jerk_y_min', 'gyro_jerk_y_max', 'gyro_jerk_z_mean', 'gyro_jerk_z_std', 'gyro_jerk_z_min', 'gyro_jerk_z_max', 'gyro_jerk_x_y_mean', 'gyro_jerk_x_y_std', 'gyro_jerk_x_y_min', 'gyro_jerk_x_y_abs_max', 'gyro_jerk_x_y_median', 'gyro_jerk_x_y_lower_q', 'gyro_jerk_x_y_iqr', 'gyro_jerk_x_z_mean', 'gyro_jerk_x_z_std', 'gyro_jerk_x_z_median', 'gyro_jerk_x_z_lower_q', 'gyro_jerk_x_z_iqr', 'gyro_jerk_y_z_std', 'gyro_jerk_y_z_abs_max', 'gyro_jerk_y_z_median', 'gyro_jerk_y_z_lower_q', 'gyro_jerk_y_z_upper_q', 'gyro_jerk_x_y_z_mean', 'gyro_jerk_x_y_z_std', 'gyro_jerk_x_y_z_min', 'gyro_jerk_x_y_z_median', 'gyro_jerk_x_y_z_lower_q', 'gyro_jerk_x_y_z_iqr', 'gyro_x_std', 'gyro_y_std', 'gyro_y_min', 'gyro_y_upper_q', 'gyro_y_max', 'gyro_z_std', 'gyro_z_min', 'gyro_z_lower_q', 'gyro_z_max', 'gyro_x_y_mean', 'gyro_x_y_std', 'gyro_x_y_min', 'gyro_x_y_lower_q', 'gyro_x_y_median', 'gyro_x_y_upper_q', 'gyro_x_y_max', 'gyro_x_z_std', 'gyro_x_z_min', 'gyro_x_z_lower_q', 'gyro_x_z_median', 'gyro_x_z_upper_q', 'gyro_x_z_max', 'gyro_y_z_std', 'gyro_y_z_min', 'gyro_y_z_lower_q', 'gyro_y_z_median', 'gyro_y_z_upper_q', 'gyro_y_z_max', 'gyro_x_y_z_std', 'gyro_x_y_z_min', 'gyro_x_y_z_lower_q'], 'RFE(estimator=RandomForestClassifierWithCoef(min_samples_leaf=5, n_estimators=500, n_jobs=-1), n_features_to_select=150)': ['duration', 'length', 'start_x', 'start_y', 'velocity_x_mean', 'velocity_x_std', 'velocity_x_max', 'velocity_y_mean', 'velocity_y_min', 'velocity_y_abs_max', 'velocity_y_upper_q', 'velocity_x_y_mean', 'velocity_x_y_std', 'velocity_x_y_max', 'velocity_x_y_abs_max', 'velocity_x_y_median', 'velocity_x_y_lower_q', 'velocity_x_y_upper_q', 'acceleration_x_std', 'acceleration_y_mean', 'acceleration_y_std', 'acceleration_x_y_mean', 'acceleration_x_y_std', 'acceleration_x_y_upper_q', 'jerk_x_std', 'jerk_x_y_std', 'angular_velocity_x_y_min', 'angular_velocity_x_y_lower_q', 'accelerometer_jerk_x_std', 'accelerometer_jerk_x_min', 'accelerometer_jerk_x_max', 'accelerometer_jerk_x_iqr', 'accelerometer_jerk_y_std', 'accelerometer_jerk_z_std', 'accelerometer_jerk_x_y_mean', 'accelerometer_jerk_x_y_median', 'accelerometer_jerk_x_y_upper_q', 'accelerometer_jerk_x_z_mean', 'accelerometer_jerk_x_z_max', 'accelerometer_jerk_x_z_abs_max', 'accelerometer_jerk_x_z_median', 'accelerometer_jerk_x_z_upper_q', 'accelerometer_jerk_y_z_mean', 'accelerometer_jerk_y_z_median', 'accelerometer_jerk_y_z_upper_q', 'accelerometer_jerk_x_y_z_mean', 'accelerometer_jerk_x_y_z_median', 'accelerometer_jerk_x_y_z_lower_q', 'accelerometer_jerk_x_y_z_upper_q', 'accelerometer_x_mean', 'accelerometer_x_std', 'accelerometer_x_min', 'accelerometer_x_lower_q', 'accelerometer_x_median', 'accelerometer_x_upper_q', 'accelerometer_x_max', 'accelerometer_y_mean', 'accelerometer_y_std', 'accelerometer_y_min', 'accelerometer_y_lower_q', 'accelerometer_y_median', 'accelerometer_y_upper_q', 'accelerometer_y_max', 'accelerometer_z_mean', 'accelerometer_z_std', 'accelerometer_z_min', 'accelerometer_z_lower_q', 'accelerometer_z_median', 'accelerometer_z_upper_q', 'accelerometer_z_max', 'accelerometer_x_y_mean', 'accelerometer_x_y_median', 'accelerometer_x_y_upper_q', 'accelerometer_x_y_max', 'accelerometer_x_z_mean', 'accelerometer_x_z_upper_q', 'accelerometer_x_z_max', 'accelerometer_y_z_mean', 'accelerometer_y_z_upper_q', 'accelerometer_x_y_z_mean', 'accelerometer_x_y_z_median', 'accelerometer_x_y_z_upper_q', 'gyro_jerk_x_std', 'gyro_jerk_y_std', 'gyro_jerk_y_min', 'gyro_jerk_y_max', 'gyro_jerk_z_mean', 'gyro_jerk_z_std', 'gyro_jerk_z_min', 'gyro_jerk_z_max', 'gyro_jerk_z_lower_q', 'gyro_jerk_z_upper_q', 'gyro_jerk_z_iqr', 'gyro_jerk_x_y_mean', 'gyro_jerk_x_y_median', 'gyro_jerk_x_y_lower_q', 'gyro_jerk_x_y_upper_q', 'gyro_jerk_x_z_mean', 'gyro_jerk_x_z_median', 'gyro_jerk_x_z_lower_q', 'gyro_jerk_x_z_upper_q', 'gyro_jerk_y_z_mean', 'gyro_jerk_y_z_std', 'gyro_jerk_y_z_max', 'gyro_jerk_y_z_median', 'gyro_jerk_y_z_lower_q', 'gyro_jerk_y_z_upper_q', 'gyro_jerk_x_y_z_mean', 'gyro_jerk_x_y_z_median', 'gyro_jerk_x_y_z_lower_q', 'gyro_jerk_x_y_z_upper_q', 'gyro_jerk_x_y_z_iqr', 'gyro_x_mean', 'gyro_x_min', 'gyro_x_max', 'gyro_y_mean', 'gyro_y_std', 'gyro_y_min', 'gyro_y_lower_q', 'gyro_y_upper_q', 'gyro_y_max', 'gyro_z_mean', 'gyro_z_std', 'gyro_z_min', 'gyro_z_lower_q', 'gyro_z_median', 'gyro_z_upper_q', 'gyro_z_max', 'gyro_x_y_mean', 'gyro_x_y_lower_q', 'gyro_x_y_median', 'gyro_x_y_upper_q', 'gyro_x_y_max', 'gyro_x_z_mean', 'gyro_x_z_std', 'gyro_x_z_lower_q', 'gyro_x_z_median', 'gyro_x_z_upper_q', 'gyro_x_z_max', 'gyro_y_z_mean', 'gyro_y_z_std', 'gyro_y_z_lower_q', 'gyro_y_z_median', 'gyro_y_z_upper_q', 'gyro_y_z_max', 'gyro_x_y_z_mean', 'gyro_x_y_z_lower_q', 'gyro_x_y_z_median', 'gyro_x_y_z_upper_q', 'gyro_x_y_z_max']}\n",
    "#selected_features_dict={85: ['duration', 'length', 'velocity_x_std', 'velocity_x_min', 'velocity_x_max', 'velocity_x_median', 'velocity_y_std', 'velocity_y_min', 'velocity_y_max', 'velocity_y_abs_max', 'velocity_y_median', 'velocity_x_y_std', 'velocity_x_y_max', 'velocity_x_y_abs_min', 'velocity_x_y_lower_q', 'velocity_x_y_upper_q', 'acceleration_x_std', 'accelerometer_jerk_x_std', 'accelerometer_jerk_z_std', 'accelerometer_jerk_x_y_mean', 'accelerometer_jerk_x_y_abs_max', 'accelerometer_jerk_x_y_upper_q', 'accelerometer_jerk_x_z_max', 'accelerometer_jerk_x_z_median', 'accelerometer_jerk_y_z_mean', 'accelerometer_jerk_y_z_std', 'accelerometer_jerk_x_y_z_std', 'accelerometer_x_mean', 'accelerometer_x_std', 'accelerometer_x_min', 'accelerometer_y_mean', 'accelerometer_y_std', 'accelerometer_z_mean', 'accelerometer_z_std', 'accelerometer_x_y_mean', 'accelerometer_x_y_max', 'accelerometer_x_z_mean', 'accelerometer_x_z_median', 'accelerometer_x_z_upper_q', 'accelerometer_y_z_mean', 'accelerometer_y_z_median', 'gyro_jerk_x_mean', 'gyro_jerk_y_min', 'gyro_jerk_y_max', 'gyro_jerk_z_std', 'gyro_jerk_z_min', 'gyro_jerk_z_max', 'gyro_jerk_x_y_mean', 'gyro_jerk_x_y_std', 'gyro_jerk_x_y_max', 'gyro_jerk_x_y_median', 'gyro_jerk_x_y_lower_q', 'gyro_jerk_x_y_iqr', 'gyro_jerk_x_z_std', 'gyro_jerk_x_z_median', 'gyro_jerk_x_z_lower_q', 'gyro_jerk_x_z_iqr', 'gyro_jerk_y_z_std', 'gyro_jerk_y_z_abs_max', 'gyro_jerk_y_z_median', 'gyro_jerk_y_z_upper_q', 'gyro_jerk_x_y_z_median', 'gyro_jerk_x_y_z_lower_q', 'gyro_x_std', 'gyro_y_std', 'gyro_z_std', 'gyro_z_min', 'gyro_x_y_std', 'gyro_x_y_min', 'gyro_x_y_lower_q', 'gyro_x_y_median', 'gyro_x_y_upper_q', 'gyro_x_y_max', 'gyro_x_z_std', 'gyro_x_z_lower_q', 'gyro_x_z_upper_q', 'gyro_x_z_max', 'gyro_y_z_std', 'gyro_y_z_min', 'gyro_y_z_lower_q', 'gyro_y_z_median', 'gyro_y_z_max', 'gyro_x_y_z_std', 'gyro_x_y_z_min', 'gyro_x_y_z_lower_q'], 75: ['duration', 'length', 'velocity_x_std', 'velocity_x_min', 'velocity_x_max', 'velocity_x_median', 'velocity_y_std', 'velocity_y_min', 'velocity_y_max', 'velocity_y_abs_max', 'velocity_y_median', 'velocity_x_y_std', 'velocity_x_y_max', 'velocity_x_y_abs_min', 'velocity_x_y_lower_q', 'velocity_x_y_upper_q', 'accelerometer_jerk_x_std', 'accelerometer_jerk_z_std', 'accelerometer_jerk_x_y_mean', 'accelerometer_jerk_x_y_abs_max', 'accelerometer_jerk_x_y_upper_q', 'accelerometer_jerk_x_z_max', 'accelerometer_jerk_x_z_median', 'accelerometer_jerk_y_z_mean', 'accelerometer_jerk_y_z_std', 'accelerometer_jerk_x_y_z_std', 'accelerometer_x_mean', 'accelerometer_x_std', 'accelerometer_x_min', 'accelerometer_y_mean', 'accelerometer_y_std', 'accelerometer_z_mean', 'accelerometer_x_y_mean', 'accelerometer_x_y_max', 'accelerometer_x_z_mean', 'accelerometer_x_z_median', 'accelerometer_x_z_upper_q', 'accelerometer_y_z_mean', 'accelerometer_y_z_median', 'gyro_jerk_x_mean', 'gyro_jerk_y_min', 'gyro_jerk_y_max', 'gyro_jerk_z_std', 'gyro_jerk_x_y_mean', 'gyro_jerk_x_y_std', 'gyro_jerk_x_y_median', 'gyro_jerk_x_y_iqr', 'gyro_jerk_x_z_std', 'gyro_jerk_x_z_median', 'gyro_jerk_x_z_lower_q', 'gyro_jerk_x_z_iqr', 'gyro_jerk_y_z_std', 'gyro_jerk_y_z_abs_max', 'gyro_jerk_y_z_median', 'gyro_jerk_x_y_z_lower_q', 'gyro_x_std', 'gyro_y_std', 'gyro_z_std', 'gyro_x_y_std', 'gyro_x_y_min', 'gyro_x_y_lower_q', 'gyro_x_y_median', 'gyro_x_y_upper_q', 'gyro_x_y_max', 'gyro_x_z_lower_q', 'gyro_x_z_upper_q', 'gyro_x_z_max', 'gyro_y_z_std', 'gyro_y_z_min', 'gyro_y_z_lower_q', 'gyro_y_z_median', 'gyro_y_z_max', 'gyro_x_y_z_std', 'gyro_x_y_z_min', 'gyro_x_y_z_lower_q'], 100: ['duration', 'length', 'velocity_x_std', 'velocity_x_min', 'velocity_x_max', 'velocity_x_abs_max', 'velocity_x_median', 'velocity_y_std', 'velocity_y_min', 'velocity_y_max', 'velocity_y_abs_min', 'velocity_y_abs_max', 'velocity_y_median', 'velocity_y_upper_q', 'velocity_x_y_std', 'velocity_x_y_max', 'velocity_x_y_abs_min', 'velocity_x_y_lower_q', 'velocity_x_y_upper_q', 'acceleration_x_std', 'acceleration_x_y_std', 'acceleration_x_y_max', 'acceleration_x_y_lower_q', 'accelerometer_jerk_x_std', 'accelerometer_jerk_z_std', 'accelerometer_jerk_x_y_mean', 'accelerometer_jerk_x_y_abs_max', 'accelerometer_jerk_x_y_upper_q', 'accelerometer_jerk_x_z_max', 'accelerometer_jerk_x_z_median', 'accelerometer_jerk_y_z_mean', 'accelerometer_jerk_y_z_std', 'accelerometer_jerk_x_y_z_std', 'accelerometer_x_mean', 'accelerometer_x_std', 'accelerometer_x_min', 'accelerometer_y_mean', 'accelerometer_y_std', 'accelerometer_z_mean', 'accelerometer_z_std', 'accelerometer_z_min', 'accelerometer_z_max', 'accelerometer_x_y_mean', 'accelerometer_x_y_upper_q', 'accelerometer_x_y_max', 'accelerometer_x_z_mean', 'accelerometer_x_z_lower_q', 'accelerometer_x_z_median', 'accelerometer_x_z_upper_q', 'accelerometer_y_z_mean', 'accelerometer_y_z_median', 'accelerometer_x_y_z_std', 'accelerometer_x_y_z_lower_q', 'gyro_jerk_x_mean', 'gyro_jerk_y_min', 'gyro_jerk_y_max', 'gyro_jerk_z_std', 'gyro_jerk_z_min', 'gyro_jerk_z_max', 'gyro_jerk_x_y_mean', 'gyro_jerk_x_y_std', 'gyro_jerk_x_y_max', 'gyro_jerk_x_y_median', 'gyro_jerk_x_y_lower_q', 'gyro_jerk_x_y_iqr', 'gyro_jerk_x_z_std', 'gyro_jerk_x_z_median', 'gyro_jerk_x_z_lower_q', 'gyro_jerk_x_z_iqr', 'gyro_jerk_y_z_std', 'gyro_jerk_y_z_abs_max', 'gyro_jerk_y_z_median', 'gyro_jerk_y_z_upper_q', 'gyro_jerk_x_y_z_median', 'gyro_jerk_x_y_z_lower_q', 'gyro_jerk_x_y_z_iqr', 'gyro_x_std', 'gyro_y_std', 'gyro_z_std', 'gyro_z_min', 'gyro_z_max', 'gyro_x_y_std', 'gyro_x_y_min', 'gyro_x_y_lower_q', 'gyro_x_y_median', 'gyro_x_y_upper_q', 'gyro_x_y_max', 'gyro_x_z_std', 'gyro_x_z_min', 'gyro_x_z_lower_q', 'gyro_x_z_upper_q', 'gyro_x_z_max', 'gyro_y_z_std', 'gyro_y_z_min', 'gyro_y_z_lower_q', 'gyro_y_z_median', 'gyro_y_z_max', 'gyro_x_y_z_std', 'gyro_x_y_z_min', 'gyro_x_y_z_lower_q'], 125: ['duration', 'length', 'velocity_x_std', 'velocity_x_min', 'velocity_x_max', 'velocity_x_abs_max', 'velocity_x_median', 'velocity_y_std', 'velocity_y_min', 'velocity_y_max', 'velocity_y_abs_min', 'velocity_y_abs_max', 'velocity_y_median', 'velocity_y_upper_q', 'velocity_y_iqr', 'velocity_x_y_std', 'velocity_x_y_max', 'velocity_x_y_abs_min', 'velocity_x_y_abs_max', 'velocity_x_y_median', 'velocity_x_y_lower_q', 'velocity_x_y_upper_q', 'acceleration_x_std', 'acceleration_x_min', 'acceleration_x_max', 'acceleration_x_median', 'acceleration_y_std', 'acceleration_x_y_std', 'acceleration_x_y_max', 'acceleration_x_y_abs_max', 'acceleration_x_y_median', 'acceleration_x_y_lower_q', 'accelerometer_jerk_x_std', 'accelerometer_jerk_y_std', 'accelerometer_jerk_z_std', 'accelerometer_jerk_z_min', 'accelerometer_jerk_x_y_mean', 'accelerometer_jerk_x_y_abs_max', 'accelerometer_jerk_x_y_upper_q', 'accelerometer_jerk_x_z_std', 'accelerometer_jerk_x_z_max', 'accelerometer_jerk_x_z_median', 'accelerometer_jerk_y_z_mean', 'accelerometer_jerk_y_z_std', 'accelerometer_jerk_x_y_z_std', 'accelerometer_x_mean', 'accelerometer_x_std', 'accelerometer_x_min', 'accelerometer_y_mean', 'accelerometer_y_std', 'accelerometer_z_mean', 'accelerometer_z_std', 'accelerometer_z_min', 'accelerometer_z_max', 'accelerometer_x_y_mean', 'accelerometer_x_y_std', 'accelerometer_x_y_median', 'accelerometer_x_y_upper_q', 'accelerometer_x_y_max', 'accelerometer_x_z_mean', 'accelerometer_x_z_lower_q', 'accelerometer_x_z_median', 'accelerometer_x_z_upper_q', 'accelerometer_y_z_mean', 'accelerometer_y_z_median', 'accelerometer_x_y_z_std', 'accelerometer_x_y_z_lower_q', 'gyro_jerk_x_mean', 'gyro_jerk_x_max', 'gyro_jerk_y_min', 'gyro_jerk_y_max', 'gyro_jerk_z_std', 'gyro_jerk_z_min', 'gyro_jerk_z_max', 'gyro_jerk_x_y_mean', 'gyro_jerk_x_y_std', 'gyro_jerk_x_y_max', 'gyro_jerk_x_y_median', 'gyro_jerk_x_y_lower_q', 'gyro_jerk_x_y_iqr', 'gyro_jerk_x_z_mean', 'gyro_jerk_x_z_std', 'gyro_jerk_x_z_median', 'gyro_jerk_x_z_lower_q', 'gyro_jerk_x_z_iqr', 'gyro_jerk_y_z_std', 'gyro_jerk_y_z_abs_max', 'gyro_jerk_y_z_median', 'gyro_jerk_y_z_lower_q', 'gyro_jerk_y_z_upper_q', 'gyro_jerk_x_y_z_mean', 'gyro_jerk_x_y_z_std', 'gyro_jerk_x_y_z_median', 'gyro_jerk_x_y_z_lower_q', 'gyro_jerk_x_y_z_iqr', 'gyro_x_std', 'gyro_x_median', 'gyro_x_max', 'gyro_y_std', 'gyro_z_std', 'gyro_z_min', 'gyro_z_lower_q', 'gyro_z_max', 'gyro_x_y_mean', 'gyro_x_y_std', 'gyro_x_y_min', 'gyro_x_y_lower_q', 'gyro_x_y_median', 'gyro_x_y_upper_q', 'gyro_x_y_max', 'gyro_x_z_std', 'gyro_x_z_min', 'gyro_x_z_lower_q', 'gyro_x_z_median', 'gyro_x_z_upper_q', 'gyro_x_z_max', 'gyro_y_z_mean', 'gyro_y_z_std', 'gyro_y_z_min', 'gyro_y_z_lower_q', 'gyro_y_z_median', 'gyro_y_z_max', 'gyro_x_y_z_std', 'gyro_x_y_z_min', 'gyro_x_y_z_lower_q'], 150: ['duration', 'length', 'velocity_x_std', 'velocity_x_min', 'velocity_x_max', 'velocity_x_abs_max', 'velocity_x_median', 'velocity_x_iqr', 'velocity_y_std', 'velocity_y_min', 'velocity_y_max', 'velocity_y_abs_min', 'velocity_y_abs_max', 'velocity_y_median', 'velocity_y_upper_q', 'velocity_y_iqr', 'velocity_x_y_std', 'velocity_x_y_max', 'velocity_x_y_abs_min', 'velocity_x_y_abs_max', 'velocity_x_y_median', 'velocity_x_y_lower_q', 'velocity_x_y_upper_q', 'velocity_x_y_iqr', 'acceleration_x_std', 'acceleration_x_min', 'acceleration_x_max', 'acceleration_x_median', 'acceleration_x_iqr', 'acceleration_y_std', 'acceleration_x_y_std', 'acceleration_x_y_max', 'acceleration_x_y_abs_min', 'acceleration_x_y_abs_max', 'acceleration_x_y_median', 'acceleration_x_y_lower_q', 'jerk_x_std', 'jerk_x_y_min', 'jerk_x_y_median', 'accelerometer_jerk_x_std', 'accelerometer_jerk_x_min', 'accelerometer_jerk_x_max', 'accelerometer_jerk_y_std', 'accelerometer_jerk_z_std', 'accelerometer_jerk_z_min', 'accelerometer_jerk_x_y_mean', 'accelerometer_jerk_x_y_abs_max', 'accelerometer_jerk_x_y_median', 'accelerometer_jerk_x_y_upper_q', 'accelerometer_jerk_x_z_mean', 'accelerometer_jerk_x_z_std', 'accelerometer_jerk_x_z_max', 'accelerometer_jerk_x_z_median', 'accelerometer_jerk_x_z_lower_q', 'accelerometer_jerk_y_z_mean', 'accelerometer_jerk_y_z_std', 'accelerometer_jerk_y_z_lower_q', 'accelerometer_jerk_x_y_z_std', 'accelerometer_x_mean', 'accelerometer_x_std', 'accelerometer_x_min', 'accelerometer_y_mean', 'accelerometer_y_std', 'accelerometer_y_lower_q', 'accelerometer_y_upper_q', 'accelerometer_z_mean', 'accelerometer_z_std', 'accelerometer_z_min', 'accelerometer_z_max', 'accelerometer_x_y_mean', 'accelerometer_x_y_std', 'accelerometer_x_y_median', 'accelerometer_x_y_upper_q', 'accelerometer_x_y_max', 'accelerometer_x_z_mean', 'accelerometer_x_z_lower_q', 'accelerometer_x_z_median', 'accelerometer_x_z_upper_q', 'accelerometer_y_z_mean', 'accelerometer_y_z_lower_q', 'accelerometer_y_z_median', 'accelerometer_y_z_max', 'accelerometer_x_y_z_std', 'accelerometer_x_y_z_lower_q', 'gyro_jerk_x_mean', 'gyro_jerk_x_min', 'gyro_jerk_x_max', 'gyro_jerk_y_mean', 'gyro_jerk_y_min', 'gyro_jerk_y_max', 'gyro_jerk_y_iqr', 'gyro_jerk_z_std', 'gyro_jerk_z_min', 'gyro_jerk_z_max', 'gyro_jerk_x_y_mean', 'gyro_jerk_x_y_std', 'gyro_jerk_x_y_max', 'gyro_jerk_x_y_median', 'gyro_jerk_x_y_lower_q', 'gyro_jerk_x_y_iqr', 'gyro_jerk_x_z_mean', 'gyro_jerk_x_z_std', 'gyro_jerk_x_z_median', 'gyro_jerk_x_z_lower_q', 'gyro_jerk_x_z_iqr', 'gyro_jerk_y_z_std', 'gyro_jerk_y_z_abs_max', 'gyro_jerk_y_z_median', 'gyro_jerk_y_z_lower_q', 'gyro_jerk_y_z_upper_q', 'gyro_jerk_x_y_z_mean', 'gyro_jerk_x_y_z_std', 'gyro_jerk_x_y_z_median', 'gyro_jerk_x_y_z_lower_q', 'gyro_jerk_x_y_z_iqr', 'gyro_x_std', 'gyro_x_median', 'gyro_x_max', 'gyro_y_std', 'gyro_y_min', 'gyro_y_upper_q', 'gyro_y_max', 'gyro_z_std', 'gyro_z_min', 'gyro_z_lower_q', 'gyro_z_max', 'gyro_x_y_mean', 'gyro_x_y_std', 'gyro_x_y_min', 'gyro_x_y_lower_q', 'gyro_x_y_median', 'gyro_x_y_upper_q', 'gyro_x_y_max', 'gyro_x_z_std', 'gyro_x_z_min', 'gyro_x_z_lower_q', 'gyro_x_z_median', 'gyro_x_z_upper_q', 'gyro_x_z_max', 'gyro_y_z_mean', 'gyro_y_z_std', 'gyro_y_z_min', 'gyro_y_z_lower_q', 'gyro_y_z_median', 'gyro_y_z_max', 'gyro_x_y_z_std', 'gyro_x_y_z_min', 'gyro_x_y_z_lower_q', 'gyro_x_y_z_median', 'gyro_x_y_z_max']}"
   ]
  },
  {
   "cell_type": "code",
   "execution_count": null,
   "metadata": {},
   "outputs": [],
   "source": [
    "touch_data = pd.read_csv(path_to_raw_data + 'touch.csv', sep=',')\n",
    "acc_data = pd.read_csv(path_to_raw_data + 'linear_accelerometer.csv', sep=',')\n",
    "gyro_data = pd.read_csv(path_to_raw_data + 'gyroscope.csv', sep=',')\n",
    "touch_data\n",
    "touch_data[\"id\"] = touch_data[\"pattern_id\"].astype(str) + touch_data[\"device\"]\n",
    "acc_data[\"id\"] = acc_data[\"pattern_id\"].astype(str) + acc_data[\"device\"]\n",
    "gyro_data[\"id\"] = gyro_data[\"pattern_id\"].astype(str) + gyro_data[\"device\"]\n",
    "\n",
    "if compute_features_for_segment:\n",
    "    touch_data[\"id\"] += touch_data['segment'].astype(str)\n",
    "    acc_data[\"id\"] += acc_data['segment'].astype(str)\n",
    "    gyro_data[\"id\"] += gyro_data['segment'].astype(str)\n",
    "else:\n",
    "    touch_data.drop('segment', axis=1, inplace=True)\n",
    "    acc_data.drop('segment', axis=1, inplace=True)\n",
    "    gyro_data.drop('segment', axis=1, inplace=True)"
   ]
  },
  {
   "cell_type": "code",
   "execution_count": null,
   "metadata": {},
   "outputs": [],
   "source": [
    "touch_data.head()"
   ]
  },
  {
   "cell_type": "code",
   "execution_count": null,
   "metadata": {},
   "outputs": [],
   "source": [
    "le = LabelEncoder()\n",
    "le.fit(pd.concat([touch_data['id'], acc_data['id'], gyro_data['id']]))\n",
    "touch_data[user_column] = le.transform(touch_data['id'])\n",
    "acc_data[user_column] = le.transform(acc_data['id'])\n",
    "gyro_data[user_column] = le.transform(gyro_data['id'])"
   ]
  },
  {
   "cell_type": "code",
   "execution_count": null,
   "metadata": {},
   "outputs": [],
   "source": [
    "touch_data.head()"
   ]
  },
  {
   "cell_type": "code",
   "execution_count": null,
   "metadata": {},
   "outputs": [],
   "source": []
  },
  {
   "cell_type": "code",
   "execution_count": null,
   "metadata": {},
   "outputs": [],
   "source": [
    "def get_columns_combinations(col_names,combinations = None):\n",
    "    combs = columns._get_column_combinations(col_names, combinations)\n",
    "    final_combs=[]\n",
    "    for comb in combs:\n",
    "        if len(comb) > 1:\n",
    "            final_combs.append(comb)\n",
    "    return final_combs"
   ]
  },
  {
   "cell_type": "code",
   "execution_count": null,
   "metadata": {},
   "outputs": [],
   "source": [
    "def calculate_maginute_to_df(df, columns_name):\n",
    "    final_combinations = []\n",
    "    for combination in get_columns_combinations(columns_name):\n",
    "        sum = [0]*len(df)\n",
    "        for dimension in combination:\n",
    "            sum += df[dimension] ** 2\n",
    "        magnitude=sum **(1/2)\n",
    "        new_column='_'.join(combination)\n",
    "        df[new_column]=magnitude\n",
    "        final_combinations.append(new_column)\n",
    "        \n",
    "    return final_combinations"
   ]
  },
  {
   "cell_type": "code",
   "execution_count": null,
   "metadata": {},
   "outputs": [],
   "source": [
    "def compute_features(df, features, prefix = None):\n",
    "    extractor = FeatureExtractor(features, [user_column])\n",
    "\n",
    "    features_df = extractor.fit_transform(df)\n",
    "    features_df = features_df.replace([np.inf, -np.inf], np.nan)\n",
    "    \n",
    "    if delete_nan_features:\n",
    "        features_df = features_df.dropna()\n",
    "    \n",
    "    if prefix is not None:\n",
    "        features_df.columns = features_df.columns.str.replace(r\"velocity\", prefix)\n",
    "\n",
    "    return features_df"
   ]
  },
  {
   "cell_type": "code",
   "execution_count": null,
   "metadata": {},
   "outputs": [],
   "source": [
    "def renaming_condition(x, columns_name, prefix):\n",
    "    if x in columns_name:\n",
    "        return prefix + x\n",
    "    return x\n",
    "\n",
    "\n",
    "def add_prefix_to_columns(df, columns_name, prefix):\n",
    "    df.columns = [renaming_condition(col, columns_name, prefix) for col in df.columns]\n",
    "\n",
    "    return [prefix + s for s in columns_name]"
   ]
  },
  {
   "cell_type": "code",
   "execution_count": null,
   "metadata": {},
   "outputs": [],
   "source": [
    "def compute_statistics(df, columns_to_compute_statistic, prefix):\n",
    "    columns_to_compute_statistic += calculate_maginute_to_df(df, columns_to_compute_statistic)\n",
    "    columns_to_compute_statistic = add_prefix_to_columns(df, columns_to_compute_statistic, prefix)\n",
    "\n",
    "    statistics = df.groupby([user_column])[columns_to_compute_statistic].describe()\n",
    "    statistics.columns = statistics.columns.to_flat_index()\n",
    "    statistics.rename(columns='_'.join, inplace=True)\n",
    "    statistics = statistics[statistics.columns.drop(list(statistics.filter(regex='count')))]\n",
    "    \n",
    "    return statistics"
   ]
  },
  {
   "cell_type": "code",
   "execution_count": null,
   "metadata": {},
   "outputs": [],
   "source": [
    "def normalize_columns_names(df):\n",
    "    df.columns = df.columns.str.replace(r\"25%\", \"_lower_q\")\n",
    "    df.columns = df.columns.str.replace(r\"50%\", \"_median\")\n",
    "    df.columns = df.columns.str.replace(r\"75%\", \"_upper_q\")\n",
    "    df.columns = df.columns.str.replace(r\"__\", \"_\")"
   ]
  },
  {
   "cell_type": "code",
   "execution_count": null,
   "metadata": {
    "scrolled": true
   },
   "outputs": [],
   "source": [
    "features = [\n",
    "    'duration',\n",
    "    ('length', {\n",
    "        'columns': ['x', 'y'],\n",
    "    }),\n",
    "    ('start', {\n",
    "        'columns': ['x', 'y'],\n",
    "    }),\n",
    "    ('velocity', {\n",
    "        'columns': ['x', 'y'],\n",
    "    }),\n",
    "    ('acceleration', {\n",
    "        'columns': ['x', 'y'],\n",
    "    }),\n",
    "    ('jerk', {\n",
    "        'columns': ['x', 'y'],\n",
    "    }),\n",
    "    ('angular_velocity', {\n",
    "        'columns': ['x', 'y'],\n",
    "    }),\n",
    "    ('angular_acceleration', {\n",
    "        'columns': ['x', 'y'],\n",
    "    }),\n",
    "]\n",
    "print(time.strftime(\"%Y-%m-%d %H:%M\"))\n",
    "touch_features = compute_features(touch_data, features)\n",
    "touch_features = touch_features.merge(touch_data[columns_to_identificate_features], on=[user_column]).drop_duplicates()\n",
    "features = [\n",
    "    ('velocity', {\n",
    "        'columns': ['x', 'y', 'z'],\n",
    "    }),\n",
    "]\n",
    "print(time.strftime(\"%Y-%m-%d %H:%M\"))\n",
    "\n",
    "acc_features = compute_features(acc_data, features, \"accelerometer_jerk\")\n",
    "acc_statistics_from_raw_data = compute_statistics(acc_data,['x','y','z'],\"accelerometer_\")\n",
    "acc_features = acc_features.merge(acc_statistics_from_raw_data, on='user', how='inner').drop_duplicates()\n",
    "print(time.strftime(\"%Y-%m-%d %H:%M\"))\n",
    "\n",
    "gyro_features = compute_features(gyro_data, features, \"gyro_jerk\")\n",
    "gyro_statistics_from_raw_data = compute_statistics(gyro_data,['x','y','z'],\"gyro_\")\n",
    "gyro_features = gyro_features.merge(gyro_statistics_from_raw_data, on='user', how='inner').drop_duplicates()\n",
    "print(time.strftime(\"%Y-%m-%d %H:%M\"))\n",
    "\n",
    "all_features = touch_features.merge(acc_features, on='user', how='inner').merge(gyro_features, on='user', how='inner')\n",
    "normalize_columns_names(all_features)\n",
    "\n",
    "touch_features.to_csv(path_to_featutes + \"touch_feautures.csv\", encoding='utf-8', index=False)\n",
    "acc_features.to_csv(path_to_featutes + \"acc_feautures.csv\", encoding='utf-8', index=False)\n",
    "gyro_features.to_csv(path_to_featutes + \"gyro_feautures.csv\", encoding='utf-8', index=False)\n",
    "all_features.to_csv(path_to_featutes + \"all_feautures.csv\", encoding='utf-8', index=False)"
   ]
  },
  {
   "cell_type": "code",
   "execution_count": null,
   "metadata": {},
   "outputs": [],
   "source": [
    "print(touch_features)\n",
    "print(acc_features)\n",
    "print(gyro_features)\n",
    "print(all_features)"
   ]
  },
  {
   "cell_type": "code",
   "execution_count": null,
   "metadata": {},
   "outputs": [],
   "source": []
  },
  {
   "cell_type": "code",
   "execution_count": null,
   "metadata": {},
   "outputs": [],
   "source": []
  },
  {
   "cell_type": "code",
   "execution_count": null,
   "metadata": {},
   "outputs": [],
   "source": []
  },
  {
   "cell_type": "code",
   "execution_count": null,
   "metadata": {},
   "outputs": [],
   "source": []
  },
  {
   "cell_type": "code",
   "execution_count": 3,
   "metadata": {},
   "outputs": [],
   "source": [
    "def use_knn(df_x_train, df_x_test, count_neighbors=1,l=2):\n",
    "    neigh = NearestNeighbors(n_neighbors=count_neighbors,p=l)\n",
    "    neigh.fit(df_x_train)\n",
    "    knn=neigh.kneighbors(df_x_test)\n",
    "    return [np.mean(i) for i in knn[0]]\n",
    "\n",
    "def use_svm(df_x_train, df_x_test,c=1):\n",
    "    clf = OneClassSVM(kernel='sigmoid').fit(df_x_train)\n",
    "    svm = clf.score_samples(df_x_test)\n",
    "    \n",
    "    return svm\n",
    "\n",
    "def get_knn(count_neighbors=1,l=2):\n",
    "    neigh = NearestNeighbors(n_neighbors=count_neighbors,p=l)\n",
    "    return neigh"
   ]
  },
  {
   "cell_type": "code",
   "execution_count": null,
   "metadata": {},
   "outputs": [],
   "source": [
    "def get_threshold_for_knn():\n",
    "    random_users = random.sample(list(all_features[user_name_column].unique()), 10)\n",
    "    vsetky_vzdialenosti = []\n",
    "    for random_user in random_users:\n",
    "        train = all_features.loc[all_features[user_name_column] == random_user]\n",
    "        test = all_features.loc[all_features[user_name_column] != random_user]\n",
    "        knn = use_knn(train[train_x_columns], test[train_x_columns])\n",
    "        vsetky_vzdialenosti.append(knn[0])\n",
    "    medians = []\n",
    "    for hodnota in vsetky_vzdialenosti:\n",
    "        medians.append(np.percentile(hodnota, 25))  \n",
    "    \n",
    "    return np.percentile(medians, 50)\n",
    "treshold_for_knn = get_threshold_for_knn()\n",
    "print(treshold_for_knn)\n",
    "# 33.69773240289701"
   ]
  },
  {
   "cell_type": "code",
   "execution_count": null,
   "metadata": {},
   "outputs": [],
   "source": [
    "treshold_for_knn=9"
   ]
  },
  {
   "cell_type": "code",
   "execution_count": 4,
   "metadata": {},
   "outputs": [],
   "source": [
    "def split_to_train_test(df, users_to_train):\n",
    "\n",
    "    df_shuffled = df.sample(frac=1, random_state=20).reset_index(drop=True)\n",
    "\n",
    "    mask = [True if x[user_name_column] in users_to_train else False for i, x in df_shuffled.iterrows()]\n",
    "    df_owner = df_shuffled[mask]\n",
    "\n",
    "    mask2 = [True if x[user_name_column] not in users_to_train else False for i, x in df_shuffled.iterrows()]\n",
    "    df_others = df_shuffled[mask2]\n",
    "    \n",
    "    df_train = df_owner[:round(len(df_owner)*0.8)]\n",
    "    df_test = df_owner[round(len(df_owner)*0.8):]\n",
    "    df_test = df_test.append(df_others[:len(df_test)])\n",
    "    \n",
    "    scaler = StandardScaler()\n",
    "    scaler.fit(df_train[train_x_columns])\n",
    "    df_train[train_x_columns] = scaler.transform(df_train[train_x_columns])\n",
    "    df_test[train_x_columns] = scaler.transform(df_test[train_x_columns])\n",
    "    \n",
    "    return df_train, df_test\n",
    "\n",
    "def split_to_train_test_by_pattern(df, users_to_train):\n",
    "\n",
    "    df_shuffled = df.sample(frac=1, random_state=20).reset_index(drop=True)\n",
    "\n",
    "    mask = [True if x[user_name_column] in users_to_train else False for i, x in df_shuffled.iterrows()]\n",
    "    df_owner = df_shuffled[mask]\n",
    "\n",
    "    mask = [True if x[user_name_column] not in users_to_train else False for i, x in df_shuffled.iterrows()]\n",
    "    df_others = df_shuffled[mask]\n",
    "    \n",
    "    \n",
    "    unique_owners_patern_id = df_owner['id'].unique()\n",
    "    paterns_id_to_train_owners = unique_owners_patern_id[:round(len(unique_owners_patern_id)*0.8)]\n",
    "    paterns_id_to_test_owners = unique_owners_patern_id[round(len(unique_owners_patern_id)*0.8):]\n",
    "\n",
    "    mask = [True if x['id'] in paterns_id_to_train_owners else False for i, x in df_owner.iterrows()]\n",
    "    df_train = df_owner[mask]\n",
    "    \n",
    "    mask = [True if x['id'] in paterns_id_to_test_owners else False for i, x in df_owner.iterrows()]\n",
    "    df_test = df_owner[mask]\n",
    "    \n",
    "    paterns_id_to_test_from_others = df_others['id'].unique()[:len(paterns_id_to_test_owners)]\n",
    "    mask = [True if x['id'] in paterns_id_to_test_from_others else False for i, x in df_others.iterrows()]\n",
    "    df_test = df_test.append(df_others[mask])\n",
    "    \n",
    "    scaler = StandardScaler()\n",
    "    scaler.fit(df_train[train_x_columns])\n",
    "    df_train[train_x_columns] = scaler.transform(df_train[train_x_columns])\n",
    "    df_test[train_x_columns] = scaler.transform(df_test[train_x_columns])\n",
    "    \n",
    "    return df_train, df_test\n",
    "\n",
    "def get_df_for_RFE(df, users_to_train):\n",
    "    df_shuffled = df.sample(frac=1, random_state=20).reset_index(drop=True)\n",
    "    \n",
    "    all_usernames = df_shuffled[user_name_column].unique()\n",
    "    usernames_without_owner = [x for x in all_usernames if x not in users_to_train]\n",
    "    usernames_to_train = usernames_without_owner[:round(len(all_usernames)*0.8)]\n",
    "    usernames_to_train += users_to_train\n",
    "#     usernames_to_test = usernames_without_owner[round(len(all_usernames)*0.8):]\n",
    "    \n",
    "    mask = [True if x[user_name_column] in usernames_to_train else False for i, x in df_shuffled.iterrows()]\n",
    "    df_not_new_users = df_shuffled[mask]\n",
    "    \n",
    "    pattern_ids_for_not_new_users = df_not_new_users.groupby(user_name_column)['id'].unique()\n",
    "    pattern_ids_to_train = []\n",
    "    for user in pattern_ids_for_not_new_users:\n",
    "        pattern_ids_to_train = pattern_ids_to_train + list(user[:round(len(user)*0.8)])\n",
    "\n",
    "    \n",
    "    mask = [True if x['id'] in pattern_ids_to_train else False for i, x in df_not_new_users.iterrows()]\n",
    "    df_train = df_not_new_users[mask]\n",
    "    \n",
    "    scaler = StandardScaler()\n",
    "    scaler.fit(df_train[train_x_columns])\n",
    "    df_train[train_x_columns] = scaler.transform(df_train[train_x_columns])\n",
    "      \n",
    "    return df_train\n",
    "\n",
    "def split_to_train_test_by_pattern_new(df, users_to_train):\n",
    "    df_shuffled = df.sample(frac=1, random_state=20).reset_index(drop=True)\n",
    "    \n",
    "    #division users into existing and new ones\n",
    "    all_usernames = df_shuffled[user_name_column].unique()\n",
    "    usernames_without_owner = [x for x in all_usernames if x not in users_to_train]\n",
    "    usernames_to_train = usernames_without_owner[:round(len(all_usernames)*0.8)]\n",
    "    usernames_to_train += users_to_train\n",
    "    usernames_to_test = usernames_without_owner[round(len(all_usernames)*0.8):]\n",
    "    \n",
    "    \n",
    "    #get df of existing ones\n",
    "    mask = [True if x[user_name_column] in usernames_to_train else False for i, x in df_shuffled.iterrows()]\n",
    "    df_not_new_users = df_shuffled[mask]\n",
    "    \n",
    "    #get patern id for every user, and division to train-test id\n",
    "    pattern_ids_for_not_new_users = df_not_new_users.groupby(user_name_column)['id'].unique()\n",
    "    pattern_ids_to_train = []\n",
    "    pattern_ids_to_test = []\n",
    "    for user in pattern_ids_for_not_new_users:\n",
    "        pattern_ids_to_train += list(user[:round(len(user)*0.8)])\n",
    "        pattern_ids_to_test += list(user[round(len(user)*0.8):])\n",
    "    \n",
    "    #get df for train based on pattern id and selected owners\n",
    "    mask = [True if x['id'] in pattern_ids_to_train and x[user_name_column] in users_to_train else False for i, x in df_not_new_users.iterrows()]\n",
    "    df_train = df_not_new_users[mask]\n",
    "    \n",
    "    #get df for test - owners samples\n",
    "    mask = [True if x['id'] in pattern_ids_to_test and x[user_name_column] in users_to_train else False for i, x in df_not_new_users.iterrows()]\n",
    "    df_test = df_not_new_users[mask]\n",
    "\n",
    "    #get df for others for test\n",
    "    mask = [True if x['id'] in pattern_ids_to_test and x[user_name_column] not in users_to_train else False for i, x in df_not_new_users.iterrows()]\n",
    "    df_temp = df_not_new_users[mask]\n",
    "    \n",
    "    #get of new others and concat with df above \n",
    "    mask = [True if x[user_name_column] in usernames_to_test  else False for i, x in df_shuffled.iterrows()]\n",
    "    df_temp = pd.concat([df_temp, df_shuffled[mask]])\n",
    "    \n",
    "    #get x pattern id from test - x = len(pattern_id from owner in test)\n",
    "    random.seed(0)\n",
    "    temp_uniq_pattern_id = random.sample(list(df_temp['id'].unique()), len(df_test['id'].unique()))\n",
    "    \n",
    "    #get final df for test\n",
    "    mask = [True if x['id'] in temp_uniq_pattern_id  else False for i, x in df_temp.iterrows()]\n",
    "    df_test = pd.concat([df_test, df_temp[mask]])\n",
    "    \n",
    "    scaler = StandardScaler()\n",
    "    scaler.fit(df_train[train_x_columns])\n",
    "    df_train[train_x_columns] = scaler.transform(df_train[train_x_columns])\n",
    "    df_test[train_x_columns] = scaler.transform(df_test[train_x_columns])\n",
    "    \n",
    "    return df_train, df_test\n",
    "\n",
    "def temp(df ,all_usernames, new_user_usernames):\n",
    "    unique_patterns_id = df.groupby(user_name_column)['id'].unique()\n",
    "\n",
    "    pattern_ids_to_train = []\n",
    "    pattern_ids_to_val = []\n",
    "    pattern_ids_to_test = []\n",
    "    for user, patterns_id in unique_patterns_id.iteritems():\n",
    "        if(user in new_user_usernames):\n",
    "            pattern_ids_to_val += list(patterns_id[:round(len(patterns_id)*0.5)])\n",
    "            pattern_ids_to_test += list(patterns_id[round(len(patterns_id)*0.5):])\n",
    "        else:        \n",
    "            pattern_ids_to_train += list(patterns_id[:round(len(patterns_id)*0.7)])\n",
    "            pattern_ids_to_val += list(patterns_id[round(len(patterns_id)*0.7):round(len(patterns_id)*0.85)])\n",
    "            pattern_ids_to_test += list(patterns_id[round(len(patterns_id)*0.85):])\n",
    "\n",
    "    \n",
    "    mask = [True if x['id'] in pattern_ids_to_train else False for i, x in df.iterrows()]\n",
    "    df_part_train = df[mask]  \n",
    "    \n",
    "    mask = [True if x['id'] in pattern_ids_to_val else False for i, x in df.iterrows()]\n",
    "    df_part_val = df[mask]  \n",
    "    \n",
    "    mask = [True if x['id'] in pattern_ids_to_test else False for i, x in df.iterrows()]\n",
    "    df_part_test = df[mask] \n",
    "    \n",
    "    return df_part_train, df_part_val, df_part_test\n",
    "\n",
    "def split_to_train_val_test_raw(df):\n",
    "    df_shuffled = df.sample(frac=1, random_state=20).reset_index(drop=True)\n",
    "    \n",
    "    all_usernames = df_shuffled[user_name_column].unique()\n",
    "    new_user_usernames = all_usernames[round(len(all_usernames)*0.8):]\n",
    "    \n",
    "    \n",
    "    df_raw_train, df_raw_val, df_raw_test = temp(df_shuffled.loc[df_shuffled['scenario'] == 'scenario_show_simple'], all_usernames, new_user_usernames)\n",
    "    df_raw_train2, df_raw_val2, df_raw_test2 = temp(df_shuffled.loc[df_shuffled['scenario'] == 'scenario_show_complex'], all_usernames, new_user_usernames)\n",
    "    \n",
    "    df_raw_train = pd.concat([df_raw_train,df_raw_train2])\n",
    "    df_raw_val = pd.concat([df_raw_val,df_raw_val2])\n",
    "    df_raw_test = pd.concat([df_raw_test,df_raw_test2])\n",
    "    \n",
    "    df_raw_train = df_raw_train.sample(frac=1, random_state=20).reset_index(drop=True)\n",
    "    df_raw_val = df_raw_val.sample(frac=1, random_state=20).reset_index(drop=True)\n",
    "    df_raw_test = df_raw_test.sample(frac=1, random_state=20).reset_index(drop=True)\n",
    "    \n",
    "    scaler = StandardScaler()\n",
    "    scaler.fit(df_raw_train[train_x_columns])\n",
    "    df_raw_train[train_x_columns] = scaler.transform(df_raw_train[train_x_columns])\n",
    "    df_raw_val[train_x_columns] = scaler.transform(df_raw_val[train_x_columns])\n",
    "    df_raw_test[train_x_columns] = scaler.transform(df_raw_test[train_x_columns])\n",
    "    \n",
    "    return df_raw_train, df_raw_val, df_raw_test\n",
    "\n",
    "def adapt_dfs_to_users(df_raw_train, df_raw_val, df_raw_test, users, filt = 0):\n",
    "    \n",
    "    if(filt==1):\n",
    "        df_train_filtered=df_raw_train.loc[df_raw_train['scenario'] == 'scenario_show_simple']\n",
    "        df_val_filtered=df_raw_val.loc[df_raw_val['scenario'] == 'scenario_show_simple']\n",
    "        df_test_filtered=df_raw_test.loc[df_raw_test['scenario'] == 'scenario_show_simple']\n",
    "    elif (filt == 2):\n",
    "        df_train_filtered=df_raw_train.loc[df_raw_train['scenario'] == 'scenario_show_complex']\n",
    "        df_val_filtered=df_raw_val.loc[df_raw_val['scenario'] == 'scenario_show_complex']\n",
    "        df_test_filtered=df_raw_test.loc[df_raw_test['scenario'] == 'scenario_show_complex']\n",
    "    else:\n",
    "        df_train_filtered=df_raw_train\n",
    "        df_val_filtered=df_raw_val\n",
    "        df_test_filtered=df_raw_test\n",
    "    \n",
    "    mask = [True if x[user_name_column] in users else False for i, x in df_train_filtered.iterrows()]\n",
    "    df_train = df_train_filtered[mask]\n",
    "    \n",
    "    \n",
    "    mask = [True if x[user_name_column] in users else False for i, x in df_val_filtered.iterrows()]\n",
    "    df_val = df_val_filtered[mask]\n",
    "    \n",
    "    mask = [True if x[user_name_column] not in users else False for i, x in df_val_filtered.iterrows()]\n",
    "    df_not_users_val = df_val_filtered[mask]\n",
    "    \n",
    "    unique_users_paterns = df_val['id'].unique()\n",
    "    unique_not_users_paterns = df_not_users_val['id'].unique()[:len(unique_users_paterns)]\n",
    "    \n",
    "    mask = [True if x['id'] in unique_not_users_paterns else False for i, x in df_not_users_val.iterrows()]\n",
    "    df_val = pd.concat([df_val, df_not_users_val[mask]])\n",
    "    \n",
    "    \n",
    "    \n",
    "    mask = [True if x[user_name_column] in users else False for i, x in df_test_filtered.iterrows()]\n",
    "    df_test = df_test_filtered[mask]\n",
    "    \n",
    "    mask = [True if x[user_name_column] not in users else False for i, x in df_test_filtered.iterrows()]\n",
    "    df_not_users_test = df_test_filtered[mask]\n",
    "    \n",
    "    unique_users_paterns = df_test['id'].unique()\n",
    "    unique_not_users_paterns = df_not_users_test['id'].unique()[:len(unique_users_paterns)]\n",
    "    \n",
    "    mask = [True if x['id'] in unique_not_users_paterns else False for i, x in df_not_users_test.iterrows()]\n",
    "    df_test = pd.concat([df_test, df_not_users_test[mask]])\n",
    "    \n",
    "    \n",
    "    return df_train, df_val, df_test"
   ]
  },
  {
   "cell_type": "code",
   "execution_count": 5,
   "metadata": {},
   "outputs": [],
   "source": [
    "def unify_y_column_format(test_y, predicted, selected_owners, treshold):\n",
    "    test_converted = [1 if i in selected_owners else 0 for i in test_y]\n",
    "    \n",
    "    predict_converted = [1 if i <= treshold else 0 for i in predicted]\n",
    "    \n",
    "    return test_converted, predict_converted\n",
    "\n",
    "def adapt_columns_for_evaluation(Y, pred, predict_based_on_whole_pattern):\n",
    "    if predict_based_on_whole_pattern:\n",
    "\n",
    "        df_results =  Y[[train_y_columns,'id']]\n",
    "        df_results['prediction'] = pred\n",
    "        nieco=df_results.groupby([train_y_columns,'id']).median()\n",
    "        nieco=nieco.reset_index().drop('id', axis=1)\n",
    "        \n",
    "        ground_truth, predicted = nieco[train_y_columns], nieco['prediction']\n",
    "    else:\n",
    "        ground_truth, predicted= Y[train_y_columns], pred\n",
    "    \n",
    "    return ground_truth, predicted"
   ]
  },
  {
   "cell_type": "code",
   "execution_count": 6,
   "metadata": {},
   "outputs": [],
   "source": [
    "def use_imputation(df_list, train_x_columns):\n",
    "    imputer = IterativeImputer(random_state=0, max_iter=30, verbose=2)\n",
    "    imputer.fit(df_list[0][train_x_columns])\n",
    "    \n",
    "    for i in range(len(df_list)):\n",
    "        df_list[i][train_x_columns]=imputer.transform(df_list[i][train_x_columns])\n",
    "    \n",
    "    return df_list"
   ]
  },
  {
   "cell_type": "code",
   "execution_count": 1,
   "metadata": {},
   "outputs": [],
   "source": [
    "def use_standard_scaler(df_list, train_x_columns):\n",
    "    scaler = StandardScaler()\n",
    "    scaler.fit(df_list[0][train_x_columns])\n",
    "    \n",
    "    for i in range(len(df_list)):\n",
    "        df_list[i][train_x_columns]=scaler.transform(df_list[i][train_x_columns])\n",
    "    \n",
    "    return df_list"
   ]
  },
  {
   "cell_type": "code",
   "execution_count": 7,
   "metadata": {},
   "outputs": [],
   "source": [
    "def show_results(test_y,predicted_y):\n",
    "    print ('Accuracy:', accuracy_score(test_y, predicted_y))\n",
    "    print ('F1 score:', f1_score(test_y, predicted_y, pos_label=1))\n",
    "    print ('Recall:', recall_score(test_y, predicted_y, pos_label=1))\n",
    "    print ('Precision:', precision_score(test_y, predicted_y, pos_label=1))\n",
    "    print ('\\n confussion matrix:\\n',confusion_matrix(test_y, predicted_y))"
   ]
  },
  {
   "cell_type": "code",
   "execution_count": 8,
   "metadata": {},
   "outputs": [],
   "source": [
    "def plot_far_eer(test_y_raw, tresholds):\n",
    "    tresholds, test_y_raw = zip(*sorted(zip(tresholds, test_y_raw)))\n",
    "    fmr_array=[]\n",
    "    fnmr_array=[]\n",
    "    for treshold in tresholds:\n",
    "        test_y, predicted_y = unify_y_column_format(test_y_raw, tresholds, selected_owners, treshold)\n",
    "\n",
    "        fmr_array.append(fmr_score(test_y, predicted_y))\n",
    "        fnmr_array.append(fnmr_score(test_y, predicted_y))\n",
    "\n",
    "#     point = eer_score(list(tresholds), fmr_array, fnmr_array)\n",
    "    \n",
    "    line1 = LineString(list(zip(tresholds, fmr_array)))\n",
    "    line2 = LineString(list(zip(tresholds, fnmr_array)))\n",
    "\n",
    "    int_pt = line1.intersection(line2)\n",
    "    \n",
    "    plt.plot(tresholds, fmr_array, 'r') # plotting t, a separately \n",
    "    plt.plot(tresholds, fnmr_array, 'b') # plotting t, b separately\n",
    "    plt.plot(int_pt.x, int_pt.y, marker='o', markersize=5, color=\"green\")\n",
    "    plt.show()\n",
    "    \n",
    "    print(\"EER: \"+str(int_pt.y))\n",
    "    \n",
    "def get_eer(test_y_raw, tresholds):\n",
    "\n",
    "    tresholds, test_y_raw = zip(*sorted(zip(tresholds, test_y_raw)))\n",
    "\n",
    "    fmr_array=[]\n",
    "    fnmr_array=[]\n",
    "    for treshold in tresholds:\n",
    "        test_y, predicted_y = unify_y_column_format(test_y_raw, tresholds, selected_owners, treshold)\n",
    "\n",
    "        fmr_array.append(fmr_score(test_y, predicted_y))\n",
    "        fnmr_array.append(fnmr_score(test_y, predicted_y))\n",
    "\n",
    "\n",
    "    if(all(x == 0.0 for x in tresholds)):\n",
    "        return 0\n",
    "    \n",
    "    line1 = LineString(list(zip(tresholds, fmr_array)))\n",
    "    line2 = LineString(list(zip(tresholds, fnmr_array)))\n",
    "\n",
    "    int_pt = line1.intersection(line2)\n",
    "    \n",
    "    \n",
    "    return int_pt.y"
   ]
  },
  {
   "cell_type": "code",
   "execution_count": 3,
   "metadata": {},
   "outputs": [],
   "source": [
    "all_features = pd.read_csv(path_to_featutes + \"all_feautures.csv\")\n",
    "if compute_features_for_segment:\n",
    "    all_features['id'] = all_features['id'].str[:-1]"
   ]
  },
  {
   "cell_type": "code",
   "execution_count": 4,
   "metadata": {},
   "outputs": [],
   "source": [
    "all_features = all_features.dropna(thresh=80)\n",
    "# if (user_name_column in columns_to_identificate_features):\n",
    "#     columns_to_identificate_features.remove(user_name_column)\n",
    "#     columns_to_identificate_features.remove(\"id\")\n",
    "#     columns_to_identificate_features.remove(\"scenario\")\n",
    "#all_features.drop(columns=columns_to_identificate_features, inplace=True)\n",
    "\n",
    "\n",
    "train_x_columns = [x for x in list(all_features.columns) if x not in columns_to_identificate_features]\n"
   ]
  },
  {
   "cell_type": "code",
   "execution_count": null,
   "metadata": {},
   "outputs": [],
   "source": [
    "users= all_features[user_name_column].unique()\n",
    "print(len(users))\n",
    "print(users)"
   ]
  },
  {
   "cell_type": "code",
   "execution_count": null,
   "metadata": {},
   "outputs": [],
   "source": [
    "selected_owners = ['mino']\n",
    "df_train, df_test = split_to_train_test_by_pattern_new(all_features, selected_owners)\n",
    "\n",
    "if not delete_nan_features:\n",
    "    df_train, df_test =  use_imputation([df_train, df_test], train_x_columns)"
   ]
  },
  {
   "cell_type": "code",
   "execution_count": null,
   "metadata": {},
   "outputs": [],
   "source": [
    "train_x_columns=selected_features_dict[75]\n",
    "len(train_x_columns)"
   ]
  },
  {
   "cell_type": "code",
   "execution_count": null,
   "metadata": {
    "scrolled": false
   },
   "outputs": [],
   "source": [
    "#prediction based on segments individualy \n",
    "# selected_owners = ['mino']\n",
    "# df_train, df_test = split_to_train_test_by_pattern_new(all_features, selected_owners)\n",
    "\n",
    "# if not delete_nan_features:\n",
    "#     df_train, df_test =  use_imputation(df_train, train_x_columns, df_test)\n",
    "    \n",
    "predicted = use_knn(df_train[train_x_columns],df_test[train_x_columns])\n",
    "\n",
    "\n",
    "# test_y, predicted_y = unify_y_column_format(df_test[train_y_columns], tresholds, selected_owners,treshold_for_knn)\n",
    "# show_results(test_y,predicted_y)\n",
    "\n",
    "plot_far_eer(df_test[train_y_columns].reset_index(drop=True),predicted)"
   ]
  },
  {
   "cell_type": "code",
   "execution_count": null,
   "metadata": {},
   "outputs": [],
   "source": [
    "#prediction based on patterns\n",
    "# selected_owners = ['mino']\n",
    "# df_train, df_test = split_to_train_test_by_pattern(all_features, selected_owners)\n",
    "\n",
    "# if not delete_nan_features:\n",
    "#     df_train, df_test =  use_imputation(df_train, train_x_columns, df_test)\n",
    "    \n",
    "predicted = use_knn(df_train[train_x_columns],df_test[train_x_columns])\n",
    "\n",
    "df_results =  df_test[[train_y_columns,'id']]\n",
    "df_results['prediction'] = predicted\n",
    "\n",
    "\n",
    "nieco=df_results.groupby([train_y_columns,'id']).median()\n",
    "nieco=nieco.reset_index().drop('id', axis=1)\n",
    "\n",
    "# test_y, predicted_y = unify_y_column_format(nieco[train_y_columns], nieco['prediction'], selected_owners,treshold_for_knn)\n",
    "# show_results(test_y,predicted_y)\n",
    "\n",
    "plot_far_eer(nieco[train_y_columns],nieco['prediction'])\n"
   ]
  },
  {
   "cell_type": "code",
   "execution_count": null,
   "metadata": {},
   "outputs": [],
   "source": [
    "predicted = use_svm(df_train[train_x_columns],df_test[train_x_columns])\n",
    "plot_far_eer(df_test[train_y_columns], predicted)"
   ]
  },
  {
   "cell_type": "code",
   "execution_count": null,
   "metadata": {},
   "outputs": [],
   "source": [
    "predicted = use_svm(df_train[train_x_columns],df_test[train_x_columns])\n",
    "\n",
    "df_results =  df_test[[train_y_columns,'id']]\n",
    "df_results['prediction'] = predicted\n",
    "\n",
    "\n",
    "nieco=df_results.groupby([train_y_columns,'id']).mean()\n",
    "nieco=nieco.reset_index().drop('id', axis=1)\n",
    "\n",
    "# test_y, predicted_y = unify_y_column_format(nieco[train_y_columns], nieco['prediction'], selected_owners,treshold_for_knn)\n",
    "# show_results(test_y,predicted_y)\n",
    "\n",
    "plot_far_eer(nieco[train_y_columns],nieco['prediction'])"
   ]
  },
  {
   "cell_type": "code",
   "execution_count": null,
   "metadata": {},
   "outputs": [],
   "source": []
  },
  {
   "cell_type": "code",
   "execution_count": null,
   "metadata": {},
   "outputs": [],
   "source": []
  },
  {
   "cell_type": "code",
   "execution_count": null,
   "metadata": {},
   "outputs": [],
   "source": [
    "train_x_columns=selected_features_dict[125]\n",
    "len(train_x_columns)"
   ]
  },
  {
   "cell_type": "code",
   "execution_count": null,
   "metadata": {},
   "outputs": [],
   "source": []
  },
  {
   "cell_type": "code",
   "execution_count": null,
   "metadata": {
    "scrolled": false
   },
   "outputs": [],
   "source": [
    "df_raw_train, df_raw_val, df_raw_test = split_to_train_val_test_raw(all_features)\n",
    "\n",
    "if not delete_nan_features:\n",
    "    df_raw_train, df_raw_val, df_raw_test =  use_imputation([df_raw_train, df_raw_val, df_raw_test], train_x_columns)\n",
    "    \n",
    "df_raw_train.to_csv(path_to_featutes + \"imputed/\" + \"train.csv\", encoding='utf-8', index=False)\n",
    "df_raw_val.to_csv(path_to_featutes + \"imputed/\" + \"val.csv\", encoding='utf-8', index=False)\n",
    "df_raw_test.to_csv(path_to_featutes + \"imputed/\" + \"test.csv\", encoding='utf-8', index=False)"
   ]
  },
  {
   "cell_type": "code",
   "execution_count": null,
   "metadata": {},
   "outputs": [],
   "source": [
    "selected_features_dict = {}\n",
    "selected_features_dict[0]=train_x_columns\n",
    "\n",
    "class RandomForestClassifierWithCoef(RandomForestClassifier):\n",
    "    def fit(self, *args, **kwargs):\n",
    "        super(RandomForestClassifierWithCoef, self).fit(*args, **kwargs)\n",
    "        self.coef_ = self.feature_importances_\n",
    "        \n",
    "models = [LogisticRegression(solver='lbfgs'), RandomForestClassifierWithCoef(n_estimators=500, min_samples_leaf=5, n_jobs=-1)]\n",
    "\n",
    "\n",
    "for model in models:\n",
    "    print(model)\n",
    "    rfe = RFE(model, 1)\n",
    "    fit = rfe.fit(df_raw_train[train_x_columns], df_raw_train[train_y_columns])\n",
    "\n",
    "    # print(\"Num Features: %d\" % fit.n_features_)\n",
    "    # print(\"Selected Features: %s\" % fit.support_)\n",
    "    # print(\"Feature Ranking: %s\" % fit.ranking_)\n",
    "    for number in [x * 10 for x in list(range(1,12))]:\n",
    "        indexes_to_delete=[]\n",
    "        for i in range(len(fit.ranking_)):\n",
    "            if(fit.ranking_[i] > number):\n",
    "                indexes_to_delete.append(i)\n",
    "        selected_features = [i for j, i in enumerate(train_x_columns) if j not in indexes_to_delete]\n",
    "        selected_features_dict[str(number) + \"_\" + str(model)]=selected_features\n",
    "        \n",
    "    rfe = RFECV(estimator=model, verbose=2)\n",
    "    fit = rfe.fit(df_raw_train[train_x_columns], df_raw_train[train_y_columns])\n",
    "\n",
    "\n",
    "    indexes_to_delete=[]\n",
    "    for i in range(len(fit.ranking_)):\n",
    "        if(fit.ranking_[i] != 1):\n",
    "            indexes_to_delete.append(i)\n",
    "    selected_features = [i for j, i in enumerate(train_x_columns) if j not in indexes_to_delete]\n",
    "    selected_features_dict[\"A_\" + str(model)]=selected_features\n",
    "\n",
    "for k in selected_features_dict.keys():\n",
    "    new_key = ' '.join(str(k).replace(\"\\\\n\", \" \").split())\n",
    "    selected_features_dict[new_key] = selected_features_dict.pop(k)\n",
    "print(selected_features_dict)"
   ]
  },
  {
   "cell_type": "code",
   "execution_count": null,
   "metadata": {},
   "outputs": [],
   "source": []
  },
  {
   "cell_type": "code",
   "execution_count": 9,
   "metadata": {},
   "outputs": [],
   "source": [
    "df_raw_train = pd.read_csv(path_to_featutes  + \"imputed/\" + \"train.csv\", sep=',')\n",
    "df_raw_val = pd.read_csv(path_to_featutes  + \"imputed/\" + \"val.csv\", sep=',')\n",
    "df_raw_test = pd.read_csv(path_to_featutes  + \"imputed/\" + \"test.csv\", sep=',')"
   ]
  },
  {
   "cell_type": "code",
   "execution_count": 13,
   "metadata": {},
   "outputs": [
    {
     "data": {
      "image/png": "[encoded data removed]",
      "text/plain": [
       "<Figure size 432x288 with 1 Axes>"
      ]
     },
     "metadata": {
      "needs_background": "light"
     },
     "output_type": "display_data"
    },
    {
     "name": "stdout",
     "output_type": "stream",
     "text": [
      "EER: 0.08333333333333333\n",
      "6.551162004470825\n"
     ]
    }
   ],
   "source": [
    "predict_based_on_whole_pattern = True\n",
    "start = time.time()\n",
    "selected_owners = 'Stevo'\n",
    "df_train, df_val, df_test = adapt_dfs_to_users(df_raw_train, df_raw_val, df_raw_test, selected_owners,0)\n",
    "\n",
    "knn = get_knn()\n",
    "knn.fit(df_train[train_x_columns])\n",
    "\n",
    "predicted_test=[np.mean(i) for i in knn.kneighbors(df_test[train_x_columns])[0]]\n",
    "\n",
    "ground_truth_test, predicted_test = adapt_columns_for_evaluation(df_test[[train_y_columns,'id']], predicted_test, predict_based_on_whole_pattern) \n",
    "\n",
    "plot_far_eer(ground_truth_test, predicted_test)\n",
    "end = time.time()\n",
    "print(end-start)"
   ]
  },
  {
   "cell_type": "code",
   "execution_count": 14,
   "metadata": {},
   "outputs": [
    {
     "name": "stdout",
     "output_type": "stream",
     "text": [
      "78.51631879806519\n"
     ]
    }
   ],
   "source": [
    "test_eer_array=[]\n",
    "val_eer_array=[]\n",
    "train_eer_array=[]\n",
    "\n",
    "predict_based_on_whole_pattern = True\n",
    "start = time.time()\n",
    "users_to_cv=df_raw_train[user_name_column].unique()\n",
    "for selected_owners in users_to_cv:\n",
    "    df_train, df_val, df_test = adapt_dfs_to_users(df_raw_train, df_raw_val, df_raw_test, selected_owners,2)\n",
    "    \n",
    "    knn = get_knn()\n",
    "    knn.fit(df_train[train_x_columns])\n",
    "    \n",
    "    predicted_train=[np.mean(i) for i in knn.kneighbors(df_train[train_x_columns])[0]]\n",
    "    predicted_val=[np.mean(i) for i in knn.kneighbors(df_val[train_x_columns])[0]]\n",
    "    predicted_test=[np.mean(i) for i in knn.kneighbors(df_test[train_x_columns])[0]]\n",
    "    \n",
    "    ground_truth_train, predicted_train = adapt_columns_for_evaluation(df_train[[train_y_columns,'id']], predicted_train, predict_based_on_whole_pattern)\n",
    "    train_eer_array.append(get_eer(ground_truth_train, predicted_train))\n",
    "    \n",
    "    ground_truth_val, predicted_val = adapt_columns_for_evaluation(df_val[[train_y_columns,'id']], predicted_val, predict_based_on_whole_pattern)\n",
    "    val_eer_array.append(get_eer(ground_truth_val, predicted_val))\n",
    "    \n",
    "    ground_truth_test, predicted_test = adapt_columns_for_evaluation(df_test[[train_y_columns,'id']], predicted_test, predict_based_on_whole_pattern)\n",
    "    test_eer_array.append(get_eer(ground_truth_test, predicted_test))\n",
    "    \n",
    "train_eer = mean(train_eer_array)    \n",
    "val_eer = mean(val_eer_array)\n",
    "test_eer = mean(test_eer_array)\n",
    "end = time.time()\n",
    "print(end-start)"
   ]
  },
  {
   "cell_type": "code",
   "execution_count": 15,
   "metadata": {},
   "outputs": [
    {
     "data": {
      "text/plain": [
       "0.264520202020202"
      ]
     },
     "execution_count": 15,
     "metadata": {},
     "output_type": "execute_result"
    }
   ],
   "source": [
    "val_eer"
   ]
  },
  {
   "cell_type": "code",
   "execution_count": 16,
   "metadata": {},
   "outputs": [
    {
     "data": {
      "text/plain": [
       "0.33501776001776"
      ]
     },
     "execution_count": 16,
     "metadata": {},
     "output_type": "execute_result"
    }
   ],
   "source": [
    "test_eer"
   ]
  },
  {
   "cell_type": "code",
   "execution_count": 17,
   "metadata": {},
   "outputs": [
    {
     "data": {
      "text/plain": [
       "[0.5,\n",
       " 0.2857142857142857,\n",
       " 0.4,\n",
       " 0.36363636363636365,\n",
       " 0.5,\n",
       " 0.1111111111111111,\n",
       " 0.16666666666666666,\n",
       " 0.4,\n",
       " 0.3333333333333333,\n",
       " 0.6666666666666666,\n",
       " 0.3333333333333333,\n",
       " 0.2,\n",
       " 0.4,\n",
       " 0.3333333333333333,\n",
       " 0.0,\n",
       " 0.0,\n",
       " 0.3333333333333333,\n",
       " 0.6,\n",
       " 0.25,\n",
       " 0.16666666666666666,\n",
       " 0.2,\n",
       " 0.4,\n",
       " 0.16666666666666666,\n",
       " 0.6,\n",
       " 0.5,\n",
       " 0.5]"
      ]
     },
     "execution_count": 17,
     "metadata": {},
     "output_type": "execute_result"
    }
   ],
   "source": [
    "test_eer_array"
   ]
  },
  {
   "cell_type": "code",
   "execution_count": null,
   "metadata": {},
   "outputs": [],
   "source": [
    "all_features_subset = selected_features_dict.keys()\n",
    "all_knn_l = list(range(1,4))\n",
    "all_knn_n_neighbors= list(range(1,6))\n",
    "all_predict_based_on_whole_pattern = [True, False]\n",
    "kind_of_patterns = [0,1,2]\n",
    "iterables = [all_features_subset, all_knn_l, all_knn_n_neighbors, all_predict_based_on_whole_pattern, kind_of_patterns]"
   ]
  },
  {
   "cell_type": "code",
   "execution_count": null,
   "metadata": {},
   "outputs": [],
   "source": [
    "rows = []\n",
    "for features_subset, knn_l, knn_n_neighbors, predict_based_on_whole_pattern,kind_of_patten in itertools.product(*iterables):\n",
    "    \n",
    "    test_eer_array=[]\n",
    "    val_eer_array=[]\n",
    "\n",
    "\n",
    "    for selected_owners in users_to_cv:\n",
    "        df_train, df_val, df_test = adapt_dfs_to_users(df_raw_train, df_raw_val, df_raw_test, selected_owners,kind_of_patten)\n",
    "\n",
    "        knn = get_knn(knn_n_neighbors, knn_l)\n",
    "        knn.fit(df_train[selected_features_dict[features_subset]])\n",
    "\n",
    "        predicted_val=[np.mean(i) for i in knn.kneighbors(df_val[selected_features_dict[features_subset]])[0]]\n",
    "        predicted_test=[np.mean(i) for i in knn.kneighbors(df_test[selected_features_dict[features_subset]])[0]]\n",
    "\n",
    "\n",
    "        ground_truth_val, predicted_val = adapt_columns_for_evaluation(df_val[[train_y_columns,'id']], predicted_val, predict_based_on_whole_pattern)\n",
    "        val_eer_array.append(get_eer(ground_truth_val, predicted_val))\n",
    "\n",
    "        ground_truth_test, predicted_test = adapt_columns_for_evaluation(df_test[[train_y_columns,'id']], predicted_test, predict_based_on_whole_pattern)\n",
    "        test_eer_array.append(get_eer(ground_truth_test, predicted_test))\n",
    "\n",
    "\n",
    "    val_eer = mean(val_eer_array)\n",
    "    test_eer = mean(test_eer_array)\n",
    "    \n",
    "    rows.append([features_subset, knn_l, knn_n_neighbors, predict_based_on_whole_pattern, kind_of_patten , val_eer, test_eer])\n",
    "    print(len(rows))\n",
    "\n",
    "df_tuning = pd.DataFrame(rows, columns=[\"features_subset\", \"knn_l\", \"knn_n_neighbors\", \"predict_based_on_whole_pattern\", \"val_eer\", \"test_eer\"])\n",
    "df_tuning.to_csv(\"../results/tuning_result.csv\", encoding='utf-8', index=False)"
   ]
  },
  {
   "cell_type": "code",
   "execution_count": null,
   "metadata": {},
   "outputs": [],
   "source": [
    "pole= [0.0, 0.0, 0.0, 0.1, 0.0, 0.0, 0.0, 0.0, 0.0, 0.0, 0.0, 0.0, 0.0, 0.0, 0.0, 0.0, 0.0, 0.0, 0.0, 0.0, 0.0, 0.0, 0.0, 0.0, 0.0, 0.0, 0.0, 0.0]\n",
    "all(x == 0.0 for x in pole)"
   ]
  },
  {
   "cell_type": "code",
   "execution_count": null,
   "metadata": {},
   "outputs": [],
   "source": [
    "#df_raw_train, df_raw_val, df_raw_test\n",
    "id1=df_raw_train['id'].unique()\n",
    "id2=df_raw_val['id'].unique()\n",
    "id3=df_raw_test['id'].unique()\n",
    "for a in id1:\n",
    "    if(a in id2 or a in id3):\n",
    "        print(\"zle\")\n",
    "        \n",
    "for a in id2:\n",
    "    if(a in id3):\n",
    "        print(\"zle\")"
   ]
  },
  {
   "cell_type": "code",
   "execution_count": null,
   "metadata": {},
   "outputs": [],
   "source": [
    "df_raw_train.value_counts(subset=[user_name_column, 'scenario']) "
   ]
  },
  {
   "cell_type": "code",
   "execution_count": null,
   "metadata": {},
   "outputs": [],
   "source": [
    "df_raw_val.value_counts(subset=[user_name_column, 'scenario']) "
   ]
  },
  {
   "cell_type": "code",
   "execution_count": null,
   "metadata": {},
   "outputs": [],
   "source": [
    "df_raw_test.value_counts(subset=[user_name_column, 'scenario']) "
   ]
  },
  {
   "cell_type": "code",
   "execution_count": null,
   "metadata": {},
   "outputs": [],
   "source": [
    "df_raw_test['id']"
   ]
  },
  {
   "cell_type": "code",
   "execution_count": 29,
   "metadata": {},
   "outputs": [
    {
     "ename": "KeyboardInterrupt",
     "evalue": "",
     "output_type": "error",
     "traceback": [
      "\u001b[1;31m---------------------------------------------------------------------------\u001b[0m",
      "\u001b[1;31mKeyboardInterrupt\u001b[0m                         Traceback (most recent call last)",
      "\u001b[1;32m<ipython-input-29-cf689df3deb2>\u001b[0m in \u001b[0;36m<module>\u001b[1;34m\u001b[0m\n\u001b[0;32m      2\u001b[0m \u001b[1;32mfrom\u001b[0m \u001b[0mjoblib\u001b[0m \u001b[1;32mimport\u001b[0m \u001b[0mParallel\u001b[0m\u001b[1;33m,\u001b[0m \u001b[0mdelayed\u001b[0m\u001b[1;33m\u001b[0m\u001b[1;33m\u001b[0m\u001b[0m\n\u001b[0;32m      3\u001b[0m \u001b[0mstart\u001b[0m\u001b[1;33m=\u001b[0m\u001b[0mtime\u001b[0m\u001b[1;33m.\u001b[0m\u001b[0mtime\u001b[0m\u001b[1;33m(\u001b[0m\u001b[1;33m)\u001b[0m\u001b[1;33m\u001b[0m\u001b[1;33m\u001b[0m\u001b[0m\n\u001b[1;32m----> 4\u001b[1;33m \u001b[0mParallel\u001b[0m\u001b[1;33m(\u001b[0m\u001b[0mn_jobs\u001b[0m\u001b[1;33m=\u001b[0m\u001b[1;36m2\u001b[0m\u001b[1;33m)\u001b[0m\u001b[1;33m(\u001b[0m\u001b[1;33m[\u001b[0m\u001b[1;33m(\u001b[0m\u001b[0mi\u001b[0m \u001b[1;33m**\u001b[0m \u001b[1;36m2\u001b[0m\u001b[1;33m)\u001b[0m \u001b[1;32mfor\u001b[0m \u001b[0mi\u001b[0m \u001b[1;32min\u001b[0m \u001b[0mrange\u001b[0m\u001b[1;33m(\u001b[0m\u001b[1;36m100000000\u001b[0m\u001b[1;33m)\u001b[0m\u001b[1;33m]\u001b[0m\u001b[1;33m)\u001b[0m\u001b[1;33m\u001b[0m\u001b[1;33m\u001b[0m\u001b[0m\n\u001b[0m\u001b[0;32m      5\u001b[0m \u001b[0mend\u001b[0m\u001b[1;33m=\u001b[0m\u001b[0mtime\u001b[0m\u001b[1;33m.\u001b[0m\u001b[0mtime\u001b[0m\u001b[1;33m(\u001b[0m\u001b[1;33m)\u001b[0m\u001b[1;33m\u001b[0m\u001b[1;33m\u001b[0m\u001b[0m\n\u001b[0;32m      6\u001b[0m \u001b[0mprint\u001b[0m\u001b[1;33m(\u001b[0m\u001b[0mend\u001b[0m\u001b[1;33m-\u001b[0m\u001b[0mstart\u001b[0m\u001b[1;33m)\u001b[0m\u001b[1;33m\u001b[0m\u001b[1;33m\u001b[0m\u001b[0m\n",
      "\u001b[1;32m<ipython-input-29-cf689df3deb2>\u001b[0m in \u001b[0;36m<listcomp>\u001b[1;34m(.0)\u001b[0m\n\u001b[0;32m      2\u001b[0m \u001b[1;32mfrom\u001b[0m \u001b[0mjoblib\u001b[0m \u001b[1;32mimport\u001b[0m \u001b[0mParallel\u001b[0m\u001b[1;33m,\u001b[0m \u001b[0mdelayed\u001b[0m\u001b[1;33m\u001b[0m\u001b[1;33m\u001b[0m\u001b[0m\n\u001b[0;32m      3\u001b[0m \u001b[0mstart\u001b[0m\u001b[1;33m=\u001b[0m\u001b[0mtime\u001b[0m\u001b[1;33m.\u001b[0m\u001b[0mtime\u001b[0m\u001b[1;33m(\u001b[0m\u001b[1;33m)\u001b[0m\u001b[1;33m\u001b[0m\u001b[1;33m\u001b[0m\u001b[0m\n\u001b[1;32m----> 4\u001b[1;33m \u001b[0mParallel\u001b[0m\u001b[1;33m(\u001b[0m\u001b[0mn_jobs\u001b[0m\u001b[1;33m=\u001b[0m\u001b[1;36m2\u001b[0m\u001b[1;33m)\u001b[0m\u001b[1;33m(\u001b[0m\u001b[1;33m[\u001b[0m\u001b[1;33m(\u001b[0m\u001b[0mi\u001b[0m \u001b[1;33m**\u001b[0m \u001b[1;36m2\u001b[0m\u001b[1;33m)\u001b[0m \u001b[1;32mfor\u001b[0m \u001b[0mi\u001b[0m \u001b[1;32min\u001b[0m \u001b[0mrange\u001b[0m\u001b[1;33m(\u001b[0m\u001b[1;36m100000000\u001b[0m\u001b[1;33m)\u001b[0m\u001b[1;33m]\u001b[0m\u001b[1;33m)\u001b[0m\u001b[1;33m\u001b[0m\u001b[1;33m\u001b[0m\u001b[0m\n\u001b[0m\u001b[0;32m      5\u001b[0m \u001b[0mend\u001b[0m\u001b[1;33m=\u001b[0m\u001b[0mtime\u001b[0m\u001b[1;33m.\u001b[0m\u001b[0mtime\u001b[0m\u001b[1;33m(\u001b[0m\u001b[1;33m)\u001b[0m\u001b[1;33m\u001b[0m\u001b[1;33m\u001b[0m\u001b[0m\n\u001b[0;32m      6\u001b[0m \u001b[0mprint\u001b[0m\u001b[1;33m(\u001b[0m\u001b[0mend\u001b[0m\u001b[1;33m-\u001b[0m\u001b[0mstart\u001b[0m\u001b[1;33m)\u001b[0m\u001b[1;33m\u001b[0m\u001b[1;33m\u001b[0m\u001b[0m\n",
      "\u001b[1;31mKeyboardInterrupt\u001b[0m: "
     ]
    }
   ],
   "source": [
    "from math import sqrt\n",
    "from joblib import Parallel, delayed\n",
    "start=time.time()\n",
    "Parallel(n_jobs=2)([(i ** 2) for i in range(100000000)])\n",
    "end=time.time()\n",
    "print(end-start)"
   ]
  },
  {
   "cell_type": "code",
   "execution_count": 26,
   "metadata": {},
   "outputs": [
    {
     "name": "stdout",
     "output_type": "stream",
     "text": [
      "173.5535683631897\n"
     ]
    }
   ],
   "source": [
    "from math import sqrt\n",
    "start=time.time()\n",
    "[sqrt(i ** 2) for i in range(100000000)]\n",
    "end=time.time()\n",
    "print(end-start)"
   ]
  },
  {
   "cell_type": "code",
   "execution_count": 5,
   "metadata": {},
   "outputs": [],
   "source": [
    "import pickle\n",
    "with open('selected_features.pickle', 'wb') as f:\n",
    "    pickle.dump(selected_features_dict, f)"
   ]
  },
  {
   "cell_type": "code",
   "execution_count": 7,
   "metadata": {},
   "outputs": [],
   "source": [
    "with open('selected_features.pickle', 'rb') as f:\n",
    "    selected_features_dict = pickle.load(f)"
   ]
  },
  {
   "cell_type": "code",
   "execution_count": null,
   "metadata": {},
   "outputs": [],
   "source": []
  }
 ],
 "metadata": {
  "kernelspec": {
   "display_name": "Python 3",
   "language": "python",
   "name": "python3"
  },
  "language_info": {
   "codemirror_mode": {
    "name": "ipython",
    "version": 3
   },
   "file_extension": ".py",
   "mimetype": "text/x-python",
   "name": "python",
   "nbconvert_exporter": "python",
   "pygments_lexer": "ipython3",
   "version": "3.7.9"
  }
 },
 "nbformat": 4,
 "nbformat_minor": 4
}
